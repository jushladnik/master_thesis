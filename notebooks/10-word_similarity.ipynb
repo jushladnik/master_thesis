{
 "cells": [
  {
   "cell_type": "code",
   "execution_count": 1,
   "metadata": {},
   "outputs": [],
   "source": [
    "from evaluation import jaccard_index,  get_word2vec_embedding, get_fasttext_embedding, get_maximum_word_matching, get_maximum_topic_matching, cosine_similarity"
   ]
  },
  {
   "attachments": {},
   "cell_type": "markdown",
   "metadata": {},
   "source": [
    "#### wordnet similarity"
   ]
  },
  {
   "cell_type": "code",
   "execution_count": 1,
   "metadata": {},
   "outputs": [
    {
     "name": "stderr",
     "output_type": "stream",
     "text": [
      "[nltk_data] Downloading package omw-1.4 to /home/jhladnik/nltk_data...\n",
      "[nltk_data]   Package omw-1.4 is already up-to-date!\n"
     ]
    },
    {
     "data": {
      "text/plain": [
       "True"
      ]
     },
     "execution_count": 1,
     "metadata": {},
     "output_type": "execute_result"
    }
   ],
   "source": [
    "from nltk.corpus import wordnet as wn\n",
    "import nltk\n",
    "nltk.download('omw-1.4')"
   ]
  },
  {
   "cell_type": "code",
   "execution_count": 2,
   "metadata": {},
   "outputs": [
    {
     "data": {
      "text/plain": [
       "['canis_familiaris', 'pes']"
      ]
     },
     "execution_count": 2,
     "metadata": {},
     "output_type": "execute_result"
    }
   ],
   "source": [
    "wn.synset('dog.n.01').lemma_names('slv')"
   ]
  },
  {
   "cell_type": "code",
   "execution_count": 3,
   "metadata": {},
   "outputs": [
    {
     "ename": "TypeError",
     "evalue": "synset() got an unexpected keyword argument 'lang'",
     "output_type": "error",
     "traceback": [
      "\u001b[0;31m---------------------------------------------------------------------------\u001b[0m",
      "\u001b[0;31mTypeError\u001b[0m                                 Traceback (most recent call last)",
      "\u001b[1;32m/home/jhladnik/masters-thesis/notebooks/10-word_similarity.ipynb Cell 5\u001b[0m in \u001b[0;36m<cell line: 1>\u001b[0;34m()\u001b[0m\n\u001b[0;32m----> <a href='vscode-notebook-cell://ssh-remote%2Bcronos/home/jhladnik/masters-thesis/notebooks/10-word_similarity.ipynb#W4sdnNjb2RlLXJlbW90ZQ%3D%3D?line=0'>1</a>\u001b[0m wn\u001b[39m.\u001b[39;49msynset(\u001b[39m'\u001b[39;49m\u001b[39mpes.n.01\u001b[39;49m\u001b[39m'\u001b[39;49m, lang\u001b[39m=\u001b[39;49m\u001b[39m'\u001b[39;49m\u001b[39mslv\u001b[39;49m\u001b[39m'\u001b[39;49m)\n",
      "\u001b[0;31mTypeError\u001b[0m: synset() got an unexpected keyword argument 'lang'"
     ]
    }
   ],
   "source": [
    "wn.synset('pes.n.01', lang='slv')"
   ]
  },
  {
   "cell_type": "code",
   "execution_count": 4,
   "metadata": {},
   "outputs": [
    {
     "ename": "NameError",
     "evalue": "name 'dog' is not defined",
     "output_type": "error",
     "traceback": [
      "\u001b[0;31m---------------------------------------------------------------------------\u001b[0m",
      "\u001b[0;31mNameError\u001b[0m                                 Traceback (most recent call last)",
      "\u001b[1;32m/home/jhladnik/masters-thesis/notebooks/10-word_similarity.ipynb Cell 6\u001b[0m in \u001b[0;36m<cell line: 1>\u001b[0;34m()\u001b[0m\n\u001b[0;32m----> <a href='vscode-notebook-cell://ssh-remote%2Bcronos/home/jhladnik/masters-thesis/notebooks/10-word_similarity.ipynb#W5sdnNjb2RlLXJlbW90ZQ%3D%3D?line=0'>1</a>\u001b[0m dog\u001b[39m.\u001b[39mpath_similarity(cat)\n\u001b[1;32m      <a href='vscode-notebook-cell://ssh-remote%2Bcronos/home/jhladnik/masters-thesis/notebooks/10-word_similarity.ipynb#W5sdnNjb2RlLXJlbW90ZQ%3D%3D?line=2'>3</a>\u001b[0m wn\u001b[39m.\u001b[39mpath_similarity(hit, slap)\n",
      "\u001b[0;31mNameError\u001b[0m: name 'dog' is not defined"
     ]
    }
   ],
   "source": [
    "\n",
    "dog.path_similarity(cat)\n",
    "\n",
    "wn.path_similarity(hit, slap)"
   ]
  },
  {
   "cell_type": "code",
   "execution_count": null,
   "metadata": {},
   "outputs": [],
   "source": []
  },
  {
   "attachments": {},
   "cell_type": "markdown",
   "metadata": {},
   "source": [
    "## fasttext"
   ]
  },
  {
   "cell_type": "code",
   "execution_count": 68,
   "metadata": {},
   "outputs": [],
   "source": [
    "import numpy as np\n",
    "\n"
   ]
  },
  {
   "cell_type": "code",
   "execution_count": 2,
   "metadata": {},
   "outputs": [
    {
     "name": "stderr",
     "output_type": "stream",
     "text": [
      "Warning : `load_model` does not return WordVectorModel or SupervisedModel any more, but a `FastText` object which is very similar.\n"
     ]
    },
    {
     "data": {
      "text/plain": [
       "300"
      ]
     },
     "execution_count": 2,
     "metadata": {},
     "output_type": "execute_result"
    }
   ],
   "source": [
    "import fasttext\n",
    "import fasttext.util\n",
    "import numpy as np\n",
    "ft = fasttext.load_model('../cc.sl.300.bin')\n",
    "ft.get_dimension()\n",
    "\n",
    "\n"
   ]
  },
  {
   "cell_type": "code",
   "execution_count": 8,
   "metadata": {},
   "outputs": [
    {
     "data": {
      "text/plain": [
       "0.29682446"
      ]
     },
     "execution_count": 8,
     "metadata": {},
     "output_type": "execute_result"
    }
   ],
   "source": [
    "w1 = \"vlada\"\n",
    "w2 = \"mesec luka golob nogomet zvezda kolesar veselja kolesarstvo avtomobil avto\"\n",
    "\n",
    "v1 = ft.get_word_vector(w1)\n",
    "v2 = ft.get_word_vector(w2)\n",
    "\n",
    "cosine_similarity(get_fasttext_embedding(w1, ft), get_fasttext_embedding(w2, ft))"
   ]
  },
  {
   "cell_type": "code",
   "execution_count": null,
   "metadata": {},
   "outputs": [],
   "source": [
    "ft.get_word_vector(\"pes\")"
   ]
  },
  {
   "cell_type": "code",
   "execution_count": 39,
   "metadata": {},
   "outputs": [
    {
     "data": {
      "text/plain": [
       "[(0.7817965745925903, 'volitve.'),\n",
       " (0.7685641646385193, 'volitvev'),\n",
       " (0.7681591510772705, 'volitve06'),\n",
       " (0.7604820132255554, 'volitveh'),\n",
       " (0.7216956615447998, 'volitve2004'),\n",
       " (0.7042338848114014, 'predvolitve'),\n",
       " (0.7029277682304382, 'Volitve'),\n",
       " (0.6989033222198486, 'volitev'),\n",
       " (0.6980982422828674, 'E-volitve'),\n",
       " (0.694763720035553, 'volit')]"
      ]
     },
     "execution_count": 39,
     "metadata": {},
     "output_type": "execute_result"
    }
   ],
   "source": [
    "ft.get_nearest_neighbors(\"volitve\")"
   ]
  },
  {
   "cell_type": "code",
   "execution_count": null,
   "metadata": {},
   "outputs": [],
   "source": []
  },
  {
   "cell_type": "code",
   "execution_count": null,
   "metadata": {},
   "outputs": [],
   "source": []
  },
  {
   "attachments": {},
   "cell_type": "markdown",
   "metadata": {},
   "source": [
    "## word2vec"
   ]
  },
  {
   "cell_type": "code",
   "execution_count": 64,
   "metadata": {},
   "outputs": [],
   "source": []
  },
  {
   "cell_type": "code",
   "execution_count": 66,
   "metadata": {},
   "outputs": [
    {
     "data": {
      "text/plain": [
       "array([0., 0., 0., 0., 0., 0., 0., 0., 0., 0., 0., 0., 0., 0., 0., 0., 0.,\n",
       "       0., 0., 0., 0., 0., 0., 0., 0., 0., 0., 0., 0., 0., 0., 0., 0., 0.,\n",
       "       0., 0., 0., 0., 0., 0., 0., 0., 0., 0., 0., 0., 0., 0., 0., 0., 0.,\n",
       "       0., 0., 0., 0., 0., 0., 0., 0., 0., 0., 0., 0., 0., 0., 0., 0., 0.,\n",
       "       0., 0., 0., 0., 0., 0., 0., 0., 0., 0., 0., 0., 0., 0., 0., 0., 0.,\n",
       "       0., 0., 0., 0., 0., 0., 0., 0., 0., 0., 0., 0., 0., 0., 0.])"
      ]
     },
     "execution_count": 66,
     "metadata": {},
     "output_type": "execute_result"
    }
   ],
   "source": []
  },
  {
   "cell_type": "code",
   "execution_count": 3,
   "metadata": {},
   "outputs": [],
   "source": [
    "from gensim.test.utils import datapath\n",
    "from gensim.models import KeyedVectors\n",
    "\n",
    "slo_wv_path = \"/home/jhladnik/masters-thesis/word2vec/model.bin\"\n",
    "\n",
    "wv_from_bin = KeyedVectors.load_word2vec_format(slo_wv_path, binary=True)  # C bin format\n",
    "word2vec_model = wv_from_bin"
   ]
  },
  {
   "cell_type": "code",
   "execution_count": 4,
   "metadata": {},
   "outputs": [
    {
     "data": {
      "text/plain": [
       "array([-0.157928, -0.024415, -0.293859, -0.016461, -0.330872,  0.092806,\n",
       "        0.175646, -0.535516,  0.112224,  0.270603, -0.363383,  0.588724,\n",
       "        0.026242, -0.193625, -0.049119, -0.169007,  0.138026, -0.538555,\n",
       "        0.871392,  0.309686, -0.638754, -0.388992, -0.650249, -0.289472,\n",
       "        0.363843, -0.917913,  0.750139,  0.578961, -0.084706,  0.075548,\n",
       "        0.143283, -0.132562, -0.882086,  0.694636, -0.152237, -0.475269,\n",
       "        0.536867, -0.542687,  0.041634, -0.71981 , -0.389876,  0.204556,\n",
       "       -0.256163,  0.176429,  0.51884 , -0.417179, -0.451229,  0.202458,\n",
       "       -0.397453, -0.464694,  0.142169,  0.510816,  0.274211,  0.127184,\n",
       "       -0.165059, -0.544752,  0.430737,  0.13964 , -0.187626, -0.518157,\n",
       "       -0.910865,  0.164229,  0.78579 ,  0.320051,  0.722916, -0.343131,\n",
       "       -0.147029, -0.61745 ,  0.050939,  0.07219 ,  0.148555,  0.443822,\n",
       "       -0.023229, -0.537057, -0.311104,  0.312847,  0.091526,  0.669061,\n",
       "        0.621217, -0.664564,  0.312091, -0.659892, -0.267846, -0.204256,\n",
       "       -0.587526, -0.306084, -0.772898, -0.124102,  0.958334,  0.195693,\n",
       "       -0.545046, -0.571335, -0.180326,  0.044622, -0.36548 ,  0.091907,\n",
       "        0.103734,  0.321931, -0.069033,  0.434203], dtype=float32)"
      ]
     },
     "execution_count": 4,
     "metadata": {},
     "output_type": "execute_result"
    }
   ],
   "source": [
    "get_word2vec_embedding(\"politik\", word2vec_model)"
   ]
  },
  {
   "cell_type": "code",
   "execution_count": 68,
   "metadata": {},
   "outputs": [
    {
     "data": {
      "text/plain": [
       "[('košarka', 0.9230765104293823),\n",
       " ('rokomet', 0.9050278067588806),\n",
       " ('hokej', 0.8759459853172302),\n",
       " ('tenis', 0.8064208030700684),\n",
       " ('motošporti', 0.7789782881736755),\n",
       " ('košarko', 0.7746295928955078),\n",
       " ('pajkl', 0.7566866278648376),\n",
       " ('sandolini', 0.7510340809822083),\n",
       " ('kroket', 0.744350016117096),\n",
       " ('odbojka', 0.7435669302940369)]"
      ]
     },
     "execution_count": 68,
     "metadata": {},
     "output_type": "execute_result"
    }
   ],
   "source": [
    "wv_from_bin.most_similar('nogomet')"
   ]
  },
  {
   "cell_type": "code",
   "execution_count": 71,
   "metadata": {},
   "outputs": [],
   "source": [
    "vector = wv_from_bin['computer']"
   ]
  },
  {
   "cell_type": "code",
   "execution_count": 73,
   "metadata": {},
   "outputs": [
    {
     "data": {
      "text/plain": [
       "0.37381908"
      ]
     },
     "execution_count": 73,
     "metadata": {},
     "output_type": "execute_result"
    }
   ],
   "source": [
    "w1 = \"nogomet\"\n",
    "w2 = \"politika\"\n",
    "\n",
    "v1 = wv_from_bin[w1]\n",
    "v2 = wv_from_bin[w2]\n",
    "\n",
    "cosine_similarity(v1, v2)"
   ]
  },
  {
   "cell_type": "code",
   "execution_count": null,
   "metadata": {},
   "outputs": [],
   "source": []
  },
  {
   "cell_type": "code",
   "execution_count": null,
   "metadata": {},
   "outputs": [],
   "source": []
  },
  {
   "attachments": {},
   "cell_type": "markdown",
   "metadata": {},
   "source": [
    "## RoBERTa"
   ]
  },
  {
   "cell_type": "code",
   "execution_count": 1,
   "metadata": {},
   "outputs": [],
   "source": [
    "import torch\n",
    "from transformers import CamembertModel, CamembertTokenizer\n",
    "\n",
    "text = \"Salut, comment vas-tu ?\"\n"
   ]
  },
  {
   "cell_type": "code",
   "execution_count": 2,
   "metadata": {},
   "outputs": [
    {
     "data": {
      "application/json": {
       "ascii": false,
       "bar_format": null,
       "colour": null,
       "elapsed": 0.03148508071899414,
       "initial": 0,
       "n": 0,
       "ncols": null,
       "nrows": null,
       "postfix": null,
       "prefix": "Downloading",
       "rate": null,
       "total": 810912,
       "unit": "B",
       "unit_divisor": 1000,
       "unit_scale": true
      },
      "application/vnd.jupyter.widget-view+json": {
       "model_id": "c7553ff3afda4377b099d59f1bdad72a",
       "version_major": 2,
       "version_minor": 0
      },
      "text/plain": [
       "Downloading:   0%|          | 0.00/811k [00:00<?, ?B/s]"
      ]
     },
     "metadata": {},
     "output_type": "display_data"
    },
    {
     "data": {
      "application/json": {
       "ascii": false,
       "bar_format": null,
       "colour": null,
       "elapsed": 0.026836872100830078,
       "initial": 0,
       "n": 0,
       "ncols": null,
       "nrows": null,
       "postfix": null,
       "prefix": "Downloading",
       "rate": null,
       "total": 508,
       "unit": "B",
       "unit_divisor": 1000,
       "unit_scale": true
      },
      "application/vnd.jupyter.widget-view+json": {
       "model_id": "5f1b746ba35943aab7f71d92529e69c0",
       "version_major": 2,
       "version_minor": 0
      },
      "text/plain": [
       "Downloading:   0%|          | 0.00/508 [00:00<?, ?B/s]"
      ]
     },
     "metadata": {},
     "output_type": "display_data"
    }
   ],
   "source": [
    "tokenizer = CamembertTokenizer.from_pretrained('camembert-base')\n"
   ]
  },
  {
   "cell_type": "code",
   "execution_count": 3,
   "metadata": {},
   "outputs": [
    {
     "name": "stdout",
     "output_type": "stream",
     "text": [
      "['<s>', '▁Salut', ',', '▁comment', '▁vas', '-', 'tu', '▁?', '</s>']\n"
     ]
    }
   ],
   "source": [
    "# encode() automatically adds the classification token <s>\n",
    "token_ids = tokenizer.encode(text)\n",
    "tokens = [tokenizer._convert_id_to_token(idx) for idx in token_ids]\n",
    "print(tokens)"
   ]
  },
  {
   "cell_type": "code",
   "execution_count": 4,
   "metadata": {},
   "outputs": [
    {
     "name": "stdout",
     "output_type": "stream",
     "text": [
      "tensor([[   5, 5340,    7,  404, 4660,   26,  744,  106,    6]])\n"
     ]
    }
   ],
   "source": [
    "# unsqueeze token_ids because batch_size=1\n",
    "token_ids = torch.tensor(token_ids).unsqueeze(0)\n",
    "print(token_ids)"
   ]
  },
  {
   "cell_type": "code",
   "execution_count": 5,
   "metadata": {},
   "outputs": [
    {
     "data": {
      "application/json": {
       "ascii": false,
       "bar_format": null,
       "colour": null,
       "elapsed": 0.026362895965576172,
       "initial": 0,
       "n": 0,
       "ncols": null,
       "nrows": null,
       "postfix": null,
       "prefix": "Downloading",
       "rate": null,
       "total": 445032417,
       "unit": "B",
       "unit_divisor": 1000,
       "unit_scale": true
      },
      "application/vnd.jupyter.widget-view+json": {
       "model_id": "4781d66e5b6c4f1d8921bece46d61634",
       "version_major": 2,
       "version_minor": 0
      },
      "text/plain": [
       "Downloading:   0%|          | 0.00/445M [00:00<?, ?B/s]"
      ]
     },
     "metadata": {},
     "output_type": "display_data"
    },
    {
     "name": "stderr",
     "output_type": "stream",
     "text": [
      "Some weights of the model checkpoint at camembert-base were not used when initializing CamembertModel: ['lm_head.layer_norm.bias', 'lm_head.dense.bias', 'lm_head.layer_norm.weight', 'lm_head.dense.weight', 'lm_head.decoder.weight', 'lm_head.bias']\n",
      "- This IS expected if you are initializing CamembertModel from the checkpoint of a model trained on another task or with another architecture (e.g. initializing a BertForSequenceClassification model from a BertForPreTraining model).\n",
      "- This IS NOT expected if you are initializing CamembertModel from the checkpoint of a model that you expect to be exactly identical (initializing a BertForSequenceClassification model from a BertForSequenceClassification model).\n"
     ]
    },
    {
     "name": "stdout",
     "output_type": "stream",
     "text": [
      "torch.Size([768])\n"
     ]
    }
   ],
   "source": [
    "# load model\n",
    "model = CamembertModel.from_pretrained('camembert-base')\n",
    "\n",
    "# forward method returns a tuple (we only want the logits)\n",
    "# squeeze() because batch_size=1\n",
    "output = model(token_ids)[0].squeeze()\n",
    "# only grab output of CLS token (<s>), which is the first token\n",
    "cls_out = output[0]\n",
    "print(cls_out.size())"
   ]
  },
  {
   "cell_type": "code",
   "execution_count": null,
   "metadata": {},
   "outputs": [],
   "source": []
  },
  {
   "cell_type": "code",
   "execution_count": null,
   "metadata": {},
   "outputs": [],
   "source": []
  },
  {
   "attachments": {},
   "cell_type": "markdown",
   "metadata": {},
   "source": [
    "## SloBERTa\n",
    "it looks like that using contextual model for embedding a single word is a bad idea. because we have no context the model doesnt have a way to differentiate between words and therefore assigns similar vectors to even very different words"
   ]
  },
  {
   "cell_type": "code",
   "execution_count": 5,
   "metadata": {},
   "outputs": [
    {
     "name": "stderr",
     "output_type": "stream",
     "text": [
      "Some weights of the model checkpoint at EMBEDDIA/sloberta were not used when initializing CamembertModel: ['lm_head.dense.weight', 'lm_head.layer_norm.weight', 'lm_head.bias', 'lm_head.layer_norm.bias', 'lm_head.decoder.bias', 'lm_head.dense.bias', 'lm_head.decoder.weight']\n",
      "- This IS expected if you are initializing CamembertModel from the checkpoint of a model trained on another task or with another architecture (e.g. initializing a BertForSequenceClassification model from a BertForPreTraining model).\n",
      "- This IS NOT expected if you are initializing CamembertModel from the checkpoint of a model that you expect to be exactly identical (initializing a BertForSequenceClassification model from a BertForSequenceClassification model).\n",
      "Some weights of CamembertModel were not initialized from the model checkpoint at EMBEDDIA/sloberta and are newly initialized: ['roberta.pooler.dense.bias', 'roberta.pooler.dense.weight']\n",
      "You should probably TRAIN this model on a down-stream task to be able to use it for predictions and inference.\n"
     ]
    }
   ],
   "source": [
    "from transformers import AutoModel, AutoTokenizer\n",
    "import torch\n",
    "tokenizer = AutoTokenizer.from_pretrained('EMBEDDIA/sloberta', use_fast=False)\n",
    "model=AutoModel.from_pretrained('EMBEDDIA/sloberta', output_hidden_states=True)\n",
    "\n",
    "\n",
    "\n",
    "\n",
    "\n"
   ]
  },
  {
   "cell_type": "code",
   "execution_count": 65,
   "metadata": {},
   "outputs": [
    {
     "data": {
      "text/plain": [
       "0.8163732"
      ]
     },
     "execution_count": 65,
     "metadata": {},
     "output_type": "execute_result"
    }
   ],
   "source": [
    "t1 = \"\"\n",
    "t2 = \"cepivo\"\n",
    "\n",
    "e1 = get_sloberta_mean_embedding(t1, model, tokenizer)\n",
    "e2 = get_sloberta_mean_embedding(t2, model, tokenizer)\n",
    "\n",
    "cosine_similarity(e1, e2)"
   ]
  },
  {
   "cell_type": "code",
   "execution_count": 60,
   "metadata": {},
   "outputs": [
    {
     "data": {
      "text/plain": [
       "0.96285826"
      ]
     },
     "execution_count": 60,
     "metadata": {},
     "output_type": "execute_result"
    }
   ],
   "source": [
    "t1 = \"\"\n",
    "t2 = \"Nogomet\"\n",
    "\n",
    "e1 = get_sloberta_cls_embedding(t1, model, tokenizer)\n",
    "e2 = get_sloberta_cls_embedding(t2, model, tokenizer)\n",
    "\n",
    "cosine_similarity(e1, e2)"
   ]
  },
  {
   "cell_type": "code",
   "execution_count": 4,
   "metadata": {},
   "outputs": [
    {
     "name": "stderr",
     "output_type": "stream",
     "text": [
      "Some weights of the model checkpoint at EMBEDDIA/sloberta were not used when initializing CamembertModel: ['lm_head.decoder.weight', 'lm_head.bias', 'lm_head.decoder.bias', 'lm_head.dense.bias', 'lm_head.layer_norm.weight', 'lm_head.layer_norm.bias', 'lm_head.dense.weight']\n",
      "- This IS expected if you are initializing CamembertModel from the checkpoint of a model trained on another task or with another architecture (e.g. initializing a BertForSequenceClassification model from a BertForPreTraining model).\n",
      "- This IS NOT expected if you are initializing CamembertModel from the checkpoint of a model that you expect to be exactly identical (initializing a BertForSequenceClassification model from a BertForSequenceClassification model).\n",
      "Some weights of CamembertModel were not initialized from the model checkpoint at EMBEDDIA/sloberta and are newly initialized: ['roberta.pooler.dense.weight', 'roberta.pooler.dense.bias']\n",
      "You should probably TRAIN this model on a down-stream task to be able to use it for predictions and inference.\n"
     ]
    }
   ],
   "source": [
    "from transformers import AutoModel, AutoTokenizer\n",
    "import torch\n",
    "tokenizer = AutoTokenizer.from_pretrained('EMBEDDIA/sloberta', use_fast=False)\n",
    "model=AutoModel.from_pretrained('EMBEDDIA/sloberta', output_hidden_states=True)"
   ]
  },
  {
   "cell_type": "code",
   "execution_count": 35,
   "metadata": {},
   "outputs": [
    {
     "name": "stdout",
     "output_type": "stream",
     "text": [
      "['<s>', '▁nogomet', '</s>']\n"
     ]
    }
   ],
   "source": [
    "text = \"nogomet\"\n",
    "token_ids = tokenizer.encode(text)\n",
    "tokens = [tokenizer._convert_id_to_token(idx) for idx in token_ids]\n",
    "print(tokens)"
   ]
  },
  {
   "cell_type": "code",
   "execution_count": 19,
   "metadata": {},
   "outputs": [
    {
     "name": "stdout",
     "output_type": "stream",
     "text": [
      "tensor([[   5, 5914,  980,    6]])\n"
     ]
    }
   ],
   "source": [
    "# unsqueeze token_ids because batch_size=1\n",
    "token_ids = torch.tensor(token_ids).unsqueeze(0)\n",
    "print(token_ids)"
   ]
  },
  {
   "cell_type": "code",
   "execution_count": 20,
   "metadata": {},
   "outputs": [
    {
     "name": "stdout",
     "output_type": "stream",
     "text": [
      "torch.Size([768])\n"
     ]
    }
   ],
   "source": [
    "# forward method returns a tuple (we only want the logits)\n",
    "# squeeze() because batch_size=1\n",
    "output = model(token_ids)[0].squeeze()\n",
    "# only grab output of CLS token (<s>), which is the first token\n",
    "cls_out = output[0]\n",
    "print(cls_out.size())"
   ]
  },
  {
   "cell_type": "code",
   "execution_count": 33,
   "metadata": {},
   "outputs": [
    {
     "data": {
      "text/plain": [
       "0.16326919"
      ]
     },
     "execution_count": 33,
     "metadata": {},
     "output_type": "execute_result"
    }
   ],
   "source": [
    "cls_out\n",
    "first_token_tensor = output[2]\n",
    "def cosine_similarity(a, b):\n",
    "    return np.dot(a, b)/(np.linalg.norm(a)*np.linalg.norm(b))\n",
    "\n",
    "cosine_similarity(cls_out.detach().numpy(), first_token_tensor.detach().numpy())"
   ]
  },
  {
   "cell_type": "code",
   "execution_count": 32,
   "metadata": {},
   "outputs": [
    {
     "data": {
      "text/plain": [
       "0.13418822"
      ]
     },
     "execution_count": 32,
     "metadata": {},
     "output_type": "execute_result"
    }
   ],
   "source": [
    "t1 = cls_out.detach().numpy()\n",
    "t2 = ((output[1]+output[2])/2).detach().numpy()\n",
    "\n",
    "cosine_similarity(t1, t2)"
   ]
  },
  {
   "cell_type": "code",
   "execution_count": null,
   "metadata": {},
   "outputs": [],
   "source": []
  },
  {
   "cell_type": "code",
   "execution_count": 8,
   "metadata": {},
   "outputs": [
    {
     "ename": "AttributeError",
     "evalue": "'BaseModelOutputWithPoolingAndCrossAttentions' object has no attribute 'size'",
     "output_type": "error",
     "traceback": [
      "\u001b[0;31m---------------------------------------------------------------------------\u001b[0m",
      "\u001b[0;31mAttributeError\u001b[0m                            Traceback (most recent call last)",
      "\u001b[1;32m/home/jhladnik/masters-thesis/notebooks/10-word_similarity.ipynb Cell 36\u001b[0m in \u001b[0;36m<cell line: 2>\u001b[0;34m()\u001b[0m\n\u001b[1;32m      <a href='vscode-notebook-cell://ssh-remote%2Bcronos/home/jhladnik/masters-thesis/notebooks/10-word_similarity.ipynb#X50sdnNjb2RlLXJlbW90ZQ%3D%3D?line=0'>1</a>\u001b[0m output \u001b[39m=\u001b[39m model(token_ids)\n\u001b[0;32m----> <a href='vscode-notebook-cell://ssh-remote%2Bcronos/home/jhladnik/masters-thesis/notebooks/10-word_similarity.ipynb#X50sdnNjb2RlLXJlbW90ZQ%3D%3D?line=1'>2</a>\u001b[0m \u001b[39mprint\u001b[39m(output\u001b[39m.\u001b[39;49msize())\n",
      "\u001b[0;31mAttributeError\u001b[0m: 'BaseModelOutputWithPoolingAndCrossAttentions' object has no attribute 'size'"
     ]
    }
   ],
   "source": [
    "output = model(token_ids)\n",
    "print(output.size())\n"
   ]
  },
  {
   "cell_type": "code",
   "execution_count": 36,
   "metadata": {},
   "outputs": [
    {
     "data": {
      "text/plain": [
       "torch.Size([1, 14, 768])"
      ]
     },
     "execution_count": 36,
     "metadata": {},
     "output_type": "execute_result"
    }
   ],
   "source": [
    "output.last_hidden_state.size()"
   ]
  },
  {
   "cell_type": "code",
   "execution_count": null,
   "metadata": {},
   "outputs": [],
   "source": []
  },
  {
   "cell_type": "markdown",
   "metadata": {},
   "source": [
    "## maximum bipartite word matching"
   ]
  },
  {
   "cell_type": "code",
   "execution_count": 6,
   "metadata": {},
   "outputs": [
    {
     "data": {
      "text/plain": [
       "([('politik', 'politik', 1.0), ('nogomet', 'pes', 0.18059797585010529)],\n",
       " 0.5902989879250526)"
      ]
     },
     "execution_count": 6,
     "metadata": {},
     "output_type": "execute_result"
    }
   ],
   "source": [
    "\n",
    "#get_maximum_word_matching([\"nogomet\", \"politik\"], [\"pes\", \"politik\"], \"fasttext\", get_sloberta_cls_embedding, model, tokenizer)\n",
    "get_maximum_word_matching([\"nogomet\", \"politik\"], [\"pes\", \"politik\"], \"fasttext\", embedding_function=get_fasttext_embedding, fasttext_model=ft)"
   ]
  },
  {
   "cell_type": "code",
   "execution_count": 8,
   "metadata": {},
   "outputs": [
    {
     "name": "stdout",
     "output_type": "stream",
     "text": [
      "imeti vlada iti nov človek država čas predsednik vedeti minister\n",
      "imeti knjiga iti človek vedeti resnica povedati dati reči laž\n",
      "novinar medij medijski novinarka novinarski novinarstvo slovenski slovenija rtv konferenca\n",
      "evro denar eur plača plačati podjetje milijon delo plačevati dobiti\n",
      "zdravnik zdravstven zdravstvo dr bolnišnica zdravje ventilator medicinski covid bolnik\n",
      "koronavirus virus okužba nov ukrep epidemija širjenje covid koronavirusa coronavirus\n",
      "protest protestnik kolesar petkov protestirati kolesarski kolesariti kolesarjenje kolo organizator\n",
      "epidemija okužba okužen število covid ukrep nov čas vlada bolezen\n",
      "maska nositi zaščiten nošenje obvezen imeti prostor nos uporaba zaprt\n",
      "policija policist policijski policaj ura imeti delo npu minister zakon\n",
      "cerkev bog papež jezus molitev občina svet verski katoliški božji\n",
      "twitter tvit facebook tweet tw tvitati profil twit omrežje retvitati\n",
      "gasilec požar tehničen pomoč eksplozija prijava pgd občina pogasiti požareport\n",
      "komunist komunističen komunizem imeti narod naslednik ponosen revolucija partija laž\n",
      "sodišče sodnik ustaven sodnica sodba pravnik vrhoven računski odvetnik soden\n",
      "imeti vlada nov človek iti država predsednik minister čas vedeti\n",
      "slovenija slovenski slovenec ljubljana imeti vlada država hrvaški narod janša\n",
      "evro denar eur plača milijon plačati podjetje proračun plačevati dobiti\n",
      "novinar medij medijski novinarka novinarski novinarstvo slovenski slovenija rtv konferenca\n",
      "zdravnik zdravstven zdravstvo dr bolnišnica zdravje ventilator medicinski covid bolnik\n",
      "otrok šola učitelj starš šolski družina mama mlad delo zaposlitev\n",
      "koronavirus virus okužba nov ukrep širjenje epidemija covid korona koronavirusa\n",
      "protest protestnik kolesar protestirati petkov kolesarski kolesariti kolesarjenje kolo organizator\n",
      "epidemija okužba okužen število covid ukrep nov čas vlada okužiti\n",
      "opozicija političen stranka koalicija politik politika opozicijski koalicijski vlada levica\n",
      "policija policist policijski policaj ura imeti sindikat slovenski delo npu\n",
      "cerkev bog papež janez jezus molitev občina verski svet katoliški\n",
      "maska nositi nošenje zaščiten obvezen imeti nos prostor uporaba zaprt\n",
      "tekma šport športen športnik sezona zmaga nogomet prvenstvo prvak ekipa\n",
      "twitter tvit facebook tweet tw tvitati twit profil omrežje retvitati\n"
     ]
    }
   ],
   "source": [
    "import ast\n",
    "from evaluation import get_models_topic_words\n",
    "import pandas as pd\n",
    "NUM_SAMPLES = 300_000\n",
    "ROOT_PATH = '/home/jhladnik/'\n",
    "df_tweets = pd.read_csv(f\"{ROOT_PATH}masters-thesis/notebooks/num_documents_models_tweets_{NUM_SAMPLES}.csv\")\n",
    "\n",
    "topic_words = get_models_topic_words(df_tweets, \"BERTopic\", \"num_documents\", 50000, 2, verbose=False)\n",
    "\n",
    "topic_words_LDA_2 = get_models_topic_words(df_tweets, \"LDA\", \"num_documents\", 50000, 2, verbose=False)\n",
    "topic_words_LDA_1 = get_models_topic_words(df_tweets, \"LDA\", \"num_documents\", 50000, 1, verbose=False)\n",
    "\n",
    "topic_words_BERTopic_2 = get_models_topic_words(df_tweets, \"BERTopic\", \"num_documents\", 50000, 2, verbose=True)\n",
    "topic_words_BERTopic_1 = get_models_topic_words(df_tweets, \"BERTopic\", \"num_documents\", 50000, 1, verbose=True)"
   ]
  },
  {
   "cell_type": "code",
   "execution_count": 9,
   "metadata": {},
   "outputs": [
    {
     "data": {
      "text/plain": [
       "([('hiša', 'cesta', 0.429513156414032),\n",
       "  ('prebrati', 'verjeti', 0.4167197048664093),\n",
       "  ('oseba', 'izjava', 0.4062800407409668),\n",
       "  ('pomoč', 'delo', 0.39379483461380005),\n",
       "  ('končno', 'odločitev', 0.34891581535339355),\n",
       "  ('tehničen', 'prispevek', 0.3190732002258301),\n",
       "  ('ženska', 'služba', 0.3018594980239868),\n",
       "  ('dom', 'Maribor', 0.2659444212913513),\n",
       "  ('občina', 'stanje', 0.2497124820947647),\n",
       "  ('spomniti', 'pasti', 0.1812623292207718)],\n",
       " 0.33130754828453063)"
      ]
     },
     "execution_count": 9,
     "metadata": {},
     "output_type": "execute_result"
    }
   ],
   "source": [
    "get_maximum_word_matching(topic_words_LDA_2[0], topic_words_LDA_2[1], \"fasttext\", embedding_function=get_fasttext_embedding, fasttext_model=ft)"
   ]
  },
  {
   "cell_type": "code",
   "execution_count": 7,
   "metadata": {},
   "outputs": [
    {
     "ename": "NameError",
     "evalue": "name 'topic_words_BERTopic_2' is not defined",
     "output_type": "error",
     "traceback": [
      "\u001b[0;31m---------------------------------------------------------------------------\u001b[0m",
      "\u001b[0;31mNameError\u001b[0m                                 Traceback (most recent call last)",
      "\u001b[1;32m/home/jhladnik/masters-thesis/notebooks/10-word_similarity.ipynb Cell 52\u001b[0m in \u001b[0;36m<cell line: 1>\u001b[0;34m()\u001b[0m\n\u001b[0;32m----> <a href='vscode-notebook-cell://ssh-remote%2Bcronos/home/jhladnik/masters-thesis/notebooks/10-word_similarity.ipynb#Y110sdnNjb2RlLXJlbW90ZQ%3D%3D?line=0'>1</a>\u001b[0m get_maximum_word_matching(topic_words_BERTopic_2[\u001b[39m0\u001b[39m], topic_words_BERTopic_1[\u001b[39m10\u001b[39m], \u001b[39m\"\u001b[39m\u001b[39mfasttext\u001b[39m\u001b[39m\"\u001b[39m, embedding_function\u001b[39m=\u001b[39mget_fasttext_embedding, fasttext_model\u001b[39m=\u001b[39mft)\n",
      "\u001b[0;31mNameError\u001b[0m: name 'topic_words_BERTopic_2' is not defined"
     ]
    }
   ],
   "source": [
    "get_maximum_word_matching(topic_words_BERTopic_2[0], topic_words_BERTopic_1[10], \"fasttext\", embedding_function=get_fasttext_embedding, fasttext_model=ft)"
   ]
  },
  {
   "cell_type": "code",
   "execution_count": 43,
   "metadata": {},
   "outputs": [
    {
     "data": {
      "text/plain": [
       "([('imeti', 'imeti', 1.0),\n",
       "  ('človek', 'policaj', 0.5906761884689331),\n",
       "  ('vlada', 'sindikat', 0.5775351524353027),\n",
       "  ('država', 'policija', 0.5218456387519836),\n",
       "  ('predsednik', 'policijski', 0.49544504284858704),\n",
       "  ('čas', 'ura', 0.4744624197483063),\n",
       "  ('minister', 'npu', 0.46364933252334595),\n",
       "  ('vedeti', 'policist', 0.39941713213920593),\n",
       "  ('nov', 'slovenski', 0.3351437747478485),\n",
       "  ('iti', 'delo', 0.2703936994075775)],\n",
       " 0.512856838107109)"
      ]
     },
     "execution_count": 43,
     "metadata": {},
     "output_type": "execute_result"
    }
   ],
   "source": [
    "get_maximum_word_matching(topic_words_BERTopic_2[0], topic_words_BERTopic_1[10], \"word2vec\", embedding_function=get_word2vec_embedding, word2vec_model=word2vec_model)"
   ]
  },
  {
   "cell_type": "code",
   "execution_count": null,
   "metadata": {},
   "outputs": [],
   "source": []
  },
  {
   "attachments": {},
   "cell_type": "markdown",
   "metadata": {},
   "source": [
    "## maximum bipartite topic matching"
   ]
  },
  {
   "cell_type": "code",
   "execution_count": 1,
   "metadata": {},
   "outputs": [],
   "source": [
    "\n"
   ]
  },
  {
   "cell_type": "code",
   "execution_count": 10,
   "metadata": {},
   "outputs": [],
   "source": [
    "pd.set_option('display.max_colwidth', None)\n"
   ]
  },
  {
   "attachments": {},
   "cell_type": "markdown",
   "metadata": {},
   "source": [
    "### bertopic vs bertopic"
   ]
  },
  {
   "cell_type": "code",
   "execution_count": 11,
   "metadata": {},
   "outputs": [
    {
     "name": "stdout",
     "output_type": "stream",
     "text": [
      "0.7935280838112037\n"
     ]
    },
    {
     "data": {
      "text/html": [
       "<div>\n",
       "<style scoped>\n",
       "    .dataframe tbody tr th:only-of-type {\n",
       "        vertical-align: middle;\n",
       "    }\n",
       "\n",
       "    .dataframe tbody tr th {\n",
       "        vertical-align: top;\n",
       "    }\n",
       "\n",
       "    .dataframe thead th {\n",
       "        text-align: right;\n",
       "    }\n",
       "</style>\n",
       "<table border=\"1\" class=\"dataframe\">\n",
       "  <thead>\n",
       "    <tr style=\"text-align: right;\">\n",
       "      <th></th>\n",
       "      <th>topic_model_1_topics</th>\n",
       "      <th>topic_model_2_topics</th>\n",
       "      <th>similarity</th>\n",
       "    </tr>\n",
       "  </thead>\n",
       "  <tbody>\n",
       "    <tr>\n",
       "      <th>0</th>\n",
       "      <td>[novinar, medij, medijski, novinarka, novinarski, novinarstvo, slovenski, slovenija, rtv, konferenca]</td>\n",
       "      <td>[novinar, medij, medijski, novinarka, novinarski, novinarstvo, slovenski, slovenija, rtv, konferenca]</td>\n",
       "      <td>1.000000</td>\n",
       "    </tr>\n",
       "    <tr>\n",
       "      <th>1</th>\n",
       "      <td>[maska, nositi, nošenje, zaščiten, obvezen, imeti, nos, prostor, uporaba, zaprt]</td>\n",
       "      <td>[maska, nositi, zaščiten, nošenje, obvezen, imeti, prostor, nos, uporaba, zaprt]</td>\n",
       "      <td>1.000000</td>\n",
       "    </tr>\n",
       "    <tr>\n",
       "      <th>2</th>\n",
       "      <td>[protest, protestnik, kolesar, protestirati, petkov, kolesarski, kolesariti, kolesarjenje, kolo, organizator]</td>\n",
       "      <td>[protest, protestnik, kolesar, petkov, protestirati, kolesarski, kolesariti, kolesarjenje, kolo, organizator]</td>\n",
       "      <td>1.000000</td>\n",
       "    </tr>\n",
       "    <tr>\n",
       "      <th>3</th>\n",
       "      <td>[imeti, vlada, nov, človek, iti, država, predsednik, minister, čas, vedeti]</td>\n",
       "      <td>[imeti, vlada, iti, nov, človek, država, čas, predsednik, vedeti, minister]</td>\n",
       "      <td>1.000000</td>\n",
       "    </tr>\n",
       "    <tr>\n",
       "      <th>4</th>\n",
       "      <td>[cerkev, bog, papež, janez, jezus, molitev, občina, verski, svet, katoliški]</td>\n",
       "      <td>[cerkev, bog, papež, jezus, molitev, občina, svet, verski, katoliški, božji]</td>\n",
       "      <td>0.951163</td>\n",
       "    </tr>\n",
       "    <tr>\n",
       "      <th>5</th>\n",
       "      <td>[evro, denar, eur, plača, milijon, plačati, podjetje, proračun, plačevati, dobiti]</td>\n",
       "      <td>[evro, denar, eur, plača, plačati, podjetje, milijon, delo, plačevati, dobiti]</td>\n",
       "      <td>0.929472</td>\n",
       "    </tr>\n",
       "    <tr>\n",
       "      <th>6</th>\n",
       "      <td>[zdravnik, zdravstven, zdravstvo, dr, bolnišnica, zdravje, ventilator, medicinski, covid, bolnik]</td>\n",
       "      <td>[zdravnik, zdravstven, zdravstvo, dr, bolnišnica, zdravje, ventilator, medicinski, covid, bolnik]</td>\n",
       "      <td>0.900000</td>\n",
       "    </tr>\n",
       "    <tr>\n",
       "      <th>7</th>\n",
       "      <td>[twitter, tvit, facebook, tweet, tw, tvitati, twit, profil, omrežje, retvitati]</td>\n",
       "      <td>[twitter, tvit, facebook, tweet, tw, tvitati, profil, twit, omrežje, retvitati]</td>\n",
       "      <td>0.900000</td>\n",
       "    </tr>\n",
       "    <tr>\n",
       "      <th>8</th>\n",
       "      <td>[policija, policist, policijski, policaj, ura, imeti, sindikat, slovenski, delo, npu]</td>\n",
       "      <td>[policija, policist, policijski, policaj, ura, imeti, delo, npu, minister, zakon]</td>\n",
       "      <td>0.890550</td>\n",
       "    </tr>\n",
       "    <tr>\n",
       "      <th>9</th>\n",
       "      <td>[epidemija, okužba, okužen, število, covid, ukrep, nov, čas, vlada, okužiti]</td>\n",
       "      <td>[epidemija, okužba, okužen, število, covid, ukrep, nov, čas, vlada, bolezen]</td>\n",
       "      <td>0.837807</td>\n",
       "    </tr>\n",
       "    <tr>\n",
       "      <th>10</th>\n",
       "      <td>[koronavirus, virus, okužba, nov, ukrep, širjenje, epidemija, covid, korona, koronavirusa]</td>\n",
       "      <td>[koronavirus, virus, okužba, nov, ukrep, epidemija, širjenje, covid, koronavirusa, coronavirus]</td>\n",
       "      <td>0.726498</td>\n",
       "    </tr>\n",
       "    <tr>\n",
       "      <th>11</th>\n",
       "      <td>[slovenija, slovenski, slovenec, ljubljana, imeti, vlada, država, hrvaški, narod, janša]</td>\n",
       "      <td>[komunist, komunističen, komunizem, imeti, narod, naslednik, ponosen, revolucija, partija, laž]</td>\n",
       "      <td>0.538222</td>\n",
       "    </tr>\n",
       "    <tr>\n",
       "      <th>12</th>\n",
       "      <td>[opozicija, političen, stranka, koalicija, politik, politika, opozicijski, koalicijski, vlada, levica]</td>\n",
       "      <td>[sodišče, sodnik, ustaven, sodnica, sodba, pravnik, vrhoven, računski, odvetnik, soden]</td>\n",
       "      <td>0.457243</td>\n",
       "    </tr>\n",
       "    <tr>\n",
       "      <th>13</th>\n",
       "      <td>[otrok, šola, učitelj, starš, šolski, družina, mama, mlad, delo, zaposlitev]</td>\n",
       "      <td>[imeti, knjiga, iti, človek, vedeti, resnica, povedati, dati, reči, laž]</td>\n",
       "      <td>0.398890</td>\n",
       "    </tr>\n",
       "    <tr>\n",
       "      <th>14</th>\n",
       "      <td>[tekma, šport, športen, športnik, sezona, zmaga, nogomet, prvenstvo, prvak, ekipa]</td>\n",
       "      <td>[gasilec, požar, tehničen, pomoč, eksplozija, prijava, pgd, občina, pogasiti, požareport]</td>\n",
       "      <td>0.373076</td>\n",
       "    </tr>\n",
       "  </tbody>\n",
       "</table>\n",
       "</div>"
      ],
      "text/plain": [
       "                                                                                             topic_model_1_topics  \\\n",
       "0           [novinar, medij, medijski, novinarka, novinarski, novinarstvo, slovenski, slovenija, rtv, konferenca]   \n",
       "1                                [maska, nositi, nošenje, zaščiten, obvezen, imeti, nos, prostor, uporaba, zaprt]   \n",
       "2   [protest, protestnik, kolesar, protestirati, petkov, kolesarski, kolesariti, kolesarjenje, kolo, organizator]   \n",
       "3                                     [imeti, vlada, nov, človek, iti, država, predsednik, minister, čas, vedeti]   \n",
       "4                                    [cerkev, bog, papež, janez, jezus, molitev, občina, verski, svet, katoliški]   \n",
       "5                              [evro, denar, eur, plača, milijon, plačati, podjetje, proračun, plačevati, dobiti]   \n",
       "6               [zdravnik, zdravstven, zdravstvo, dr, bolnišnica, zdravje, ventilator, medicinski, covid, bolnik]   \n",
       "7                                 [twitter, tvit, facebook, tweet, tw, tvitati, twit, profil, omrežje, retvitati]   \n",
       "8                           [policija, policist, policijski, policaj, ura, imeti, sindikat, slovenski, delo, npu]   \n",
       "9                                    [epidemija, okužba, okužen, število, covid, ukrep, nov, čas, vlada, okužiti]   \n",
       "10                     [koronavirus, virus, okužba, nov, ukrep, širjenje, epidemija, covid, korona, koronavirusa]   \n",
       "11                       [slovenija, slovenski, slovenec, ljubljana, imeti, vlada, država, hrvaški, narod, janša]   \n",
       "12         [opozicija, političen, stranka, koalicija, politik, politika, opozicijski, koalicijski, vlada, levica]   \n",
       "13                                   [otrok, šola, učitelj, starš, šolski, družina, mama, mlad, delo, zaposlitev]   \n",
       "14                             [tekma, šport, športen, športnik, sezona, zmaga, nogomet, prvenstvo, prvak, ekipa]   \n",
       "\n",
       "                                                                                             topic_model_2_topics  \\\n",
       "0           [novinar, medij, medijski, novinarka, novinarski, novinarstvo, slovenski, slovenija, rtv, konferenca]   \n",
       "1                                [maska, nositi, zaščiten, nošenje, obvezen, imeti, prostor, nos, uporaba, zaprt]   \n",
       "2   [protest, protestnik, kolesar, petkov, protestirati, kolesarski, kolesariti, kolesarjenje, kolo, organizator]   \n",
       "3                                     [imeti, vlada, iti, nov, človek, država, čas, predsednik, vedeti, minister]   \n",
       "4                                    [cerkev, bog, papež, jezus, molitev, občina, svet, verski, katoliški, božji]   \n",
       "5                                  [evro, denar, eur, plača, plačati, podjetje, milijon, delo, plačevati, dobiti]   \n",
       "6               [zdravnik, zdravstven, zdravstvo, dr, bolnišnica, zdravje, ventilator, medicinski, covid, bolnik]   \n",
       "7                                 [twitter, tvit, facebook, tweet, tw, tvitati, profil, twit, omrežje, retvitati]   \n",
       "8                               [policija, policist, policijski, policaj, ura, imeti, delo, npu, minister, zakon]   \n",
       "9                                    [epidemija, okužba, okužen, število, covid, ukrep, nov, čas, vlada, bolezen]   \n",
       "10                [koronavirus, virus, okužba, nov, ukrep, epidemija, širjenje, covid, koronavirusa, coronavirus]   \n",
       "11                [komunist, komunističen, komunizem, imeti, narod, naslednik, ponosen, revolucija, partija, laž]   \n",
       "12                        [sodišče, sodnik, ustaven, sodnica, sodba, pravnik, vrhoven, računski, odvetnik, soden]   \n",
       "13                                       [imeti, knjiga, iti, človek, vedeti, resnica, povedati, dati, reči, laž]   \n",
       "14                      [gasilec, požar, tehničen, pomoč, eksplozija, prijava, pgd, občina, pogasiti, požareport]   \n",
       "\n",
       "    similarity  \n",
       "0     1.000000  \n",
       "1     1.000000  \n",
       "2     1.000000  \n",
       "3     1.000000  \n",
       "4     0.951163  \n",
       "5     0.929472  \n",
       "6     0.900000  \n",
       "7     0.900000  \n",
       "8     0.890550  \n",
       "9     0.837807  \n",
       "10    0.726498  \n",
       "11    0.538222  \n",
       "12    0.457243  \n",
       "13    0.398890  \n",
       "14    0.373076  "
      ]
     },
     "execution_count": 11,
     "metadata": {},
     "output_type": "execute_result"
    }
   ],
   "source": [
    "topic_matchings, score = get_maximum_topic_matching(topic_words_BERTopic_1, topic_words_BERTopic_2, \"word2vec\", embedding_function=get_word2vec_embedding, word2vec_model=word2vec_model)\n",
    "print(score)\n",
    "pd.DataFrame(topic_matchings, columns=[\"topic_model_1_topics\", \"topic_model_2_topics\", \"similarity\"])\n"
   ]
  },
  {
   "cell_type": "code",
   "execution_count": 78,
   "metadata": {},
   "outputs": [
    {
     "name": "stdout",
     "output_type": "stream",
     "text": [
      "0.7946898052593071\n"
     ]
    },
    {
     "data": {
      "text/html": [
       "<div>\n",
       "<style scoped>\n",
       "    .dataframe tbody tr th:only-of-type {\n",
       "        vertical-align: middle;\n",
       "    }\n",
       "\n",
       "    .dataframe tbody tr th {\n",
       "        vertical-align: top;\n",
       "    }\n",
       "\n",
       "    .dataframe thead th {\n",
       "        text-align: right;\n",
       "    }\n",
       "</style>\n",
       "<table border=\"1\" class=\"dataframe\">\n",
       "  <thead>\n",
       "    <tr style=\"text-align: right;\">\n",
       "      <th></th>\n",
       "      <th>topic_model_1_topics</th>\n",
       "      <th>topic_model_2_topics</th>\n",
       "      <th>similarity</th>\n",
       "    </tr>\n",
       "  </thead>\n",
       "  <tbody>\n",
       "    <tr>\n",
       "      <th>0</th>\n",
       "      <td>[protest, protestnik, kolesar, protestirati, petkov, kolesarski, kolesariti, kolesarjenje, kolo, organizator]</td>\n",
       "      <td>[protest, protestnik, kolesar, petkov, protestirati, kolesarski, kolesariti, kolesarjenje, kolo, organizator]</td>\n",
       "      <td>1.000000</td>\n",
       "    </tr>\n",
       "    <tr>\n",
       "      <th>1</th>\n",
       "      <td>[twitter, tvit, facebook, tweet, tw, tvitati, twit, profil, omrežje, retvitati]</td>\n",
       "      <td>[twitter, tvit, facebook, tweet, tw, tvitati, profil, twit, omrežje, retvitati]</td>\n",
       "      <td>1.000000</td>\n",
       "    </tr>\n",
       "    <tr>\n",
       "      <th>2</th>\n",
       "      <td>[imeti, vlada, nov, človek, iti, država, predsednik, minister, čas, vedeti]</td>\n",
       "      <td>[imeti, vlada, iti, nov, človek, država, čas, predsednik, vedeti, minister]</td>\n",
       "      <td>1.000000</td>\n",
       "    </tr>\n",
       "    <tr>\n",
       "      <th>3</th>\n",
       "      <td>[novinar, medij, medijski, novinarka, novinarski, novinarstvo, slovenski, slovenija, rtv, konferenca]</td>\n",
       "      <td>[novinar, medij, medijski, novinarka, novinarski, novinarstvo, slovenski, slovenija, rtv, konferenca]</td>\n",
       "      <td>1.000000</td>\n",
       "    </tr>\n",
       "    <tr>\n",
       "      <th>4</th>\n",
       "      <td>[zdravnik, zdravstven, zdravstvo, dr, bolnišnica, zdravje, ventilator, medicinski, covid, bolnik]</td>\n",
       "      <td>[zdravnik, zdravstven, zdravstvo, dr, bolnišnica, zdravje, ventilator, medicinski, covid, bolnik]</td>\n",
       "      <td>1.000000</td>\n",
       "    </tr>\n",
       "    <tr>\n",
       "      <th>5</th>\n",
       "      <td>[maska, nositi, nošenje, zaščiten, obvezen, imeti, nos, prostor, uporaba, zaprt]</td>\n",
       "      <td>[maska, nositi, zaščiten, nošenje, obvezen, imeti, prostor, nos, uporaba, zaprt]</td>\n",
       "      <td>1.000000</td>\n",
       "    </tr>\n",
       "    <tr>\n",
       "      <th>6</th>\n",
       "      <td>[koronavirus, virus, okužba, nov, ukrep, širjenje, epidemija, covid, korona, koronavirusa]</td>\n",
       "      <td>[koronavirus, virus, okužba, nov, ukrep, epidemija, širjenje, covid, koronavirusa, coronavirus]</td>\n",
       "      <td>0.941510</td>\n",
       "    </tr>\n",
       "    <tr>\n",
       "      <th>7</th>\n",
       "      <td>[epidemija, okužba, okužen, število, covid, ukrep, nov, čas, vlada, okužiti]</td>\n",
       "      <td>[epidemija, okužba, okužen, število, covid, ukrep, nov, čas, vlada, bolezen]</td>\n",
       "      <td>0.932905</td>\n",
       "    </tr>\n",
       "    <tr>\n",
       "      <th>8</th>\n",
       "      <td>[evro, denar, eur, plača, milijon, plačati, podjetje, proračun, plačevati, dobiti]</td>\n",
       "      <td>[evro, denar, eur, plača, plačati, podjetje, milijon, delo, plačevati, dobiti]</td>\n",
       "      <td>0.922000</td>\n",
       "    </tr>\n",
       "    <tr>\n",
       "      <th>9</th>\n",
       "      <td>[cerkev, bog, papež, janez, jezus, molitev, občina, verski, svet, katoliški]</td>\n",
       "      <td>[cerkev, bog, papež, jezus, molitev, občina, svet, verski, katoliški, božji]</td>\n",
       "      <td>0.916623</td>\n",
       "    </tr>\n",
       "    <tr>\n",
       "      <th>10</th>\n",
       "      <td>[policija, policist, policijski, policaj, ura, imeti, sindikat, slovenski, delo, npu]</td>\n",
       "      <td>[policija, policist, policijski, policaj, ura, imeti, delo, npu, minister, zakon]</td>\n",
       "      <td>0.860394</td>\n",
       "    </tr>\n",
       "    <tr>\n",
       "      <th>11</th>\n",
       "      <td>[slovenija, slovenski, slovenec, ljubljana, imeti, vlada, država, hrvaški, narod, janša]</td>\n",
       "      <td>[komunist, komunističen, komunizem, imeti, narod, naslednik, ponosen, revolucija, partija, laž]</td>\n",
       "      <td>0.449594</td>\n",
       "    </tr>\n",
       "    <tr>\n",
       "      <th>12</th>\n",
       "      <td>[opozicija, političen, stranka, koalicija, politik, politika, opozicijski, koalicijski, vlada, levica]</td>\n",
       "      <td>[sodišče, sodnik, ustaven, sodnica, sodba, pravnik, vrhoven, računski, odvetnik, soden]</td>\n",
       "      <td>0.365273</td>\n",
       "    </tr>\n",
       "    <tr>\n",
       "      <th>13</th>\n",
       "      <td>[otrok, šola, učitelj, starš, šolski, družina, mama, mlad, delo, zaposlitev]</td>\n",
       "      <td>[imeti, knjiga, iti, človek, vedeti, resnica, povedati, dati, reči, laž]</td>\n",
       "      <td>0.277597</td>\n",
       "    </tr>\n",
       "    <tr>\n",
       "      <th>14</th>\n",
       "      <td>[tekma, šport, športen, športnik, sezona, zmaga, nogomet, prvenstvo, prvak, ekipa]</td>\n",
       "      <td>[gasilec, požar, tehničen, pomoč, eksplozija, prijava, pgd, občina, pogasiti, požareport]</td>\n",
       "      <td>0.254452</td>\n",
       "    </tr>\n",
       "  </tbody>\n",
       "</table>\n",
       "</div>"
      ],
      "text/plain": [
       "                                                                                             topic_model_1_topics  \\\n",
       "0   [protest, protestnik, kolesar, protestirati, petkov, kolesarski, kolesariti, kolesarjenje, kolo, organizator]   \n",
       "1                                 [twitter, tvit, facebook, tweet, tw, tvitati, twit, profil, omrežje, retvitati]   \n",
       "2                                     [imeti, vlada, nov, človek, iti, država, predsednik, minister, čas, vedeti]   \n",
       "3           [novinar, medij, medijski, novinarka, novinarski, novinarstvo, slovenski, slovenija, rtv, konferenca]   \n",
       "4               [zdravnik, zdravstven, zdravstvo, dr, bolnišnica, zdravje, ventilator, medicinski, covid, bolnik]   \n",
       "5                                [maska, nositi, nošenje, zaščiten, obvezen, imeti, nos, prostor, uporaba, zaprt]   \n",
       "6                      [koronavirus, virus, okužba, nov, ukrep, širjenje, epidemija, covid, korona, koronavirusa]   \n",
       "7                                    [epidemija, okužba, okužen, število, covid, ukrep, nov, čas, vlada, okužiti]   \n",
       "8                              [evro, denar, eur, plača, milijon, plačati, podjetje, proračun, plačevati, dobiti]   \n",
       "9                                    [cerkev, bog, papež, janez, jezus, molitev, občina, verski, svet, katoliški]   \n",
       "10                          [policija, policist, policijski, policaj, ura, imeti, sindikat, slovenski, delo, npu]   \n",
       "11                       [slovenija, slovenski, slovenec, ljubljana, imeti, vlada, država, hrvaški, narod, janša]   \n",
       "12         [opozicija, političen, stranka, koalicija, politik, politika, opozicijski, koalicijski, vlada, levica]   \n",
       "13                                   [otrok, šola, učitelj, starš, šolski, družina, mama, mlad, delo, zaposlitev]   \n",
       "14                             [tekma, šport, športen, športnik, sezona, zmaga, nogomet, prvenstvo, prvak, ekipa]   \n",
       "\n",
       "                                                                                             topic_model_2_topics  \\\n",
       "0   [protest, protestnik, kolesar, petkov, protestirati, kolesarski, kolesariti, kolesarjenje, kolo, organizator]   \n",
       "1                                 [twitter, tvit, facebook, tweet, tw, tvitati, profil, twit, omrežje, retvitati]   \n",
       "2                                     [imeti, vlada, iti, nov, človek, država, čas, predsednik, vedeti, minister]   \n",
       "3           [novinar, medij, medijski, novinarka, novinarski, novinarstvo, slovenski, slovenija, rtv, konferenca]   \n",
       "4               [zdravnik, zdravstven, zdravstvo, dr, bolnišnica, zdravje, ventilator, medicinski, covid, bolnik]   \n",
       "5                                [maska, nositi, zaščiten, nošenje, obvezen, imeti, prostor, nos, uporaba, zaprt]   \n",
       "6                 [koronavirus, virus, okužba, nov, ukrep, epidemija, širjenje, covid, koronavirusa, coronavirus]   \n",
       "7                                    [epidemija, okužba, okužen, število, covid, ukrep, nov, čas, vlada, bolezen]   \n",
       "8                                  [evro, denar, eur, plača, plačati, podjetje, milijon, delo, plačevati, dobiti]   \n",
       "9                                    [cerkev, bog, papež, jezus, molitev, občina, svet, verski, katoliški, božji]   \n",
       "10                              [policija, policist, policijski, policaj, ura, imeti, delo, npu, minister, zakon]   \n",
       "11                [komunist, komunističen, komunizem, imeti, narod, naslednik, ponosen, revolucija, partija, laž]   \n",
       "12                        [sodišče, sodnik, ustaven, sodnica, sodba, pravnik, vrhoven, računski, odvetnik, soden]   \n",
       "13                                       [imeti, knjiga, iti, človek, vedeti, resnica, povedati, dati, reči, laž]   \n",
       "14                      [gasilec, požar, tehničen, pomoč, eksplozija, prijava, pgd, občina, pogasiti, požareport]   \n",
       "\n",
       "    similarity  \n",
       "0     1.000000  \n",
       "1     1.000000  \n",
       "2     1.000000  \n",
       "3     1.000000  \n",
       "4     1.000000  \n",
       "5     1.000000  \n",
       "6     0.941510  \n",
       "7     0.932905  \n",
       "8     0.922000  \n",
       "9     0.916623  \n",
       "10    0.860394  \n",
       "11    0.449594  \n",
       "12    0.365273  \n",
       "13    0.277597  \n",
       "14    0.254452  "
      ]
     },
     "execution_count": 78,
     "metadata": {},
     "output_type": "execute_result"
    }
   ],
   "source": [
    "\n",
    "topic_matchings, score = get_maximum_topic_matching(topic_words_BERTopic_1, topic_words_BERTopic_2, \"fasttext\", embedding_function=get_fasttext_embedding, fasttext_model=ft)\n",
    "print(score)\n",
    "pd.DataFrame(topic_matchings, columns=[\"topic_model_1_topics\", \"topic_model_2_topics\", \"similarity\"])\n"
   ]
  },
  {
   "cell_type": "code",
   "execution_count": 80,
   "metadata": {},
   "outputs": [
    {
     "name": "stdout",
     "output_type": "stream",
     "text": [
      "0.67003367003367\n"
     ]
    },
    {
     "data": {
      "text/html": [
       "<div>\n",
       "<style scoped>\n",
       "    .dataframe tbody tr th:only-of-type {\n",
       "        vertical-align: middle;\n",
       "    }\n",
       "\n",
       "    .dataframe tbody tr th {\n",
       "        vertical-align: top;\n",
       "    }\n",
       "\n",
       "    .dataframe thead th {\n",
       "        text-align: right;\n",
       "    }\n",
       "</style>\n",
       "<table border=\"1\" class=\"dataframe\">\n",
       "  <thead>\n",
       "    <tr style=\"text-align: right;\">\n",
       "      <th></th>\n",
       "      <th>topic_model_1_topics</th>\n",
       "      <th>topic_model_2_topics</th>\n",
       "      <th>similarity</th>\n",
       "    </tr>\n",
       "  </thead>\n",
       "  <tbody>\n",
       "    <tr>\n",
       "      <th>0</th>\n",
       "      <td>[imeti, vlada, nov, človek, iti, država, predsednik, minister, čas, vedeti]</td>\n",
       "      <td>[imeti, vlada, iti, nov, človek, država, čas, predsednik, vedeti, minister]</td>\n",
       "      <td>1.000000</td>\n",
       "    </tr>\n",
       "    <tr>\n",
       "      <th>1</th>\n",
       "      <td>[novinar, medij, medijski, novinarka, novinarski, novinarstvo, slovenski, slovenija, rtv, konferenca]</td>\n",
       "      <td>[novinar, medij, medijski, novinarka, novinarski, novinarstvo, slovenski, slovenija, rtv, konferenca]</td>\n",
       "      <td>1.000000</td>\n",
       "    </tr>\n",
       "    <tr>\n",
       "      <th>2</th>\n",
       "      <td>[zdravnik, zdravstven, zdravstvo, dr, bolnišnica, zdravje, ventilator, medicinski, covid, bolnik]</td>\n",
       "      <td>[zdravnik, zdravstven, zdravstvo, dr, bolnišnica, zdravje, ventilator, medicinski, covid, bolnik]</td>\n",
       "      <td>1.000000</td>\n",
       "    </tr>\n",
       "    <tr>\n",
       "      <th>3</th>\n",
       "      <td>[protest, protestnik, kolesar, protestirati, petkov, kolesarski, kolesariti, kolesarjenje, kolo, organizator]</td>\n",
       "      <td>[protest, protestnik, kolesar, petkov, protestirati, kolesarski, kolesariti, kolesarjenje, kolo, organizator]</td>\n",
       "      <td>1.000000</td>\n",
       "    </tr>\n",
       "    <tr>\n",
       "      <th>4</th>\n",
       "      <td>[maska, nositi, nošenje, zaščiten, obvezen, imeti, nos, prostor, uporaba, zaprt]</td>\n",
       "      <td>[maska, nositi, zaščiten, nošenje, obvezen, imeti, prostor, nos, uporaba, zaprt]</td>\n",
       "      <td>1.000000</td>\n",
       "    </tr>\n",
       "    <tr>\n",
       "      <th>5</th>\n",
       "      <td>[twitter, tvit, facebook, tweet, tw, tvitati, twit, profil, omrežje, retvitati]</td>\n",
       "      <td>[twitter, tvit, facebook, tweet, tw, tvitati, profil, twit, omrežje, retvitati]</td>\n",
       "      <td>1.000000</td>\n",
       "    </tr>\n",
       "    <tr>\n",
       "      <th>6</th>\n",
       "      <td>[evro, denar, eur, plača, milijon, plačati, podjetje, proračun, plačevati, dobiti]</td>\n",
       "      <td>[evro, denar, eur, plača, plačati, podjetje, milijon, delo, plačevati, dobiti]</td>\n",
       "      <td>0.818182</td>\n",
       "    </tr>\n",
       "    <tr>\n",
       "      <th>7</th>\n",
       "      <td>[koronavirus, virus, okužba, nov, ukrep, širjenje, epidemija, covid, korona, koronavirusa]</td>\n",
       "      <td>[koronavirus, virus, okužba, nov, ukrep, epidemija, širjenje, covid, koronavirusa, coronavirus]</td>\n",
       "      <td>0.818182</td>\n",
       "    </tr>\n",
       "    <tr>\n",
       "      <th>8</th>\n",
       "      <td>[epidemija, okužba, okužen, število, covid, ukrep, nov, čas, vlada, okužiti]</td>\n",
       "      <td>[epidemija, okužba, okužen, število, covid, ukrep, nov, čas, vlada, bolezen]</td>\n",
       "      <td>0.818182</td>\n",
       "    </tr>\n",
       "    <tr>\n",
       "      <th>9</th>\n",
       "      <td>[cerkev, bog, papež, janez, jezus, molitev, občina, verski, svet, katoliški]</td>\n",
       "      <td>[cerkev, bog, papež, jezus, molitev, občina, svet, verski, katoliški, božji]</td>\n",
       "      <td>0.818182</td>\n",
       "    </tr>\n",
       "    <tr>\n",
       "      <th>10</th>\n",
       "      <td>[policija, policist, policijski, policaj, ura, imeti, sindikat, slovenski, delo, npu]</td>\n",
       "      <td>[policija, policist, policijski, policaj, ura, imeti, delo, npu, minister, zakon]</td>\n",
       "      <td>0.666667</td>\n",
       "    </tr>\n",
       "    <tr>\n",
       "      <th>11</th>\n",
       "      <td>[slovenija, slovenski, slovenec, ljubljana, imeti, vlada, država, hrvaški, narod, janša]</td>\n",
       "      <td>[komunist, komunističen, komunizem, imeti, narod, naslednik, ponosen, revolucija, partija, laž]</td>\n",
       "      <td>0.111111</td>\n",
       "    </tr>\n",
       "    <tr>\n",
       "      <th>12</th>\n",
       "      <td>[otrok, šola, učitelj, starš, šolski, družina, mama, mlad, delo, zaposlitev]</td>\n",
       "      <td>[sodišče, sodnik, ustaven, sodnica, sodba, pravnik, vrhoven, računski, odvetnik, soden]</td>\n",
       "      <td>0.000000</td>\n",
       "    </tr>\n",
       "    <tr>\n",
       "      <th>13</th>\n",
       "      <td>[opozicija, političen, stranka, koalicija, politik, politika, opozicijski, koalicijski, vlada, levica]</td>\n",
       "      <td>[imeti, knjiga, iti, človek, vedeti, resnica, povedati, dati, reči, laž]</td>\n",
       "      <td>0.000000</td>\n",
       "    </tr>\n",
       "    <tr>\n",
       "      <th>14</th>\n",
       "      <td>[tekma, šport, športen, športnik, sezona, zmaga, nogomet, prvenstvo, prvak, ekipa]</td>\n",
       "      <td>[gasilec, požar, tehničen, pomoč, eksplozija, prijava, pgd, občina, pogasiti, požareport]</td>\n",
       "      <td>0.000000</td>\n",
       "    </tr>\n",
       "  </tbody>\n",
       "</table>\n",
       "</div>"
      ],
      "text/plain": [
       "                                                                                             topic_model_1_topics  \\\n",
       "0                                     [imeti, vlada, nov, človek, iti, država, predsednik, minister, čas, vedeti]   \n",
       "1           [novinar, medij, medijski, novinarka, novinarski, novinarstvo, slovenski, slovenija, rtv, konferenca]   \n",
       "2               [zdravnik, zdravstven, zdravstvo, dr, bolnišnica, zdravje, ventilator, medicinski, covid, bolnik]   \n",
       "3   [protest, protestnik, kolesar, protestirati, petkov, kolesarski, kolesariti, kolesarjenje, kolo, organizator]   \n",
       "4                                [maska, nositi, nošenje, zaščiten, obvezen, imeti, nos, prostor, uporaba, zaprt]   \n",
       "5                                 [twitter, tvit, facebook, tweet, tw, tvitati, twit, profil, omrežje, retvitati]   \n",
       "6                              [evro, denar, eur, plača, milijon, plačati, podjetje, proračun, plačevati, dobiti]   \n",
       "7                      [koronavirus, virus, okužba, nov, ukrep, širjenje, epidemija, covid, korona, koronavirusa]   \n",
       "8                                    [epidemija, okužba, okužen, število, covid, ukrep, nov, čas, vlada, okužiti]   \n",
       "9                                    [cerkev, bog, papež, janez, jezus, molitev, občina, verski, svet, katoliški]   \n",
       "10                          [policija, policist, policijski, policaj, ura, imeti, sindikat, slovenski, delo, npu]   \n",
       "11                       [slovenija, slovenski, slovenec, ljubljana, imeti, vlada, država, hrvaški, narod, janša]   \n",
       "12                                   [otrok, šola, učitelj, starš, šolski, družina, mama, mlad, delo, zaposlitev]   \n",
       "13         [opozicija, političen, stranka, koalicija, politik, politika, opozicijski, koalicijski, vlada, levica]   \n",
       "14                             [tekma, šport, športen, športnik, sezona, zmaga, nogomet, prvenstvo, prvak, ekipa]   \n",
       "\n",
       "                                                                                             topic_model_2_topics  \\\n",
       "0                                     [imeti, vlada, iti, nov, človek, država, čas, predsednik, vedeti, minister]   \n",
       "1           [novinar, medij, medijski, novinarka, novinarski, novinarstvo, slovenski, slovenija, rtv, konferenca]   \n",
       "2               [zdravnik, zdravstven, zdravstvo, dr, bolnišnica, zdravje, ventilator, medicinski, covid, bolnik]   \n",
       "3   [protest, protestnik, kolesar, petkov, protestirati, kolesarski, kolesariti, kolesarjenje, kolo, organizator]   \n",
       "4                                [maska, nositi, zaščiten, nošenje, obvezen, imeti, prostor, nos, uporaba, zaprt]   \n",
       "5                                 [twitter, tvit, facebook, tweet, tw, tvitati, profil, twit, omrežje, retvitati]   \n",
       "6                                  [evro, denar, eur, plača, plačati, podjetje, milijon, delo, plačevati, dobiti]   \n",
       "7                 [koronavirus, virus, okužba, nov, ukrep, epidemija, širjenje, covid, koronavirusa, coronavirus]   \n",
       "8                                    [epidemija, okužba, okužen, število, covid, ukrep, nov, čas, vlada, bolezen]   \n",
       "9                                    [cerkev, bog, papež, jezus, molitev, občina, svet, verski, katoliški, božji]   \n",
       "10                              [policija, policist, policijski, policaj, ura, imeti, delo, npu, minister, zakon]   \n",
       "11                [komunist, komunističen, komunizem, imeti, narod, naslednik, ponosen, revolucija, partija, laž]   \n",
       "12                        [sodišče, sodnik, ustaven, sodnica, sodba, pravnik, vrhoven, računski, odvetnik, soden]   \n",
       "13                                       [imeti, knjiga, iti, človek, vedeti, resnica, povedati, dati, reči, laž]   \n",
       "14                      [gasilec, požar, tehničen, pomoč, eksplozija, prijava, pgd, občina, pogasiti, požareport]   \n",
       "\n",
       "    similarity  \n",
       "0     1.000000  \n",
       "1     1.000000  \n",
       "2     1.000000  \n",
       "3     1.000000  \n",
       "4     1.000000  \n",
       "5     1.000000  \n",
       "6     0.818182  \n",
       "7     0.818182  \n",
       "8     0.818182  \n",
       "9     0.818182  \n",
       "10    0.666667  \n",
       "11    0.111111  \n",
       "12    0.000000  \n",
       "13    0.000000  \n",
       "14    0.000000  "
      ]
     },
     "execution_count": 80,
     "metadata": {},
     "output_type": "execute_result"
    }
   ],
   "source": [
    "topic_matchings, score = get_maximum_topic_matching(topic_words_BERTopic_1, topic_words_BERTopic_2, \"jaccard\", embedding_function=None)\n",
    "print(score)\n",
    "pd.DataFrame(topic_matchings, columns=[\"topic_model_1_topics\", \"topic_model_2_topics\", \"similarity\"])\n",
    "\n"
   ]
  },
  {
   "cell_type": "code",
   "execution_count": null,
   "metadata": {},
   "outputs": [],
   "source": []
  },
  {
   "cell_type": "code",
   "execution_count": null,
   "metadata": {},
   "outputs": [],
   "source": []
  },
  {
   "cell_type": "code",
   "execution_count": null,
   "metadata": {},
   "outputs": [],
   "source": []
  },
  {
   "attachments": {},
   "cell_type": "markdown",
   "metadata": {},
   "source": [
    "### LDA vs bertopic"
   ]
  },
  {
   "cell_type": "code",
   "execution_count": 83,
   "metadata": {},
   "outputs": [
    {
     "name": "stdout",
     "output_type": "stream",
     "text": [
      "0.46546399215857187\n"
     ]
    },
    {
     "data": {
      "text/html": [
       "<div>\n",
       "<style scoped>\n",
       "    .dataframe tbody tr th:only-of-type {\n",
       "        vertical-align: middle;\n",
       "    }\n",
       "\n",
       "    .dataframe tbody tr th {\n",
       "        vertical-align: top;\n",
       "    }\n",
       "\n",
       "    .dataframe thead th {\n",
       "        text-align: right;\n",
       "    }\n",
       "</style>\n",
       "<table border=\"1\" class=\"dataframe\">\n",
       "  <thead>\n",
       "    <tr style=\"text-align: right;\">\n",
       "      <th></th>\n",
       "      <th>topic_model_1_topics</th>\n",
       "      <th>topic_model_2_topics</th>\n",
       "      <th>similarity</th>\n",
       "    </tr>\n",
       "  </thead>\n",
       "  <tbody>\n",
       "    <tr>\n",
       "      <th>0</th>\n",
       "      <td>[Slovenija, vlada, človek, država, čas, minister, predsednik, covid, ukrep, medij]</td>\n",
       "      <td>[imeti, vlada, iti, nov, človek, država, čas, predsednik, vedeti, minister]</td>\n",
       "      <td>0.680581</td>\n",
       "    </tr>\n",
       "    <tr>\n",
       "      <th>1</th>\n",
       "      <td>[imeti, vedeti, maska, delati, videti, dati, otrok, denar, začeti, razumeti]</td>\n",
       "      <td>[imeti, knjiga, iti, človek, vedeti, resnica, povedati, dati, reči, laž]</td>\n",
       "      <td>0.660558</td>\n",
       "    </tr>\n",
       "    <tr>\n",
       "      <th>2</th>\n",
       "      <td>[ura, teden, pravica, komunist, čakati, verjeti, naslednji, mnenje, policist, čestitka]</td>\n",
       "      <td>[policija, policist, policijski, policaj, ura, imeti, delo, npu, minister, zakon]</td>\n",
       "      <td>0.533099</td>\n",
       "    </tr>\n",
       "    <tr>\n",
       "      <th>3</th>\n",
       "      <td>[nov, okužba, gledati, zakon, rdeč, zanimiv, večina, okužen, seja, medijski]</td>\n",
       "      <td>[epidemija, okužba, okužen, število, covid, ukrep, nov, čas, vlada, bolezen]</td>\n",
       "      <td>0.527067</td>\n",
       "    </tr>\n",
       "    <tr>\n",
       "      <th>4</th>\n",
       "      <td>[milijon, podjetje, vojna, zaščiten, zdeti, sprejeti, zadeva, končno, oprema, poročilo]</td>\n",
       "      <td>[evro, denar, eur, plača, plačati, podjetje, milijon, delo, plačevati, dobiti]</td>\n",
       "      <td>0.505362</td>\n",
       "    </tr>\n",
       "    <tr>\n",
       "      <th>5</th>\n",
       "      <td>[mesto, sodišče, občina, levica, smrt, kultura, ustaven, laž, svetoven, hiša]</td>\n",
       "      <td>[cerkev, bog, papež, jezus, molitev, občina, svet, verski, katoliški, božji]</td>\n",
       "      <td>0.491606</td>\n",
       "    </tr>\n",
       "    <tr>\n",
       "      <th>6</th>\n",
       "      <td>[dobiti, novinar, RTV, slo., treba, upati, problem, družba, komunističen, kazati]</td>\n",
       "      <td>[komunist, komunističen, komunizem, imeti, narod, naslednik, ponosen, revolucija, partija, laž]</td>\n",
       "      <td>0.480427</td>\n",
       "    </tr>\n",
       "    <tr>\n",
       "      <th>7</th>\n",
       "      <td>[slovenski, evropski, skupaj, roka, zgodovina, slišati, družina, pogovor, poznati, glaven]</td>\n",
       "      <td>[novinar, medij, medijski, novinarka, novinarski, novinarstvo, slovenski, slovenija, rtv, konferenca]</td>\n",
       "      <td>0.445549</td>\n",
       "    </tr>\n",
       "    <tr>\n",
       "      <th>8</th>\n",
       "      <td>[dr., govoriti, pisati, beseda, izjava, število, mlad, napad, ime, zgoditi]</td>\n",
       "      <td>[sodišče, sodnik, ustaven, sodnica, sodba, pravnik, vrhoven, računski, odvetnik, soden]</td>\n",
       "      <td>0.403025</td>\n",
       "    </tr>\n",
       "    <tr>\n",
       "      <th>9</th>\n",
       "      <td>[državen, najbolj, konec, virus, podatek, potrebovati, zgodba, znati, knjiga, ženska]</td>\n",
       "      <td>[koronavirus, virus, okužba, nov, ukrep, epidemija, širjenje, covid, koronavirusa, coronavirus]</td>\n",
       "      <td>0.396085</td>\n",
       "    </tr>\n",
       "    <tr>\n",
       "      <th>10</th>\n",
       "      <td>[meja, oddaja, zdravnik, služba, direktor, pot, predstavljati, Maribor, razmera, račun]</td>\n",
       "      <td>[zdravnik, zdravstven, zdravstvo, dr, bolnišnica, zdravje, ventilator, medicinski, covid, bolnik]</td>\n",
       "      <td>0.389387</td>\n",
       "    </tr>\n",
       "    <tr>\n",
       "      <th>11</th>\n",
       "      <td>[iti, zato, reči, narediti, volitev, via, lev, evro, naprej, živeti]</td>\n",
       "      <td>[protest, protestnik, kolesar, petkov, protestirati, kolesarski, kolesariti, kolesarjenje, kolo, organizator]</td>\n",
       "      <td>0.386773</td>\n",
       "    </tr>\n",
       "    <tr>\n",
       "      <th>12</th>\n",
       "      <td>[svet, stranka, Ljubljana, pomoč, poslanec, vprašanje, Evropa, skupina, oseba, prositi]</td>\n",
       "      <td>[gasilec, požar, tehničen, pomoč, eksplozija, prijava, pgd, občina, pogasiti, požareport]</td>\n",
       "      <td>0.376323</td>\n",
       "    </tr>\n",
       "    <tr>\n",
       "      <th>13</th>\n",
       "      <td>[protest, hvala, današnji, levičar, pogledati, vojska, podpora, boj, aplikacija, mogoč]</td>\n",
       "      <td>[twitter, tvit, facebook, tweet, tw, tvitati, profil, twit, omrežje, retvitati]</td>\n",
       "      <td>0.357606</td>\n",
       "    </tr>\n",
       "    <tr>\n",
       "      <th>14</th>\n",
       "      <td>[povedati, priti, Slovenec, misliti, praviti, državljan, ostati, narod, potreben, Šarec]</td>\n",
       "      <td>[maska, nositi, zaščiten, nošenje, obvezen, imeti, prostor, nos, uporaba, zaprt]</td>\n",
       "      <td>0.348509</td>\n",
       "    </tr>\n",
       "  </tbody>\n",
       "</table>\n",
       "</div>"
      ],
      "text/plain": [
       "                                                                          topic_model_1_topics  \\\n",
       "0           [Slovenija, vlada, človek, država, čas, minister, predsednik, covid, ukrep, medij]   \n",
       "1                 [imeti, vedeti, maska, delati, videti, dati, otrok, denar, začeti, razumeti]   \n",
       "2      [ura, teden, pravica, komunist, čakati, verjeti, naslednji, mnenje, policist, čestitka]   \n",
       "3                 [nov, okužba, gledati, zakon, rdeč, zanimiv, večina, okužen, seja, medijski]   \n",
       "4      [milijon, podjetje, vojna, zaščiten, zdeti, sprejeti, zadeva, končno, oprema, poročilo]   \n",
       "5                [mesto, sodišče, občina, levica, smrt, kultura, ustaven, laž, svetoven, hiša]   \n",
       "6            [dobiti, novinar, RTV, slo., treba, upati, problem, družba, komunističen, kazati]   \n",
       "7   [slovenski, evropski, skupaj, roka, zgodovina, slišati, družina, pogovor, poznati, glaven]   \n",
       "8                  [dr., govoriti, pisati, beseda, izjava, število, mlad, napad, ime, zgoditi]   \n",
       "9        [državen, najbolj, konec, virus, podatek, potrebovati, zgodba, znati, knjiga, ženska]   \n",
       "10     [meja, oddaja, zdravnik, služba, direktor, pot, predstavljati, Maribor, razmera, račun]   \n",
       "11                        [iti, zato, reči, narediti, volitev, via, lev, evro, naprej, živeti]   \n",
       "12     [svet, stranka, Ljubljana, pomoč, poslanec, vprašanje, Evropa, skupina, oseba, prositi]   \n",
       "13     [protest, hvala, današnji, levičar, pogledati, vojska, podpora, boj, aplikacija, mogoč]   \n",
       "14    [povedati, priti, Slovenec, misliti, praviti, državljan, ostati, narod, potreben, Šarec]   \n",
       "\n",
       "                                                                                             topic_model_2_topics  \\\n",
       "0                                     [imeti, vlada, iti, nov, človek, država, čas, predsednik, vedeti, minister]   \n",
       "1                                        [imeti, knjiga, iti, človek, vedeti, resnica, povedati, dati, reči, laž]   \n",
       "2                               [policija, policist, policijski, policaj, ura, imeti, delo, npu, minister, zakon]   \n",
       "3                                    [epidemija, okužba, okužen, število, covid, ukrep, nov, čas, vlada, bolezen]   \n",
       "4                                  [evro, denar, eur, plača, plačati, podjetje, milijon, delo, plačevati, dobiti]   \n",
       "5                                    [cerkev, bog, papež, jezus, molitev, občina, svet, verski, katoliški, božji]   \n",
       "6                 [komunist, komunističen, komunizem, imeti, narod, naslednik, ponosen, revolucija, partija, laž]   \n",
       "7           [novinar, medij, medijski, novinarka, novinarski, novinarstvo, slovenski, slovenija, rtv, konferenca]   \n",
       "8                         [sodišče, sodnik, ustaven, sodnica, sodba, pravnik, vrhoven, računski, odvetnik, soden]   \n",
       "9                 [koronavirus, virus, okužba, nov, ukrep, epidemija, širjenje, covid, koronavirusa, coronavirus]   \n",
       "10              [zdravnik, zdravstven, zdravstvo, dr, bolnišnica, zdravje, ventilator, medicinski, covid, bolnik]   \n",
       "11  [protest, protestnik, kolesar, petkov, protestirati, kolesarski, kolesariti, kolesarjenje, kolo, organizator]   \n",
       "12                      [gasilec, požar, tehničen, pomoč, eksplozija, prijava, pgd, občina, pogasiti, požareport]   \n",
       "13                                [twitter, tvit, facebook, tweet, tw, tvitati, profil, twit, omrežje, retvitati]   \n",
       "14                               [maska, nositi, zaščiten, nošenje, obvezen, imeti, prostor, nos, uporaba, zaprt]   \n",
       "\n",
       "    similarity  \n",
       "0     0.680581  \n",
       "1     0.660558  \n",
       "2     0.533099  \n",
       "3     0.527067  \n",
       "4     0.505362  \n",
       "5     0.491606  \n",
       "6     0.480427  \n",
       "7     0.445549  \n",
       "8     0.403025  \n",
       "9     0.396085  \n",
       "10    0.389387  \n",
       "11    0.386773  \n",
       "12    0.376323  \n",
       "13    0.357606  \n",
       "14    0.348509  "
      ]
     },
     "execution_count": 83,
     "metadata": {},
     "output_type": "execute_result"
    }
   ],
   "source": [
    "topic_matchings, score = get_maximum_topic_matching(topic_words_LDA_1, topic_words_BERTopic_2, \"word2vec\", embedding_function=get_word2vec_embedding, word2vec_model=word2vec_model)\n",
    "\n",
    "print(score)\n",
    "pd.DataFrame(topic_matchings, columns=[\"topic_model_1_topics\", \"topic_model_2_topics\", \"similarity\"])\n"
   ]
  },
  {
   "cell_type": "code",
   "execution_count": 81,
   "metadata": {},
   "outputs": [
    {
     "name": "stdout",
     "output_type": "stream",
     "text": [
      "0.38459595641742156\n"
     ]
    },
    {
     "data": {
      "text/html": [
       "<div>\n",
       "<style scoped>\n",
       "    .dataframe tbody tr th:only-of-type {\n",
       "        vertical-align: middle;\n",
       "    }\n",
       "\n",
       "    .dataframe tbody tr th {\n",
       "        vertical-align: top;\n",
       "    }\n",
       "\n",
       "    .dataframe thead th {\n",
       "        text-align: right;\n",
       "    }\n",
       "</style>\n",
       "<table border=\"1\" class=\"dataframe\">\n",
       "  <thead>\n",
       "    <tr style=\"text-align: right;\">\n",
       "      <th></th>\n",
       "      <th>topic_model_1_topics</th>\n",
       "      <th>topic_model_2_topics</th>\n",
       "      <th>similarity</th>\n",
       "    </tr>\n",
       "  </thead>\n",
       "  <tbody>\n",
       "    <tr>\n",
       "      <th>0</th>\n",
       "      <td>[Slovenija, vlada, človek, država, čas, minister, predsednik, covid, ukrep, medij]</td>\n",
       "      <td>[imeti, vlada, iti, nov, človek, država, čas, predsednik, vedeti, minister]</td>\n",
       "      <td>0.669595</td>\n",
       "    </tr>\n",
       "    <tr>\n",
       "      <th>1</th>\n",
       "      <td>[imeti, vedeti, maska, delati, videti, dati, otrok, denar, začeti, razumeti]</td>\n",
       "      <td>[imeti, knjiga, iti, človek, vedeti, resnica, povedati, dati, reči, laž]</td>\n",
       "      <td>0.552332</td>\n",
       "    </tr>\n",
       "    <tr>\n",
       "      <th>2</th>\n",
       "      <td>[nov, okužba, gledati, zakon, rdeč, zanimiv, večina, okužen, seja, medijski]</td>\n",
       "      <td>[epidemija, okužba, okužen, število, covid, ukrep, nov, čas, vlada, bolezen]</td>\n",
       "      <td>0.476753</td>\n",
       "    </tr>\n",
       "    <tr>\n",
       "      <th>3</th>\n",
       "      <td>[mesto, sodišče, občina, levica, smrt, kultura, ustaven, laž, svetoven, hiša]</td>\n",
       "      <td>[sodišče, sodnik, ustaven, sodnica, sodba, pravnik, vrhoven, računski, odvetnik, soden]</td>\n",
       "      <td>0.428618</td>\n",
       "    </tr>\n",
       "    <tr>\n",
       "      <th>4</th>\n",
       "      <td>[ura, teden, pravica, komunist, čakati, verjeti, naslednji, mnenje, policist, čestitka]</td>\n",
       "      <td>[policija, policist, policijski, policaj, ura, imeti, delo, npu, minister, zakon]</td>\n",
       "      <td>0.413746</td>\n",
       "    </tr>\n",
       "    <tr>\n",
       "      <th>5</th>\n",
       "      <td>[milijon, podjetje, vojna, zaščiten, zdeti, sprejeti, zadeva, končno, oprema, poročilo]</td>\n",
       "      <td>[maska, nositi, zaščiten, nošenje, obvezen, imeti, prostor, nos, uporaba, zaprt]</td>\n",
       "      <td>0.362755</td>\n",
       "    </tr>\n",
       "    <tr>\n",
       "      <th>6</th>\n",
       "      <td>[povedati, priti, Slovenec, misliti, praviti, državljan, ostati, narod, potreben, Šarec]</td>\n",
       "      <td>[komunist, komunističen, komunizem, imeti, narod, naslednik, ponosen, revolucija, partija, laž]</td>\n",
       "      <td>0.355150</td>\n",
       "    </tr>\n",
       "    <tr>\n",
       "      <th>7</th>\n",
       "      <td>[svet, stranka, Ljubljana, pomoč, poslanec, vprašanje, Evropa, skupina, oseba, prositi]</td>\n",
       "      <td>[gasilec, požar, tehničen, pomoč, eksplozija, prijava, pgd, občina, pogasiti, požareport]</td>\n",
       "      <td>0.338311</td>\n",
       "    </tr>\n",
       "    <tr>\n",
       "      <th>8</th>\n",
       "      <td>[iti, zato, reči, narediti, volitev, via, lev, evro, naprej, živeti]</td>\n",
       "      <td>[evro, denar, eur, plača, plačati, podjetje, milijon, delo, plačevati, dobiti]</td>\n",
       "      <td>0.333735</td>\n",
       "    </tr>\n",
       "    <tr>\n",
       "      <th>9</th>\n",
       "      <td>[protest, hvala, današnji, levičar, pogledati, vojska, podpora, boj, aplikacija, mogoč]</td>\n",
       "      <td>[protest, protestnik, kolesar, petkov, protestirati, kolesarski, kolesariti, kolesarjenje, kolo, organizator]</td>\n",
       "      <td>0.333569</td>\n",
       "    </tr>\n",
       "    <tr>\n",
       "      <th>10</th>\n",
       "      <td>[državen, najbolj, konec, virus, podatek, potrebovati, zgodba, znati, knjiga, ženska]</td>\n",
       "      <td>[koronavirus, virus, okužba, nov, ukrep, epidemija, širjenje, covid, koronavirusa, coronavirus]</td>\n",
       "      <td>0.331858</td>\n",
       "    </tr>\n",
       "    <tr>\n",
       "      <th>11</th>\n",
       "      <td>[dobiti, novinar, RTV, slo., treba, upati, problem, družba, komunističen, kazati]</td>\n",
       "      <td>[novinar, medij, medijski, novinarka, novinarski, novinarstvo, slovenski, slovenija, rtv, konferenca]</td>\n",
       "      <td>0.330115</td>\n",
       "    </tr>\n",
       "    <tr>\n",
       "      <th>12</th>\n",
       "      <td>[slovenski, evropski, skupaj, roka, zgodovina, slišati, družina, pogovor, poznati, glaven]</td>\n",
       "      <td>[cerkev, bog, papež, jezus, molitev, občina, svet, verski, katoliški, božji]</td>\n",
       "      <td>0.320566</td>\n",
       "    </tr>\n",
       "    <tr>\n",
       "      <th>13</th>\n",
       "      <td>[meja, oddaja, zdravnik, služba, direktor, pot, predstavljati, Maribor, razmera, račun]</td>\n",
       "      <td>[zdravnik, zdravstven, zdravstvo, dr, bolnišnica, zdravje, ventilator, medicinski, covid, bolnik]</td>\n",
       "      <td>0.299359</td>\n",
       "    </tr>\n",
       "    <tr>\n",
       "      <th>14</th>\n",
       "      <td>[dr., govoriti, pisati, beseda, izjava, število, mlad, napad, ime, zgoditi]</td>\n",
       "      <td>[twitter, tvit, facebook, tweet, tw, tvitati, profil, twit, omrežje, retvitati]</td>\n",
       "      <td>0.222477</td>\n",
       "    </tr>\n",
       "  </tbody>\n",
       "</table>\n",
       "</div>"
      ],
      "text/plain": [
       "                                                                          topic_model_1_topics  \\\n",
       "0           [Slovenija, vlada, človek, država, čas, minister, predsednik, covid, ukrep, medij]   \n",
       "1                 [imeti, vedeti, maska, delati, videti, dati, otrok, denar, začeti, razumeti]   \n",
       "2                 [nov, okužba, gledati, zakon, rdeč, zanimiv, večina, okužen, seja, medijski]   \n",
       "3                [mesto, sodišče, občina, levica, smrt, kultura, ustaven, laž, svetoven, hiša]   \n",
       "4      [ura, teden, pravica, komunist, čakati, verjeti, naslednji, mnenje, policist, čestitka]   \n",
       "5      [milijon, podjetje, vojna, zaščiten, zdeti, sprejeti, zadeva, končno, oprema, poročilo]   \n",
       "6     [povedati, priti, Slovenec, misliti, praviti, državljan, ostati, narod, potreben, Šarec]   \n",
       "7      [svet, stranka, Ljubljana, pomoč, poslanec, vprašanje, Evropa, skupina, oseba, prositi]   \n",
       "8                         [iti, zato, reči, narediti, volitev, via, lev, evro, naprej, živeti]   \n",
       "9      [protest, hvala, današnji, levičar, pogledati, vojska, podpora, boj, aplikacija, mogoč]   \n",
       "10       [državen, najbolj, konec, virus, podatek, potrebovati, zgodba, znati, knjiga, ženska]   \n",
       "11           [dobiti, novinar, RTV, slo., treba, upati, problem, družba, komunističen, kazati]   \n",
       "12  [slovenski, evropski, skupaj, roka, zgodovina, slišati, družina, pogovor, poznati, glaven]   \n",
       "13     [meja, oddaja, zdravnik, služba, direktor, pot, predstavljati, Maribor, razmera, račun]   \n",
       "14                 [dr., govoriti, pisati, beseda, izjava, število, mlad, napad, ime, zgoditi]   \n",
       "\n",
       "                                                                                             topic_model_2_topics  \\\n",
       "0                                     [imeti, vlada, iti, nov, človek, država, čas, predsednik, vedeti, minister]   \n",
       "1                                        [imeti, knjiga, iti, človek, vedeti, resnica, povedati, dati, reči, laž]   \n",
       "2                                    [epidemija, okužba, okužen, število, covid, ukrep, nov, čas, vlada, bolezen]   \n",
       "3                         [sodišče, sodnik, ustaven, sodnica, sodba, pravnik, vrhoven, računski, odvetnik, soden]   \n",
       "4                               [policija, policist, policijski, policaj, ura, imeti, delo, npu, minister, zakon]   \n",
       "5                                [maska, nositi, zaščiten, nošenje, obvezen, imeti, prostor, nos, uporaba, zaprt]   \n",
       "6                 [komunist, komunističen, komunizem, imeti, narod, naslednik, ponosen, revolucija, partija, laž]   \n",
       "7                       [gasilec, požar, tehničen, pomoč, eksplozija, prijava, pgd, občina, pogasiti, požareport]   \n",
       "8                                  [evro, denar, eur, plača, plačati, podjetje, milijon, delo, plačevati, dobiti]   \n",
       "9   [protest, protestnik, kolesar, petkov, protestirati, kolesarski, kolesariti, kolesarjenje, kolo, organizator]   \n",
       "10                [koronavirus, virus, okužba, nov, ukrep, epidemija, širjenje, covid, koronavirusa, coronavirus]   \n",
       "11          [novinar, medij, medijski, novinarka, novinarski, novinarstvo, slovenski, slovenija, rtv, konferenca]   \n",
       "12                                   [cerkev, bog, papež, jezus, molitev, občina, svet, verski, katoliški, božji]   \n",
       "13              [zdravnik, zdravstven, zdravstvo, dr, bolnišnica, zdravje, ventilator, medicinski, covid, bolnik]   \n",
       "14                                [twitter, tvit, facebook, tweet, tw, tvitati, profil, twit, omrežje, retvitati]   \n",
       "\n",
       "    similarity  \n",
       "0     0.669595  \n",
       "1     0.552332  \n",
       "2     0.476753  \n",
       "3     0.428618  \n",
       "4     0.413746  \n",
       "5     0.362755  \n",
       "6     0.355150  \n",
       "7     0.338311  \n",
       "8     0.333735  \n",
       "9     0.333569  \n",
       "10    0.331858  \n",
       "11    0.330115  \n",
       "12    0.320566  \n",
       "13    0.299359  \n",
       "14    0.222477  "
      ]
     },
     "execution_count": 81,
     "metadata": {},
     "output_type": "execute_result"
    }
   ],
   "source": [
    "topic_matchings, score = get_maximum_topic_matching(topic_words_LDA_1, topic_words_BERTopic_2, \"fasttext\", embedding_function=get_fasttext_embedding, fasttext_model=ft)\n",
    "\n",
    "print(score)\n",
    "pd.DataFrame(topic_matchings, columns=[\"topic_model_1_topics\", \"topic_model_2_topics\", \"similarity\"])\n"
   ]
  },
  {
   "cell_type": "code",
   "execution_count": 82,
   "metadata": {},
   "outputs": [
    {
     "name": "stdout",
     "output_type": "stream",
     "text": [
      "0.67003367003367\n"
     ]
    },
    {
     "data": {
      "text/html": [
       "<div>\n",
       "<style scoped>\n",
       "    .dataframe tbody tr th:only-of-type {\n",
       "        vertical-align: middle;\n",
       "    }\n",
       "\n",
       "    .dataframe tbody tr th {\n",
       "        vertical-align: top;\n",
       "    }\n",
       "\n",
       "    .dataframe thead th {\n",
       "        text-align: right;\n",
       "    }\n",
       "</style>\n",
       "<table border=\"1\" class=\"dataframe\">\n",
       "  <thead>\n",
       "    <tr style=\"text-align: right;\">\n",
       "      <th></th>\n",
       "      <th>topic_model_1_topics</th>\n",
       "      <th>topic_model_2_topics</th>\n",
       "      <th>similarity</th>\n",
       "    </tr>\n",
       "  </thead>\n",
       "  <tbody>\n",
       "    <tr>\n",
       "      <th>0</th>\n",
       "      <td>[imeti, vlada, nov, človek, iti, država, predsednik, minister, čas, vedeti]</td>\n",
       "      <td>[imeti, vlada, iti, nov, človek, država, čas, predsednik, vedeti, minister]</td>\n",
       "      <td>1.000000</td>\n",
       "    </tr>\n",
       "    <tr>\n",
       "      <th>1</th>\n",
       "      <td>[novinar, medij, medijski, novinarka, novinarski, novinarstvo, slovenski, slovenija, rtv, konferenca]</td>\n",
       "      <td>[novinar, medij, medijski, novinarka, novinarski, novinarstvo, slovenski, slovenija, rtv, konferenca]</td>\n",
       "      <td>1.000000</td>\n",
       "    </tr>\n",
       "    <tr>\n",
       "      <th>2</th>\n",
       "      <td>[zdravnik, zdravstven, zdravstvo, dr, bolnišnica, zdravje, ventilator, medicinski, covid, bolnik]</td>\n",
       "      <td>[zdravnik, zdravstven, zdravstvo, dr, bolnišnica, zdravje, ventilator, medicinski, covid, bolnik]</td>\n",
       "      <td>1.000000</td>\n",
       "    </tr>\n",
       "    <tr>\n",
       "      <th>3</th>\n",
       "      <td>[protest, protestnik, kolesar, protestirati, petkov, kolesarski, kolesariti, kolesarjenje, kolo, organizator]</td>\n",
       "      <td>[protest, protestnik, kolesar, petkov, protestirati, kolesarski, kolesariti, kolesarjenje, kolo, organizator]</td>\n",
       "      <td>1.000000</td>\n",
       "    </tr>\n",
       "    <tr>\n",
       "      <th>4</th>\n",
       "      <td>[maska, nositi, nošenje, zaščiten, obvezen, imeti, nos, prostor, uporaba, zaprt]</td>\n",
       "      <td>[maska, nositi, zaščiten, nošenje, obvezen, imeti, prostor, nos, uporaba, zaprt]</td>\n",
       "      <td>1.000000</td>\n",
       "    </tr>\n",
       "    <tr>\n",
       "      <th>5</th>\n",
       "      <td>[twitter, tvit, facebook, tweet, tw, tvitati, twit, profil, omrežje, retvitati]</td>\n",
       "      <td>[twitter, tvit, facebook, tweet, tw, tvitati, profil, twit, omrežje, retvitati]</td>\n",
       "      <td>1.000000</td>\n",
       "    </tr>\n",
       "    <tr>\n",
       "      <th>6</th>\n",
       "      <td>[evro, denar, eur, plača, milijon, plačati, podjetje, proračun, plačevati, dobiti]</td>\n",
       "      <td>[evro, denar, eur, plača, plačati, podjetje, milijon, delo, plačevati, dobiti]</td>\n",
       "      <td>0.818182</td>\n",
       "    </tr>\n",
       "    <tr>\n",
       "      <th>7</th>\n",
       "      <td>[koronavirus, virus, okužba, nov, ukrep, širjenje, epidemija, covid, korona, koronavirusa]</td>\n",
       "      <td>[koronavirus, virus, okužba, nov, ukrep, epidemija, širjenje, covid, koronavirusa, coronavirus]</td>\n",
       "      <td>0.818182</td>\n",
       "    </tr>\n",
       "    <tr>\n",
       "      <th>8</th>\n",
       "      <td>[epidemija, okužba, okužen, število, covid, ukrep, nov, čas, vlada, okužiti]</td>\n",
       "      <td>[epidemija, okužba, okužen, število, covid, ukrep, nov, čas, vlada, bolezen]</td>\n",
       "      <td>0.818182</td>\n",
       "    </tr>\n",
       "    <tr>\n",
       "      <th>9</th>\n",
       "      <td>[cerkev, bog, papež, janez, jezus, molitev, občina, verski, svet, katoliški]</td>\n",
       "      <td>[cerkev, bog, papež, jezus, molitev, občina, svet, verski, katoliški, božji]</td>\n",
       "      <td>0.818182</td>\n",
       "    </tr>\n",
       "    <tr>\n",
       "      <th>10</th>\n",
       "      <td>[policija, policist, policijski, policaj, ura, imeti, sindikat, slovenski, delo, npu]</td>\n",
       "      <td>[policija, policist, policijski, policaj, ura, imeti, delo, npu, minister, zakon]</td>\n",
       "      <td>0.666667</td>\n",
       "    </tr>\n",
       "    <tr>\n",
       "      <th>11</th>\n",
       "      <td>[slovenija, slovenski, slovenec, ljubljana, imeti, vlada, država, hrvaški, narod, janša]</td>\n",
       "      <td>[komunist, komunističen, komunizem, imeti, narod, naslednik, ponosen, revolucija, partija, laž]</td>\n",
       "      <td>0.111111</td>\n",
       "    </tr>\n",
       "    <tr>\n",
       "      <th>12</th>\n",
       "      <td>[otrok, šola, učitelj, starš, šolski, družina, mama, mlad, delo, zaposlitev]</td>\n",
       "      <td>[sodišče, sodnik, ustaven, sodnica, sodba, pravnik, vrhoven, računski, odvetnik, soden]</td>\n",
       "      <td>0.000000</td>\n",
       "    </tr>\n",
       "    <tr>\n",
       "      <th>13</th>\n",
       "      <td>[opozicija, političen, stranka, koalicija, politik, politika, opozicijski, koalicijski, vlada, levica]</td>\n",
       "      <td>[imeti, knjiga, iti, človek, vedeti, resnica, povedati, dati, reči, laž]</td>\n",
       "      <td>0.000000</td>\n",
       "    </tr>\n",
       "    <tr>\n",
       "      <th>14</th>\n",
       "      <td>[tekma, šport, športen, športnik, sezona, zmaga, nogomet, prvenstvo, prvak, ekipa]</td>\n",
       "      <td>[gasilec, požar, tehničen, pomoč, eksplozija, prijava, pgd, občina, pogasiti, požareport]</td>\n",
       "      <td>0.000000</td>\n",
       "    </tr>\n",
       "  </tbody>\n",
       "</table>\n",
       "</div>"
      ],
      "text/plain": [
       "                                                                                             topic_model_1_topics  \\\n",
       "0                                     [imeti, vlada, nov, človek, iti, država, predsednik, minister, čas, vedeti]   \n",
       "1           [novinar, medij, medijski, novinarka, novinarski, novinarstvo, slovenski, slovenija, rtv, konferenca]   \n",
       "2               [zdravnik, zdravstven, zdravstvo, dr, bolnišnica, zdravje, ventilator, medicinski, covid, bolnik]   \n",
       "3   [protest, protestnik, kolesar, protestirati, petkov, kolesarski, kolesariti, kolesarjenje, kolo, organizator]   \n",
       "4                                [maska, nositi, nošenje, zaščiten, obvezen, imeti, nos, prostor, uporaba, zaprt]   \n",
       "5                                 [twitter, tvit, facebook, tweet, tw, tvitati, twit, profil, omrežje, retvitati]   \n",
       "6                              [evro, denar, eur, plača, milijon, plačati, podjetje, proračun, plačevati, dobiti]   \n",
       "7                      [koronavirus, virus, okužba, nov, ukrep, širjenje, epidemija, covid, korona, koronavirusa]   \n",
       "8                                    [epidemija, okužba, okužen, število, covid, ukrep, nov, čas, vlada, okužiti]   \n",
       "9                                    [cerkev, bog, papež, janez, jezus, molitev, občina, verski, svet, katoliški]   \n",
       "10                          [policija, policist, policijski, policaj, ura, imeti, sindikat, slovenski, delo, npu]   \n",
       "11                       [slovenija, slovenski, slovenec, ljubljana, imeti, vlada, država, hrvaški, narod, janša]   \n",
       "12                                   [otrok, šola, učitelj, starš, šolski, družina, mama, mlad, delo, zaposlitev]   \n",
       "13         [opozicija, političen, stranka, koalicija, politik, politika, opozicijski, koalicijski, vlada, levica]   \n",
       "14                             [tekma, šport, športen, športnik, sezona, zmaga, nogomet, prvenstvo, prvak, ekipa]   \n",
       "\n",
       "                                                                                             topic_model_2_topics  \\\n",
       "0                                     [imeti, vlada, iti, nov, človek, država, čas, predsednik, vedeti, minister]   \n",
       "1           [novinar, medij, medijski, novinarka, novinarski, novinarstvo, slovenski, slovenija, rtv, konferenca]   \n",
       "2               [zdravnik, zdravstven, zdravstvo, dr, bolnišnica, zdravje, ventilator, medicinski, covid, bolnik]   \n",
       "3   [protest, protestnik, kolesar, petkov, protestirati, kolesarski, kolesariti, kolesarjenje, kolo, organizator]   \n",
       "4                                [maska, nositi, zaščiten, nošenje, obvezen, imeti, prostor, nos, uporaba, zaprt]   \n",
       "5                                 [twitter, tvit, facebook, tweet, tw, tvitati, profil, twit, omrežje, retvitati]   \n",
       "6                                  [evro, denar, eur, plača, plačati, podjetje, milijon, delo, plačevati, dobiti]   \n",
       "7                 [koronavirus, virus, okužba, nov, ukrep, epidemija, širjenje, covid, koronavirusa, coronavirus]   \n",
       "8                                    [epidemija, okužba, okužen, število, covid, ukrep, nov, čas, vlada, bolezen]   \n",
       "9                                    [cerkev, bog, papež, jezus, molitev, občina, svet, verski, katoliški, božji]   \n",
       "10                              [policija, policist, policijski, policaj, ura, imeti, delo, npu, minister, zakon]   \n",
       "11                [komunist, komunističen, komunizem, imeti, narod, naslednik, ponosen, revolucija, partija, laž]   \n",
       "12                        [sodišče, sodnik, ustaven, sodnica, sodba, pravnik, vrhoven, računski, odvetnik, soden]   \n",
       "13                                       [imeti, knjiga, iti, človek, vedeti, resnica, povedati, dati, reči, laž]   \n",
       "14                      [gasilec, požar, tehničen, pomoč, eksplozija, prijava, pgd, občina, pogasiti, požareport]   \n",
       "\n",
       "    similarity  \n",
       "0     1.000000  \n",
       "1     1.000000  \n",
       "2     1.000000  \n",
       "3     1.000000  \n",
       "4     1.000000  \n",
       "5     1.000000  \n",
       "6     0.818182  \n",
       "7     0.818182  \n",
       "8     0.818182  \n",
       "9     0.818182  \n",
       "10    0.666667  \n",
       "11    0.111111  \n",
       "12    0.000000  \n",
       "13    0.000000  \n",
       "14    0.000000  "
      ]
     },
     "execution_count": 82,
     "metadata": {},
     "output_type": "execute_result"
    }
   ],
   "source": [
    "topic_matchings, score = get_maximum_topic_matching(topic_words_LDA_1, topic_words_BERTopic_2, \"jaccard\", embedding_function=None)\n",
    "print(score)\n",
    "pd.DataFrame(topic_matchings, columns=[\"topic_model_1_topics\", \"topic_model_2_topics\", \"similarity\"])\n",
    "\n"
   ]
  },
  {
   "cell_type": "code",
   "execution_count": null,
   "metadata": {},
   "outputs": [],
   "source": []
  },
  {
   "cell_type": "markdown",
   "metadata": {},
   "source": [
    "### LDA vs LDA"
   ]
  },
  {
   "cell_type": "code",
   "execution_count": 84,
   "metadata": {},
   "outputs": [
    {
     "name": "stdout",
     "output_type": "stream",
     "text": [
      "0.4970129413406054\n"
     ]
    },
    {
     "data": {
      "text/html": [
       "<div>\n",
       "<style scoped>\n",
       "    .dataframe tbody tr th:only-of-type {\n",
       "        vertical-align: middle;\n",
       "    }\n",
       "\n",
       "    .dataframe tbody tr th {\n",
       "        vertical-align: top;\n",
       "    }\n",
       "\n",
       "    .dataframe thead th {\n",
       "        text-align: right;\n",
       "    }\n",
       "</style>\n",
       "<table border=\"1\" class=\"dataframe\">\n",
       "  <thead>\n",
       "    <tr style=\"text-align: right;\">\n",
       "      <th></th>\n",
       "      <th>topic_model_1_topics</th>\n",
       "      <th>topic_model_2_topics</th>\n",
       "      <th>similarity</th>\n",
       "    </tr>\n",
       "  </thead>\n",
       "  <tbody>\n",
       "    <tr>\n",
       "      <th>0</th>\n",
       "      <td>[imeti, vedeti, maska, delati, videti, dati, otrok, denar, začeti, razumeti]</td>\n",
       "      <td>[imeti, iti, človek, država, čas, vedeti, svet, delati, političen, videti]</td>\n",
       "      <td>0.678118</td>\n",
       "    </tr>\n",
       "    <tr>\n",
       "      <th>1</th>\n",
       "      <td>[slovenski, evropski, skupaj, roka, zgodovina, slišati, družina, pogovor, poznati, glaven]</td>\n",
       "      <td>[dati, ura, gledati, oddaja, pogledati, beseda, knjiga, pogovor, glaven, letos]</td>\n",
       "      <td>0.548480</td>\n",
       "    </tr>\n",
       "    <tr>\n",
       "      <th>2</th>\n",
       "      <td>[Slovenija, vlada, človek, država, čas, minister, predsednik, covid, ukrep, medij]</td>\n",
       "      <td>[vlada, minister, predsednik, Janša, priti, državen, protest, policija, Janez, del]</td>\n",
       "      <td>0.528797</td>\n",
       "    </tr>\n",
       "    <tr>\n",
       "      <th>3</th>\n",
       "      <td>[mesto, sodišče, občina, levica, smrt, kultura, ustaven, laž, svetoven, hiša]</td>\n",
       "      <td>[pomoč, občina, oseba, dom, prebrati, spomniti, končno, hiša, ženska, tehničen]</td>\n",
       "      <td>0.523554</td>\n",
       "    </tr>\n",
       "    <tr>\n",
       "      <th>4</th>\n",
       "      <td>[ura, teden, pravica, komunist, čakati, verjeti, naslednji, mnenje, policist, čestitka]</td>\n",
       "      <td>[medij, maska, novinar, konec, via, oblast, levičar, rdeč, naslednji, resnica]</td>\n",
       "      <td>0.519048</td>\n",
       "    </tr>\n",
       "    <tr>\n",
       "      <th>5</th>\n",
       "      <td>[nov, okužba, gledati, zakon, rdeč, zanimiv, večina, okužen, seja, medijski]</td>\n",
       "      <td>[Slovenija, nov, covid, koronavirus, mesto, evropski, okužba, pomemben, okužen, število]</td>\n",
       "      <td>0.516666</td>\n",
       "    </tr>\n",
       "    <tr>\n",
       "      <th>6</th>\n",
       "      <td>[državen, najbolj, konec, virus, podatek, potrebovati, zgodba, znati, knjiga, ženska]</td>\n",
       "      <td>[politika, slo., smrt, komunist, podatek, znati, slika, račun, javno, organizacija]</td>\n",
       "      <td>0.515977</td>\n",
       "    </tr>\n",
       "    <tr>\n",
       "      <th>7</th>\n",
       "      <td>[iti, zato, reči, narediti, volitev, via, lev, evro, naprej, živeti]</td>\n",
       "      <td>[najbolj, sodišče, govoriti, naprej, najti, ZDA, zgoditi, ustaven, slišati, novica]</td>\n",
       "      <td>0.499901</td>\n",
       "    </tr>\n",
       "    <tr>\n",
       "      <th>8</th>\n",
       "      <td>[svet, stranka, Ljubljana, pomoč, poslanec, vprašanje, Evropa, skupina, oseba, prositi]</td>\n",
       "      <td>[ukrep, epidemija, narediti, virus, vprašanje, pravica, opozicija, skupina, jasen, družba]</td>\n",
       "      <td>0.498702</td>\n",
       "    </tr>\n",
       "    <tr>\n",
       "      <th>9</th>\n",
       "      <td>[dobiti, novinar, RTV, slo., treba, upati, problem, družba, komunističen, kazati]</td>\n",
       "      <td>[slovenski, treba, zdravstven, kultura, narod, zgodba, zdeti, spleten, delavec, poslušati]</td>\n",
       "      <td>0.477820</td>\n",
       "    </tr>\n",
       "    <tr>\n",
       "      <th>10</th>\n",
       "      <td>[meja, oddaja, zdravnik, služba, direktor, pot, predstavljati, Maribor, razmera, račun]</td>\n",
       "      <td>[delo, verjeti, izjava, služba, prispevek, stanje, odločitev, cesta, Maribor, pasti]</td>\n",
       "      <td>0.456535</td>\n",
       "    </tr>\n",
       "    <tr>\n",
       "      <th>11</th>\n",
       "      <td>[dr., govoriti, pisati, beseda, izjava, število, mlad, napad, ime, zgoditi]</td>\n",
       "      <td>[dr., teden, podpora, napad, Rtv, hud, intervju, odličen, zaposlen, aplikacija]</td>\n",
       "      <td>0.449618</td>\n",
       "    </tr>\n",
       "    <tr>\n",
       "      <th>12</th>\n",
       "      <td>[milijon, podjetje, vojna, zaščiten, zdeti, sprejeti, zadeva, končno, oprema, poročilo]</td>\n",
       "      <td>[stranka, poslanec, praviti, lev, levica, milijon, evro, zdravnik, vojska, član]</td>\n",
       "      <td>0.449542</td>\n",
       "    </tr>\n",
       "    <tr>\n",
       "      <th>13</th>\n",
       "      <td>[protest, hvala, današnji, levičar, pogledati, vojska, podpora, boj, aplikacija, mogoč]</td>\n",
       "      <td>[javen, Ljubljana, RTV, denar, hvala, zakon, današnji, zanimiv, živeti, seja]</td>\n",
       "      <td>0.434735</td>\n",
       "    </tr>\n",
       "    <tr>\n",
       "      <th>14</th>\n",
       "      <td>[povedati, priti, Slovenec, misliti, praviti, državljan, ostati, narod, potreben, Šarec]</td>\n",
       "      <td>[Slovenec, Evropa, zgodovina, vprašati, mogoč, začetek, uspeti, žrtev, prejšnji, početi]</td>\n",
       "      <td>0.357700</td>\n",
       "    </tr>\n",
       "  </tbody>\n",
       "</table>\n",
       "</div>"
      ],
      "text/plain": [
       "                                                                          topic_model_1_topics  \\\n",
       "0                 [imeti, vedeti, maska, delati, videti, dati, otrok, denar, začeti, razumeti]   \n",
       "1   [slovenski, evropski, skupaj, roka, zgodovina, slišati, družina, pogovor, poznati, glaven]   \n",
       "2           [Slovenija, vlada, človek, država, čas, minister, predsednik, covid, ukrep, medij]   \n",
       "3                [mesto, sodišče, občina, levica, smrt, kultura, ustaven, laž, svetoven, hiša]   \n",
       "4      [ura, teden, pravica, komunist, čakati, verjeti, naslednji, mnenje, policist, čestitka]   \n",
       "5                 [nov, okužba, gledati, zakon, rdeč, zanimiv, večina, okužen, seja, medijski]   \n",
       "6        [državen, najbolj, konec, virus, podatek, potrebovati, zgodba, znati, knjiga, ženska]   \n",
       "7                         [iti, zato, reči, narediti, volitev, via, lev, evro, naprej, živeti]   \n",
       "8      [svet, stranka, Ljubljana, pomoč, poslanec, vprašanje, Evropa, skupina, oseba, prositi]   \n",
       "9            [dobiti, novinar, RTV, slo., treba, upati, problem, družba, komunističen, kazati]   \n",
       "10     [meja, oddaja, zdravnik, služba, direktor, pot, predstavljati, Maribor, razmera, račun]   \n",
       "11                 [dr., govoriti, pisati, beseda, izjava, število, mlad, napad, ime, zgoditi]   \n",
       "12     [milijon, podjetje, vojna, zaščiten, zdeti, sprejeti, zadeva, končno, oprema, poročilo]   \n",
       "13     [protest, hvala, današnji, levičar, pogledati, vojska, podpora, boj, aplikacija, mogoč]   \n",
       "14    [povedati, priti, Slovenec, misliti, praviti, državljan, ostati, narod, potreben, Šarec]   \n",
       "\n",
       "                                                                          topic_model_2_topics  \\\n",
       "0                   [imeti, iti, človek, država, čas, vedeti, svet, delati, političen, videti]   \n",
       "1              [dati, ura, gledati, oddaja, pogledati, beseda, knjiga, pogovor, glaven, letos]   \n",
       "2          [vlada, minister, predsednik, Janša, priti, državen, protest, policija, Janez, del]   \n",
       "3              [pomoč, občina, oseba, dom, prebrati, spomniti, končno, hiša, ženska, tehničen]   \n",
       "4               [medij, maska, novinar, konec, via, oblast, levičar, rdeč, naslednji, resnica]   \n",
       "5     [Slovenija, nov, covid, koronavirus, mesto, evropski, okužba, pomemben, okužen, število]   \n",
       "6          [politika, slo., smrt, komunist, podatek, znati, slika, račun, javno, organizacija]   \n",
       "7          [najbolj, sodišče, govoriti, naprej, najti, ZDA, zgoditi, ustaven, slišati, novica]   \n",
       "8   [ukrep, epidemija, narediti, virus, vprašanje, pravica, opozicija, skupina, jasen, družba]   \n",
       "9   [slovenski, treba, zdravstven, kultura, narod, zgodba, zdeti, spleten, delavec, poslušati]   \n",
       "10        [delo, verjeti, izjava, služba, prispevek, stanje, odločitev, cesta, Maribor, pasti]   \n",
       "11             [dr., teden, podpora, napad, Rtv, hud, intervju, odličen, zaposlen, aplikacija]   \n",
       "12            [stranka, poslanec, praviti, lev, levica, milijon, evro, zdravnik, vojska, član]   \n",
       "13               [javen, Ljubljana, RTV, denar, hvala, zakon, današnji, zanimiv, živeti, seja]   \n",
       "14    [Slovenec, Evropa, zgodovina, vprašati, mogoč, začetek, uspeti, žrtev, prejšnji, početi]   \n",
       "\n",
       "    similarity  \n",
       "0     0.678118  \n",
       "1     0.548480  \n",
       "2     0.528797  \n",
       "3     0.523554  \n",
       "4     0.519048  \n",
       "5     0.516666  \n",
       "6     0.515977  \n",
       "7     0.499901  \n",
       "8     0.498702  \n",
       "9     0.477820  \n",
       "10    0.456535  \n",
       "11    0.449618  \n",
       "12    0.449542  \n",
       "13    0.434735  \n",
       "14    0.357700  "
      ]
     },
     "execution_count": 84,
     "metadata": {},
     "output_type": "execute_result"
    }
   ],
   "source": [
    "topic_matchings, score = get_maximum_topic_matching(topic_words_LDA_1, topic_words_LDA_2, \"word2vec\", embedding_function=get_word2vec_embedding, word2vec_model=word2vec_model)\n",
    "\n",
    "print(score)\n",
    "pd.DataFrame(topic_matchings, columns=[\"topic_model_1_topics\", \"topic_model_2_topics\", \"similarity\"])\n"
   ]
  },
  {
   "cell_type": "code",
   "execution_count": 85,
   "metadata": {},
   "outputs": [
    {
     "name": "stdout",
     "output_type": "stream",
     "text": [
      "0.44238144693275294\n"
     ]
    },
    {
     "data": {
      "text/html": [
       "<div>\n",
       "<style scoped>\n",
       "    .dataframe tbody tr th:only-of-type {\n",
       "        vertical-align: middle;\n",
       "    }\n",
       "\n",
       "    .dataframe tbody tr th {\n",
       "        vertical-align: top;\n",
       "    }\n",
       "\n",
       "    .dataframe thead th {\n",
       "        text-align: right;\n",
       "    }\n",
       "</style>\n",
       "<table border=\"1\" class=\"dataframe\">\n",
       "  <thead>\n",
       "    <tr style=\"text-align: right;\">\n",
       "      <th></th>\n",
       "      <th>topic_model_1_topics</th>\n",
       "      <th>topic_model_2_topics</th>\n",
       "      <th>similarity</th>\n",
       "    </tr>\n",
       "  </thead>\n",
       "  <tbody>\n",
       "    <tr>\n",
       "      <th>0</th>\n",
       "      <td>[imeti, vedeti, maska, delati, videti, dati, otrok, denar, začeti, razumeti]</td>\n",
       "      <td>[imeti, iti, človek, država, čas, vedeti, svet, delati, političen, videti]</td>\n",
       "      <td>0.599349</td>\n",
       "    </tr>\n",
       "    <tr>\n",
       "      <th>1</th>\n",
       "      <td>[nov, okužba, gledati, zakon, rdeč, zanimiv, večina, okužen, seja, medijski]</td>\n",
       "      <td>[Slovenija, nov, covid, koronavirus, mesto, evropski, okužba, pomemben, okužen, število]</td>\n",
       "      <td>0.507315</td>\n",
       "    </tr>\n",
       "    <tr>\n",
       "      <th>2</th>\n",
       "      <td>[Slovenija, vlada, človek, država, čas, minister, predsednik, covid, ukrep, medij]</td>\n",
       "      <td>[vlada, minister, predsednik, Janša, priti, državen, protest, policija, Janez, del]</td>\n",
       "      <td>0.502908</td>\n",
       "    </tr>\n",
       "    <tr>\n",
       "      <th>3</th>\n",
       "      <td>[slovenski, evropski, skupaj, roka, zgodovina, slišati, družina, pogovor, poznati, glaven]</td>\n",
       "      <td>[dati, ura, gledati, oddaja, pogledati, beseda, knjiga, pogovor, glaven, letos]</td>\n",
       "      <td>0.460077</td>\n",
       "    </tr>\n",
       "    <tr>\n",
       "      <th>4</th>\n",
       "      <td>[meja, oddaja, zdravnik, služba, direktor, pot, predstavljati, Maribor, razmera, račun]</td>\n",
       "      <td>[delo, verjeti, izjava, služba, prispevek, stanje, odločitev, cesta, Maribor, pasti]</td>\n",
       "      <td>0.454858</td>\n",
       "    </tr>\n",
       "    <tr>\n",
       "      <th>5</th>\n",
       "      <td>[svet, stranka, Ljubljana, pomoč, poslanec, vprašanje, Evropa, skupina, oseba, prositi]</td>\n",
       "      <td>[ukrep, epidemija, narediti, virus, vprašanje, pravica, opozicija, skupina, jasen, družba]</td>\n",
       "      <td>0.450106</td>\n",
       "    </tr>\n",
       "    <tr>\n",
       "      <th>6</th>\n",
       "      <td>[državen, najbolj, konec, virus, podatek, potrebovati, zgodba, znati, knjiga, ženska]</td>\n",
       "      <td>[politika, slo., smrt, komunist, podatek, znati, slika, račun, javno, organizacija]</td>\n",
       "      <td>0.445046</td>\n",
       "    </tr>\n",
       "    <tr>\n",
       "      <th>7</th>\n",
       "      <td>[dobiti, novinar, RTV, slo., treba, upati, problem, družba, komunističen, kazati]</td>\n",
       "      <td>[slovenski, treba, zdravstven, kultura, narod, zgodba, zdeti, spleten, delavec, poslušati]</td>\n",
       "      <td>0.428529</td>\n",
       "    </tr>\n",
       "    <tr>\n",
       "      <th>8</th>\n",
       "      <td>[protest, hvala, današnji, levičar, pogledati, vojska, podpora, boj, aplikacija, mogoč]</td>\n",
       "      <td>[javen, Ljubljana, RTV, denar, hvala, zakon, današnji, zanimiv, živeti, seja]</td>\n",
       "      <td>0.428447</td>\n",
       "    </tr>\n",
       "    <tr>\n",
       "      <th>9</th>\n",
       "      <td>[povedati, priti, Slovenec, misliti, praviti, državljan, ostati, narod, potreben, Šarec]</td>\n",
       "      <td>[Slovenec, Evropa, zgodovina, vprašati, mogoč, začetek, uspeti, žrtev, prejšnji, početi]</td>\n",
       "      <td>0.423543</td>\n",
       "    </tr>\n",
       "    <tr>\n",
       "      <th>10</th>\n",
       "      <td>[iti, zato, reči, narediti, volitev, via, lev, evro, naprej, živeti]</td>\n",
       "      <td>[stranka, poslanec, praviti, lev, levica, milijon, evro, zdravnik, vojska, član]</td>\n",
       "      <td>0.415096</td>\n",
       "    </tr>\n",
       "    <tr>\n",
       "      <th>11</th>\n",
       "      <td>[mesto, sodišče, občina, levica, smrt, kultura, ustaven, laž, svetoven, hiša]</td>\n",
       "      <td>[najbolj, sodišče, govoriti, naprej, najti, ZDA, zgoditi, ustaven, slišati, novica]</td>\n",
       "      <td>0.408376</td>\n",
       "    </tr>\n",
       "    <tr>\n",
       "      <th>12</th>\n",
       "      <td>[milijon, podjetje, vojna, zaščiten, zdeti, sprejeti, zadeva, končno, oprema, poročilo]</td>\n",
       "      <td>[pomoč, občina, oseba, dom, prebrati, spomniti, končno, hiša, ženska, tehničen]</td>\n",
       "      <td>0.397034</td>\n",
       "    </tr>\n",
       "    <tr>\n",
       "      <th>13</th>\n",
       "      <td>[dr., govoriti, pisati, beseda, izjava, število, mlad, napad, ime, zgoditi]</td>\n",
       "      <td>[dr., teden, podpora, napad, Rtv, hud, intervju, odličen, zaposlen, aplikacija]</td>\n",
       "      <td>0.359359</td>\n",
       "    </tr>\n",
       "    <tr>\n",
       "      <th>14</th>\n",
       "      <td>[ura, teden, pravica, komunist, čakati, verjeti, naslednji, mnenje, policist, čestitka]</td>\n",
       "      <td>[medij, maska, novinar, konec, via, oblast, levičar, rdeč, naslednji, resnica]</td>\n",
       "      <td>0.355679</td>\n",
       "    </tr>\n",
       "  </tbody>\n",
       "</table>\n",
       "</div>"
      ],
      "text/plain": [
       "                                                                          topic_model_1_topics  \\\n",
       "0                 [imeti, vedeti, maska, delati, videti, dati, otrok, denar, začeti, razumeti]   \n",
       "1                 [nov, okužba, gledati, zakon, rdeč, zanimiv, večina, okužen, seja, medijski]   \n",
       "2           [Slovenija, vlada, človek, država, čas, minister, predsednik, covid, ukrep, medij]   \n",
       "3   [slovenski, evropski, skupaj, roka, zgodovina, slišati, družina, pogovor, poznati, glaven]   \n",
       "4      [meja, oddaja, zdravnik, služba, direktor, pot, predstavljati, Maribor, razmera, račun]   \n",
       "5      [svet, stranka, Ljubljana, pomoč, poslanec, vprašanje, Evropa, skupina, oseba, prositi]   \n",
       "6        [državen, najbolj, konec, virus, podatek, potrebovati, zgodba, znati, knjiga, ženska]   \n",
       "7            [dobiti, novinar, RTV, slo., treba, upati, problem, družba, komunističen, kazati]   \n",
       "8      [protest, hvala, današnji, levičar, pogledati, vojska, podpora, boj, aplikacija, mogoč]   \n",
       "9     [povedati, priti, Slovenec, misliti, praviti, državljan, ostati, narod, potreben, Šarec]   \n",
       "10                        [iti, zato, reči, narediti, volitev, via, lev, evro, naprej, živeti]   \n",
       "11               [mesto, sodišče, občina, levica, smrt, kultura, ustaven, laž, svetoven, hiša]   \n",
       "12     [milijon, podjetje, vojna, zaščiten, zdeti, sprejeti, zadeva, končno, oprema, poročilo]   \n",
       "13                 [dr., govoriti, pisati, beseda, izjava, število, mlad, napad, ime, zgoditi]   \n",
       "14     [ura, teden, pravica, komunist, čakati, verjeti, naslednji, mnenje, policist, čestitka]   \n",
       "\n",
       "                                                                          topic_model_2_topics  \\\n",
       "0                   [imeti, iti, človek, država, čas, vedeti, svet, delati, političen, videti]   \n",
       "1     [Slovenija, nov, covid, koronavirus, mesto, evropski, okužba, pomemben, okužen, število]   \n",
       "2          [vlada, minister, predsednik, Janša, priti, državen, protest, policija, Janez, del]   \n",
       "3              [dati, ura, gledati, oddaja, pogledati, beseda, knjiga, pogovor, glaven, letos]   \n",
       "4         [delo, verjeti, izjava, služba, prispevek, stanje, odločitev, cesta, Maribor, pasti]   \n",
       "5   [ukrep, epidemija, narediti, virus, vprašanje, pravica, opozicija, skupina, jasen, družba]   \n",
       "6          [politika, slo., smrt, komunist, podatek, znati, slika, račun, javno, organizacija]   \n",
       "7   [slovenski, treba, zdravstven, kultura, narod, zgodba, zdeti, spleten, delavec, poslušati]   \n",
       "8                [javen, Ljubljana, RTV, denar, hvala, zakon, današnji, zanimiv, živeti, seja]   \n",
       "9     [Slovenec, Evropa, zgodovina, vprašati, mogoč, začetek, uspeti, žrtev, prejšnji, početi]   \n",
       "10            [stranka, poslanec, praviti, lev, levica, milijon, evro, zdravnik, vojska, član]   \n",
       "11         [najbolj, sodišče, govoriti, naprej, najti, ZDA, zgoditi, ustaven, slišati, novica]   \n",
       "12             [pomoč, občina, oseba, dom, prebrati, spomniti, končno, hiša, ženska, tehničen]   \n",
       "13             [dr., teden, podpora, napad, Rtv, hud, intervju, odličen, zaposlen, aplikacija]   \n",
       "14              [medij, maska, novinar, konec, via, oblast, levičar, rdeč, naslednji, resnica]   \n",
       "\n",
       "    similarity  \n",
       "0     0.599349  \n",
       "1     0.507315  \n",
       "2     0.502908  \n",
       "3     0.460077  \n",
       "4     0.454858  \n",
       "5     0.450106  \n",
       "6     0.445046  \n",
       "7     0.428529  \n",
       "8     0.428447  \n",
       "9     0.423543  \n",
       "10    0.415096  \n",
       "11    0.408376  \n",
       "12    0.397034  \n",
       "13    0.359359  \n",
       "14    0.355679  "
      ]
     },
     "execution_count": 85,
     "metadata": {},
     "output_type": "execute_result"
    }
   ],
   "source": [
    "topic_matchings, score = get_maximum_topic_matching(topic_words_LDA_1, topic_words_LDA_2, \"fasttext\", embedding_function=get_fasttext_embedding, fasttext_model=ft)\n",
    "\n",
    "print(score)\n",
    "pd.DataFrame(topic_matchings, columns=[\"topic_model_1_topics\", \"topic_model_2_topics\", \"similarity\"])\n"
   ]
  },
  {
   "cell_type": "code",
   "execution_count": 86,
   "metadata": {},
   "outputs": [
    {
     "name": "stdout",
     "output_type": "stream",
     "text": [
      "0.10232443854734874\n"
     ]
    },
    {
     "data": {
      "text/html": [
       "<div>\n",
       "<style scoped>\n",
       "    .dataframe tbody tr th:only-of-type {\n",
       "        vertical-align: middle;\n",
       "    }\n",
       "\n",
       "    .dataframe tbody tr th {\n",
       "        vertical-align: top;\n",
       "    }\n",
       "\n",
       "    .dataframe thead th {\n",
       "        text-align: right;\n",
       "    }\n",
       "</style>\n",
       "<table border=\"1\" class=\"dataframe\">\n",
       "  <thead>\n",
       "    <tr style=\"text-align: right;\">\n",
       "      <th></th>\n",
       "      <th>topic_model_1_topics</th>\n",
       "      <th>topic_model_2_topics</th>\n",
       "      <th>similarity</th>\n",
       "    </tr>\n",
       "  </thead>\n",
       "  <tbody>\n",
       "    <tr>\n",
       "      <th>0</th>\n",
       "      <td>[imeti, vlada, nov, človek, iti, država, predsednik, minister, čas, vedeti]</td>\n",
       "      <td>[imeti, iti, človek, država, čas, vedeti, svet, delati, političen, videti]</td>\n",
       "      <td>0.428571</td>\n",
       "    </tr>\n",
       "    <tr>\n",
       "      <th>1</th>\n",
       "      <td>[epidemija, okužba, okužen, število, covid, ukrep, nov, čas, vlada, okužiti]</td>\n",
       "      <td>[Slovenija, nov, covid, koronavirus, mesto, evropski, okužba, pomemben, okužen, število]</td>\n",
       "      <td>0.333333</td>\n",
       "    </tr>\n",
       "    <tr>\n",
       "      <th>2</th>\n",
       "      <td>[koronavirus, virus, okužba, nov, ukrep, širjenje, epidemija, covid, korona, koronavirusa]</td>\n",
       "      <td>[ukrep, epidemija, narediti, virus, vprašanje, pravica, opozicija, skupina, jasen, družba]</td>\n",
       "      <td>0.176471</td>\n",
       "    </tr>\n",
       "    <tr>\n",
       "      <th>3</th>\n",
       "      <td>[slovenija, slovenski, slovenec, ljubljana, imeti, vlada, država, hrvaški, narod, janša]</td>\n",
       "      <td>[slovenski, treba, zdravstven, kultura, narod, zgodba, zdeti, spleten, delavec, poslušati]</td>\n",
       "      <td>0.111111</td>\n",
       "    </tr>\n",
       "    <tr>\n",
       "      <th>4</th>\n",
       "      <td>[novinar, medij, medijski, novinarka, novinarski, novinarstvo, slovenski, slovenija, rtv, konferenca]</td>\n",
       "      <td>[medij, maska, novinar, konec, via, oblast, levičar, rdeč, naslednji, resnica]</td>\n",
       "      <td>0.111111</td>\n",
       "    </tr>\n",
       "    <tr>\n",
       "      <th>5</th>\n",
       "      <td>[opozicija, političen, stranka, koalicija, politik, politika, opozicijski, koalicijski, vlada, levica]</td>\n",
       "      <td>[stranka, poslanec, praviti, lev, levica, milijon, evro, zdravnik, vojska, član]</td>\n",
       "      <td>0.111111</td>\n",
       "    </tr>\n",
       "    <tr>\n",
       "      <th>6</th>\n",
       "      <td>[evro, denar, eur, plača, milijon, plačati, podjetje, proračun, plačevati, dobiti]</td>\n",
       "      <td>[javen, Ljubljana, RTV, denar, hvala, zakon, današnji, zanimiv, živeti, seja]</td>\n",
       "      <td>0.052632</td>\n",
       "    </tr>\n",
       "    <tr>\n",
       "      <th>7</th>\n",
       "      <td>[otrok, šola, učitelj, starš, šolski, družina, mama, mlad, delo, zaposlitev]</td>\n",
       "      <td>[delo, verjeti, izjava, služba, prispevek, stanje, odločitev, cesta, Maribor, pasti]</td>\n",
       "      <td>0.052632</td>\n",
       "    </tr>\n",
       "    <tr>\n",
       "      <th>8</th>\n",
       "      <td>[protest, protestnik, kolesar, protestirati, petkov, kolesarski, kolesariti, kolesarjenje, kolo, organizator]</td>\n",
       "      <td>[vlada, minister, predsednik, Janša, priti, državen, protest, policija, Janez, del]</td>\n",
       "      <td>0.052632</td>\n",
       "    </tr>\n",
       "    <tr>\n",
       "      <th>9</th>\n",
       "      <td>[policija, policist, policijski, policaj, ura, imeti, sindikat, slovenski, delo, npu]</td>\n",
       "      <td>[dati, ura, gledati, oddaja, pogledati, beseda, knjiga, pogovor, glaven, letos]</td>\n",
       "      <td>0.052632</td>\n",
       "    </tr>\n",
       "    <tr>\n",
       "      <th>10</th>\n",
       "      <td>[cerkev, bog, papež, janez, jezus, molitev, občina, verski, svet, katoliški]</td>\n",
       "      <td>[pomoč, občina, oseba, dom, prebrati, spomniti, končno, hiša, ženska, tehničen]</td>\n",
       "      <td>0.052632</td>\n",
       "    </tr>\n",
       "    <tr>\n",
       "      <th>11</th>\n",
       "      <td>[zdravnik, zdravstven, zdravstvo, dr, bolnišnica, zdravje, ventilator, medicinski, covid, bolnik]</td>\n",
       "      <td>[politika, slo., smrt, komunist, podatek, znati, slika, račun, javno, organizacija]</td>\n",
       "      <td>0.000000</td>\n",
       "    </tr>\n",
       "    <tr>\n",
       "      <th>12</th>\n",
       "      <td>[maska, nositi, nošenje, zaščiten, obvezen, imeti, nos, prostor, uporaba, zaprt]</td>\n",
       "      <td>[najbolj, sodišče, govoriti, naprej, najti, ZDA, zgoditi, ustaven, slišati, novica]</td>\n",
       "      <td>0.000000</td>\n",
       "    </tr>\n",
       "    <tr>\n",
       "      <th>13</th>\n",
       "      <td>[tekma, šport, športen, športnik, sezona, zmaga, nogomet, prvenstvo, prvak, ekipa]</td>\n",
       "      <td>[dr., teden, podpora, napad, Rtv, hud, intervju, odličen, zaposlen, aplikacija]</td>\n",
       "      <td>0.000000</td>\n",
       "    </tr>\n",
       "    <tr>\n",
       "      <th>14</th>\n",
       "      <td>[twitter, tvit, facebook, tweet, tw, tvitati, twit, profil, omrežje, retvitati]</td>\n",
       "      <td>[Slovenec, Evropa, zgodovina, vprašati, mogoč, začetek, uspeti, žrtev, prejšnji, početi]</td>\n",
       "      <td>0.000000</td>\n",
       "    </tr>\n",
       "  </tbody>\n",
       "</table>\n",
       "</div>"
      ],
      "text/plain": [
       "                                                                                             topic_model_1_topics  \\\n",
       "0                                     [imeti, vlada, nov, človek, iti, država, predsednik, minister, čas, vedeti]   \n",
       "1                                    [epidemija, okužba, okužen, število, covid, ukrep, nov, čas, vlada, okužiti]   \n",
       "2                      [koronavirus, virus, okužba, nov, ukrep, širjenje, epidemija, covid, korona, koronavirusa]   \n",
       "3                        [slovenija, slovenski, slovenec, ljubljana, imeti, vlada, država, hrvaški, narod, janša]   \n",
       "4           [novinar, medij, medijski, novinarka, novinarski, novinarstvo, slovenski, slovenija, rtv, konferenca]   \n",
       "5          [opozicija, političen, stranka, koalicija, politik, politika, opozicijski, koalicijski, vlada, levica]   \n",
       "6                              [evro, denar, eur, plača, milijon, plačati, podjetje, proračun, plačevati, dobiti]   \n",
       "7                                    [otrok, šola, učitelj, starš, šolski, družina, mama, mlad, delo, zaposlitev]   \n",
       "8   [protest, protestnik, kolesar, protestirati, petkov, kolesarski, kolesariti, kolesarjenje, kolo, organizator]   \n",
       "9                           [policija, policist, policijski, policaj, ura, imeti, sindikat, slovenski, delo, npu]   \n",
       "10                                   [cerkev, bog, papež, janez, jezus, molitev, občina, verski, svet, katoliški]   \n",
       "11              [zdravnik, zdravstven, zdravstvo, dr, bolnišnica, zdravje, ventilator, medicinski, covid, bolnik]   \n",
       "12                               [maska, nositi, nošenje, zaščiten, obvezen, imeti, nos, prostor, uporaba, zaprt]   \n",
       "13                             [tekma, šport, športen, športnik, sezona, zmaga, nogomet, prvenstvo, prvak, ekipa]   \n",
       "14                                [twitter, tvit, facebook, tweet, tw, tvitati, twit, profil, omrežje, retvitati]   \n",
       "\n",
       "                                                                          topic_model_2_topics  \\\n",
       "0                   [imeti, iti, človek, država, čas, vedeti, svet, delati, političen, videti]   \n",
       "1     [Slovenija, nov, covid, koronavirus, mesto, evropski, okužba, pomemben, okužen, število]   \n",
       "2   [ukrep, epidemija, narediti, virus, vprašanje, pravica, opozicija, skupina, jasen, družba]   \n",
       "3   [slovenski, treba, zdravstven, kultura, narod, zgodba, zdeti, spleten, delavec, poslušati]   \n",
       "4               [medij, maska, novinar, konec, via, oblast, levičar, rdeč, naslednji, resnica]   \n",
       "5             [stranka, poslanec, praviti, lev, levica, milijon, evro, zdravnik, vojska, član]   \n",
       "6                [javen, Ljubljana, RTV, denar, hvala, zakon, današnji, zanimiv, živeti, seja]   \n",
       "7         [delo, verjeti, izjava, služba, prispevek, stanje, odločitev, cesta, Maribor, pasti]   \n",
       "8          [vlada, minister, predsednik, Janša, priti, državen, protest, policija, Janez, del]   \n",
       "9              [dati, ura, gledati, oddaja, pogledati, beseda, knjiga, pogovor, glaven, letos]   \n",
       "10             [pomoč, občina, oseba, dom, prebrati, spomniti, končno, hiša, ženska, tehničen]   \n",
       "11         [politika, slo., smrt, komunist, podatek, znati, slika, račun, javno, organizacija]   \n",
       "12         [najbolj, sodišče, govoriti, naprej, najti, ZDA, zgoditi, ustaven, slišati, novica]   \n",
       "13             [dr., teden, podpora, napad, Rtv, hud, intervju, odličen, zaposlen, aplikacija]   \n",
       "14    [Slovenec, Evropa, zgodovina, vprašati, mogoč, začetek, uspeti, žrtev, prejšnji, početi]   \n",
       "\n",
       "    similarity  \n",
       "0     0.428571  \n",
       "1     0.333333  \n",
       "2     0.176471  \n",
       "3     0.111111  \n",
       "4     0.111111  \n",
       "5     0.111111  \n",
       "6     0.052632  \n",
       "7     0.052632  \n",
       "8     0.052632  \n",
       "9     0.052632  \n",
       "10    0.052632  \n",
       "11    0.000000  \n",
       "12    0.000000  \n",
       "13    0.000000  \n",
       "14    0.000000  "
      ]
     },
     "execution_count": 86,
     "metadata": {},
     "output_type": "execute_result"
    }
   ],
   "source": [
    "topic_matchings, score = get_maximum_topic_matching(topic_words_BERTopic_1, topic_words_LDA_2, \"jaccard\", embedding_function=None)\n",
    "print(score)\n",
    "pd.DataFrame(topic_matchings, columns=[\"topic_model_1_topics\", \"topic_model_2_topics\", \"similarity\"])\n",
    "\n"
   ]
  }
 ],
 "metadata": {
  "kernelspec": {
   "display_name": "Python 3",
   "language": "python",
   "name": "python3"
  },
  "language_info": {
   "codemirror_mode": {
    "name": "ipython",
    "version": 3
   },
   "file_extension": ".py",
   "mimetype": "text/x-python",
   "name": "python",
   "nbconvert_exporter": "python",
   "pygments_lexer": "ipython3",
   "version": "3.6.9 (default, Nov 25 2022, 14:10:45) \n[GCC 8.4.0]"
  },
  "orig_nbformat": 4,
  "vscode": {
   "interpreter": {
    "hash": "31f2aee4e71d21fbe5cf8b01ff0e069b9275f58929596ceb00d14d90e3e16cd6"
   }
  }
 },
 "nbformat": 4,
 "nbformat_minor": 2
}
