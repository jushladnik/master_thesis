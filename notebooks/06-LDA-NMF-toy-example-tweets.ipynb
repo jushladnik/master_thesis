{
 "cells": [
  {
   "cell_type": "code",
   "execution_count": 3,
   "id": "6aeb28d4-7d7f-4901-b231-4c427584f7a7",
   "metadata": {
    "pycharm": {
     "name": "#%%\n"
    }
   },
   "outputs": [],
   "source": [
    "import pandas as pd\n",
    "\n",
    "import nltk\n",
    "\n",
    "import classla\n",
    "import gensim\n",
    "from gensim.utils import simple_preprocess\n",
    "\n",
    "from utils import classla_lemmatize, preprocess_text, preprocess_and_lemmatize_news, preprocess_and_lemmatize_tweets\n",
    "SEED = 42\n",
    "ROOT_PATH = \"/home/jhladnik\"\n",
    "\n",
    "\n",
    "#classla.download('sl')        # download non-standard models for Slovenian, use hr for Croatian and sr for Serbian\n",
    "#classla.download('sl', type='nonstandard')        # download non-standard models for Slovenian, use hr for Croatian and sr for Serbian\n",
    "\n",
    "#nltk.download('stopwords')\n",
    "#nltk.download('punkt')\n",
    "#nltk.download('wordnet')"
   ]
  },
  {
   "cell_type": "markdown",
   "id": "db4c6bbe-67a8-4e72-a7a1-9af49d26309a",
   "metadata": {
    "pycharm": {
     "name": "#%% md\n"
    }
   },
   "source": [
    "## select data that we will work with"
   ]
  },
  {
   "cell_type": "code",
   "execution_count": 2,
   "id": "4e866be8-b3ff-4e7a-970c-1d91525b5424",
   "metadata": {
    "pycharm": {
     "name": "#%%\n"
    }
   },
   "outputs": [
    {
     "name": "stdout",
     "output_type": "stream",
     "text": [
      "CPU times: user 20.1 s, sys: 7.15 s, total: 27.2 s\n",
      "Wall time: 23.3 s\n"
     ]
    }
   ],
   "source": [
    "%%time\n",
    "# 12mio tweets\n",
    "df_all = pd.read_parquet(\n",
    "     f'{ROOT_PATH}/data/sl-tweets/df_sl_tweets_21.parquet.gzip')\n",
    "\n",
    "NUM_SAMPLES = 5000\n",
    "df = df_all.sample(NUM_SAMPLES, random_state=SEED)"
   ]
  },
  {
   "attachments": {},
   "cell_type": "markdown",
   "id": "8b68ea85",
   "metadata": {
    "collapsed": false,
    "pycharm": {
     "name": "#%% md\n"
    }
   },
   "source": [
    "## preprocess text, tokenize and lemmatize if needed"
   ]
  },
  {
   "cell_type": "code",
   "execution_count": 8,
   "id": "3d964e1c",
   "metadata": {},
   "outputs": [
    {
     "name": "stderr",
     "output_type": "stream",
     "text": [
      "2023-01-14 20:48:02 INFO: Loading these models for language: sl (Slovenian):\n",
      "===========================\n",
      "| Processor | Package     |\n",
      "---------------------------\n",
      "| tokenize  | nonstandard |\n",
      "| pos       | nonstandard |\n",
      "| lemma     | nonstandard |\n",
      "===========================\n",
      "\n",
      "2023-01-14 20:48:02 INFO: Use device: gpu\n",
      "2023-01-14 20:48:02 INFO: Loading: tokenize\n",
      "2023-01-14 20:48:02 INFO: Loading: pos\n",
      "2023-01-14 20:48:03 INFO: Loading: lemma\n",
      "2023-01-14 20:48:05 INFO: Done loading processors!\n"
     ]
    }
   ],
   "source": [
    "df = preprocess_and_lemmatize_tweets(df)\n"
   ]
  },
  {
   "cell_type": "code",
   "execution_count": 10,
   "id": "7b73e545",
   "metadata": {},
   "outputs": [],
   "source": [
    "# save preprocessed df\n",
    "df.to_parquet(\n",
    "    f'{ROOT_PATH}/data/sl-tweets/df_tweets_lemmas_{NUM_SAMPLES}.parquet.gzip', compression='gzip')"
   ]
  },
  {
   "cell_type": "code",
   "execution_count": 5,
   "id": "26dc3dde",
   "metadata": {
    "collapsed": false,
    "pycharm": {
     "name": "#%%\n"
    }
   },
   "outputs": [],
   "source": []
  },
  {
   "cell_type": "code",
   "execution_count": 8,
   "id": "953fd0f4",
   "metadata": {
    "collapsed": false,
    "pycharm": {
     "name": "#%%\n"
    }
   },
   "outputs": [],
   "source": []
  },
  {
   "cell_type": "markdown",
   "id": "7dc02625",
   "metadata": {
    "collapsed": false,
    "pycharm": {
     "name": "#%% md\n"
    }
   },
   "source": [
    "## LDA on preprocessed data"
   ]
  },
  {
   "cell_type": "code",
   "execution_count": 6,
   "id": "c81f35fe",
   "metadata": {},
   "outputs": [],
   "source": [
    "from gensim.corpora import Dictionary\n",
    "NUM_SAMPLES = 50000\n",
    "df = pd.read_parquet(\n",
    "    f'{ROOT_PATH}/data/sl-tweets/df_tweets_lemmas_{NUM_SAMPLES}.parquet.gzip')\n",
    "\n",
    "dictionary = Dictionary(list(df['lemmatized_text']))\n",
    "corpus = [dictionary.doc2bow(text) for text in list(df['lemmatized_text'])]\n"
   ]
  },
  {
   "cell_type": "code",
   "execution_count": 7,
   "id": "0eb42943",
   "metadata": {
    "collapsed": false,
    "pycharm": {
     "name": "#%%\n"
    }
   },
   "outputs": [
    {
     "name": "stdout",
     "output_type": "stream",
     "text": [
      "CPU times: user 2min 13s, sys: 74.1 ms, total: 2min 13s\n",
      "Wall time: 2min 13s\n"
     ]
    }
   ],
   "source": [
    "%%time\n",
    "# Set training parameters.\n",
    "num_topics = 6\n",
    "chunksize = 2000\n",
    "passes = 20\n",
    "iterations = 400\n",
    "eval_every = None  # Don't evaluate model perplexity, takes too much time.\n",
    "\n",
    "# Make an index to word dictionary.\n",
    "temp = dictionary[0]  # This is only to \"load\" the dictionary.\n",
    "id2word = dictionary.id2token\n",
    "\n",
    "trained_model = gensim.models.ldamodel.LdaModel(\n",
    "    corpus=corpus,\n",
    "    id2word=id2word,\n",
    "    chunksize=chunksize,\n",
    "    alpha='auto',\n",
    "    eta='auto',\n",
    "    iterations=iterations,\n",
    "    num_topics=num_topics,\n",
    "    passes=passes,\n",
    "    eval_every=eval_every\n",
    ")"
   ]
  },
  {
   "cell_type": "code",
   "execution_count": 8,
   "id": "a423ce94",
   "metadata": {},
   "outputs": [
    {
     "data": {
      "text/plain": [
       "[('otrok', 0.020536497),\n",
       " ('šola', 0.012518178),\n",
       " ('cepljen', 0.011422472),\n",
       " ('cepiti', 0.010966514),\n",
       " ('maska', 0.008195595),\n",
       " ('rabiti', 0.0064248904),\n",
       " ('zdravnik', 0.0053547383),\n",
       " ('pasti', 0.005289468),\n",
       " ('hoditi', 0.004824069),\n",
       " ('nizek', 0.004500182),\n",
       " ('necepljen', 0.00438563),\n",
       " ('stroka', 0.0039608893),\n",
       " ('nositi', 0.0038669962),\n",
       " ('mama', 0.0037705293),\n",
       " ('organizacija', 0.003659485),\n",
       " ('cesta', 0.0036273156),\n",
       " ('pismo', 0.003429225),\n",
       " ('super', 0.0034016853),\n",
       " ('testiranje', 0.0033228688),\n",
       " ('premier', 0.0033098867),\n",
       " ('avto', 0.0032160825),\n",
       " ('mati', 0.002968089),\n",
       " ('žena', 0.0029330377),\n",
       " ('mali', 0.0028669166),\n",
       " ('zapis', 0.0027867146)]"
      ]
     },
     "execution_count": 8,
     "metadata": {},
     "output_type": "execute_result"
    }
   ],
   "source": [
    "trained_model.show_topic(1, topn=25)\n"
   ]
  },
  {
   "cell_type": "code",
   "execution_count": 9,
   "id": "89488af0",
   "metadata": {},
   "outputs": [
    {
     "data": {
      "text/plain": [
       "[['covid',\n",
       "  'cepljenje',\n",
       "  'cepivo',\n",
       "  'ukrep',\n",
       "  'teden',\n",
       "  'Ljubljana',\n",
       "  'protest',\n",
       "  'virus',\n",
       "  'policija',\n",
       "  'epidemija',\n",
       "  'okužba',\n",
       "  'oddaja',\n",
       "  'oseba',\n",
       "  'direktor',\n",
       "  'umreti',\n",
       "  'zdravje',\n",
       "  'skrbeti',\n",
       "  'zdravstven',\n",
       "  'svetoven',\n",
       "  'popolnoma',\n",
       "  'starš',\n",
       "  'obvezen',\n",
       "  'zdrav',\n",
       "  'dogajati',\n",
       "  'pamet'],\n",
       " ['otrok',\n",
       "  'šola',\n",
       "  'cepljen',\n",
       "  'cepiti',\n",
       "  'maska',\n",
       "  'rabiti',\n",
       "  'zdravnik',\n",
       "  'pasti',\n",
       "  'hoditi',\n",
       "  'nizek',\n",
       "  'necepljen',\n",
       "  'stroka',\n",
       "  'nositi',\n",
       "  'mama',\n",
       "  'organizacija',\n",
       "  'cesta',\n",
       "  'pismo',\n",
       "  'super',\n",
       "  'testiranje',\n",
       "  'premier',\n",
       "  'avto',\n",
       "  'mati',\n",
       "  'žena',\n",
       "  'mali',\n",
       "  'zapis'],\n",
       " ['Slovenija',\n",
       "  'minister',\n",
       "  'zakon',\n",
       "  'evropski',\n",
       "  'denar',\n",
       "  'ura',\n",
       "  'jasen',\n",
       "  'najti',\n",
       "  'hud',\n",
       "  'voda',\n",
       "  'narod',\n",
       "  'postati',\n",
       "  'plača',\n",
       "  'rdeč',\n",
       "  'test',\n",
       "  'vesel',\n",
       "  'Evropa',\n",
       "  'družba',\n",
       "  'dejstvo',\n",
       "  'sistem',\n",
       "  'zgodovina',\n",
       "  'glaven',\n",
       "  'komunističen',\n",
       "  'podjetje',\n",
       "  'predstavljati'],\n",
       " ['pisati',\n",
       "  'a',\n",
       "  'svoboda',\n",
       "  'skupina',\n",
       "  'milijon',\n",
       "  'zdeti',\n",
       "  'video',\n",
       "  'slika',\n",
       "  'evro',\n",
       "  'uspeti',\n",
       "  'kupiti',\n",
       "  'spomniti',\n",
       "  'račun',\n",
       "  'napad',\n",
       "  'sramota',\n",
       "  'cena',\n",
       "  'članek',\n",
       "  'hiša',\n",
       "  'ZDA',\n",
       "  'knjiga',\n",
       "  'motiti',\n",
       "  'govor',\n",
       "  'fašizem',\n",
       "  'Twitter',\n",
       "  'odpreti'],\n",
       " ['imeti',\n",
       "  'iti',\n",
       "  'vlada',\n",
       "  'človek',\n",
       "  'vedeti',\n",
       "  'nov',\n",
       "  'država',\n",
       "  'slovenski',\n",
       "  'čas',\n",
       "  'delati',\n",
       "  'videti',\n",
       "  'dati',\n",
       "  'predsednik',\n",
       "  'svet',\n",
       "  'reči',\n",
       "  'zato',\n",
       "  'priti',\n",
       "  'povedati',\n",
       "  'stranka',\n",
       "  'dobiti',\n",
       "  'medij',\n",
       "  'Janša',\n",
       "  'misliti',\n",
       "  'narediti',\n",
       "  'delo'],\n",
       " ['državen',\n",
       "  'opozicija',\n",
       "  'ženska',\n",
       "  'pct',\n",
       "  'pogoj',\n",
       "  'seja',\n",
       "  'vseeno',\n",
       "  'zmaga',\n",
       "  'sredstvo',\n",
       "  'red',\n",
       "  'komisija',\n",
       "  'sprememba',\n",
       "  'prispevek',\n",
       "  'Fajon',\n",
       "  'pogodba',\n",
       "  'zmagati',\n",
       "  'močen',\n",
       "  'nujen',\n",
       "  'davek',\n",
       "  'Tanja',\n",
       "  'preveriti',\n",
       "  'moški',\n",
       "  'načrt',\n",
       "  'gospodarstvo',\n",
       "  'postopek']]"
      ]
     },
     "execution_count": 9,
     "metadata": {},
     "output_type": "execute_result"
    }
   ],
   "source": [
    "from evaluation import get_top_words_for_topics_lda, topic_diversity\n",
    "\n",
    "topics_representations = get_top_words_for_topics_lda(trained_model, 25)\n",
    "topics_representations"
   ]
  },
  {
   "cell_type": "code",
   "execution_count": null,
   "id": "ae434c3d",
   "metadata": {},
   "outputs": [],
   "source": []
  },
  {
   "cell_type": "markdown",
   "id": "cd554c37",
   "metadata": {},
   "source": [
    "### calculate topic diversity"
   ]
  },
  {
   "cell_type": "code",
   "execution_count": 10,
   "id": "abb69c44",
   "metadata": {},
   "outputs": [
    {
     "data": {
      "text/plain": [
       "1.0"
      ]
     },
     "execution_count": 10,
     "metadata": {},
     "output_type": "execute_result"
    }
   ],
   "source": [
    "\n",
    "\n",
    "topic_diversity(topics_representations, 25)"
   ]
  },
  {
   "cell_type": "code",
   "execution_count": null,
   "id": "4f092102",
   "metadata": {},
   "outputs": [],
   "source": []
  },
  {
   "attachments": {},
   "cell_type": "markdown",
   "id": "590d51c7",
   "metadata": {},
   "source": [
    "### calculate topic coherence\n"
   ]
  },
  {
   "cell_type": "code",
   "execution_count": 14,
   "id": "0dcbf8d6",
   "metadata": {},
   "outputs": [],
   "source": [
    "from gensim.models import CoherenceModel\n"
   ]
  },
  {
   "cell_type": "code",
   "execution_count": 12,
   "id": "88b3245a",
   "metadata": {},
   "outputs": [
    {
     "data": {
      "text/plain": [
       "-0.08182563200260287"
      ]
     },
     "execution_count": 12,
     "metadata": {},
     "output_type": "execute_result"
    }
   ],
   "source": [
    "def topic_coherence(trained_model, topic_top_words, top_k_words=25):\n",
    "    if topic_top_words is None:\n",
    "        return -1\n",
    "    \n",
    "    if top_k_words > len(topic_top_words[0]):\n",
    "        print(\"top_k_words is larger than the number of words in the topic\")\n",
    "        return -1\n",
    "\n",
    "    coherence_model_lda = CoherenceModel(\n",
    "        topics=topic_top_words,\n",
    "        texts=list(df['lemmatized_text']),\n",
    "        dictionary=Dictionary(list(df['lemmatized_text'])),\n",
    "        coherence='c_npmi',\n",
    "        topn=top_k_words)\n",
    "\n",
    "    return coherence_model_lda.get_coherence()\n",
    "\n",
    "topic_coherence(trained_model, topics_representations, top_k_words=10)"
   ]
  },
  {
   "cell_type": "code",
   "execution_count": 15,
   "id": "93455181",
   "metadata": {
    "collapsed": false,
    "pycharm": {
     "name": "#%%\n"
    }
   },
   "outputs": [
    {
     "name": "stdout",
     "output_type": "stream",
     "text": [
      "(0, '0.013*\"covid\" + 0.012*\"cepljenje\" + 0.009*\"cepivo\" + 0.009*\"ukrep\" + 0.008*\"teden\" + 0.008*\"Ljubljana\" + 0.008*\"protest\" + 0.007*\"virus\" + 0.006*\"policija\" + 0.006*\"epidemija\"')\n",
      "(1, '0.021*\"otrok\" + 0.013*\"šola\" + 0.011*\"cepljen\" + 0.011*\"cepiti\" + 0.008*\"maska\" + 0.006*\"rabiti\" + 0.005*\"zdravnik\" + 0.005*\"pasti\" + 0.005*\"hoditi\" + 0.005*\"nizek\"')\n",
      "(2, '0.030*\"Slovenija\" + 0.011*\"minister\" + 0.009*\"zakon\" + 0.007*\"evropski\" + 0.007*\"denar\" + 0.006*\"ura\" + 0.006*\"jasen\" + 0.005*\"najti\" + 0.005*\"hud\" + 0.005*\"voda\"')\n",
      "(3, '0.011*\"pisati\" + 0.006*\"a\" + 0.006*\"svoboda\" + 0.006*\"skupina\" + 0.006*\"milijon\" + 0.005*\"zdeti\" + 0.005*\"video\" + 0.005*\"slika\" + 0.005*\"evro\" + 0.005*\"uspeti\"')\n",
      "(4, '0.034*\"imeti\" + 0.016*\"iti\" + 0.014*\"vlada\" + 0.014*\"človek\" + 0.013*\"vedeti\" + 0.010*\"nov\" + 0.009*\"država\" + 0.008*\"slovenski\" + 0.008*\"čas\" + 0.007*\"delati\"')\n",
      "(5, '0.013*\"državen\" + 0.008*\"opozicija\" + 0.006*\"ženska\" + 0.005*\"pct\" + 0.005*\"pogoj\" + 0.005*\"seja\" + 0.005*\"vseeno\" + 0.004*\"zmaga\" + 0.004*\"sredstvo\" + 0.004*\"red\"')\n"
     ]
    }
   ],
   "source": [
    "topics = trained_model.print_topics(num_words=10)\n",
    "for topic in topics:\n",
    "    print(topic)"
   ]
  },
  {
   "cell_type": "code",
   "execution_count": 16,
   "id": "eb8c4455",
   "metadata": {
    "collapsed": false,
    "pycharm": {
     "name": "#%%\n"
    }
   },
   "outputs": [
    {
     "name": "stderr",
     "output_type": "stream",
     "text": [
      "/home/jhladnik/.miniconda3/envs/testenv/lib/python3.9/site-packages/pyLDAvis/_prepare.py:246: FutureWarning: In a future version of pandas all arguments of DataFrame.drop except for the argument 'labels' will be keyword-only.\n",
      "  default_term_info = default_term_info.sort_values(\n"
     ]
    }
   ],
   "source": [
    "import pyLDAvis\n",
    "import pyLDAvis.gensim_models as gensimvis\n",
    "pyLDAvis.enable_notebook()\n",
    "\n",
    "# feed the LDA model into the pyLDAvis instance\n",
    "lda_viz = gensimvis.prepare(model, corpus, dictionary)\n",
    "pyLDAvis.save_html(lda_viz, 'lda_tweets.html')\n"
   ]
  },
  {
   "cell_type": "code",
   "execution_count": null,
   "id": "5cb3cbae",
   "metadata": {
    "collapsed": false,
    "pycharm": {
     "name": "#%%\n"
    }
   },
   "outputs": [],
   "source": []
  },
  {
   "cell_type": "code",
   "execution_count": null,
   "id": "2f790990",
   "metadata": {
    "collapsed": false,
    "pycharm": {
     "name": "#%%\n"
    }
   },
   "outputs": [],
   "source": []
  },
  {
   "attachments": {},
   "cell_type": "markdown",
   "id": "8291fbe6",
   "metadata": {},
   "source": [
    "## NMF on preprocessed, lemmatized data"
   ]
  },
  {
   "cell_type": "code",
   "execution_count": 16,
   "id": "1c31ff57-dc8e-444b-b4cf-8313bc51ec45",
   "metadata": {
    "pycharm": {
     "name": "#%%\n"
    }
   },
   "outputs": [
    {
     "name": "stdout",
     "output_type": "stream",
     "text": [
      "CPU times: user 4min 46s, sys: 19min 10s, total: 23min 56s\n",
      "Wall time: 32.6 s\n"
     ]
    }
   ],
   "source": [
    "%%time\n",
    "## NMF on preprocessed, lemmatized tweets\n",
    "\n",
    "\n",
    "# pickle.dump(corpus, open('corpus.pkl', 'wb'))\n",
    "# dictionary.save('dictionary.gensim')\n",
    "\n",
    "dictionary[0]\n",
    "# Set training parameters.\n",
    "num_topics = 20\n",
    "chunksize = 2000\n",
    "passes = 20\n",
    "iterations = 400\n",
    "eval_every = None  # Don't evaluate model perplexity, takes too much time.\n",
    "\n",
    "# Make an index to word dictionary.\n",
    "temp = dictionary[0]  # This is only to \"load\" the dictionary.\n",
    "id2word = dictionary.id2token\n",
    "\n",
    "trained_model = gensim.models.Nmf(\n",
    "    corpus=corpus,\n",
    "    id2word=id2word,\n",
    "    #chunksize=chunksize,\n",
    "    #alpha='auto',\n",
    "    #eta='auto',\n",
    "    #iterations=iterations,\n",
    "    num_topics=num_topics,\n",
    "    passes=passes,\n",
    "    eval_every=eval_every,\n",
    "    random_state=SEED\n",
    ")\n"
   ]
  },
  {
   "cell_type": "code",
   "execution_count": null,
   "id": "a7fed4fd",
   "metadata": {
    "collapsed": false,
    "pycharm": {
     "name": "#%%\n"
    }
   },
   "outputs": [],
   "source": []
  },
  {
   "cell_type": "code",
   "execution_count": 17,
   "id": "40b42486",
   "metadata": {},
   "outputs": [
    {
     "data": {
      "text/plain": [
       "[('vlada', 0.1827437413576595),\n",
       " ('predsednik', 0.04169111147047659),\n",
       " ('ukrep', 0.006169626869184837),\n",
       " ('lev', 0.00604045382866434),\n",
       " ('opozicija', 0.005351711191176553),\n",
       " ('Janša', 0.004457527030351594),\n",
       " ('volitev', 0.004378331042516606),\n",
       " ('Janez', 0.004086266843545166),\n",
       " ('Janšev', 0.004081772864714959),\n",
       " ('voditi', 0.0032795616087939053),\n",
       " ('podpirati', 0.003003499414935349),\n",
       " ('podpora', 0.002856673434545596),\n",
       " ('oblast', 0.002833980582401722),\n",
       " ('protest', 0.002783133044230057),\n",
       " ('stranka', 0.0027534942119133736),\n",
       " ('odstopiti', 0.002621369509856332),\n",
       " ('kul', 0.0025486283990572792),\n",
       " ('šarčev', 0.0024392277815469044),\n",
       " ('državen', 0.0024002465485157836),\n",
       " ('desen', 0.0023919427139053252),\n",
       " ('SDS', 0.002382160577759575),\n",
       " ('epidemija', 0.002376019395057809),\n",
       " ('kriv', 0.002347877325921306),\n",
       " ('predlagati', 0.002317068798547082),\n",
       " ('skupina', 0.0022530935225341065)]"
      ]
     },
     "execution_count": 17,
     "metadata": {},
     "output_type": "execute_result"
    }
   ],
   "source": [
    "trained_model.show_topic(1, topn=25)\n"
   ]
  },
  {
   "cell_type": "code",
   "execution_count": 18,
   "id": "cfc5438a",
   "metadata": {},
   "outputs": [
    {
     "data": {
      "text/plain": [
       "[['čas',\n",
       "  'epidemija',\n",
       "  'dolgo',\n",
       "  'smrt',\n",
       "  'teden',\n",
       "  'vzeti',\n",
       "  'vprašanje',\n",
       "  'najbolj',\n",
       "  'kriza',\n",
       "  'narediti',\n",
       "  'naprej',\n",
       "  'skrajen',\n",
       "  'neznan',\n",
       "  'imeti',\n",
       "  'večina',\n",
       "  'deloven',\n",
       "  'poslanec',\n",
       "  'mesto',\n",
       "  'državen',\n",
       "  'oblast',\n",
       "  'ura',\n",
       "  'spomniti',\n",
       "  'ukvarjati',\n",
       "  'svoboda',\n",
       "  'vrniti'],\n",
       " ['vlada',\n",
       "  'predsednik',\n",
       "  'ukrep',\n",
       "  'lev',\n",
       "  'opozicija',\n",
       "  'Janša',\n",
       "  'volitev',\n",
       "  'Janez',\n",
       "  'Janšev',\n",
       "  'voditi',\n",
       "  'podpirati',\n",
       "  'podpora',\n",
       "  'oblast',\n",
       "  'protest',\n",
       "  'stranka',\n",
       "  'odstopiti',\n",
       "  'kul',\n",
       "  'šarčev',\n",
       "  'državen',\n",
       "  'desen',\n",
       "  'SDS',\n",
       "  'epidemija',\n",
       "  'kriv',\n",
       "  'predlagati',\n",
       "  'skupina'],\n",
       " ['Slovenija',\n",
       "  'republika',\n",
       "  'evropski',\n",
       "  'Slovenec',\n",
       "  'Evropa',\n",
       "  'zgodovina',\n",
       "  'RTV',\n",
       "  'samostojen',\n",
       "  'obletnica',\n",
       "  'državljan',\n",
       "  'vojna',\n",
       "  'podatek',\n",
       "  'ponosen',\n",
       "  'stanje',\n",
       "  'prebivalec',\n",
       "  'komunist',\n",
       "  'predsedovanje',\n",
       "  'Avstrija',\n",
       "  'hrvaški',\n",
       "  'via',\n",
       "  'novinar',\n",
       "  'gospodarski',\n",
       "  'Bruselj',\n",
       "  'medijski',\n",
       "  'video'],\n",
       " ['covid',\n",
       "  'sodišče',\n",
       "  'cepljenje',\n",
       "  'cepljen',\n",
       "  'cepivo',\n",
       "  'ustaven',\n",
       "  'ukrep',\n",
       "  'cepiti',\n",
       "  'okužba',\n",
       "  'test',\n",
       "  'virus',\n",
       "  'predsednik',\n",
       "  'sodnik',\n",
       "  'umreti',\n",
       "  'epidemija',\n",
       "  'necepljen',\n",
       "  'maska',\n",
       "  'bolnik',\n",
       "  'zdravnik',\n",
       "  'bolezen',\n",
       "  'podatek',\n",
       "  'pozitiven',\n",
       "  'teden',\n",
       "  'glede',\n",
       "  'zdravstven'],\n",
       " ['človek',\n",
       "  'stranka',\n",
       "  'dati',\n",
       "  'življenje',\n",
       "  'cepiti',\n",
       "  'živeti',\n",
       "  'virus',\n",
       "  'milijon',\n",
       "  'politika',\n",
       "  'poznati',\n",
       "  'normalen',\n",
       "  'cepljen',\n",
       "  'večina',\n",
       "  'ukrep',\n",
       "  'pomagati',\n",
       "  'zdravje',\n",
       "  'zaupati',\n",
       "  'maska',\n",
       "  'demokracija',\n",
       "  'kriv',\n",
       "  'lev',\n",
       "  'umreti',\n",
       "  'razumeti',\n",
       "  'skupina',\n",
       "  'beseda'],\n",
       " ['govoriti',\n",
       "  'verjeti',\n",
       "  'misliti',\n",
       "  'problem',\n",
       "  'resnica',\n",
       "  'hvala',\n",
       "  'del',\n",
       "  'dr.',\n",
       "  'laž',\n",
       "  'začeti',\n",
       "  'volitev',\n",
       "  'upati',\n",
       "  'pisati',\n",
       "  'cepivo',\n",
       "  'praviti',\n",
       "  'cepiti',\n",
       "  'razumeti',\n",
       "  'Slovenec',\n",
       "  'smrt',\n",
       "  'ostal',\n",
       "  'mnenje',\n",
       "  'drugače',\n",
       "  'slišati',\n",
       "  'večina',\n",
       "  'življenje'],\n",
       " ['svet',\n",
       "  'Janša',\n",
       "  'Janez',\n",
       "  'stranka',\n",
       "  'predsednik',\n",
       "  'konec',\n",
       "  'SDS',\n",
       "  'evropski',\n",
       "  'predsedovanje',\n",
       "  'Evropa',\n",
       "  'videti',\n",
       "  'stopnja',\n",
       "  'član',\n",
       "  'omeniti',\n",
       "  'pacient',\n",
       "  'obsedenost',\n",
       "  'državen',\n",
       "  'edin',\n",
       "  'premier',\n",
       "  'seja',\n",
       "  'soden',\n",
       "  'programski',\n",
       "  'via',\n",
       "  'nadzoren',\n",
       "  'najbolj'],\n",
       " ['povedati',\n",
       "  'Janša',\n",
       "  'glede',\n",
       "  'Janez',\n",
       "  'stranka',\n",
       "  'resnica',\n",
       "  'znati',\n",
       "  'misliti',\n",
       "  'SDS',\n",
       "  'gledati',\n",
       "  'komunist',\n",
       "  'slika',\n",
       "  'beseda',\n",
       "  'poslanec',\n",
       "  'politika',\n",
       "  'vprašanje',\n",
       "  'razumeti',\n",
       "  'prositi',\n",
       "  'upati',\n",
       "  'treba',\n",
       "  'slo.',\n",
       "  'narediti',\n",
       "  'ime',\n",
       "  'parlament',\n",
       "  'pozabiti'],\n",
       " ['država',\n",
       "  'slovenski',\n",
       "  'predsednik',\n",
       "  'praven',\n",
       "  'evropski',\n",
       "  'globok',\n",
       "  'narod',\n",
       "  'državljan',\n",
       "  'normalen',\n",
       "  'državen',\n",
       "  'vojska',\n",
       "  'sodnik',\n",
       "  'politika',\n",
       "  'večina',\n",
       "  'voditi',\n",
       "  'živeti',\n",
       "  'najbolj',\n",
       "  'meja',\n",
       "  'družba',\n",
       "  'ustaven',\n",
       "  'edin',\n",
       "  'demokracija',\n",
       "  'sodišče',\n",
       "  'kultura',\n",
       "  'jezik'],\n",
       " ['nov',\n",
       "  'mesto',\n",
       "  'okužba',\n",
       "  'star',\n",
       "  'koronavirus',\n",
       "  'oddaja',\n",
       "  'potrditi',\n",
       "  'stranka',\n",
       "  'test',\n",
       "  'direktor',\n",
       "  'obraz',\n",
       "  'sev',\n",
       "  'Gorica',\n",
       "  'Ljubljana',\n",
       "  'podatek',\n",
       "  'čakati',\n",
       "  'pisati',\n",
       "  'sezona',\n",
       "  'začeti',\n",
       "  'deloven',\n",
       "  'teden',\n",
       "  'prihajati',\n",
       "  'občina',\n",
       "  'knjiga',\n",
       "  'kupiti'],\n",
       " ['dobiti',\n",
       "  'minister',\n",
       "  'cepljenje',\n",
       "  'denar',\n",
       "  'vprašanje',\n",
       "  'dr.',\n",
       "  'reči',\n",
       "  'cepivo',\n",
       "  'teden',\n",
       "  'javen',\n",
       "  'notranji',\n",
       "  'policija',\n",
       "  'zadeva',\n",
       "  'zdravje',\n",
       "  'cepiti',\n",
       "  'odgovor',\n",
       "  'deloven',\n",
       "  'obisk',\n",
       "  'glas',\n",
       "  'mesto',\n",
       "  'evropski',\n",
       "  'praviti',\n",
       "  'zunanji',\n",
       "  'kazen',\n",
       "  'obvezen'],\n",
       " ['medij',\n",
       "  'reči',\n",
       "  'delo',\n",
       "  'novinar',\n",
       "  'lev',\n",
       "  'političen',\n",
       "  'slovenski',\n",
       "  'stranka',\n",
       "  'svoboda',\n",
       "  'desen',\n",
       "  'ukrep',\n",
       "  'levica',\n",
       "  'javen',\n",
       "  'glede',\n",
       "  'politika',\n",
       "  'napad',\n",
       "  'protest',\n",
       "  'pisati',\n",
       "  'medijski',\n",
       "  'RTV',\n",
       "  'oblast',\n",
       "  'poročati',\n",
       "  'politik',\n",
       "  'neodvisen',\n",
       "  'SDS'],\n",
       " ['vedeti',\n",
       "  'gledati',\n",
       "  'poznati',\n",
       "  'misliti',\n",
       "  'lagati',\n",
       "  'pomeniti',\n",
       "  'reči',\n",
       "  'znati',\n",
       "  'točno',\n",
       "  'delovati',\n",
       "  'dati',\n",
       "  'očitno',\n",
       "  'razumeti',\n",
       "  'zdeti',\n",
       "  'držati',\n",
       "  'vprašati',\n",
       "  'obstajati',\n",
       "  'vseeno',\n",
       "  'pisati',\n",
       "  'pozitiven',\n",
       "  'test',\n",
       "  'prebrati',\n",
       "  'dogajati',\n",
       "  'ostal',\n",
       "  'kam'],\n",
       " ['iti',\n",
       "  'denar',\n",
       "  'misliti',\n",
       "  'gledati',\n",
       "  'naprej',\n",
       "  'konec',\n",
       "  'RTV',\n",
       "  'raje',\n",
       "  'pot',\n",
       "  'pogledati',\n",
       "  'vprašati',\n",
       "  'volitev',\n",
       "  'skupaj',\n",
       "  'treba',\n",
       "  'kam',\n",
       "  'ven',\n",
       "  'reči',\n",
       "  'teden',\n",
       "  'par',\n",
       "  'domov',\n",
       "  'referendum',\n",
       "  'jasen',\n",
       "  'test',\n",
       "  'Rtv',\n",
       "  'živec'],\n",
       " ['otrok',\n",
       "  'šola',\n",
       "  'starš',\n",
       "  'doma',\n",
       "  'vrtec',\n",
       "  'družina',\n",
       "  'razred',\n",
       "  'maska',\n",
       "  'cepiti',\n",
       "  'javen',\n",
       "  'mlad',\n",
       "  'star',\n",
       "  'misliti',\n",
       "  'ženska',\n",
       "  'oče',\n",
       "  'žena',\n",
       "  'hoditi',\n",
       "  'pomoč',\n",
       "  'pravica',\n",
       "  'učitelj',\n",
       "  'zloraba',\n",
       "  'učiti',\n",
       "  'nositi',\n",
       "  'mati',\n",
       "  'testiranje'],\n",
       " ['zato',\n",
       "  'dati',\n",
       "  'narediti',\n",
       "  'treba',\n",
       "  'pravica',\n",
       "  'star',\n",
       "  'Janša',\n",
       "  'političen',\n",
       "  'denar',\n",
       "  'maska',\n",
       "  'ostati',\n",
       "  'volitev',\n",
       "  'človekov',\n",
       "  'Slovenec',\n",
       "  'življenje',\n",
       "  'komunist',\n",
       "  'očitno',\n",
       "  'napisati',\n",
       "  'naprej',\n",
       "  'levičar',\n",
       "  'praviti',\n",
       "  'raje',\n",
       "  'potreben',\n",
       "  'mogoč',\n",
       "  'cepiti'],\n",
       " ['zakon',\n",
       "  'voda',\n",
       "  'poslanec',\n",
       "  'predlog',\n",
       "  'javen',\n",
       "  'sodišče',\n",
       "  'državen',\n",
       "  'referendum',\n",
       "  'stranka',\n",
       "  'sprejeti',\n",
       "  'novela',\n",
       "  'ustaven',\n",
       "  'sprememba',\n",
       "  'parlament',\n",
       "  'glasovati',\n",
       "  'dolgotrajen',\n",
       "  'ustava',\n",
       "  'oskrba',\n",
       "  'volitev',\n",
       "  'sprejet',\n",
       "  'levica',\n",
       "  'odlok',\n",
       "  'seja',\n",
       "  'glas',\n",
       "  'glede'],\n",
       " ['imeti',\n",
       "  'pravica',\n",
       "  'težava',\n",
       "  'možnost',\n",
       "  'pojem',\n",
       "  'problem',\n",
       "  'mnenje',\n",
       "  'večina',\n",
       "  'roka',\n",
       "  'občutek',\n",
       "  'doma',\n",
       "  'veza',\n",
       "  'smisel',\n",
       "  'stranka',\n",
       "  'diploma',\n",
       "  'slo.',\n",
       "  'denar',\n",
       "  'maska',\n",
       "  'glava',\n",
       "  'oblast',\n",
       "  'sreča',\n",
       "  'par',\n",
       "  'plača',\n",
       "  'skupen',\n",
       "  'ostal'],\n",
       " ['delati',\n",
       "  'dati',\n",
       "  'ura',\n",
       "  'delo',\n",
       "  'norec',\n",
       "  'praviti',\n",
       "  'denar',\n",
       "  'škoda',\n",
       "  'treba',\n",
       "  'Slovenec',\n",
       "  'doma',\n",
       "  'javen',\n",
       "  'znati',\n",
       "  'živeti',\n",
       "  'plača',\n",
       "  'reklama',\n",
       "  'služba',\n",
       "  'šola',\n",
       "  'misliti',\n",
       "  'levičar',\n",
       "  'komunist',\n",
       "  'sramota',\n",
       "  'zaslužiti',\n",
       "  'narod',\n",
       "  'začeti'],\n",
       " ['videti',\n",
       "  'priti',\n",
       "  'razumeti',\n",
       "  'gledati',\n",
       "  'problem',\n",
       "  'policija',\n",
       "  'misliti',\n",
       "  'protest',\n",
       "  'reči',\n",
       "  'oblast',\n",
       "  'vrsta',\n",
       "  'teden',\n",
       "  'najbolj',\n",
       "  'glede',\n",
       "  'čakati',\n",
       "  'upati',\n",
       "  'mesto',\n",
       "  'pogledati',\n",
       "  'vprašanje',\n",
       "  'maska',\n",
       "  'konec',\n",
       "  'pot',\n",
       "  'očitno',\n",
       "  'slišati',\n",
       "  'kam']]"
      ]
     },
     "execution_count": 18,
     "metadata": {},
     "output_type": "execute_result"
    }
   ],
   "source": [
    "from evaluation import get_top_words_for_topics_lda, topic_diversity\n",
    "\n",
    "topics_representations = get_top_words_for_topics_lda(trained_model, 25)\n",
    "topics_representations"
   ]
  },
  {
   "cell_type": "code",
   "execution_count": null,
   "id": "a9f98e04",
   "metadata": {},
   "outputs": [],
   "source": []
  },
  {
   "cell_type": "markdown",
   "id": "cd554c37",
   "metadata": {},
   "source": [
    "### calculate topic diversity"
   ]
  },
  {
   "cell_type": "code",
   "execution_count": 19,
   "id": "abb69c44",
   "metadata": {},
   "outputs": [
    {
     "data": {
      "text/plain": [
       "0.562"
      ]
     },
     "execution_count": 19,
     "metadata": {},
     "output_type": "execute_result"
    }
   ],
   "source": [
    "\n",
    "\n",
    "topic_diversity(topics_representations, 25)"
   ]
  },
  {
   "attachments": {},
   "cell_type": "markdown",
   "id": "590d51c7",
   "metadata": {},
   "source": [
    "### calculate topic coherence\n"
   ]
  },
  {
   "cell_type": "code",
   "execution_count": 21,
   "id": "88b3245a",
   "metadata": {},
   "outputs": [
    {
     "data": {
      "text/plain": [
       "-0.062126078646029495"
      ]
     },
     "execution_count": 21,
     "metadata": {},
     "output_type": "execute_result"
    }
   ],
   "source": [
    "\n",
    "topic_coherence(trained_model, topics_representations, top_k_words=25)"
   ]
  },
  {
   "cell_type": "code",
   "execution_count": null,
   "id": "5e90c1a3",
   "metadata": {},
   "outputs": [],
   "source": []
  },
  {
   "cell_type": "code",
   "execution_count": 22,
   "id": "d0894523-55c2-4e9d-ad76-3132da53ad61",
   "metadata": {
    "pycharm": {
     "name": "#%%\n"
    }
   },
   "outputs": [
    {
     "name": "stdout",
     "output_type": "stream",
     "text": [
      "(0, '0.137*\"čas\" + 0.005*\"epidemija\" + 0.004*\"dolgo\" + 0.004*\"smrt\" + 0.003*\"teden\" + 0.003*\"vzeti\" + 0.003*\"vprašanje\" + 0.003*\"najbolj\" + 0.003*\"kriza\" + 0.003*\"narediti\" + 0.002*\"naprej\" + 0.002*\"skrajen\" + 0.002*\"neznan\" + 0.002*\"imeti\" + 0.002*\"večina\"')\n",
      "(1, '0.183*\"vlada\" + 0.042*\"predsednik\" + 0.006*\"ukrep\" + 0.006*\"lev\" + 0.005*\"opozicija\" + 0.004*\"Janša\" + 0.004*\"volitev\" + 0.004*\"Janez\" + 0.004*\"Janšev\" + 0.003*\"voditi\" + 0.003*\"podpirati\" + 0.003*\"podpora\" + 0.003*\"oblast\" + 0.003*\"protest\" + 0.003*\"stranka\"')\n",
      "(2, '0.175*\"Slovenija\" + 0.005*\"republika\" + 0.005*\"evropski\" + 0.005*\"Slovenec\" + 0.003*\"Evropa\" + 0.003*\"zgodovina\" + 0.003*\"RTV\" + 0.003*\"samostojen\" + 0.003*\"obletnica\" + 0.002*\"državljan\" + 0.002*\"vojna\" + 0.002*\"podatek\" + 0.002*\"ponosen\" + 0.002*\"stanje\" + 0.002*\"prebivalec\"')\n",
      "(3, '0.067*\"covid\" + 0.023*\"sodišče\" + 0.019*\"cepljenje\" + 0.018*\"cepljen\" + 0.017*\"cepivo\" + 0.014*\"ustaven\" + 0.012*\"ukrep\" + 0.011*\"cepiti\" + 0.008*\"okužba\" + 0.007*\"test\" + 0.007*\"virus\" + 0.007*\"predsednik\" + 0.006*\"sodnik\" + 0.006*\"umreti\" + 0.005*\"epidemija\"')\n",
      "(4, '0.163*\"človek\" + 0.009*\"stranka\" + 0.006*\"dati\" + 0.005*\"življenje\" + 0.004*\"cepiti\" + 0.003*\"živeti\" + 0.003*\"virus\" + 0.002*\"milijon\" + 0.002*\"politika\" + 0.002*\"poznati\" + 0.002*\"normalen\" + 0.002*\"cepljen\" + 0.002*\"večina\" + 0.002*\"ukrep\" + 0.002*\"pomagati\"')\n",
      "(5, '0.037*\"govoriti\" + 0.032*\"verjeti\" + 0.014*\"misliti\" + 0.012*\"problem\" + 0.008*\"resnica\" + 0.007*\"hvala\" + 0.007*\"del\" + 0.005*\"dr.\" + 0.005*\"laž\" + 0.005*\"začeti\" + 0.005*\"volitev\" + 0.005*\"upati\" + 0.004*\"pisati\" + 0.004*\"cepivo\" + 0.004*\"praviti\"')\n",
      "(6, '0.094*\"svet\" + 0.045*\"Janša\" + 0.022*\"Janez\" + 0.012*\"stranka\" + 0.011*\"predsednik\" + 0.007*\"konec\" + 0.006*\"SDS\" + 0.006*\"evropski\" + 0.004*\"predsedovanje\" + 0.004*\"Evropa\" + 0.003*\"videti\" + 0.003*\"stopnja\" + 0.003*\"član\" + 0.003*\"omeniti\" + 0.003*\"pacient\"')\n",
      "(7, '0.129*\"povedati\" + 0.011*\"Janša\" + 0.008*\"glede\" + 0.008*\"Janez\" + 0.006*\"stranka\" + 0.005*\"resnica\" + 0.005*\"znati\" + 0.005*\"misliti\" + 0.005*\"SDS\" + 0.004*\"gledati\" + 0.004*\"komunist\" + 0.004*\"slika\" + 0.003*\"beseda\" + 0.003*\"poslanec\" + 0.003*\"politika\"')\n",
      "(8, '0.105*\"država\" + 0.062*\"slovenski\" + 0.008*\"predsednik\" + 0.006*\"praven\" + 0.006*\"evropski\" + 0.005*\"globok\" + 0.005*\"narod\" + 0.003*\"državljan\" + 0.003*\"normalen\" + 0.003*\"državen\" + 0.003*\"vojska\" + 0.002*\"sodnik\" + 0.002*\"politika\" + 0.002*\"večina\" + 0.002*\"voditi\"')\n",
      "(9, '0.147*\"nov\" + 0.006*\"mesto\" + 0.006*\"okužba\" + 0.005*\"star\" + 0.004*\"koronavirus\" + 0.004*\"oddaja\" + 0.003*\"potrditi\" + 0.003*\"stranka\" + 0.003*\"test\" + 0.002*\"direktor\" + 0.002*\"obraz\" + 0.002*\"sev\" + 0.002*\"Gorica\" + 0.002*\"Ljubljana\" + 0.002*\"podatek\"')\n",
      "(10, '0.072*\"dobiti\" + 0.049*\"minister\" + 0.020*\"cepljenje\" + 0.005*\"denar\" + 0.004*\"vprašanje\" + 0.004*\"dr.\" + 0.003*\"reči\" + 0.003*\"cepivo\" + 0.003*\"teden\" + 0.003*\"javen\" + 0.003*\"notranji\" + 0.003*\"policija\" + 0.003*\"zadeva\" + 0.003*\"zdravje\" + 0.003*\"cepiti\"')\n",
      "(11, '0.051*\"medij\" + 0.036*\"reči\" + 0.028*\"delo\" + 0.016*\"novinar\" + 0.015*\"lev\" + 0.011*\"političen\" + 0.009*\"slovenski\" + 0.008*\"stranka\" + 0.006*\"svoboda\" + 0.006*\"desen\" + 0.005*\"ukrep\" + 0.005*\"levica\" + 0.004*\"javen\" + 0.004*\"glede\" + 0.004*\"politika\"')\n",
      "(12, '0.193*\"vedeti\" + 0.005*\"gledati\" + 0.004*\"poznati\" + 0.003*\"misliti\" + 0.003*\"lagati\" + 0.003*\"pomeniti\" + 0.003*\"reči\" + 0.003*\"znati\" + 0.002*\"točno\" + 0.002*\"delovati\" + 0.002*\"dati\" + 0.002*\"očitno\" + 0.002*\"razumeti\" + 0.002*\"zdeti\" + 0.002*\"držati\"')\n",
      "(13, '0.182*\"iti\" + 0.004*\"denar\" + 0.002*\"misliti\" + 0.002*\"gledati\" + 0.002*\"naprej\" + 0.002*\"konec\" + 0.002*\"RTV\" + 0.002*\"raje\" + 0.002*\"pot\" + 0.002*\"pogledati\" + 0.002*\"vprašati\" + 0.002*\"volitev\" + 0.002*\"skupaj\" + 0.002*\"treba\" + 0.002*\"kam\"')\n",
      "(14, '0.120*\"otrok\" + 0.033*\"šola\" + 0.015*\"starš\" + 0.006*\"doma\" + 0.006*\"vrtec\" + 0.005*\"družina\" + 0.004*\"razred\" + 0.004*\"maska\" + 0.003*\"cepiti\" + 0.003*\"javen\" + 0.003*\"mlad\" + 0.003*\"star\" + 0.003*\"misliti\" + 0.003*\"ženska\" + 0.003*\"oče\"')\n",
      "(15, '0.072*\"zato\" + 0.042*\"dati\" + 0.024*\"narediti\" + 0.010*\"treba\" + 0.010*\"pravica\" + 0.009*\"star\" + 0.005*\"Janša\" + 0.004*\"političen\" + 0.003*\"denar\" + 0.002*\"maska\" + 0.002*\"ostati\" + 0.002*\"volitev\" + 0.002*\"človekov\" + 0.002*\"Slovenec\" + 0.002*\"življenje\"')\n",
      "(16, '0.084*\"zakon\" + 0.022*\"voda\" + 0.016*\"poslanec\" + 0.010*\"predlog\" + 0.009*\"javen\" + 0.009*\"sodišče\" + 0.009*\"državen\" + 0.008*\"referendum\" + 0.007*\"stranka\" + 0.006*\"sprejeti\" + 0.006*\"novela\" + 0.005*\"ustaven\" + 0.005*\"sprememba\" + 0.005*\"parlament\" + 0.004*\"glasovati\"')\n",
      "(17, '0.221*\"imeti\" + 0.005*\"pravica\" + 0.004*\"težava\" + 0.003*\"možnost\" + 0.003*\"pojem\" + 0.003*\"problem\" + 0.002*\"mnenje\" + 0.002*\"večina\" + 0.002*\"roka\" + 0.002*\"občutek\" + 0.002*\"doma\" + 0.002*\"veza\" + 0.002*\"smisel\" + 0.002*\"stranka\" + 0.002*\"diploma\"')\n",
      "(18, '0.162*\"delati\" + 0.011*\"dati\" + 0.006*\"ura\" + 0.006*\"delo\" + 0.005*\"norec\" + 0.005*\"praviti\" + 0.004*\"denar\" + 0.004*\"škoda\" + 0.004*\"treba\" + 0.003*\"Slovenec\" + 0.003*\"doma\" + 0.003*\"javen\" + 0.003*\"znati\" + 0.003*\"živeti\" + 0.003*\"plača\"')\n",
      "(19, '0.080*\"videti\" + 0.065*\"priti\" + 0.017*\"razumeti\" + 0.006*\"gledati\" + 0.004*\"problem\" + 0.003*\"policija\" + 0.003*\"misliti\" + 0.003*\"protest\" + 0.003*\"reči\" + 0.003*\"oblast\" + 0.003*\"vrsta\" + 0.003*\"teden\" + 0.003*\"najbolj\" + 0.003*\"glede\" + 0.002*\"čakati\"')\n"
     ]
    }
   ],
   "source": [
    "topics = trained_model.print_topics(num_words=15)\n",
    "for topic in topics:\n",
    "    print(topic)\n"
   ]
  },
  {
   "cell_type": "code",
   "execution_count": 23,
   "id": "de202b06-d6b1-40f6-af02-a482f6bb29a9",
   "metadata": {
    "pycharm": {
     "name": "#%%\n"
    }
   },
   "outputs": [
    {
     "name": "stderr",
     "output_type": "stream",
     "text": [
      "/home/jhladnik/.miniconda3/envs/testenv/lib/python3.9/site-packages/ipykernel/ipkernel.py:283: DeprecationWarning: `should_run_async` will not call `transform_cell` automatically in the future. Please pass the result to `transformed_cell` argument and any exception that happen during thetransform in `preprocessing_exc_tuple` in IPython 7.17 and above.\n",
      "  and should_run_async(code)\n"
     ]
    },
    {
     "ename": "AttributeError",
     "evalue": "'Nmf' object has no attribute 'inference'",
     "output_type": "error",
     "traceback": [
      "\u001b[0;31m---------------------------------------------------------------------------\u001b[0m",
      "\u001b[0;31mAttributeError\u001b[0m                            Traceback (most recent call last)",
      "\u001b[1;32m/home/jhladnik/masters-thesis/notebooks/06-LDA-toy-example-tweets.ipynb Cell 39\u001b[0m in \u001b[0;36m<cell line: 6>\u001b[0;34m()\u001b[0m\n\u001b[1;32m      <a href='vscode-notebook-cell://ssh-remote%2Bcronos/home/jhladnik/masters-thesis/notebooks/06-LDA-toy-example-tweets.ipynb#X62sdnNjb2RlLXJlbW90ZQ%3D%3D?line=2'>3</a>\u001b[0m pyLDAvis\u001b[39m.\u001b[39menable_notebook()\n\u001b[1;32m      <a href='vscode-notebook-cell://ssh-remote%2Bcronos/home/jhladnik/masters-thesis/notebooks/06-LDA-toy-example-tweets.ipynb#X62sdnNjb2RlLXJlbW90ZQ%3D%3D?line=4'>5</a>\u001b[0m \u001b[39m# feed the LDA model into the pyLDAvis instance\u001b[39;00m\n\u001b[0;32m----> <a href='vscode-notebook-cell://ssh-remote%2Bcronos/home/jhladnik/masters-thesis/notebooks/06-LDA-toy-example-tweets.ipynb#X62sdnNjb2RlLXJlbW90ZQ%3D%3D?line=5'>6</a>\u001b[0m lda_viz \u001b[39m=\u001b[39m gensimvis\u001b[39m.\u001b[39;49mprepare(trained_model, corpus, dictionary)\n\u001b[1;32m      <a href='vscode-notebook-cell://ssh-remote%2Bcronos/home/jhladnik/masters-thesis/notebooks/06-LDA-toy-example-tweets.ipynb#X62sdnNjb2RlLXJlbW90ZQ%3D%3D?line=6'>7</a>\u001b[0m pyLDAvis\u001b[39m.\u001b[39msave_html(lda_viz, \u001b[39m'\u001b[39m\u001b[39mlda_news.html\u001b[39m\u001b[39m'\u001b[39m)\n",
      "File \u001b[0;32m~/.miniconda3/envs/testenv/lib/python3.9/site-packages/pyLDAvis/gensim_models.py:122\u001b[0m, in \u001b[0;36mprepare\u001b[0;34m(topic_model, corpus, dictionary, doc_topic_dist, **kwargs)\u001b[0m\n\u001b[1;32m     77\u001b[0m \u001b[39mdef\u001b[39;00m \u001b[39mprepare\u001b[39m(topic_model, corpus, dictionary, doc_topic_dist\u001b[39m=\u001b[39m\u001b[39mNone\u001b[39;00m, \u001b[39m*\u001b[39m\u001b[39m*\u001b[39mkwargs):\n\u001b[1;32m     78\u001b[0m     \u001b[39m\"\"\"Transforms the Gensim TopicModel and related corpus and dictionary into\u001b[39;00m\n\u001b[1;32m     79\u001b[0m \u001b[39m    the data structures needed for the visualization.\u001b[39;00m\n\u001b[1;32m     80\u001b[0m \n\u001b[0;32m   (...)\u001b[0m\n\u001b[1;32m    120\u001b[0m \u001b[39m    See `pyLDAvis.prepare` for **kwargs.\u001b[39;00m\n\u001b[1;32m    121\u001b[0m \u001b[39m    \"\"\"\u001b[39;00m\n\u001b[0;32m--> 122\u001b[0m     opts \u001b[39m=\u001b[39m fp\u001b[39m.\u001b[39mmerge(_extract_data(topic_model, corpus, dictionary, doc_topic_dist), kwargs)\n\u001b[1;32m    123\u001b[0m     \u001b[39mreturn\u001b[39;00m pyLDAvis\u001b[39m.\u001b[39mprepare(\u001b[39m*\u001b[39m\u001b[39m*\u001b[39mopts)\n",
      "File \u001b[0;32m~/.miniconda3/envs/testenv/lib/python3.9/site-packages/pyLDAvis/gensim_models.py:49\u001b[0m, in \u001b[0;36m_extract_data\u001b[0;34m(topic_model, corpus, dictionary, doc_topic_dists)\u001b[0m\n\u001b[1;32m     47\u001b[0m         gamma \u001b[39m=\u001b[39m topic_model\u001b[39m.\u001b[39minference(corpus)\n\u001b[1;32m     48\u001b[0m     \u001b[39melse\u001b[39;00m:\n\u001b[0;32m---> 49\u001b[0m         gamma, _ \u001b[39m=\u001b[39m topic_model\u001b[39m.\u001b[39;49minference(corpus)\n\u001b[1;32m     50\u001b[0m     doc_topic_dists \u001b[39m=\u001b[39m gamma \u001b[39m/\u001b[39m gamma\u001b[39m.\u001b[39msum(axis\u001b[39m=\u001b[39m\u001b[39m1\u001b[39m)[:, \u001b[39mNone\u001b[39;00m]\n\u001b[1;32m     51\u001b[0m \u001b[39melse\u001b[39;00m:\n",
      "\u001b[0;31mAttributeError\u001b[0m: 'Nmf' object has no attribute 'inference'"
     ]
    }
   ],
   "source": [
    "import pyLDAvis\n",
    "import pyLDAvis.gensim_models as gensimvis\n",
    "pyLDAvis.enable_notebook()\n",
    "\n",
    "# feed the LDA model into the pyLDAvis instance\n",
    "lda_viz = gensimvis.prepare(trained_model, corpus, dictionary)\n",
    "pyLDAvis.save_html(lda_viz, 'lda_news.html')\n"
   ]
  },
  {
   "cell_type": "code",
   "execution_count": null,
   "id": "f5a0cc6c",
   "metadata": {},
   "outputs": [],
   "source": []
  },
  {
   "cell_type": "code",
   "execution_count": null,
   "id": "18240ce7",
   "metadata": {},
   "outputs": [],
   "source": []
  }
 ],
 "metadata": {
  "kernelspec": {
   "display_name": "testenv",
   "language": "python",
   "name": "testenv"
  },
  "vscode": {
   "interpreter": {
    "hash": "b205b86b5cca952d03a16e638da7174a06c83fcc310bd34d2a8c2608236d81e7"
   }
  }
 },
 "nbformat": 4,
 "nbformat_minor": 5
}
