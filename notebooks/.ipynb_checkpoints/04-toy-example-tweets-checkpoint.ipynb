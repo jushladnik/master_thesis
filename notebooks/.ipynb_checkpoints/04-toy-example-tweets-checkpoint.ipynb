{
 "cells": [
  {
   "cell_type": "code",
   "execution_count": 2,
   "id": "6aeb28d4-7d7f-4901-b231-4c427584f7a7",
   "metadata": {},
   "outputs": [
    {
     "name": "stderr",
     "output_type": "stream",
     "text": [
      "C:\\Users\\hladn\\miniconda3\\envs\\mag\\lib\\site-packages\\scipy\\__init__.py:146: UserWarning: A NumPy version >=1.16.5 and <1.23.0 is required for this version of SciPy (detected version 1.23.0\n",
      "  warnings.warn(f\"A NumPy version >={np_minversion} and <{np_maxversion}\"\n",
      "Downloading https://raw.githubusercontent.com/clarinsi/classla-resources/main/resources_1.0.2.json: 10.5kB [00:00, 3.50MB/s]\n",
      "2022-10-03 10:12:27 INFO: Downloading these customized packages for language: sl (Slovenian)...\n",
      "========================\n",
      "| Processor | Package  |\n",
      "------------------------\n",
      "| tokenize  | standard |\n",
      "| pos       | standard |\n",
      "| lemma     | standard |\n",
      "| depparse  | standard |\n",
      "| ner       | standard |\n",
      "| pretrain  | standard |\n",
      "========================\n",
      "\n",
      "2022-10-03 10:12:29 INFO: File exists: C:\\Users\\hladn\\classla_resources\\sl\\pos\\standard.pt.\n",
      "2022-10-03 10:12:29 INFO: File exists: C:\\Users\\hladn\\classla_resources\\sl\\lemma\\standard.pt.\n",
      "2022-10-03 10:12:29 INFO: File exists: C:\\Users\\hladn\\classla_resources\\sl\\depparse\\standard.pt.\n",
      "2022-10-03 10:12:30 INFO: File exists: C:\\Users\\hladn\\classla_resources\\sl\\ner\\standard.pt.\n",
      "2022-10-03 10:12:30 INFO: File exists: C:\\Users\\hladn\\classla_resources\\sl\\pretrain\\standard.pt.\n",
      "2022-10-03 10:12:30 INFO: Finished downloading models and saved to C:\\Users\\hladn\\classla_resources.\n",
      "[nltk_data] Downloading package stopwords to\n",
      "[nltk_data]     C:\\Users\\hladn\\AppData\\Roaming\\nltk_data...\n",
      "[nltk_data]   Package stopwords is already up-to-date!\n",
      "[nltk_data] Downloading package punkt to\n",
      "[nltk_data]     C:\\Users\\hladn\\AppData\\Roaming\\nltk_data...\n",
      "[nltk_data]   Package punkt is already up-to-date!\n",
      "[nltk_data] Downloading package wordnet to\n",
      "[nltk_data]     C:\\Users\\hladn\\AppData\\Roaming\\nltk_data...\n",
      "[nltk_data]   Package wordnet is already up-to-date!\n"
     ]
    },
    {
     "data": {
      "text/plain": [
       "True"
      ]
     },
     "execution_count": 2,
     "metadata": {},
     "output_type": "execute_result"
    }
   ],
   "source": [
    "import pandas as pd\n",
    "\n",
    "import nltk\n",
    "import os\n",
    "from nltk.tokenize import word_tokenize\n",
    "from nltk.corpus import stopwords\n",
    "from nltk.stem.wordnet import WordNetLemmatizer\n",
    "from nltk.stem.porter import PorterStemmer\n",
    "from nltk.stem import SnowballStemmer\n",
    "#from sklearn.feature_extraction.text import TfidfVectorizer\n",
    "##from sklearn.manifold import TSNE\n",
    "#from sklearn.manifold import MDS\n",
    "#from sklearn.decomposition import PCA\n",
    "import string\n",
    "import re\n",
    "from collections import Counter\n",
    "import classla\n",
    "from gensim.utils import simple_preprocess\n",
    "\n",
    "\n",
    "classla.download('sl')        # download non-standard models for Slovenian, use hr for Croatian and sr for Serbian\n",
    "#classla.download('sl', type='nonstandard')        # download non-standard models for Slovenian, use hr for Croatian and sr for Serbian\n",
    "\n",
    "nltk.download('stopwords')\n",
    "nltk.download('punkt')\n",
    "nltk.download('wordnet')"
   ]
  },
  {
   "cell_type": "markdown",
   "id": "db4c6bbe-67a8-4e72-a7a1-9af49d26309a",
   "metadata": {},
   "source": [
    "## select data that we will work with"
   ]
  },
  {
   "cell_type": "code",
   "execution_count": 3,
   "id": "4e866be8-b3ff-4e7a-970c-1d91525b5424",
   "metadata": {},
   "outputs": [],
   "source": [
    "df_all = pd.read_parquet('C:/Users/hladn/FAKS/Magistrsko delo/data/sl-tweets/df_sl_tweets_21.parquet.gzip')\n",
    "\n"
   ]
  },
  {
   "cell_type": "code",
   "execution_count": null,
   "id": "1f53b4f1-743b-4c57-a98c-13e5066418fe",
   "metadata": {},
   "outputs": [],
   "source": [
    "df = df_all[df_all['media']=='MMC RTV Slovenija']"
   ]
  },
  {
   "cell_type": "markdown",
   "id": "fc1f575b-8896-414e-8b16-0ae5e1d33d3f",
   "metadata": {},
   "source": [
    "## select stopwords"
   ]
  },
  {
   "cell_type": "code",
   "execution_count": null,
   "id": "6358f092-4971-43d2-b526-9cafd9203b88",
   "metadata": {},
   "outputs": [],
   "source": [
    "filepath = 'C:/Users/hladn/FAKS/Magistrsko delo/data/stopwords.txt'\n",
    "with open(filepath, 'r') as f:\n",
    "    additional_stopwords = f.read().splitlines()\n",
    "\n",
    "stop_words=stopwords.words('slovene') + list(string.punctuation) + additional_stopwords\n",
    "new_sw = [\"rt\",\"href\", \"http\", \"https\", \"quot\", \"nbsp\", \"mailto\", \"mail\", \"getty\", \"foto\", \"images\", \"urbanec\", \"sportid\"]\n",
    "stop_words.extend(new_sw)\n",
    "len(set(stop_words))"
   ]
  },
  {
   "cell_type": "code",
   "execution_count": null,
   "id": "76473088-d1ac-43ec-a27a-bf1cfd56d0b2",
   "metadata": {},
   "outputs": [],
   "source": []
  },
  {
   "cell_type": "code",
   "execution_count": null,
   "id": "f5300d7e-4425-41b7-b08e-1df811ac634a",
   "metadata": {},
   "outputs": [],
   "source": []
  },
  {
   "cell_type": "code",
   "execution_count": null,
   "id": "dd25308d-014a-4c3d-a078-c0520e2de72c",
   "metadata": {},
   "outputs": [],
   "source": []
  },
  {
   "cell_type": "code",
   "execution_count": null,
   "id": "60555fc0-edb7-45ff-9bfb-b04deeae9385",
   "metadata": {},
   "outputs": [],
   "source": []
  }
 ],
 "metadata": {
  "kernelspec": {
   "display_name": "Python 3 (ipykernel)",
   "language": "python",
   "name": "python3"
  },
  "language_info": {
   "codemirror_mode": {
    "name": "ipython",
    "version": 3
   },
   "file_extension": ".py",
   "mimetype": "text/x-python",
   "name": "python",
   "nbconvert_exporter": "python",
   "pygments_lexer": "ipython3",
   "version": "3.10.4"
  }
 },
 "nbformat": 4,
 "nbformat_minor": 5
}
