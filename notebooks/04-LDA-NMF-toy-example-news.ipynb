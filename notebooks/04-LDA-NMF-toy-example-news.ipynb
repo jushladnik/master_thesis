{
 "cells": [
  {
   "cell_type": "markdown",
   "id": "8d3bff45-3c09-4b0b-b879-854aeca835d9",
   "metadata": {
    "pycharm": {
     "name": "#%% md\n"
    }
   },
   "source": [
    "# news data LDA"
   ]
  },
  {
   "cell_type": "code",
   "execution_count": 1,
   "id": "60d7c36c-3a69-4140-9431-6ed7607d8d51",
   "metadata": {
    "pycharm": {
     "name": "#%%\n"
    }
   },
   "outputs": [],
   "source": [
    "import pandas as pd\n",
    "import numpy as np\n",
    "\n",
    "import nltk\n",
    "import os\n",
    "from nltk.tokenize import word_tokenize\n",
    "from nltk.corpus import stopwords\n",
    "from nltk.stem.wordnet import WordNetLemmatizer\n",
    "from nltk.stem.porter import PorterStemmer\n",
    "from nltk.stem import SnowballStemmer\n",
    "# from sklearn.feature_extraction.text import TfidfVectorizer\n",
    "# from sklearn.manifold import TSNE\n",
    "# from sklearn.manifold import MDS\n",
    "# from sklearn.decomposition import PCA\n",
    "import string\n",
    "import re\n",
    "from collections import Counter\n",
    "from gensim.utils import simple_preprocess\n",
    "import gensim\n",
    "from utils import classla_lemmatize, preprocess_text, preprocess_and_lemmatize_news\n",
    "SEED = 42\n",
    "\n",
    "ROOT_PATH = '/home/jhladnik/'\n"
   ]
  },
  {
   "attachments": {},
   "cell_type": "markdown",
   "id": "90ef7c96-08cf-4c12-b0dc-492288ba1c29",
   "metadata": {
    "pycharm": {
     "name": "#%% md\n"
    }
   },
   "source": [
    "## select data that we will work with\n",
    "If we dont have already preprocessed and lemmatized text we do that"
   ]
  },
  {
   "cell_type": "code",
   "execution_count": 10,
   "id": "cc8b1a96-5347-4f0a-9447-9db9339ca09e",
   "metadata": {
    "pycharm": {
     "name": "#%%\n"
    }
   },
   "outputs": [],
   "source": [
    "df_all = pd.read_parquet(\n",
    "    f\"{ROOT_PATH}data/eventregistry/df_news_2020.parquet.gzip\")\n",
    "\n",
    "NUM_SAMPLES = 5000\n",
    "df = df_all.sample(NUM_SAMPLES, random_state=SEED)\n",
    "\n",
    "# df = df_all[df_all['media']=='MMC RTV Slovenija']\n",
    "# df\n"
   ]
  },
  {
   "cell_type": "markdown",
   "id": "9fd4c2b5-a810-4ed5-94eb-61a3853d7de4",
   "metadata": {
    "pycharm": {
     "name": "#%% md\n"
    }
   },
   "source": [
    "### preprocess text, tokenize and lemmatize"
   ]
  },
  {
   "cell_type": "code",
   "execution_count": 11,
   "id": "c6231c70-c499-47d7-bd22-192e13ca2cf2",
   "metadata": {
    "pycharm": {
     "name": "#%%\n"
    }
   },
   "outputs": [
    {
     "name": "stderr",
     "output_type": "stream",
     "text": [
      "2023-01-13 21:21:13 INFO: Loading these models for language: sl (Slovenian):\n",
      "===========================\n",
      "| Processor | Package     |\n",
      "---------------------------\n",
      "| tokenize  | nonstandard |\n",
      "| pos       | nonstandard |\n",
      "| lemma     | nonstandard |\n",
      "===========================\n",
      "\n",
      "2023-01-13 21:21:13 INFO: Use device: gpu\n",
      "2023-01-13 21:21:13 INFO: Loading: tokenize\n",
      "2023-01-13 21:21:13 INFO: Loading: pos\n",
      "2023-01-13 21:21:14 INFO: Loading: lemma\n",
      "2023-01-13 21:21:16 INFO: Done loading processors!\n"
     ]
    }
   ],
   "source": [
    "df = preprocess_and_lemmatize_news(df)\n"
   ]
  },
  {
   "cell_type": "code",
   "execution_count": 12,
   "id": "357ea9f1-b77b-437c-9986-891c97d1e4a1",
   "metadata": {
    "pycharm": {
     "name": "#%%\n"
    }
   },
   "outputs": [],
   "source": [
    "# save preprocessed df\n",
    "df.to_parquet(\n",
    "    f'{ROOT_PATH}/data/eventregistry/df_news_lemmas_{NUM_SAMPLES}.parquet.gzip', compression='gzip')\n"
   ]
  },
  {
   "attachments": {},
   "cell_type": "markdown",
   "id": "402cf56f",
   "metadata": {
    "collapsed": false,
    "pycharm": {
     "name": "#%% md\n"
    }
   },
   "source": [
    "## LDA on preprocessed, lemmatized news\n"
   ]
  },
  {
   "cell_type": "code",
   "execution_count": 2,
   "id": "aff9147a-b746-408d-8a76-e1edb24b6751",
   "metadata": {
    "pycharm": {
     "name": "#%%\n"
    }
   },
   "outputs": [],
   "source": [
    "from gensim.corpora import Dictionary\n",
    "NUM_SAMPLES = 5000\n",
    "df = pd.read_parquet(\n",
    "    f'{ROOT_PATH}/data/eventregistry/df_news_lemmas_{NUM_SAMPLES}.parquet.gzip')\n",
    "\n",
    "dictionary = Dictionary(list(df['lemmatized_text']))\n",
    "corpus = [dictionary.doc2bow(text) for text in list(df['lemmatized_text'])]\n",
    "\n",
    "# pickle.dump(corpus, open('corpus.pkl', 'wb'))\n",
    "# dictionary.save('dictionary.gensim')\n"
   ]
  },
  {
   "cell_type": "code",
   "execution_count": 20,
   "id": "fb17f4c7-caa2-48d0-b864-4f7ee31dafac",
   "metadata": {
    "pycharm": {
     "name": "#%%\n"
    }
   },
   "outputs": [
    {
     "name": "stdout",
     "output_type": "stream",
     "text": [
      "CPU times: user 1min 2s, sys: 152 ms, total: 1min 2s\n",
      "Wall time: 1min 2s\n"
     ]
    }
   ],
   "source": [
    "%%time\n",
    "# Set training parameters.\n",
    "num_topics = 5\n",
    "chunksize = 2000\n",
    "passes = 20\n",
    "iterations = 400\n",
    "eval_every = None  # Don't evaluate model perplexity, takes too much time.\n",
    "\n",
    "# Make an index to word dictionary.\n",
    "temp = dictionary[0]  # This is only to \"load\" the dictionary.\n",
    "id2word = dictionary.id2token\n",
    "\n",
    "trained_model = gensim.models.ldamodel.LdaModel(\n",
    "    corpus=corpus,\n",
    "    id2word=id2word,\n",
    "    chunksize=chunksize,\n",
    "    alpha='auto',\n",
    "    eta='auto',\n",
    "    iterations=iterations,\n",
    "    num_topics=num_topics,\n",
    "    passes=passes,\n",
    "    eval_every=eval_every,\n",
    "    random_state=SEED\n",
    ")\n"
   ]
  },
  {
   "cell_type": "code",
   "execution_count": 15,
   "id": "40b42486",
   "metadata": {},
   "outputs": [
    {
     "data": {
      "text/plain": [
       "[('tekma', 0.010025533),\n",
       " ('sezona', 0.006507818),\n",
       " ('imeti', 0.0054854206),\n",
       " ('liga', 0.0053104153),\n",
       " ('nov', 0.005286374),\n",
       " ('mesto', 0.0051835235),\n",
       " ('slovenski', 0.0049637225),\n",
       " ('predsednik', 0.0049209027),\n",
       " ('klub', 0.0047020814),\n",
       " ('zmaga', 0.0043890686),\n",
       " ('ekipa', 0.00434169),\n",
       " ('svetoven', 0.004233311),\n",
       " ('točka', 0.0042081997),\n",
       " ('konec', 0.0040621227),\n",
       " ('volitev', 0.0034670767),\n",
       " ('prvenstvo', 0.003439831),\n",
       " ('igralec', 0.003305038),\n",
       " ('ZDA', 0.0032185295),\n",
       " ('Slovenija', 0.002971029),\n",
       " ('igra', 0.002934021),\n",
       " ('evropski', 0.0029220898),\n",
       " ('Trump', 0.002885204),\n",
       " ('prvak', 0.0028789877),\n",
       " ('začeti', 0.002825916),\n",
       " ('tekmovanje', 0.002791571)]"
      ]
     },
     "execution_count": 15,
     "metadata": {},
     "output_type": "execute_result"
    }
   ],
   "source": [
    "trained_model.show_topic(1, topn=25)\n"
   ]
  },
  {
   "cell_type": "code",
   "execution_count": 21,
   "id": "b22d2c95",
   "metadata": {},
   "outputs": [
    {
     "data": {
      "text/plain": [
       "[['slovenski',\n",
       "  'nov',\n",
       "  'spleten',\n",
       "  'Slovenija',\n",
       "  'projekt',\n",
       "  'Ljubljana',\n",
       "  'delo',\n",
       "  'podjetje',\n",
       "  'imeti',\n",
       "  'Nbsp',\n",
       "  'svet',\n",
       "  'tehnologija',\n",
       "  'različen',\n",
       "  'pomemben',\n",
       "  'področje',\n",
       "  'del',\n",
       "  'uporaba',\n",
       "  'razstava',\n",
       "  'prostor',\n",
       "  'razvoj',\n",
       "  'trg',\n",
       "  'uporabljati',\n",
       "  'sistem',\n",
       "  'izdelek',\n",
       "  'telefon'],\n",
       " ['tekma',\n",
       "  'sezona',\n",
       "  'imeti',\n",
       "  'liga',\n",
       "  'nov',\n",
       "  'mesto',\n",
       "  'slovenski',\n",
       "  'predsednik',\n",
       "  'klub',\n",
       "  'zmaga',\n",
       "  'ekipa',\n",
       "  'svetoven',\n",
       "  'točka',\n",
       "  'konec',\n",
       "  'volitev',\n",
       "  'prvenstvo',\n",
       "  'igralec',\n",
       "  'ZDA',\n",
       "  'Slovenija',\n",
       "  'igra',\n",
       "  'evropski',\n",
       "  'Trump',\n",
       "  'prvak',\n",
       "  'začeti',\n",
       "  'tekmovanje'],\n",
       " ['vlada',\n",
       "  'evro',\n",
       "  'Slovenija',\n",
       "  'država',\n",
       "  'odstotek',\n",
       "  'podjetje',\n",
       "  'imeti',\n",
       "  'nov',\n",
       "  'zakon',\n",
       "  'čas',\n",
       "  'delo',\n",
       "  'milijon',\n",
       "  'evropski',\n",
       "  'javen',\n",
       "  'predsednik',\n",
       "  'slovenski',\n",
       "  'minister',\n",
       "  'policist',\n",
       "  'Ljubljana',\n",
       "  'državen',\n",
       "  'policija',\n",
       "  'sodišče',\n",
       "  'stranka',\n",
       "  'predlog',\n",
       "  'iti'],\n",
       " ['imeti',\n",
       "  'čas',\n",
       "  'človek',\n",
       "  'življenje',\n",
       "  'zato',\n",
       "  'iti',\n",
       "  'otrok',\n",
       "  'vedeti',\n",
       "  'svet',\n",
       "  'videti',\n",
       "  'povedati',\n",
       "  'nov',\n",
       "  'priti',\n",
       "  'reči',\n",
       "  'družina',\n",
       "  'narediti',\n",
       "  'začeti',\n",
       "  'postati',\n",
       "  'film',\n",
       "  'ženska',\n",
       "  'skupaj',\n",
       "  'najbolj',\n",
       "  'zgodba',\n",
       "  'mlad',\n",
       "  'pot'],\n",
       " ['nov',\n",
       "  'okužba',\n",
       "  'koronavirus',\n",
       "  'ukrep',\n",
       "  'človek',\n",
       "  'država',\n",
       "  'občina',\n",
       "  'Slovenija',\n",
       "  'imeti',\n",
       "  'covid',\n",
       "  'število',\n",
       "  'epidemija',\n",
       "  'zdravstven',\n",
       "  'dom',\n",
       "  'ura',\n",
       "  'čas',\n",
       "  'okužen',\n",
       "  'delo',\n",
       "  'bolnišnica',\n",
       "  'bolnik',\n",
       "  'javen',\n",
       "  'šola',\n",
       "  'bolezen',\n",
       "  'teden',\n",
       "  'zdravje']]"
      ]
     },
     "execution_count": 21,
     "metadata": {},
     "output_type": "execute_result"
    }
   ],
   "source": [
    "from evaluation import get_top_words_for_topics_lda, topic_diversity, topic_coherence\n",
    "\n",
    "topics_representations = get_top_words_for_topics_lda(trained_model, 25)\n",
    "topics_representations"
   ]
  },
  {
   "cell_type": "markdown",
   "id": "cd554c37",
   "metadata": {},
   "source": [
    "### calculate topic diversity"
   ]
  },
  {
   "cell_type": "code",
   "execution_count": 22,
   "id": "abb69c44",
   "metadata": {},
   "outputs": [
    {
     "data": {
      "text/plain": [
       "0.784"
      ]
     },
     "execution_count": 22,
     "metadata": {},
     "output_type": "execute_result"
    }
   ],
   "source": [
    "topic_diversity(topics_representations, 25)"
   ]
  },
  {
   "attachments": {},
   "cell_type": "markdown",
   "id": "590d51c7",
   "metadata": {},
   "source": [
    "### calculate topic coherence\n"
   ]
  },
  {
   "cell_type": "code",
   "execution_count": 2,
   "id": "88b3245a",
   "metadata": {},
   "outputs": [],
   "source": [
    "topic_coherence(trained_model, topics_representations, top_k_words=10)"
   ]
  },
  {
   "cell_type": "code",
   "execution_count": null,
   "id": "5e90c1a3",
   "metadata": {},
   "outputs": [],
   "source": []
  },
  {
   "cell_type": "code",
   "execution_count": 89,
   "id": "d0894523-55c2-4e9d-ad76-3132da53ad61",
   "metadata": {
    "pycharm": {
     "name": "#%%\n"
    }
   },
   "outputs": [
    {
     "name": "stdout",
     "output_type": "stream",
     "text": [
      "(0, '0.016*\"nov\" + 0.015*\"okužba\" + 0.011*\"človek\" + 0.010*\"država\" + 0.010*\"koronavirus\" + 0.008*\"dan\" + 0.008*\"več\" + 0.007*\"ukrep\" + 0.006*\"primer\" + 0.006*\"okužen\" + 0.006*\"lahko\" + 0.006*\"število\" + 0.006*\"imeti\" + 0.006*\"covid\" + 0.005*\"potrditi\"')\n",
      "(1, '0.013*\"leto\" + 0.007*\"imeti\" + 0.006*\"lahko\" + 0.004*\"čas\" + 0.004*\"film\" + 0.004*\"velik\" + 0.004*\"slovenski\" + 0.004*\"zelo\" + 0.004*\"iti\" + 0.004*\"nov\" + 0.003*\"delo\" + 0.003*\"več\" + 0.003*\"dober\" + 0.003*\"svet\" + 0.003*\"sam\"')\n",
      "(2, '0.007*\"vlada\" + 0.007*\"Slovenija\" + 0.006*\"leto\" + 0.006*\"imeti\" + 0.006*\"lahko\" + 0.005*\"evro\" + 0.005*\"delo\" + 0.004*\"nov\" + 0.004*\"ukrep\" + 0.004*\"čas\" + 0.004*\"odstotek\" + 0.004*\"zakon\" + 0.004*\"javen\" + 0.004*\"ministrstvo\" + 0.003*\"glede\"')\n",
      "(3, '0.015*\"tekma\" + 0.009*\"sezona\" + 0.008*\"imeti\" + 0.008*\"točka\" + 0.007*\"minuta\" + 0.007*\"dober\" + 0.007*\"liga\" + 0.006*\"ekipa\" + 0.006*\"zmaga\" + 0.006*\"zadnji\" + 0.005*\"konec\" + 0.005*\"leto\" + 0.005*\"igra\" + 0.005*\"mesto\" + 0.004*\"igralec\"')\n",
      "(4, '0.009*\"ZDA\" + 0.008*\"leto\" + 0.008*\"ameriški\" + 0.007*\"država\" + 0.007*\"predsednik\" + 0.006*\"Trump\" + 0.006*\"dejati\" + 0.006*\"več\" + 0.006*\"volitev\" + 0.004*\"človek\" + 0.004*\"dolar\" + 0.004*\"poročati\" + 0.004*\"policija\" + 0.004*\"imeti\" + 0.003*\"protest\"')\n"
     ]
    }
   ],
   "source": [
    "topics = trained_model.print_topics(num_words=15)\n",
    "for topic in topics:\n",
    "    print(topic)\n"
   ]
  },
  {
   "cell_type": "code",
   "execution_count": 81,
   "id": "de202b06-d6b1-40f6-af02-a482f6bb29a9",
   "metadata": {
    "pycharm": {
     "name": "#%%\n"
    }
   },
   "outputs": [
    {
     "name": "stderr",
     "output_type": "stream",
     "text": [
      "c:\\Users\\hladn\\anaconda3\\envs\\torchtest\\lib\\site-packages\\pyLDAvis\\_prepare.py:246: FutureWarning: In a future version of pandas all arguments of DataFrame.drop except for the argument 'labels' will be keyword-only.\n",
      "  default_term_info = default_term_info.sort_values(\n"
     ]
    }
   ],
   "source": [
    "import pyLDAvis\n",
    "import pyLDAvis.gensim_models as gensimvis\n",
    "pyLDAvis.enable_notebook()\n",
    "\n",
    "# feed the LDA model into the pyLDAvis instance\n",
    "lda_viz = gensimvis.prepare(trained_model, corpus, dictionary)\n",
    "pyLDAvis.save_html(lda_viz, 'lda_news.html')\n"
   ]
  },
  {
   "attachments": {},
   "cell_type": "markdown",
   "id": "509e34b2-7cf0-49d2-afcc-224b028e6b47",
   "metadata": {
    "pycharm": {
     "name": "#%%\n"
    },
    "vscode": {
     "languageId": "python"
    }
   },
   "source": [
    "### LDA parameter evaluation"
   ]
  },
  {
   "cell_type": "code",
   "execution_count": 3,
   "id": "83a6815e-b8a1-410c-819d-d733356e2578",
   "metadata": {
    "pycharm": {
     "name": "#%%\n"
    }
   },
   "outputs": [],
   "source": [
    "from gensim.corpora import Dictionary\n",
    "NUM_SAMPLES = 5000\n",
    "df = pd.read_parquet(\n",
    "    f'{ROOT_PATH}/data/eventregistry/df_news_lemmas_{NUM_SAMPLES}.parquet.gzip')\n",
    "\n",
    "dictionary = Dictionary(list(df['lemmatized_text']))\n",
    "corpus = [dictionary.doc2bow(text) for text in list(df['lemmatized_text'])]\n"
   ]
  },
  {
   "cell_type": "code",
   "execution_count": 5,
   "id": "af18487c",
   "metadata": {},
   "outputs": [
    {
     "name": "stdout",
     "output_type": "stream",
     "text": [
      "num_topics: 5\n",
      "num_topics: 8\n",
      "num_topics: 10\n",
      "num_topics: 15\n",
      "num_topics: 20\n",
      "num_topics: 30\n",
      "num_topics: 40\n",
      "num_topics: 50\n",
      "num_topics: 100\n",
      "num_topics: 5\n",
      "num_topics: 8\n",
      "num_topics: 10\n",
      "num_topics: 15\n",
      "num_topics: 20\n",
      "num_topics: 30\n",
      "num_topics: 40\n",
      "num_topics: 50\n",
      "num_topics: 100\n",
      "num_topics: 5\n",
      "num_topics: 8\n",
      "num_topics: 10\n",
      "num_topics: 15\n",
      "num_topics: 20\n",
      "num_topics: 30\n",
      "num_topics: 40\n",
      "num_topics: 50\n",
      "num_topics: 100\n",
      "CPU times: user 6h 51min 45s, sys: 1d 3h 39min 9s, total: 1d 10h 30min 55s\n",
      "Wall time: 1h 5min 53s\n"
     ]
    }
   ],
   "source": [
    "%%time\n",
    "from evaluation import get_top_words_for_topics_lda, topic_diversity, topic_coherence\n",
    "\n",
    "# Set training parameters.\n",
    "#num_topics = 5\n",
    "chunksize = 2000\n",
    "passes = 20\n",
    "iterations = 400\n",
    "eval_every = None  # Don't evaluate model perplexity, takes too much time.\n",
    "\n",
    "# Make an index to word dictionary.\n",
    "temp = dictionary[0]  # This is only to \"load\" the dictionary.\n",
    "id2word = dictionary.id2token\n",
    "\n",
    "results_dict = {\"model_name\": [], \"num_topics\": [],\n",
    " \"topic_diversity\": [], \"topic_coherence\": [], \"seed\":[]}\n",
    "\n",
    "\n",
    "\n",
    "for seed in [1, 2, 3]:\n",
    "    for num_topics in [5, 8, 10, 15, 20, 30, 40, 50, 100]:\n",
    "        print(f\"num_topics: {num_topics}\")\n",
    "        trained_model = gensim.models.ldamodel.LdaModel(\n",
    "            corpus=corpus,\n",
    "            id2word=id2word,\n",
    "            chunksize=chunksize,\n",
    "            alpha='auto',\n",
    "            eta='auto',\n",
    "            iterations=iterations,\n",
    "            num_topics=num_topics,\n",
    "            passes=passes,\n",
    "            eval_every=eval_every,\n",
    "            random_state=seed\n",
    "        )\n",
    "\n",
    "        topics_representations = get_top_words_for_topics_lda(trained_model, 25)\n",
    "        results_dict[\"model_name\"].append(\"LDA\")\n",
    "        results_dict[\"num_topics\"].append(num_topics)\n",
    "        results_dict[\"topic_diversity\"].append(topic_diversity(topics_representations, 25))\n",
    "        results_dict[\"topic_coherence\"].append(topic_coherence(df, trained_model, topics_representations, top_k_words=10))\n",
    "        results_dict[\"seed\"].append(seed)\n",
    "\n",
    "df_results = pd.DataFrame(results_dict)\n",
    "df_results.to_csv(f\"{ROOT_PATH}/masters-thesis/notebooks/lda_news_results_{NUM_SAMPLES}.csv\", index=False)"
   ]
  },
  {
   "cell_type": "code",
   "execution_count": 7,
   "id": "d15e013b",
   "metadata": {},
   "outputs": [
    {
     "data": {
      "text/plain": [
       "<AxesSubplot:xlabel='num_topics', ylabel='topic_diversity'>"
      ]
     },
     "execution_count": 7,
     "metadata": {},
     "output_type": "execute_result"
    },
    {
     "data": {
      "image/png": "[encoded data removed]",
      "text/plain": [
       "<Figure size 432x288 with 1 Axes>"
      ]
     },
     "metadata": {
      "needs_background": "light"
     },
     "output_type": "display_data"
    }
   ],
   "source": [
    "import seaborn as sns\n",
    "\n",
    "sns.lineplot(data=df_results, x=\"num_topics\", y=\"topic_diversity\")"
   ]
  },
  {
   "attachments": {},
   "cell_type": "markdown",
   "id": "8291fbe6",
   "metadata": {},
   "source": [
    "## NMF on preprocessed, lemmatized news"
   ]
  },
  {
   "cell_type": "code",
   "execution_count": 26,
   "id": "1c31ff57-dc8e-444b-b4cf-8313bc51ec45",
   "metadata": {
    "pycharm": {
     "name": "#%%\n"
    }
   },
   "outputs": [
    {
     "name": "stdout",
     "output_type": "stream",
     "text": [
      "CPU times: user 19min 18s, sys: 1h 4min 33s, total: 1h 23min 51s\n",
      "Wall time: 2min 32s\n"
     ]
    }
   ],
   "source": [
    "%%time\n",
    "## NMF on preprocessed, lemmatized tweets\n",
    "\n",
    "\n",
    "from gensim.corpora import Dictionary\n",
    "NUM_SAMPLES = 50000\n",
    "df = pd.read_parquet(\n",
    "    f'{ROOT_PATH}/data/eventregistry/df_news_lemmas_{NUM_SAMPLES}.parquet.gzip')\n",
    "\n",
    "dictionary = Dictionary(list(df['lemmatized_text']))\n",
    "corpus = [dictionary.doc2bow(text) for text in list(df['lemmatized_text'])]\n",
    "\n",
    "# pickle.dump(corpus, open('corpus.pkl', 'wb'))\n",
    "# dictionary.save('dictionary.gensim')\n",
    "\n",
    "dictionary[0]\n",
    "# Set training parameters.\n",
    "num_topics = 20\n",
    "chunksize = 2000\n",
    "passes = 20\n",
    "iterations = 400\n",
    "eval_every = None  # Don't evaluate model perplexity, takes too much time.\n",
    "\n",
    "# Make an index to word dictionary.\n",
    "temp = dictionary[0]  # This is only to \"load\" the dictionary.\n",
    "id2word = dictionary.id2token\n",
    "\n",
    "trained_model = gensim.models.Nmf(\n",
    "    corpus=corpus,\n",
    "    id2word=id2word,\n",
    "    #chunksize=chunksize,\n",
    "    #alpha='auto',\n",
    "    #eta='auto',\n",
    "    #iterations=iterations,\n",
    "    num_topics=num_topics,\n",
    "    passes=passes,\n",
    "    eval_every=eval_every,\n",
    "    random_state=SEED\n",
    ")\n"
   ]
  },
  {
   "cell_type": "code",
   "execution_count": null,
   "id": "400bb4b3-46a2-4de2-8e4b-1e99a8e674f7",
   "metadata": {
    "pycharm": {
     "name": "#%%\n"
    }
   },
   "outputs": [],
   "source": []
  },
  {
   "cell_type": "code",
   "execution_count": 27,
   "id": "40b42486",
   "metadata": {},
   "outputs": [
    {
     "data": {
      "text/plain": [
       "[('imeti', 0.06502190266760312),\n",
       " ('čas', 0.008982282088606255),\n",
       " ('iti', 0.006717101022843348),\n",
       " ('težava', 0.006542250286260142),\n",
       " ('zato', 0.006462214787708607),\n",
       " ('vedeti', 0.006039601668223968),\n",
       " ('star', 0.005781164162157166),\n",
       " ('priti', 0.005474417178107118),\n",
       " ('povedati', 0.005093580724865766),\n",
       " ('delati', 0.005069928076582149),\n",
       " ('treba', 0.004738637726957009),\n",
       " ('dobiti', 0.004470959722024469),\n",
       " ('bolnik', 0.0042341271391254124),\n",
       " ('narediti', 0.003916657776025324),\n",
       " ('potrebovati', 0.0038885896660588786),\n",
       " ('reči', 0.003345804637816599),\n",
       " ('bolezen', 0.003126408396511405),\n",
       " ('videti', 0.003049677590540421),\n",
       " ('dom', 0.002976078703645186),\n",
       " ('zdravnik', 0.0029298509508246173),\n",
       " ('doma', 0.002890760362294878),\n",
       " ('pomeniti', 0.00279433047633452),\n",
       " ('sistem', 0.0027376765334190577),\n",
       " ('pomemben', 0.002714354344922804),\n",
       " ('dati', 0.002691461075932768)]"
      ]
     },
     "execution_count": 27,
     "metadata": {},
     "output_type": "execute_result"
    }
   ],
   "source": [
    "trained_model.show_topic(1, topn=25)\n"
   ]
  },
  {
   "cell_type": "code",
   "execution_count": 28,
   "id": "b22d2c95",
   "metadata": {},
   "outputs": [
    {
     "data": {
      "text/plain": [
       "[['vlada',\n",
       "  'stranka',\n",
       "  'predsednik',\n",
       "  'Janša',\n",
       "  'minister',\n",
       "  'predlog',\n",
       "  'poslanec',\n",
       "  'zakon',\n",
       "  'državen',\n",
       "  'političen',\n",
       "  'medij',\n",
       "  'koalicija',\n",
       "  'volitev',\n",
       "  'Janez',\n",
       "  'javen',\n",
       "  'ukrep',\n",
       "  'SDS',\n",
       "  'skupina',\n",
       "  'Slovenija',\n",
       "  'seja',\n",
       "  'epidemija',\n",
       "  'dejati',\n",
       "  'čas',\n",
       "  'levica',\n",
       "  'sodišče'],\n",
       " ['imeti',\n",
       "  'čas',\n",
       "  'iti',\n",
       "  'težava',\n",
       "  'zato',\n",
       "  'vedeti',\n",
       "  'star',\n",
       "  'priti',\n",
       "  'povedati',\n",
       "  'delati',\n",
       "  'treba',\n",
       "  'dobiti',\n",
       "  'bolnik',\n",
       "  'narediti',\n",
       "  'potrebovati',\n",
       "  'reči',\n",
       "  'bolezen',\n",
       "  'videti',\n",
       "  'dom',\n",
       "  'zdravnik',\n",
       "  'doma',\n",
       "  'pomeniti',\n",
       "  'sistem',\n",
       "  'pomemben',\n",
       "  'dati'],\n",
       " ['vozilo',\n",
       "  'spleten',\n",
       "  'policist',\n",
       "  'podatek',\n",
       "  'piškotek',\n",
       "  'policija',\n",
       "  'uporabnik',\n",
       "  'avtomobil',\n",
       "  'uporaba',\n",
       "  'voznik',\n",
       "  'uporabljati',\n",
       "  'sistem',\n",
       "  'omogočati',\n",
       "  'aplikacija',\n",
       "  'naprava',\n",
       "  'tovrsten',\n",
       "  'informacija',\n",
       "  'prometen',\n",
       "  'nesreča',\n",
       "  'vožnja',\n",
       "  'tehnologija',\n",
       "  'policijski',\n",
       "  'oseben',\n",
       "  'cesta',\n",
       "  'električen'],\n",
       " ['odstotek',\n",
       "  'odstoten',\n",
       "  'lani',\n",
       "  'indeks',\n",
       "  'rast',\n",
       "  'točka',\n",
       "  'primerjava',\n",
       "  'raziskava',\n",
       "  'dolar',\n",
       "  'število',\n",
       "  'vprašan',\n",
       "  'nizek',\n",
       "  'raven',\n",
       "  'delež',\n",
       "  'cena',\n",
       "  'podatek',\n",
       "  'povečati',\n",
       "  'vrednost',\n",
       "  'prodaja',\n",
       "  'padec',\n",
       "  'obdobje',\n",
       "  'delnica',\n",
       "  'glede',\n",
       "  'kazati',\n",
       "  'četrtletje'],\n",
       " ['tekma',\n",
       "  'točka',\n",
       "  'mesto',\n",
       "  'zmaga',\n",
       "  'minuta',\n",
       "  'sezona',\n",
       "  'konec',\n",
       "  'slovenski',\n",
       "  'ekipa',\n",
       "  'igra',\n",
       "  'svetoven',\n",
       "  'dirka',\n",
       "  'doseči',\n",
       "  'prvenstvo',\n",
       "  'domač',\n",
       "  'priti',\n",
       "  'pokal',\n",
       "  'gol',\n",
       "  'del',\n",
       "  'dobiti',\n",
       "  'skok',\n",
       "  'prvak',\n",
       "  'začeti',\n",
       "  'osvojiti',\n",
       "  'žoga'],\n",
       " ['ukrep',\n",
       "  'zdravstven',\n",
       "  'dom',\n",
       "  'epidemija',\n",
       "  'človek',\n",
       "  'zdravje',\n",
       "  'virus',\n",
       "  'koronavirus',\n",
       "  'star',\n",
       "  'zaposlen',\n",
       "  'bolezen',\n",
       "  'covid',\n",
       "  'širjenje',\n",
       "  'javen',\n",
       "  'okužen',\n",
       "  'šola',\n",
       "  'veljati',\n",
       "  'teden',\n",
       "  'država',\n",
       "  'ministrstvo',\n",
       "  'delo',\n",
       "  'število',\n",
       "  'omejitev',\n",
       "  'razmera',\n",
       "  'vlada'],\n",
       " ['delo',\n",
       "  'delavec',\n",
       "  'delodajalec',\n",
       "  'deloven',\n",
       "  'plača',\n",
       "  'zakon',\n",
       "  'nadomestilo',\n",
       "  'podjetje',\n",
       "  'dohodnina',\n",
       "  'čas',\n",
       "  'zaposlen',\n",
       "  'člen',\n",
       "  'pravica',\n",
       "  'dohodek',\n",
       "  'povračilo',\n",
       "  'odmera',\n",
       "  'davčen',\n",
       "  'republika',\n",
       "  'oseba',\n",
       "  'pogodba',\n",
       "  'izračun',\n",
       "  'karantena',\n",
       "  'zaposlitev',\n",
       "  'odstavek',\n",
       "  'čakanje'],\n",
       " ['liga',\n",
       "  'klub',\n",
       "  'sezona',\n",
       "  'tekma',\n",
       "  'igralec',\n",
       "  'nogometen',\n",
       "  'igrati',\n",
       "  'prvak',\n",
       "  'ekipa',\n",
       "  'prvenstvo',\n",
       "  'evropski',\n",
       "  'tekmovanje',\n",
       "  'trener',\n",
       "  'zveza',\n",
       "  'športen',\n",
       "  'nogomet',\n",
       "  'nogometaš',\n",
       "  'Maribor',\n",
       "  'Olimpija',\n",
       "  'šport',\n",
       "  'koronavirus',\n",
       "  'reprezentanca',\n",
       "  'slovenski',\n",
       "  'mlad',\n",
       "  'naslov'],\n",
       " ['okužba',\n",
       "  'nov',\n",
       "  'koronavirus',\n",
       "  'covid',\n",
       "  'potrditi',\n",
       "  'število',\n",
       "  'bolnik',\n",
       "  'umreti',\n",
       "  'okužen',\n",
       "  'človek',\n",
       "  'bolnišnica',\n",
       "  'test',\n",
       "  'podatek',\n",
       "  'doslej',\n",
       "  'bolezen',\n",
       "  'teden',\n",
       "  'poročati',\n",
       "  'testiranje',\n",
       "  'potrjen',\n",
       "  'ura',\n",
       "  'hrvaški',\n",
       "  'intenziven',\n",
       "  'država',\n",
       "  'sporočiti',\n",
       "  'trenutno'],\n",
       " ['država',\n",
       "  'evropski',\n",
       "  'meja',\n",
       "  'hrvaški',\n",
       "  'slovenski',\n",
       "  'članica',\n",
       "  'predsednik',\n",
       "  'Evropa',\n",
       "  'ZDA',\n",
       "  'unija',\n",
       "  'svet',\n",
       "  'ameriški',\n",
       "  'komisija',\n",
       "  'Slovenija',\n",
       "  'državljan',\n",
       "  'dejati',\n",
       "  'pandemija',\n",
       "  'kitajski',\n",
       "  'kriza',\n",
       "  'Italija',\n",
       "  'Trump',\n",
       "  'oblast',\n",
       "  'glede',\n",
       "  'mednaroden',\n",
       "  'zunanji'],\n",
       " ['Slovenija',\n",
       "  'dohodnina',\n",
       "  'slovenski',\n",
       "  'odmera',\n",
       "  'napoved',\n",
       "  'republika',\n",
       "  'zveza',\n",
       "  'dohodek',\n",
       "  'Ljubljana',\n",
       "  'izračun',\n",
       "  'davčen',\n",
       "  'podatek',\n",
       "  'informativen',\n",
       "  'član',\n",
       "  'obrazec',\n",
       "  'javen',\n",
       "  'pravilnik',\n",
       "  'uraden',\n",
       "  'uveljavljanje',\n",
       "  'sprememba',\n",
       "  'list',\n",
       "  'oseba',\n",
       "  'dejavnost',\n",
       "  'olajšava',\n",
       "  'vloga'],\n",
       " ['otrok',\n",
       "  'šola',\n",
       "  'starš',\n",
       "  'vrtec',\n",
       "  'družina',\n",
       "  'učenec',\n",
       "  'šolski',\n",
       "  'učitelj',\n",
       "  'pomoč',\n",
       "  'mlad',\n",
       "  'osnoven',\n",
       "  'izobraževanje',\n",
       "  'pouk',\n",
       "  'razred',\n",
       "  'nasilje',\n",
       "  'daljava',\n",
       "  'čas',\n",
       "  'življenje',\n",
       "  'imeti',\n",
       "  'doma',\n",
       "  'povedati',\n",
       "  'dijak',\n",
       "  'odrasel',\n",
       "  'oče',\n",
       "  'sodišče'],\n",
       " ['nov',\n",
       "  'koronavirus',\n",
       "  'kitajski',\n",
       "  'pandemija',\n",
       "  'svet',\n",
       "  'mesto',\n",
       "  'podjetje',\n",
       "  'začeti',\n",
       "  'Ljubljana',\n",
       "  'virus',\n",
       "  'model',\n",
       "  'ameriški',\n",
       "  'začetek',\n",
       "  'svetoven',\n",
       "  'univerza',\n",
       "  'testiranje',\n",
       "  'odpust',\n",
       "  'intenz',\n",
       "  'ZDA',\n",
       "  'prihodnji',\n",
       "  'teden',\n",
       "  'letos',\n",
       "  'tehnologija',\n",
       "  'sporočiti',\n",
       "  'konec'],\n",
       " ['oprema',\n",
       "  'zavod',\n",
       "  'zaščiten',\n",
       "  'maska',\n",
       "  'podjetje',\n",
       "  'pogodba',\n",
       "  'ministrstvo',\n",
       "  'posel',\n",
       "  'ventilator',\n",
       "  'minister',\n",
       "  'blagoven',\n",
       "  'rezerva',\n",
       "  'cena',\n",
       "  'nabava',\n",
       "  'direktor',\n",
       "  'postopek',\n",
       "  'dobava',\n",
       "  'ponudba',\n",
       "  'dobavitelj',\n",
       "  'javen',\n",
       "  'bolnišnica',\n",
       "  'iti',\n",
       "  'sodišče',\n",
       "  'trg',\n",
       "  'medicinski'],\n",
       " ['občina',\n",
       "  'javen',\n",
       "  'mesten',\n",
       "  'občinski',\n",
       "  'občan',\n",
       "  'številka',\n",
       "  'mesto',\n",
       "  'prostor',\n",
       "  'center',\n",
       "  'telefonski',\n",
       "  'območje',\n",
       "  'pošta',\n",
       "  'nadaljnji',\n",
       "  'elektronski',\n",
       "  'parkirišče',\n",
       "  'plačilo',\n",
       "  'uprava',\n",
       "  'ukrep',\n",
       "  'brezplačen',\n",
       "  'nujen',\n",
       "  'pomoč',\n",
       "  'Koper',\n",
       "  'storitev',\n",
       "  'župan',\n",
       "  'projekt'],\n",
       " ['ura',\n",
       "  'zaprt',\n",
       "  'stranka',\n",
       "  'čas',\n",
       "  'nadaljnji',\n",
       "  'številka',\n",
       "  'pošta',\n",
       "  'center',\n",
       "  'telefon',\n",
       "  'dom',\n",
       "  'elektronski',\n",
       "  'uraden',\n",
       "  'Ljubljana',\n",
       "  'telefonski',\n",
       "  'nujen',\n",
       "  'preklic',\n",
       "  'dosegljiv',\n",
       "  'uprava',\n",
       "  'muzej',\n",
       "  'cesta',\n",
       "  'delo',\n",
       "  'dogodek',\n",
       "  'odpovedan',\n",
       "  'naslov',\n",
       "  'knjižnica'],\n",
       " ['čas',\n",
       "  'življenje',\n",
       "  'zato',\n",
       "  'svet',\n",
       "  'ljubezen',\n",
       "  'pomemben',\n",
       "  'delo',\n",
       "  'odnos',\n",
       "  'slovenski',\n",
       "  'pot',\n",
       "  'projekt',\n",
       "  'film',\n",
       "  'način',\n",
       "  'knjiga',\n",
       "  'začeti',\n",
       "  'del',\n",
       "  'partner',\n",
       "  'služba',\n",
       "  'najbolj',\n",
       "  'človek',\n",
       "  'postati',\n",
       "  'zdravje',\n",
       "  'področje',\n",
       "  'različen',\n",
       "  'zgodba'],\n",
       " ['evro',\n",
       "  'milijon',\n",
       "  'podjetje',\n",
       "  'sredstvo',\n",
       "  'milijarda',\n",
       "  'družba',\n",
       "  'projekt',\n",
       "  'višina',\n",
       "  'finančen',\n",
       "  'prihodek',\n",
       "  'vrednost',\n",
       "  'banka',\n",
       "  'proračun',\n",
       "  'denar',\n",
       "  'Ljubljana',\n",
       "  'cena',\n",
       "  'sklad',\n",
       "  'lani',\n",
       "  'evropski',\n",
       "  'pomoč',\n",
       "  'znašati',\n",
       "  'predlog',\n",
       "  'strošek',\n",
       "  'letos',\n",
       "  'konec'],\n",
       " ['človek',\n",
       "  'imeti',\n",
       "  'iti',\n",
       "  'reči',\n",
       "  'vedeti',\n",
       "  'priti',\n",
       "  'videti',\n",
       "  'takrat',\n",
       "  'misliti',\n",
       "  'povedati',\n",
       "  'virus',\n",
       "  'govoriti',\n",
       "  'delati',\n",
       "  'Trump',\n",
       "  'ZDA',\n",
       "  'policija',\n",
       "  'dobiti',\n",
       "  'zgoditi',\n",
       "  'medij',\n",
       "  'političen',\n",
       "  'živeti',\n",
       "  'predsednik',\n",
       "  'začeti',\n",
       "  'ameriški',\n",
       "  'treba'],\n",
       " ['Nbsp',\n",
       "  'Ljubljana',\n",
       "  'slovenski',\n",
       "  'Slovenija',\n",
       "  'svetoven',\n",
       "  'postati',\n",
       "  'evropski',\n",
       "  'minister',\n",
       "  'zveza',\n",
       "  'predsednik',\n",
       "  'mednaroden',\n",
       "  'nov',\n",
       "  'osvojiti',\n",
       "  'konferenca',\n",
       "  'svet',\n",
       "  'pokal',\n",
       "  'prvak',\n",
       "  'finale',\n",
       "  'premagati',\n",
       "  'naslov',\n",
       "  'obravnavati',\n",
       "  'seja',\n",
       "  'sodišče',\n",
       "  'državen',\n",
       "  'prvenstvo']]"
      ]
     },
     "execution_count": 28,
     "metadata": {},
     "output_type": "execute_result"
    }
   ],
   "source": [
    "from evaluation import get_top_words_for_topics_lda, topic_diversity\n",
    "\n",
    "topics_representations = get_top_words_for_topics_lda(trained_model, 25)\n",
    "topics_representations"
   ]
  },
  {
   "cell_type": "markdown",
   "id": "cd554c37",
   "metadata": {},
   "source": [
    "### calculate topic diversity"
   ]
  },
  {
   "cell_type": "code",
   "execution_count": 29,
   "id": "abb69c44",
   "metadata": {},
   "outputs": [
    {
     "data": {
      "text/plain": [
       "0.654"
      ]
     },
     "execution_count": 29,
     "metadata": {},
     "output_type": "execute_result"
    }
   ],
   "source": [
    "\n",
    "\n",
    "topic_diversity(topics_representations, 25)"
   ]
  },
  {
   "cell_type": "code",
   "execution_count": null,
   "id": "4f092102",
   "metadata": {},
   "outputs": [],
   "source": []
  },
  {
   "attachments": {},
   "cell_type": "markdown",
   "id": "590d51c7",
   "metadata": {},
   "source": [
    "### calculate topic coherence\n"
   ]
  },
  {
   "cell_type": "code",
   "execution_count": 30,
   "id": "0dcbf8d6",
   "metadata": {},
   "outputs": [],
   "source": [
    "from gensim.models import CoherenceModel\n"
   ]
  },
  {
   "cell_type": "code",
   "execution_count": 32,
   "id": "88b3245a",
   "metadata": {},
   "outputs": [
    {
     "data": {
      "text/plain": [
       "0.07282392241152802"
      ]
     },
     "execution_count": 32,
     "metadata": {},
     "output_type": "execute_result"
    }
   ],
   "source": [
    "\n",
    "topic_coherence(trained_model, topics_representations, top_k_words=25)"
   ]
  },
  {
   "cell_type": "code",
   "execution_count": null,
   "id": "5e90c1a3",
   "metadata": {},
   "outputs": [],
   "source": []
  },
  {
   "cell_type": "code",
   "execution_count": 33,
   "id": "d0894523-55c2-4e9d-ad76-3132da53ad61",
   "metadata": {
    "pycharm": {
     "name": "#%%\n"
    }
   },
   "outputs": [
    {
     "name": "stdout",
     "output_type": "stream",
     "text": [
      "(0, '0.036*\"vlada\" + 0.015*\"stranka\" + 0.012*\"predsednik\" + 0.009*\"Janša\" + 0.008*\"minister\" + 0.008*\"predlog\" + 0.007*\"poslanec\" + 0.007*\"zakon\" + 0.007*\"državen\" + 0.006*\"političen\" + 0.006*\"medij\" + 0.006*\"koalicija\" + 0.006*\"volitev\" + 0.006*\"Janez\" + 0.005*\"javen\"')\n",
      "(1, '0.065*\"imeti\" + 0.009*\"čas\" + 0.007*\"iti\" + 0.007*\"težava\" + 0.006*\"zato\" + 0.006*\"vedeti\" + 0.006*\"star\" + 0.005*\"priti\" + 0.005*\"povedati\" + 0.005*\"delati\" + 0.005*\"treba\" + 0.004*\"dobiti\" + 0.004*\"bolnik\" + 0.004*\"narediti\" + 0.004*\"potrebovati\"')\n",
      "(2, '0.010*\"vozilo\" + 0.009*\"spleten\" + 0.008*\"policist\" + 0.007*\"podatek\" + 0.007*\"piškotek\" + 0.007*\"policija\" + 0.006*\"uporabnik\" + 0.006*\"avtomobil\" + 0.006*\"uporaba\" + 0.005*\"voznik\" + 0.005*\"uporabljati\" + 0.005*\"sistem\" + 0.005*\"omogočati\" + 0.004*\"aplikacija\" + 0.004*\"naprava\"')\n",
      "(3, '0.103*\"odstotek\" + 0.014*\"odstoten\" + 0.009*\"lani\" + 0.009*\"indeks\" + 0.008*\"rast\" + 0.007*\"točka\" + 0.007*\"primerjava\" + 0.007*\"raziskava\" + 0.006*\"dolar\" + 0.006*\"število\" + 0.006*\"vprašan\" + 0.006*\"nizek\" + 0.006*\"raven\" + 0.006*\"delež\" + 0.005*\"cena\"')\n",
      "(4, '0.019*\"tekma\" + 0.013*\"točka\" + 0.013*\"mesto\" + 0.011*\"zmaga\" + 0.010*\"minuta\" + 0.008*\"sezona\" + 0.007*\"konec\" + 0.007*\"slovenski\" + 0.007*\"ekipa\" + 0.007*\"igra\" + 0.006*\"svetoven\" + 0.005*\"dirka\" + 0.004*\"doseči\" + 0.004*\"prvenstvo\" + 0.004*\"domač\"')\n",
      "(5, '0.031*\"ukrep\" + 0.018*\"zdravstven\" + 0.016*\"dom\" + 0.014*\"epidemija\" + 0.008*\"človek\" + 0.008*\"zdravje\" + 0.008*\"virus\" + 0.008*\"koronavirus\" + 0.007*\"star\" + 0.007*\"zaposlen\" + 0.007*\"bolezen\" + 0.006*\"covid\" + 0.006*\"širjenje\" + 0.006*\"javen\" + 0.005*\"okužen\"')\n",
      "(6, '0.039*\"delo\" + 0.018*\"delavec\" + 0.017*\"delodajalec\" + 0.017*\"deloven\" + 0.016*\"plača\" + 0.015*\"zakon\" + 0.013*\"nadomestilo\" + 0.012*\"podjetje\" + 0.011*\"dohodnina\" + 0.010*\"čas\" + 0.009*\"zaposlen\" + 0.009*\"člen\" + 0.007*\"pravica\" + 0.006*\"dohodek\" + 0.006*\"povračilo\"')\n",
      "(7, '0.028*\"liga\" + 0.024*\"klub\" + 0.017*\"sezona\" + 0.016*\"tekma\" + 0.013*\"igralec\" + 0.011*\"nogometen\" + 0.011*\"igrati\" + 0.009*\"prvak\" + 0.009*\"ekipa\" + 0.008*\"prvenstvo\" + 0.008*\"evropski\" + 0.008*\"tekmovanje\" + 0.008*\"trener\" + 0.006*\"zveza\" + 0.006*\"športen\"')\n",
      "(8, '0.060*\"okužba\" + 0.036*\"nov\" + 0.029*\"koronavirus\" + 0.024*\"covid\" + 0.024*\"potrditi\" + 0.022*\"število\" + 0.020*\"bolnik\" + 0.017*\"umreti\" + 0.017*\"okužen\" + 0.016*\"človek\" + 0.012*\"bolnišnica\" + 0.009*\"test\" + 0.009*\"podatek\" + 0.008*\"doslej\" + 0.007*\"bolezen\"')\n",
      "(9, '0.044*\"država\" + 0.018*\"evropski\" + 0.008*\"meja\" + 0.008*\"hrvaški\" + 0.007*\"slovenski\" + 0.006*\"članica\" + 0.006*\"predsednik\" + 0.006*\"Evropa\" + 0.006*\"ZDA\" + 0.005*\"unija\" + 0.005*\"svet\" + 0.005*\"ameriški\" + 0.004*\"komisija\" + 0.004*\"Slovenija\" + 0.004*\"državljan\"')\n",
      "(10, '0.062*\"Slovenija\" + 0.020*\"dohodnina\" + 0.020*\"slovenski\" + 0.010*\"odmera\" + 0.009*\"napoved\" + 0.009*\"republika\" + 0.008*\"zveza\" + 0.008*\"dohodek\" + 0.006*\"Ljubljana\" + 0.006*\"izračun\" + 0.006*\"davčen\" + 0.006*\"podatek\" + 0.006*\"informativen\" + 0.005*\"član\" + 0.005*\"obrazec\"')\n",
      "(11, '0.069*\"otrok\" + 0.025*\"šola\" + 0.019*\"starš\" + 0.011*\"vrtec\" + 0.011*\"družina\" + 0.008*\"učenec\" + 0.007*\"šolski\" + 0.006*\"učitelj\" + 0.005*\"pomoč\" + 0.005*\"mlad\" + 0.005*\"osnoven\" + 0.005*\"izobraževanje\" + 0.004*\"pouk\" + 0.004*\"razred\" + 0.004*\"nasilje\"')\n",
      "(12, '0.097*\"nov\" + 0.021*\"koronavirus\" + 0.009*\"kitajski\" + 0.007*\"pandemija\" + 0.005*\"svet\" + 0.005*\"mesto\" + 0.005*\"podjetje\" + 0.005*\"začeti\" + 0.005*\"Ljubljana\" + 0.004*\"virus\" + 0.004*\"model\" + 0.004*\"ameriški\" + 0.003*\"začetek\" + 0.003*\"svetoven\" + 0.003*\"univerza\"')\n",
      "(13, '0.027*\"oprema\" + 0.020*\"zavod\" + 0.019*\"zaščiten\" + 0.019*\"maska\" + 0.016*\"podjetje\" + 0.014*\"pogodba\" + 0.010*\"ministrstvo\" + 0.007*\"posel\" + 0.007*\"ventilator\" + 0.007*\"minister\" + 0.007*\"blagoven\" + 0.006*\"rezerva\" + 0.006*\"cena\" + 0.006*\"nabava\" + 0.006*\"direktor\"')\n",
      "(14, '0.049*\"občina\" + 0.018*\"javen\" + 0.015*\"mesten\" + 0.012*\"občinski\" + 0.009*\"občan\" + 0.008*\"številka\" + 0.008*\"mesto\" + 0.007*\"prostor\" + 0.007*\"center\" + 0.006*\"telefonski\" + 0.006*\"območje\" + 0.006*\"pošta\" + 0.006*\"nadaljnji\" + 0.006*\"elektronski\" + 0.005*\"parkirišče\"')\n",
      "(15, '0.050*\"ura\" + 0.020*\"zaprt\" + 0.018*\"stranka\" + 0.014*\"čas\" + 0.014*\"nadaljnji\" + 0.011*\"številka\" + 0.011*\"pošta\" + 0.010*\"center\" + 0.009*\"telefon\" + 0.009*\"dom\" + 0.008*\"elektronski\" + 0.008*\"uraden\" + 0.008*\"Ljubljana\" + 0.007*\"telefonski\" + 0.007*\"nujen\"')\n",
      "(16, '0.012*\"čas\" + 0.008*\"življenje\" + 0.007*\"zato\" + 0.006*\"svet\" + 0.006*\"ljubezen\" + 0.004*\"pomemben\" + 0.004*\"delo\" + 0.004*\"odnos\" + 0.003*\"slovenski\" + 0.003*\"pot\" + 0.003*\"projekt\" + 0.003*\"film\" + 0.003*\"način\" + 0.003*\"knjiga\" + 0.003*\"začeti\"')\n",
      "(17, '0.055*\"evro\" + 0.026*\"milijon\" + 0.013*\"podjetje\" + 0.010*\"sredstvo\" + 0.009*\"milijarda\" + 0.008*\"družba\" + 0.007*\"projekt\" + 0.006*\"višina\" + 0.006*\"finančen\" + 0.006*\"prihodek\" + 0.006*\"vrednost\" + 0.006*\"banka\" + 0.005*\"proračun\" + 0.005*\"denar\" + 0.005*\"Ljubljana\"')\n",
      "(18, '0.034*\"človek\" + 0.019*\"imeti\" + 0.013*\"iti\" + 0.008*\"reči\" + 0.007*\"vedeti\" + 0.007*\"priti\" + 0.006*\"videti\" + 0.005*\"takrat\" + 0.005*\"misliti\" + 0.004*\"povedati\" + 0.004*\"virus\" + 0.004*\"govoriti\" + 0.004*\"delati\" + 0.004*\"Trump\" + 0.004*\"ZDA\"')\n",
      "(19, '0.086*\"Nbsp\" + 0.036*\"Ljubljana\" + 0.013*\"slovenski\" + 0.010*\"Slovenija\" + 0.008*\"svetoven\" + 0.007*\"postati\" + 0.006*\"evropski\" + 0.006*\"minister\" + 0.005*\"zveza\" + 0.005*\"predsednik\" + 0.005*\"mednaroden\" + 0.005*\"nov\" + 0.004*\"osvojiti\" + 0.004*\"konferenca\" + 0.004*\"svet\"')\n"
     ]
    }
   ],
   "source": [
    "topics = trained_model.print_topics(num_words=15)\n",
    "for topic in topics:\n",
    "    print(topic)\n"
   ]
  },
  {
   "cell_type": "code",
   "execution_count": 21,
   "id": "de202b06-d6b1-40f6-af02-a482f6bb29a9",
   "metadata": {
    "pycharm": {
     "name": "#%%\n"
    }
   },
   "outputs": [
    {
     "ename": "ModuleNotFoundError",
     "evalue": "No module named 'pyLDAvis'",
     "output_type": "error",
     "traceback": [
      "\u001b[0;31m---------------------------------------------------------------------------\u001b[0m",
      "\u001b[0;31mModuleNotFoundError\u001b[0m                       Traceback (most recent call last)",
      "\u001b[1;32m/home/jhladnik/masters-thesis/notebooks/04-LDA-toy-example-news.ipynb Cell 39\u001b[0m in \u001b[0;36m<cell line: 1>\u001b[0;34m()\u001b[0m\n\u001b[0;32m----> <a href='vscode-notebook-cell://ssh-remote%2Bcronos/home/jhladnik/masters-thesis/notebooks/04-LDA-toy-example-news.ipynb#X64sdnNjb2RlLXJlbW90ZQ%3D%3D?line=0'>1</a>\u001b[0m \u001b[39mimport\u001b[39;00m \u001b[39mpyLDAvis\u001b[39;00m\n\u001b[1;32m      <a href='vscode-notebook-cell://ssh-remote%2Bcronos/home/jhladnik/masters-thesis/notebooks/04-LDA-toy-example-news.ipynb#X64sdnNjb2RlLXJlbW90ZQ%3D%3D?line=1'>2</a>\u001b[0m \u001b[39mimport\u001b[39;00m \u001b[39mpyLDAvis\u001b[39;00m\u001b[39m.\u001b[39;00m\u001b[39mgensim_models\u001b[39;00m \u001b[39mas\u001b[39;00m \u001b[39mgensimvis\u001b[39;00m\n\u001b[1;32m      <a href='vscode-notebook-cell://ssh-remote%2Bcronos/home/jhladnik/masters-thesis/notebooks/04-LDA-toy-example-news.ipynb#X64sdnNjb2RlLXJlbW90ZQ%3D%3D?line=2'>3</a>\u001b[0m pyLDAvis\u001b[39m.\u001b[39menable_notebook()\n",
      "\u001b[0;31mModuleNotFoundError\u001b[0m: No module named 'pyLDAvis'"
     ]
    }
   ],
   "source": [
    "import pyLDAvis\n",
    "import pyLDAvis.gensim_models as gensimvis\n",
    "pyLDAvis.enable_notebook()\n",
    "\n",
    "# feed the LDA model into the pyLDAvis instance\n",
    "lda_viz = gensimvis.prepare(trained_model, corpus, dictionary)\n",
    "pyLDAvis.save_html(lda_viz, 'lda_news.html')\n"
   ]
  },
  {
   "cell_type": "code",
   "execution_count": null,
   "id": "bfaba09f",
   "metadata": {},
   "outputs": [],
   "source": []
  },
  {
   "attachments": {},
   "cell_type": "markdown",
   "id": "509e34b2-7cf0-49d2-afcc-224b028e6b47",
   "metadata": {
    "pycharm": {
     "name": "#%%\n"
    },
    "vscode": {
     "languageId": "python"
    }
   },
   "source": [
    "### NMF parameter evaluation"
   ]
  },
  {
   "cell_type": "code",
   "execution_count": null,
   "id": "83a6815e-b8a1-410c-819d-d733356e2578",
   "metadata": {
    "pycharm": {
     "name": "#%%\n"
    }
   },
   "outputs": [],
   "source": [
    "from gensim.corpora import Dictionary\n",
    "NUM_SAMPLES = 5000\n",
    "df = pd.read_parquet(\n",
    "    f'{ROOT_PATH}/data/eventregistry/df_news_lemmas_{NUM_SAMPLES}.parquet.gzip')\n",
    "\n",
    "dictionary = Dictionary(list(df['lemmatized_text']))\n",
    "corpus = [dictionary.doc2bow(text) for text in list(df['lemmatized_text'])]\n"
   ]
  },
  {
   "cell_type": "code",
   "execution_count": 9,
   "id": "af18487c",
   "metadata": {},
   "outputs": [
    {
     "name": "stdout",
     "output_type": "stream",
     "text": [
      "num_topics: 5\n",
      "num_topics: 8\n",
      "num_topics: 10\n",
      "num_topics: 15\n",
      "num_topics: 20\n",
      "num_topics: 30\n",
      "num_topics: 40\n",
      "num_topics: 50\n",
      "num_topics: 100\n",
      "num_topics: 5\n",
      "num_topics: 8\n",
      "num_topics: 10\n",
      "num_topics: 15\n",
      "num_topics: 20\n",
      "num_topics: 30\n",
      "num_topics: 40\n",
      "num_topics: 50\n",
      "num_topics: 100\n",
      "num_topics: 5\n",
      "num_topics: 8\n",
      "num_topics: 10\n",
      "num_topics: 15\n",
      "num_topics: 20\n",
      "num_topics: 30\n",
      "num_topics: 40\n",
      "num_topics: 50\n",
      "num_topics: 100\n",
      "CPU times: user 1h 40min 48s, sys: 4h 39min 8s, total: 6h 19min 57s\n",
      "Wall time: 12min 3s\n"
     ]
    }
   ],
   "source": [
    "%%time\n",
    "from evaluation import get_top_words_for_topics_lda, topic_diversity, topic_coherence\n",
    "\n",
    "# Set training parameters.\n",
    "#num_topics = 5\n",
    "chunksize = 2000\n",
    "passes = 20\n",
    "iterations = 400\n",
    "eval_every = None  # Don't evaluate model perplexity, takes too much time.\n",
    "\n",
    "# Make an index to word dictionary.\n",
    "temp = dictionary[0]  # This is only to \"load\" the dictionary.\n",
    "id2word = dictionary.id2token\n",
    "\n",
    "results_dict = {\"model_name\": [], \"num_topics\": [],\n",
    " \"topic_diversity\": [], \"topic_coherence\": [], \"seed\":[]}\n",
    "\n",
    "\n",
    "\n",
    "for seed in [1, 2, 3]:\n",
    "    for num_topics in [5, 8, 10, 15, 20, 30, 40, 50, 100]:\n",
    "        print(f\"num_topics: {num_topics}\")\n",
    "        trained_model = gensim.models.Nmf(\n",
    "            corpus=corpus,\n",
    "            id2word=id2word,\n",
    "            #chunksize=chunksize,\n",
    "            #alpha='auto',\n",
    "            #eta='auto',\n",
    "            #iterations=iterations,\n",
    "            num_topics=num_topics,\n",
    "            passes=passes,\n",
    "            eval_every=eval_every,\n",
    "            random_state=seed\n",
    "        )\n",
    "\n",
    "\n",
    "        topics_representations = get_top_words_for_topics_lda(trained_model, 25)\n",
    "        results_dict[\"model_name\"].append(\"NMF\")\n",
    "        results_dict[\"num_topics\"].append(num_topics)\n",
    "        results_dict[\"topic_diversity\"].append(topic_diversity(topics_representations, 25))\n",
    "        results_dict[\"topic_coherence\"].append(topic_coherence(df, trained_model, topics_representations, top_k_words=10))\n",
    "        results_dict[\"seed\"].append(seed)\n",
    "\n",
    "df_results_nmf = pd.DataFrame(results_dict)\n",
    "df_results_nmf.to_csv(f\"{ROOT_PATH}/masters-thesis/notebooks/nmf_news_results_{NUM_SAMPLES}.csv\", index=False)"
   ]
  },
  {
   "cell_type": "code",
   "execution_count": 15,
   "id": "c9b7235d",
   "metadata": {},
   "outputs": [],
   "source": [
    "\n",
    "df_results_nmf\n"
   ]
  },
  {
   "cell_type": "code",
   "execution_count": 18,
   "id": "d15e013b",
   "metadata": {},
   "outputs": [
    {
     "data": {
      "text/plain": [
       "<AxesSubplot:xlabel='num_topics', ylabel='topic_diversity'>"
      ]
     },
     "execution_count": 18,
     "metadata": {},
     "output_type": "execute_result"
    },
    {
     "data": {
      "image/png": "[encoded data removed]",
      "text/plain": [
       "<Figure size 432x288 with 1 Axes>"
      ]
     },
     "metadata": {
      "needs_background": "light"
     },
     "output_type": "display_data"
    }
   ],
   "source": [
    "import seaborn as sns\n",
    "\n",
    "sns.lineplot(data=df_results_nmf, x=\"num_topics\", y=\"topic_diversity\")"
   ]
  },
  {
   "cell_type": "code",
   "execution_count": null,
   "id": "60c07244",
   "metadata": {},
   "outputs": [],
   "source": []
  },
  {
   "attachments": {},
   "cell_type": "markdown",
   "id": "c560d16c",
   "metadata": {},
   "source": [
    "\n",
    "## NMF and LDA comparison"
   ]
  },
  {
   "cell_type": "code",
   "execution_count": 20,
   "id": "f85e65b6",
   "metadata": {},
   "outputs": [
    {
     "data": {
      "text/plain": [
       "<AxesSubplot:xlabel='num_topics', ylabel='topic_diversity'>"
      ]
     },
     "execution_count": 20,
     "metadata": {},
     "output_type": "execute_result"
    },
    {
     "data": {
      "image/png": "[encoded data removed]",
      "text/plain": [
       "<Figure size 432x288 with 1 Axes>"
      ]
     },
     "metadata": {
      "needs_background": "light"
     },
     "output_type": "display_data"
    }
   ],
   "source": [
    "df_both = pd.concat([df_results, df_results_nmf], axis=0)\n",
    "sns.lineplot(data=df_both, x=\"num_topics\", y=\"topic_diversity\", hue=\"model_name\")"
   ]
  },
  {
   "cell_type": "code",
   "execution_count": 21,
   "id": "a2833110",
   "metadata": {},
   "outputs": [
    {
     "data": {
      "text/plain": [
       "<AxesSubplot:xlabel='num_topics', ylabel='topic_coherence'>"
      ]
     },
     "execution_count": 21,
     "metadata": {},
     "output_type": "execute_result"
    },
    {
     "data": {
      "image/png": "[encoded data removed]",
      "text/plain": [
       "<Figure size 432x288 with 1 Axes>"
      ]
     },
     "metadata": {
      "needs_background": "light"
     },
     "output_type": "display_data"
    }
   ],
   "source": [
    "sns.lineplot(data=df_both, x=\"num_topics\", y=\"topic_coherence\", hue=\"model_name\")"
   ]
  },
  {
   "cell_type": "code",
   "execution_count": null,
   "id": "8a2aee15",
   "metadata": {},
   "outputs": [],
   "source": []
  },
  {
   "cell_type": "code",
   "execution_count": null,
   "id": "480d5254",
   "metadata": {},
   "outputs": [],
   "source": []
  }
 ],
 "metadata": {
  "kernelspec": {
   "display_name": "testenv",
   "language": "python",
   "name": "testenv"
  },
  "language_info": {
   "codemirror_mode": {
    "name": "ipython",
    "version": 3
   },
   "file_extension": ".py",
   "mimetype": "text/x-python",
   "name": "python",
   "nbconvert_exporter": "python",
   "pygments_lexer": "ipython3",
   "version": "3.9.13"
  },
  "vscode": {
   "interpreter": {
    "hash": "b205b86b5cca952d03a16e638da7174a06c83fcc310bd34d2a8c2608236d81e7"
   }
  }
 },
 "nbformat": 4,
 "nbformat_minor": 5
}
