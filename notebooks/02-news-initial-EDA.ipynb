{
 "cells": [
  {
   "cell_type": "code",
   "execution_count": 1,
   "id": "70e05ed5-2710-4d9d-9fbb-0abb121d5bfb",
   "metadata": {
    "pycharm": {
     "name": "#%%\n"
    }
   },
   "outputs": [],
   "source": [
    "import json\n",
    "import pandas as pd\n",
    "import numpy as np\n",
    "import os\n",
    "import gzip\n",
    "import seaborn as sns\n",
    "import matplotlib.pyplot as plt"
   ]
  },
  {
   "cell_type": "code",
   "execution_count": 3,
   "id": "f5d5d9ad-16cd-469a-a5cc-c0a31e317973",
   "metadata": {
    "pycharm": {
     "name": "#%%\n"
    }
   },
   "outputs": [
    {
     "data": {
      "text/html": [
       "<div>\n",
       "<style scoped>\n",
       "    .dataframe tbody tr th:only-of-type {\n",
       "        vertical-align: middle;\n",
       "    }\n",
       "\n",
       "    .dataframe tbody tr th {\n",
       "        vertical-align: top;\n",
       "    }\n",
       "\n",
       "    .dataframe thead th {\n",
       "        text-align: right;\n",
       "    }\n",
       "</style>\n",
       "<table border=\"1\" class=\"dataframe\">\n",
       "  <thead>\n",
       "    <tr style=\"text-align: right;\">\n",
       "      <th></th>\n",
       "      <th>body</th>\n",
       "      <th>media</th>\n",
       "      <th>title</th>\n",
       "      <th>date</th>\n",
       "    </tr>\n",
       "  </thead>\n",
       "  <tbody>\n",
       "    <tr>\n",
       "      <th>0</th>\n",
       "      <td>Ljubljana, 01. januarja (STA) - Vstopili smo v...</td>\n",
       "      <td>Slovenska tiskovna agencija STA</td>\n",
       "      <td>Več desettisoč ljudi novo leto pričakalo na pr...</td>\n",
       "      <td>2020-01-01</td>\n",
       "    </tr>\n",
       "    <tr>\n",
       "      <th>1</th>\n",
       "      <td>Številna slovenska večja in manjša mesta že tr...</td>\n",
       "      <td>MMC RTV Slovenija</td>\n",
       "      <td>V Sloveniji številni na prostem pričakali novo...</td>\n",
       "      <td>2020-01-01</td>\n",
       "    </tr>\n",
       "    <tr>\n",
       "      <th>2</th>\n",
       "      <td>Zmago Jelinčič Plemeniti je resnično plemenit ...</td>\n",
       "      <td>Časnik.si - Spletni magazin z mero</td>\n",
       "      <td>Šarec in Jelinčič ljubita Srbe, vohunstvo in k...</td>\n",
       "      <td>2020-01-01</td>\n",
       "    </tr>\n",
       "    <tr>\n",
       "      <th>3</th>\n",
       "      <td>Ob vstopu v novo leto je nebo nad Ljutomerom r...</td>\n",
       "      <td>Prlekija-on.net</td>\n",
       "      <td>Vstopili smo v leto 2020. Srečno!</td>\n",
       "      <td>2020-01-01</td>\n",
       "    </tr>\n",
       "    <tr>\n",
       "      <th>4</th>\n",
       "      <td>Vstopili smo v leto 2020. Številni so novo let...</td>\n",
       "      <td>Tednik Demokracija</td>\n",
       "      <td>Več desettisoč ljudi novo leto pričakalo na pr...</td>\n",
       "      <td>2020-01-01</td>\n",
       "    </tr>\n",
       "    <tr>\n",
       "      <th>...</th>\n",
       "      <td>...</td>\n",
       "      <td>...</td>\n",
       "      <td>...</td>\n",
       "      <td>...</td>\n",
       "    </tr>\n",
       "    <tr>\n",
       "      <th>450420</th>\n",
       "      <td>V ZDA se je do ponedeljka večer z novim korona...</td>\n",
       "      <td>PortalPolitikis</td>\n",
       "      <td>V ZDA s koronavirusom okuženih več kot 164.000...</td>\n",
       "      <td>2020-03-31</td>\n",
       "    </tr>\n",
       "    <tr>\n",
       "      <th>450421</th>\n",
       "      <td>\"Na začetku mislim, da smo vsi vse skupaj malc...</td>\n",
       "      <td>MMC RTV Slovenija</td>\n",
       "      <td>Samir Handanović doma karta, igra šah, bere kn...</td>\n",
       "      <td>2020-03-31</td>\n",
       "    </tr>\n",
       "    <tr>\n",
       "      <th>450422</th>\n",
       "      <td>Idrija - Območje krajinskega parka Zgornja Idr...</td>\n",
       "      <td>Delo</td>\n",
       "      <td>Krajinski park vendarle dobil upravljavca</td>\n",
       "      <td>2020-03-31</td>\n",
       "    </tr>\n",
       "    <tr>\n",
       "      <th>450423</th>\n",
       "      <td>Singapur, 31. marca (STA) - Cene nafte so se v...</td>\n",
       "      <td>Slovenska tiskovna agencija STA</td>\n",
       "      <td>Cene nafte nekoliko okrevale</td>\n",
       "      <td>2020-03-31</td>\n",
       "    </tr>\n",
       "    <tr>\n",
       "      <th>450424</th>\n",
       "      <td>Čeprav je zagrebški Dinamo trdno na prvem mest...</td>\n",
       "      <td>Športni Dnevnik Ekipa</td>\n",
       "      <td>VOJNA! Mamić je JAVNO 'raztrgal' trenerja DINA...</td>\n",
       "      <td>2020-03-31</td>\n",
       "    </tr>\n",
       "  </tbody>\n",
       "</table>\n",
       "<p>450425 rows × 4 columns</p>\n",
       "</div>"
      ],
      "text/plain": [
       "                                                     body  \\\n",
       "0       Ljubljana, 01. januarja (STA) - Vstopili smo v...   \n",
       "1       Številna slovenska večja in manjša mesta že tr...   \n",
       "2       Zmago Jelinčič Plemeniti je resnično plemenit ...   \n",
       "3       Ob vstopu v novo leto je nebo nad Ljutomerom r...   \n",
       "4       Vstopili smo v leto 2020. Številni so novo let...   \n",
       "...                                                   ...   \n",
       "450420  V ZDA se je do ponedeljka večer z novim korona...   \n",
       "450421  \"Na začetku mislim, da smo vsi vse skupaj malc...   \n",
       "450422  Idrija - Območje krajinskega parka Zgornja Idr...   \n",
       "450423  Singapur, 31. marca (STA) - Cene nafte so se v...   \n",
       "450424  Čeprav je zagrebški Dinamo trdno na prvem mest...   \n",
       "\n",
       "                                     media  \\\n",
       "0          Slovenska tiskovna agencija STA   \n",
       "1                        MMC RTV Slovenija   \n",
       "2       Časnik.si - Spletni magazin z mero   \n",
       "3                          Prlekija-on.net   \n",
       "4                       Tednik Demokracija   \n",
       "...                                    ...   \n",
       "450420                     PortalPolitikis   \n",
       "450421                   MMC RTV Slovenija   \n",
       "450422                                Delo   \n",
       "450423     Slovenska tiskovna agencija STA   \n",
       "450424               Športni Dnevnik Ekipa   \n",
       "\n",
       "                                                    title        date  \n",
       "0       Več desettisoč ljudi novo leto pričakalo na pr...  2020-01-01  \n",
       "1       V Sloveniji številni na prostem pričakali novo...  2020-01-01  \n",
       "2       Šarec in Jelinčič ljubita Srbe, vohunstvo in k...  2020-01-01  \n",
       "3                       Vstopili smo v leto 2020. Srečno!  2020-01-01  \n",
       "4       Več desettisoč ljudi novo leto pričakalo na pr...  2020-01-01  \n",
       "...                                                   ...         ...  \n",
       "450420  V ZDA s koronavirusom okuženih več kot 164.000...  2020-03-31  \n",
       "450421  Samir Handanović doma karta, igra šah, bere kn...  2020-03-31  \n",
       "450422         Krajinski park vendarle dobil upravljavca   2020-03-31  \n",
       "450423                       Cene nafte nekoliko okrevale  2020-03-31  \n",
       "450424  VOJNA! Mamić je JAVNO 'raztrgal' trenerja DINA...  2020-03-31  \n",
       "\n",
       "[450425 rows x 4 columns]"
      ]
     },
     "execution_count": 3,
     "metadata": {},
     "output_type": "execute_result"
    }
   ],
   "source": [
    "df_year_news = pd.read_parquet('C:/Users/hladn/FAKS/Magistrsko delo/data/eventregistry/df_news_2020.parquet.gzip')\n",
    "df_year_news"
   ]
  },
  {
   "cell_type": "code",
   "execution_count": 3,
   "id": "3979aebd",
   "metadata": {},
   "outputs": [
    {
     "data": {
      "text/html": [
       "<div>\n",
       "<style scoped>\n",
       "    .dataframe tbody tr th:only-of-type {\n",
       "        vertical-align: middle;\n",
       "    }\n",
       "\n",
       "    .dataframe tbody tr th {\n",
       "        vertical-align: top;\n",
       "    }\n",
       "\n",
       "    .dataframe thead th {\n",
       "        text-align: right;\n",
       "    }\n",
       "</style>\n",
       "<table border=\"1\" class=\"dataframe\">\n",
       "  <thead>\n",
       "    <tr style=\"text-align: right;\">\n",
       "      <th></th>\n",
       "      <th>body</th>\n",
       "      <th>media</th>\n",
       "      <th>title</th>\n",
       "      <th>date</th>\n",
       "    </tr>\n",
       "  </thead>\n",
       "  <tbody>\n",
       "    <tr>\n",
       "      <th>0</th>\n",
       "      <td>Portorož (MOREL)- Občina Piran je v sodelovanj...</td>\n",
       "      <td>Morel</td>\n",
       "      <td>\\n                            1\\n             ...</td>\n",
       "      <td>2021-12-16</td>\n",
       "    </tr>\n",
       "    <tr>\n",
       "      <th>1</th>\n",
       "      <td>Letošnja velika rast cen električne energije i...</td>\n",
       "      <td>preberi.si</td>\n",
       "      <td>Energetika.NET: Skok cen energije tudi v Slove...</td>\n",
       "      <td>2021-12-16</td>\n",
       "    </tr>\n",
       "    <tr>\n",
       "      <th>2</th>\n",
       "      <td>Dave Mustaine, šef skupine Megadeth in podjetj...</td>\n",
       "      <td>Rockline.si</td>\n",
       "      <td>Dave Mustaine (Megadeth) in podjetje Gibson pr...</td>\n",
       "      <td>2021-12-16</td>\n",
       "    </tr>\n",
       "    <tr>\n",
       "      <th>3</th>\n",
       "      <td>Zadnja polfinalna vozovnica na svetovnem prven...</td>\n",
       "      <td>ROKOMET.net</td>\n",
       "      <td>Zadnja polfinalna vozovnica pripadla Francozin...</td>\n",
       "      <td>2021-12-16</td>\n",
       "    </tr>\n",
       "    <tr>\n",
       "      <th>4</th>\n",
       "      <td>Opozorila\\n\\nRegionalna cesta Slovenski Javorn...</td>\n",
       "      <td>Gnes Dnevne Novice</td>\n",
       "      <td>Prometno poročilo, četrtek 16.december 2021 ob...</td>\n",
       "      <td>2021-12-16</td>\n",
       "    </tr>\n",
       "    <tr>\n",
       "      <th>...</th>\n",
       "      <td>...</td>\n",
       "      <td>...</td>\n",
       "      <td>...</td>\n",
       "      <td>...</td>\n",
       "    </tr>\n",
       "    <tr>\n",
       "      <th>1103797</th>\n",
       "      <td>Digitalna medijska agencija Httpool je na leto...</td>\n",
       "      <td>Marketing magazin</td>\n",
       "      <td>Agencija Httpool je osvojila priznanje LinkedI...</td>\n",
       "      <td>2021-03-28</td>\n",
       "    </tr>\n",
       "    <tr>\n",
       "      <th>1103798</th>\n",
       "      <td>Združenje evropskih mestnih turističnih in kon...</td>\n",
       "      <td>Marketing magazin</td>\n",
       "      <td>Petra Stušek na čelu združenja European Cities...</td>\n",
       "      <td>2021-03-28</td>\n",
       "    </tr>\n",
       "    <tr>\n",
       "      <th>1103799</th>\n",
       "      <td>Smo v tretjem valu epidemije. Najbolj obremenj...</td>\n",
       "      <td>vestnik.si</td>\n",
       "      <td>Polni žepi koronskih dodatkov: razkrivamo najv...</td>\n",
       "      <td>2021-03-28</td>\n",
       "    </tr>\n",
       "    <tr>\n",
       "      <th>1103800</th>\n",
       "      <td>Čakalna doba je na mejnih prehodih Obrežje in ...</td>\n",
       "      <td>Gnes Dnevne Novice</td>\n",
       "      <td>Prometno poročilo, ponedeljek 29.marec 2021 ob...</td>\n",
       "      <td>2021-03-28</td>\n",
       "    </tr>\n",
       "    <tr>\n",
       "      <th>1103801</th>\n",
       "      <td>Pogovor s Tesso Afshar, ameriško pisateljico s...</td>\n",
       "      <td>Aleteia.si</td>\n",
       "      <td>Tessa Afshar: Ko se boste nekoč zazrli v Jezus...</td>\n",
       "      <td>2021-03-28</td>\n",
       "    </tr>\n",
       "  </tbody>\n",
       "</table>\n",
       "<p>728427 rows × 4 columns</p>\n",
       "</div>"
      ],
      "text/plain": [
       "                                                      body  \\\n",
       "0        Portorož (MOREL)- Občina Piran je v sodelovanj...   \n",
       "1        Letošnja velika rast cen električne energije i...   \n",
       "2        Dave Mustaine, šef skupine Megadeth in podjetj...   \n",
       "3        Zadnja polfinalna vozovnica na svetovnem prven...   \n",
       "4        Opozorila\\n\\nRegionalna cesta Slovenski Javorn...   \n",
       "...                                                    ...   \n",
       "1103797  Digitalna medijska agencija Httpool je na leto...   \n",
       "1103798  Združenje evropskih mestnih turističnih in kon...   \n",
       "1103799  Smo v tretjem valu epidemije. Najbolj obremenj...   \n",
       "1103800  Čakalna doba je na mejnih prehodih Obrežje in ...   \n",
       "1103801  Pogovor s Tesso Afshar, ameriško pisateljico s...   \n",
       "\n",
       "                      media  \\\n",
       "0                     Morel   \n",
       "1                preberi.si   \n",
       "2               Rockline.si   \n",
       "3               ROKOMET.net   \n",
       "4        Gnes Dnevne Novice   \n",
       "...                     ...   \n",
       "1103797   Marketing magazin   \n",
       "1103798   Marketing magazin   \n",
       "1103799          vestnik.si   \n",
       "1103800  Gnes Dnevne Novice   \n",
       "1103801          Aleteia.si   \n",
       "\n",
       "                                                     title        date  \n",
       "0        \\n                            1\\n             ...  2021-12-16  \n",
       "1        Energetika.NET: Skok cen energije tudi v Slove...  2021-12-16  \n",
       "2        Dave Mustaine (Megadeth) in podjetje Gibson pr...  2021-12-16  \n",
       "3        Zadnja polfinalna vozovnica pripadla Francozin...  2021-12-16  \n",
       "4        Prometno poročilo, četrtek 16.december 2021 ob...  2021-12-16  \n",
       "...                                                    ...         ...  \n",
       "1103797  Agencija Httpool je osvojila priznanje LinkedI...  2021-03-28  \n",
       "1103798  Petra Stušek na čelu združenja European Cities...  2021-03-28  \n",
       "1103799  Polni žepi koronskih dodatkov: razkrivamo najv...  2021-03-28  \n",
       "1103800  Prometno poročilo, ponedeljek 29.marec 2021 ob...  2021-03-28  \n",
       "1103801  Tessa Afshar: Ko se boste nekoč zazrli v Jezus...  2021-03-28  \n",
       "\n",
       "[728427 rows x 4 columns]"
      ]
     },
     "execution_count": 3,
     "metadata": {},
     "output_type": "execute_result"
    }
   ],
   "source": [
    "df_year_news = pd.read_parquet('/home/jhladnik/data/eventregistry/df_news_2021.parquet.gzip')\n",
    "df_year_news"
   ]
  },
  {
   "cell_type": "code",
   "execution_count": 6,
   "id": "90ed23de",
   "metadata": {},
   "outputs": [],
   "source": [
    "stats = pd.read_csv('/home/jhladnik/data/eventregistry/event_registry_stats.tsv', sep='\\t')"
   ]
  },
  {
   "cell_type": "code",
   "execution_count": 8,
   "id": "af6cad12",
   "metadata": {},
   "outputs": [
    {
     "data": {
      "text/html": [
       "<div>\n",
       "<style scoped>\n",
       "    .dataframe tbody tr th:only-of-type {\n",
       "        vertical-align: middle;\n",
       "    }\n",
       "\n",
       "    .dataframe tbody tr th {\n",
       "        vertical-align: top;\n",
       "    }\n",
       "\n",
       "    .dataframe thead th {\n",
       "        text-align: right;\n",
       "    }\n",
       "</style>\n",
       "<table border=\"1\" class=\"dataframe\">\n",
       "  <thead>\n",
       "    <tr style=\"text-align: right;\">\n",
       "      <th></th>\n",
       "      <th>source_uri</th>\n",
       "      <th>2014</th>\n",
       "      <th>2015</th>\n",
       "      <th>2016</th>\n",
       "      <th>2017</th>\n",
       "      <th>2018</th>\n",
       "      <th>2019</th>\n",
       "      <th>2020</th>\n",
       "      <th>total</th>\n",
       "    </tr>\n",
       "  </thead>\n",
       "  <tbody>\n",
       "    <tr>\n",
       "      <th>0</th>\n",
       "      <td>siol.net</td>\n",
       "      <td>0</td>\n",
       "      <td>0</td>\n",
       "      <td>11907</td>\n",
       "      <td>22344</td>\n",
       "      <td>28098</td>\n",
       "      <td>25997</td>\n",
       "      <td>23968</td>\n",
       "      <td>112314</td>\n",
       "    </tr>\n",
       "    <tr>\n",
       "      <th>1</th>\n",
       "      <td>24ur.com</td>\n",
       "      <td>11825</td>\n",
       "      <td>13113</td>\n",
       "      <td>15560</td>\n",
       "      <td>15495</td>\n",
       "      <td>7607</td>\n",
       "      <td>18838</td>\n",
       "      <td>21293</td>\n",
       "      <td>103731</td>\n",
       "    </tr>\n",
       "    <tr>\n",
       "      <th>2</th>\n",
       "      <td>dnevnik.si</td>\n",
       "      <td>21626</td>\n",
       "      <td>4931</td>\n",
       "      <td>853</td>\n",
       "      <td>19384</td>\n",
       "      <td>24592</td>\n",
       "      <td>21143</td>\n",
       "      <td>15400</td>\n",
       "      <td>107929</td>\n",
       "    </tr>\n",
       "    <tr>\n",
       "      <th>3</th>\n",
       "      <td>financnitrgi.com</td>\n",
       "      <td>0</td>\n",
       "      <td>0</td>\n",
       "      <td>358</td>\n",
       "      <td>707</td>\n",
       "      <td>553</td>\n",
       "      <td>300</td>\n",
       "      <td>253</td>\n",
       "      <td>2171</td>\n",
       "    </tr>\n",
       "    <tr>\n",
       "      <th>4</th>\n",
       "      <td>gorenjskiglas.si</td>\n",
       "      <td>55</td>\n",
       "      <td>4410</td>\n",
       "      <td>6819</td>\n",
       "      <td>6791</td>\n",
       "      <td>7002</td>\n",
       "      <td>7162</td>\n",
       "      <td>7888</td>\n",
       "      <td>40127</td>\n",
       "    </tr>\n",
       "    <tr>\n",
       "      <th>5</th>\n",
       "      <td>rtvslo.si</td>\n",
       "      <td>13087</td>\n",
       "      <td>8423</td>\n",
       "      <td>31076</td>\n",
       "      <td>30288</td>\n",
       "      <td>33125</td>\n",
       "      <td>30691</td>\n",
       "      <td>35731</td>\n",
       "      <td>182421</td>\n",
       "    </tr>\n",
       "    <tr>\n",
       "      <th>6</th>\n",
       "      <td>vecer.com</td>\n",
       "      <td>292</td>\n",
       "      <td>7293</td>\n",
       "      <td>9009</td>\n",
       "      <td>16464</td>\n",
       "      <td>24546</td>\n",
       "      <td>16288</td>\n",
       "      <td>17054</td>\n",
       "      <td>90946</td>\n",
       "    </tr>\n",
       "    <tr>\n",
       "      <th>7</th>\n",
       "      <td>delo.si</td>\n",
       "      <td>29155</td>\n",
       "      <td>32762</td>\n",
       "      <td>32201</td>\n",
       "      <td>27613</td>\n",
       "      <td>12880</td>\n",
       "      <td>22367</td>\n",
       "      <td>22765</td>\n",
       "      <td>179743</td>\n",
       "    </tr>\n",
       "    <tr>\n",
       "      <th>8</th>\n",
       "      <td>svet24.si</td>\n",
       "      <td>0</td>\n",
       "      <td>0</td>\n",
       "      <td>8660</td>\n",
       "      <td>10594</td>\n",
       "      <td>0</td>\n",
       "      <td>0</td>\n",
       "      <td>0</td>\n",
       "      <td>19254</td>\n",
       "    </tr>\n",
       "    <tr>\n",
       "      <th>9</th>\n",
       "      <td>sta.si</td>\n",
       "      <td>16960</td>\n",
       "      <td>74108</td>\n",
       "      <td>93570</td>\n",
       "      <td>98490</td>\n",
       "      <td>96383</td>\n",
       "      <td>91605</td>\n",
       "      <td>101060</td>\n",
       "      <td>572176</td>\n",
       "    </tr>\n",
       "    <tr>\n",
       "      <th>10</th>\n",
       "      <td>slovenskenovice.si</td>\n",
       "      <td>488</td>\n",
       "      <td>20382</td>\n",
       "      <td>24037</td>\n",
       "      <td>23518</td>\n",
       "      <td>2581</td>\n",
       "      <td>12</td>\n",
       "      <td>20</td>\n",
       "      <td>71038</td>\n",
       "    </tr>\n",
       "    <tr>\n",
       "      <th>11</th>\n",
       "      <td>zurnal24.si</td>\n",
       "      <td>202</td>\n",
       "      <td>1329</td>\n",
       "      <td>8279</td>\n",
       "      <td>5243</td>\n",
       "      <td>0</td>\n",
       "      <td>6258</td>\n",
       "      <td>18082</td>\n",
       "      <td>39393</td>\n",
       "    </tr>\n",
       "    <tr>\n",
       "      <th>12</th>\n",
       "      <td>dolenjskilist.si</td>\n",
       "      <td>2291</td>\n",
       "      <td>3130</td>\n",
       "      <td>1103</td>\n",
       "      <td>3628</td>\n",
       "      <td>4215</td>\n",
       "      <td>3340</td>\n",
       "      <td>3632</td>\n",
       "      <td>21339</td>\n",
       "    </tr>\n",
       "    <tr>\n",
       "      <th>13</th>\n",
       "      <td>data.si</td>\n",
       "      <td>0</td>\n",
       "      <td>0</td>\n",
       "      <td>496</td>\n",
       "      <td>688</td>\n",
       "      <td>642</td>\n",
       "      <td>572</td>\n",
       "      <td>732</td>\n",
       "      <td>3130</td>\n",
       "    </tr>\n",
       "    <tr>\n",
       "      <th>14</th>\n",
       "      <td>ekipa.svet24.si</td>\n",
       "      <td>0</td>\n",
       "      <td>0</td>\n",
       "      <td>0</td>\n",
       "      <td>13239</td>\n",
       "      <td>15404</td>\n",
       "      <td>13882</td>\n",
       "      <td>12302</td>\n",
       "      <td>54827</td>\n",
       "    </tr>\n",
       "    <tr>\n",
       "      <th>15</th>\n",
       "      <td>prlekija-on.net</td>\n",
       "      <td>0</td>\n",
       "      <td>0</td>\n",
       "      <td>1244</td>\n",
       "      <td>1502</td>\n",
       "      <td>1238</td>\n",
       "      <td>2845</td>\n",
       "      <td>3122</td>\n",
       "      <td>9951</td>\n",
       "    </tr>\n",
       "    <tr>\n",
       "      <th>16</th>\n",
       "      <td>novice.si</td>\n",
       "      <td>0</td>\n",
       "      <td>0</td>\n",
       "      <td>564</td>\n",
       "      <td>1782</td>\n",
       "      <td>2161</td>\n",
       "      <td>2418</td>\n",
       "      <td>2222</td>\n",
       "      <td>9147</td>\n",
       "    </tr>\n",
       "    <tr>\n",
       "      <th>17</th>\n",
       "      <td>veza.sigledal.org</td>\n",
       "      <td>0</td>\n",
       "      <td>0</td>\n",
       "      <td>372</td>\n",
       "      <td>953</td>\n",
       "      <td>1238</td>\n",
       "      <td>1505</td>\n",
       "      <td>1316</td>\n",
       "      <td>5384</td>\n",
       "    </tr>\n",
       "    <tr>\n",
       "      <th>18</th>\n",
       "      <td>druzina.si</td>\n",
       "      <td>1624</td>\n",
       "      <td>2284</td>\n",
       "      <td>2021</td>\n",
       "      <td>1376</td>\n",
       "      <td>2718</td>\n",
       "      <td>2427</td>\n",
       "      <td>3105</td>\n",
       "      <td>15555</td>\n",
       "    </tr>\n",
       "    <tr>\n",
       "      <th>19</th>\n",
       "      <td>primorske.si</td>\n",
       "      <td>7091</td>\n",
       "      <td>13926</td>\n",
       "      <td>14415</td>\n",
       "      <td>11626</td>\n",
       "      <td>0</td>\n",
       "      <td>68</td>\n",
       "      <td>2411</td>\n",
       "      <td>49537</td>\n",
       "    </tr>\n",
       "  </tbody>\n",
       "</table>\n",
       "</div>"
      ],
      "text/plain": [
       "            source_uri   2014   2015   2016   2017   2018   2019    2020  \\\n",
       "0             siol.net      0      0  11907  22344  28098  25997   23968   \n",
       "1             24ur.com  11825  13113  15560  15495   7607  18838   21293   \n",
       "2           dnevnik.si  21626   4931    853  19384  24592  21143   15400   \n",
       "3     financnitrgi.com      0      0    358    707    553    300     253   \n",
       "4     gorenjskiglas.si     55   4410   6819   6791   7002   7162    7888   \n",
       "5            rtvslo.si  13087   8423  31076  30288  33125  30691   35731   \n",
       "6            vecer.com    292   7293   9009  16464  24546  16288   17054   \n",
       "7              delo.si  29155  32762  32201  27613  12880  22367   22765   \n",
       "8            svet24.si      0      0   8660  10594      0      0       0   \n",
       "9               sta.si  16960  74108  93570  98490  96383  91605  101060   \n",
       "10  slovenskenovice.si    488  20382  24037  23518   2581     12      20   \n",
       "11         zurnal24.si    202   1329   8279   5243      0   6258   18082   \n",
       "12    dolenjskilist.si   2291   3130   1103   3628   4215   3340    3632   \n",
       "13             data.si      0      0    496    688    642    572     732   \n",
       "14     ekipa.svet24.si      0      0      0  13239  15404  13882   12302   \n",
       "15     prlekija-on.net      0      0   1244   1502   1238   2845    3122   \n",
       "16           novice.si      0      0    564   1782   2161   2418    2222   \n",
       "17   veza.sigledal.org      0      0    372    953   1238   1505    1316   \n",
       "18          druzina.si   1624   2284   2021   1376   2718   2427    3105   \n",
       "19        primorske.si   7091  13926  14415  11626      0     68    2411   \n",
       "\n",
       "     total  \n",
       "0   112314  \n",
       "1   103731  \n",
       "2   107929  \n",
       "3     2171  \n",
       "4    40127  \n",
       "5   182421  \n",
       "6    90946  \n",
       "7   179743  \n",
       "8    19254  \n",
       "9   572176  \n",
       "10   71038  \n",
       "11   39393  \n",
       "12   21339  \n",
       "13    3130  \n",
       "14   54827  \n",
       "15    9951  \n",
       "16    9147  \n",
       "17    5384  \n",
       "18   15555  \n",
       "19   49537  "
      ]
     },
     "execution_count": 8,
     "metadata": {},
     "output_type": "execute_result"
    }
   ],
   "source": [
    "stats[:20]"
   ]
  },
  {
   "cell_type": "code",
   "execution_count": 80,
   "id": "dbcfd4b7-d936-4094-a960-5a30e374579e",
   "metadata": {
    "pycharm": {
     "name": "#%%\n"
    }
   },
   "outputs": [
    {
     "name": "stdout",
     "output_type": "stream",
     "text": [
      "<class 'pandas.core.frame.DataFrame'>\n",
      "RangeIndex: 450425 entries, 0 to 450424\n",
      "Data columns (total 4 columns):\n",
      " #   Column  Non-Null Count   Dtype         \n",
      "---  ------  --------------   -----         \n",
      " 0   body    450425 non-null  object        \n",
      " 1   media   450425 non-null  object        \n",
      " 2   title   450425 non-null  object        \n",
      " 3   date    450425 non-null  datetime64[ns]\n",
      "dtypes: datetime64[ns](1), object(3)\n",
      "memory usage: 13.7+ MB\n"
     ]
    }
   ],
   "source": [
    "df_year_news['date']= pd.to_datetime(df_year_news['date'])\n",
    "df_year_news.info()"
   ]
  },
  {
   "cell_type": "code",
   "execution_count": 66,
   "id": "ff8e9cfe-18b8-4f4d-9133-8086f04746cd",
   "metadata": {
    "pycharm": {
     "name": "#%%\n"
    }
   },
   "outputs": [
    {
     "data": {
      "text/html": [
       "<div>\n",
       "<style scoped>\n",
       "    .dataframe tbody tr th:only-of-type {\n",
       "        vertical-align: middle;\n",
       "    }\n",
       "\n",
       "    .dataframe tbody tr th {\n",
       "        vertical-align: top;\n",
       "    }\n",
       "\n",
       "    .dataframe thead th {\n",
       "        text-align: right;\n",
       "    }\n",
       "</style>\n",
       "<table border=\"1\" class=\"dataframe\">\n",
       "  <thead>\n",
       "    <tr style=\"text-align: right;\">\n",
       "      <th></th>\n",
       "      <th>media</th>\n",
       "      <th>counts</th>\n",
       "    </tr>\n",
       "  </thead>\n",
       "  <tbody>\n",
       "    <tr>\n",
       "      <th>0</th>\n",
       "      <td>194.249.67.10</td>\n",
       "      <td>1</td>\n",
       "    </tr>\n",
       "    <tr>\n",
       "      <th>1</th>\n",
       "      <td>24sata</td>\n",
       "      <td>6</td>\n",
       "    </tr>\n",
       "    <tr>\n",
       "      <th>2</th>\n",
       "      <td>24ur.com</td>\n",
       "      <td>21293</td>\n",
       "    </tr>\n",
       "    <tr>\n",
       "      <th>3</th>\n",
       "      <td>7Plus Regionalni Tjednik</td>\n",
       "      <td>1</td>\n",
       "    </tr>\n",
       "    <tr>\n",
       "      <th>4</th>\n",
       "      <td>7dni.pozareport.si</td>\n",
       "      <td>21</td>\n",
       "    </tr>\n",
       "    <tr>\n",
       "      <th>...</th>\n",
       "      <td>...</td>\n",
       "      <td>...</td>\n",
       "    </tr>\n",
       "    <tr>\n",
       "      <th>174</th>\n",
       "      <td>Šivalni stroji - podajte se v čudovit svet ust...</td>\n",
       "      <td>17</td>\n",
       "    </tr>\n",
       "    <tr>\n",
       "      <th>175</th>\n",
       "      <td>Športni Dnevnik Ekipa</td>\n",
       "      <td>12302</td>\n",
       "    </tr>\n",
       "    <tr>\n",
       "      <th>176</th>\n",
       "      <td>Žurnal24</td>\n",
       "      <td>18082</td>\n",
       "    </tr>\n",
       "    <tr>\n",
       "      <th>177</th>\n",
       "      <td>🍃 Metina lista</td>\n",
       "      <td>128</td>\n",
       "    </tr>\n",
       "    <tr>\n",
       "      <th>178</th>\n",
       "      <td>📻 Val 202</td>\n",
       "      <td>603</td>\n",
       "    </tr>\n",
       "  </tbody>\n",
       "</table>\n",
       "<p>179 rows × 2 columns</p>\n",
       "</div>"
      ],
      "text/plain": [
       "                                                 media  counts\n",
       "0                                        194.249.67.10       1\n",
       "1                                               24sata       6\n",
       "2                                             24ur.com   21293\n",
       "3                             7Plus Regionalni Tjednik       1\n",
       "4                                   7dni.pozareport.si      21\n",
       "..                                                 ...     ...\n",
       "174  Šivalni stroji - podajte se v čudovit svet ust...      17\n",
       "175                              Športni Dnevnik Ekipa   12302\n",
       "176                                           Žurnal24   18082\n",
       "177                                     🍃 Metina lista     128\n",
       "178                                          📻 Val 202     603\n",
       "\n",
       "[179 rows x 2 columns]"
      ]
     },
     "execution_count": 66,
     "metadata": {},
     "output_type": "execute_result"
    }
   ],
   "source": [
    "df_year_news_count = df_year_news[['media', 'title']].groupby(['media']).count().reset_index()\n",
    "df_year_news_count = df_year_news_count.rename(columns={\"title\": \"counts\"})\n",
    "df_year_news_count"
   ]
  },
  {
   "cell_type": "code",
   "execution_count": 69,
   "id": "17750bed-c29f-4b0f-a1ae-1abff0cbcd88",
   "metadata": {
    "pycharm": {
     "name": "#%%\n"
    }
   },
   "outputs": [
    {
     "name": "stderr",
     "output_type": "stream",
     "text": [
      "C:\\Users\\hladn\\miniconda3\\envs\\mag\\lib\\site-packages\\IPython\\core\\pylabtools.py:151: UserWarning: Glyph 128251 (\\N{RADIO}) missing from current font.\n",
      "  fig.canvas.print_figure(bytes_io, **kw)\n",
      "C:\\Users\\hladn\\miniconda3\\envs\\mag\\lib\\site-packages\\IPython\\core\\pylabtools.py:151: UserWarning: Glyph 127811 (\\N{LEAF FLUTTERING IN WIND}) missing from current font.\n",
      "  fig.canvas.print_figure(bytes_io, **kw)\n"
     ]
    },
    {
     "data": {
      "image/png": "[encoded data removed]",
      "text/plain": [
       "<Figure size 1500x600 with 1 Axes>"
      ]
     },
     "metadata": {},
     "output_type": "display_data"
    }
   ],
   "source": [
    "fig, axes = plt.subplots( figsize=(15, 6))\n",
    "#axes[0].plot(deltas, variances,  color = 'b', lw=1)\n",
    "#axes[0].set_xlabel('delta')\n",
    "#axes[0].set_ylabel('variance')\n",
    "#axes[1].plot(deltas, avg_rejection_rate,  color = 'r', lw=1)\n",
    "#axes[1].set_xlabel('delta')\n",
    "#axes[1].set_ylabel('rejection rate')\n",
    "sns.histplot(data=df_year_news, x=\"media\", ax = axes)\n",
    "axes.tick_params(axis='x', rotation=90, labelsize=5)\n",
    "\n",
    "#plt.savefig(\"MH_best_delta.png\", format='png', dpi=150, bbox_inches='tight')\n",
    "plt.show(sns)\n"
   ]
  },
  {
   "cell_type": "code",
   "execution_count": 71,
   "id": "b17877c1-cdbd-459f-8534-bd15875dfda9",
   "metadata": {
    "pycharm": {
     "name": "#%%\n"
    }
   },
   "outputs": [
    {
     "data": {
      "text/plain": [
       "366"
      ]
     },
     "execution_count": 71,
     "metadata": {},
     "output_type": "execute_result"
    }
   ],
   "source": [
    "df_year_news['date'].nunique()"
   ]
  },
  {
   "cell_type": "code",
   "execution_count": 83,
   "id": "12e7b836-0d40-459a-85b2-e059655d35e5",
   "metadata": {
    "pycharm": {
     "name": "#%%\n"
    }
   },
   "outputs": [
    {
     "data": {
      "image/png": "[encoded data removed]",
      "text/plain": [
       "<Figure size 2000x600 with 1 Axes>"
      ]
     },
     "metadata": {},
     "output_type": "display_data"
    }
   ],
   "source": [
    "fig, axes = plt.subplots( figsize=(20, 6))\n",
    "#axes[0].plot(deltas, variances,  color = 'b', lw=1)\n",
    "#axes[0].set_xlabel('delta')\n",
    "#axes[0].set_ylabel('variance')\n",
    "#axes[1].plot(deltas, avg_rejection_rate,  color = 'r', lw=1)\n",
    "#axes[1].set_xlabel('delta')\n",
    "#axes[1].set_ylabel('rejection rate')\n",
    "sns.histplot(data=df_year_news, x=\"date\", ax = axes, bins = 366)\n",
    "axes.tick_params(axis='x', rotation=90, labelsize=8)\n",
    "\n",
    "#plt.savefig(\"MH_best_delta.png\", format='png', dpi=150, bbox_inches='tight')\n",
    "plt.show(sns)"
   ]
  },
  {
   "cell_type": "code",
   "execution_count": null,
   "id": "8da6cfb1-5c98-431f-9f5c-c40eccabe08f",
   "metadata": {
    "pycharm": {
     "name": "#%%\n"
    }
   },
   "outputs": [],
   "source": []
  },
  {
   "cell_type": "code",
   "execution_count": null,
   "id": "8795be12-a750-4461-aff7-61073fde46e1",
   "metadata": {
    "pycharm": {
     "name": "#%%\n"
    }
   },
   "outputs": [],
   "source": []
  },
  {
   "cell_type": "code",
   "execution_count": null,
   "id": "5619f4e2-60a7-4e2c-bc52-f90069486abc",
   "metadata": {
    "pycharm": {
     "name": "#%%\n"
    }
   },
   "outputs": [],
   "source": []
  },
  {
   "cell_type": "markdown",
   "id": "6f0ba355-125d-4e87-b5be-a014a79e639b",
   "metadata": {
    "pycharm": {
     "name": "#%% md\n"
    }
   },
   "source": [
    "## classla experiments"
   ]
  },
  {
   "cell_type": "code",
   "execution_count": null,
   "id": "8313d0f8-dce4-4d68-9c0e-d7984ffbf961",
   "metadata": {
    "pycharm": {
     "name": "#%%\n"
    }
   },
   "outputs": [
    {
     "name": "stderr",
     "output_type": "stream",
     "text": [
      "2022-10-02 17:08:16 INFO: Loading these models for language: sl (Slovenian):\n",
      "===========================\n",
      "| Processor | Package     |\n",
      "---------------------------\n",
      "| tokenize  | nonstandard |\n",
      "| pos       | nonstandard |\n",
      "| lemma     | nonstandard |\n",
      "===========================\n",
      "\n",
      "2022-10-02 17:08:16 INFO: Use device: cpu\n",
      "2022-10-02 17:08:16 INFO: Loading: tokenize\n",
      "2022-10-02 17:08:16 INFO: Loading: pos\n",
      "2022-10-02 17:08:18 INFO: Loading: lemma\n",
      "2022-10-02 17:08:20 INFO: Done loading processors!\n"
     ]
    }
   ],
   "source": [
    "config = {\n",
    "    # Comma-separated list of processors to use\n",
    "    'processors': 'tokenize, pos, lemma',\n",
    "    'lang': 'sl',  # Language code for the language to build the Pipeline in\n",
    "    # Use pretokenized text as input and disable tokenization\n",
    "    'tokenize_pretokenized': False,\n",
    "    'use_gpu': True,\n",
    "    # initialize the default non-standard Slovenian pipeline, use hr for Croatian and sr for Serbian\n",
    "    'type': 'nonstandard'\n",
    "}\n",
    "nlp = classla.Pipeline(**config)\n"
   ]
  },
  {
   "cell_type": "code",
   "execution_count": null,
   "id": "848cdd01-fddc-4006-9011-94598ea582e9",
   "metadata": {
    "pycharm": {
     "name": "#%%\n"
    }
   },
   "outputs": [],
   "source": [
    "text_longer = \"Tekmovanje za modri trak se je januarja že začelo na polmaratonu v italijanskem Škocjanu ob Soči, drugi del bo aprila na istrskem maratonu, sledita še bovški in goriški maraton. organizatorji bovškega maratona so podpisali pogodbo o sodelovanju z lokalnim podjetjem mines ki se ukvarja s proizvodnjo vodovodnih izdelkov njihov vodilni program so sanitarne armature blizt e pred tem je bilo podjetje eno izmed glavnih sponzorjev z omenjeno pogodbo pa je postalo generalni pokrovitelj s podpisom večletne pogodbe o generalnem pokroviteljstvu se je prireditev preimenovala v blitz bovec maraton za sodelovanje so se v podjetju mines odločili saj želijo s tem pomagati lokalni skupnosti direktor matej klavora po drugi strani je to dosti mednarodno pomemben dogodek in tudi z vidika naše blagovne znamke sigurno nam lahko kaj pripomore glede prepoznavnosti predsednik portnega društva bovec maraton vasja vitez pa je o sodelovanju povedal verjamem da bo to res doprineslo dobre rezultate in še večje število udeležencev na bovec maratonu priprave na maraton so se začele v februarju takrat so se začeli pogovarjati o ureditvi tras na katerih bodo letos tudi blitz točke mi se ukvarjamo s proizvodnjo armatur tako da bomo postavili dve taki točki kjer bodo fizično tuši in se bodo tekmovalci lahko tudi stuširali med tekom nam je pojasnil matej klavora novost letošnjega maratona je pokalno tekmovanje za modri trak ki bo povezalo štiri polmaratone na slovenski in italijanski strani tekmuje se med italijani in slovenci tako da v moški konkurenci šteje prvih šest italijanov in šest slovencev v ženski pa tri ženske na naši strani in tri na sosednji zanimivo je da lahko tudi vsi posamezniki tekmujejo morajo imeti pa vsaj tri udeležbe na tekmovanjih nam je razložil vasja vitez tekmovanje za modri trak se je januarja že začelo na polmaratonu v italijanskem kocjanu ob soči drugi del bo aprila na istrskem maratonu sledita še bovški in goriški maraton\"\n"
   ]
  },
  {
   "cell_type": "code",
   "execution_count": null,
   "id": "91512851-0133-4a76-806a-5841c4c06271",
   "metadata": {
    "pycharm": {
     "name": "#%%\n"
    }
   },
   "outputs": [
    {
     "name": "stdout",
     "output_type": "stream",
     "text": [
      "CPU times: total: 9min 1s\n",
      "Wall time: 1min 30s\n"
     ]
    }
   ],
   "source": [
    "% % time\n",
    "for i in range(200):\n",
    "    doc = nlp(text_longer)     # run the pipeline\n"
   ]
  },
  {
   "cell_type": "code",
   "execution_count": null,
   "id": "08f5e153-03b5-441d-a317-3de0e229b59c",
   "metadata": {
    "pycharm": {
     "name": "#%%\n"
    }
   },
   "outputs": [],
   "source": [
    "df_200 = df.sample(200)\n"
   ]
  },
  {
   "cell_type": "code",
   "execution_count": null,
   "id": "387b588c-9b31-49cb-ba91-a79c6e61feac",
   "metadata": {
    "pycharm": {
     "name": "#%%\n"
    }
   },
   "outputs": [
    {
     "name": "stdout",
     "output_type": "stream",
     "text": [
      "CPU times: total: 8min 27s\n",
      "Wall time: 1min 25s\n"
     ]
    },
    {
     "data": {
      "text/plain": [
       "33029     [negotovost, kdaj, lahko, vrniti, teren, povzr...\n",
       "169792    [protestnik, zahtevati, odstop, vlada, Džazira...\n",
       "325416    [ameriški, različica, britanski, televizijski,...\n",
       "405613    [predčasen, volitev, odstotek, vprašan, voliti...\n",
       "10120     [zanimiv, lahko, dojemanje, avtomobilski, znam...\n",
       "                                ...                        \n",
       "368760    [televizija, Slovenija, poročati, neuraden, in...\n",
       "212217    [relativno, miren, etapa, pričakovanje, končat...\n",
       "79539     [človek, covid, hospitaliziran, intenziven, ne...\n",
       "356927    [šprint, kontiolahtij, dober, slovenski, biatl...\n",
       "162755    [družba, news, corporation, ustanoviti, danes,...\n",
       "Name: preprocessed_text, Length: 200, dtype: object"
      ]
     },
     "metadata": {},
     "output_type": "display_data"
    }
   ],
   "source": [
    "% % time\n",
    "df_200['preprocessed_text'].apply(classla_preprocess, args=(stop_words, nlp))\n"
   ]
  },
  {
   "cell_type": "code",
   "execution_count": null,
   "id": "df9b423e-10ca-4eb0-a8e4-e2e453fd18dd",
   "metadata": {
    "pycharm": {
     "name": "#%%\n"
    }
   },
   "outputs": [
    {
     "name": "stderr",
     "output_type": "stream",
     "text": [
      "2022-10-02 16:33:48 INFO: Loading these models for language: sl (Slovenian):\n",
      "===========================\n",
      "| Processor | Package     |\n",
      "---------------------------\n",
      "| tokenize  | nonstandard |\n",
      "| pos       | nonstandard |\n",
      "| lemma     | nonstandard |\n",
      "| depparse  | standard    |\n",
      "| ner       | nonstandard |\n",
      "===========================\n",
      "\n",
      "2022-10-02 16:33:48 INFO: Use device: cpu\n",
      "2022-10-02 16:33:48 INFO: Loading: tokenize\n",
      "2022-10-02 16:33:48 INFO: Loading: pos\n",
      "2022-10-02 16:33:49 INFO: Loading: lemma\n",
      "2022-10-02 16:33:51 INFO: Loading: depparse\n",
      "2022-10-02 16:33:52 INFO: Loading: ner\n",
      "2022-10-02 16:33:52 INFO: Done loading processors!\n"
     ]
    },
    {
     "name": "stdout",
     "output_type": "stream",
     "text": [
      "# newpar id = 1\n",
      "# sent_id = 1.1\n",
      "# text = kva smo mi zural zadn let v zagrebu...\n",
      "1\tkva\tkaj\tPRON\tPq-nsa\tCase=Acc|Gender=Neut|Number=Sing|PronType=Int\t4\tobj\t_\tNER=O\n",
      "2\tsmo\tbiti\tAUX\tVa-r1p-n\tMood=Ind|Number=Plur|Person=1|Polarity=Pos|Tense=Pres|VerbForm=Fin\t4\taux\t_\tNER=O\n",
      "3\tmi\tjaz\tPRON\tPp1-sd--y\tCase=Dat|Number=Plur|Person=1|PronType=Prs|Variant=Short\t4\tiobj\t_\tNER=O\n",
      "4\tzural\tzurati\tVERB\tVmep-pm\tAspect=Perf|Gender=Masc|Number=Plur|VerbForm=Part\t0\troot\t_\tNER=O\n",
      "5\tzadn\tzadnji\tADJ\tAgpnsa\tCase=Acc|Degree=Pos|Gender=Masc|Number=Sing\t6\tamod\t_\tNER=O\n",
      "6\tlet\tleto\tNOUN\tNcnsa\tCase=Acc|Gender=Neut|Number=Sing\t4\tobl\t_\tNER=O\n",
      "7\tv\tv\tADP\tSl\tCase=Loc\t8\tcase\t_\tNER=O\n",
      "8\tzagrebu\tZagreb\tPROPN\tNpmsl\tCase=Loc|Gender=Masc|Number=Sing\t4\tobl\t_\tNER=B-LOC|SpaceAfter=No\n",
      "9\t...\t...\tPUNCT\tZ\t_\t4\tpunct\t_\tNER=O\n",
      "\n",
      "\n"
     ]
    }
   ],
   "source": [
    "# initialize the default non-standard Slovenian pipeline, use hr for Croatian and sr for Serbian\n",
    "nlp = classla.Pipeline('sl', type='nonstandard')\n",
    "doc = nlp(\"kva smo mi zural zadn let v zagrebu...\")     # run the pipeline\n",
    "print(doc.to_conll())\n"
   ]
  },
  {
   "cell_type": "code",
   "execution_count": null,
   "id": "3ccba480-9522-48e3-9382-d528484e0415",
   "metadata": {
    "pycharm": {
     "name": "#%%\n"
    }
   },
   "outputs": [],
   "source": []
  }
 ],
 "metadata": {
  "kernelspec": {
   "display_name": "testenv",
   "language": "python",
   "name": "python3"
  },
  "language_info": {
   "codemirror_mode": {
    "name": "ipython",
    "version": 3
   },
   "file_extension": ".py",
   "mimetype": "text/x-python",
   "name": "python",
   "nbconvert_exporter": "python",
   "pygments_lexer": "ipython3",
   "version": "3.9.13"
  },
  "vscode": {
   "interpreter": {
    "hash": "72b179da737fddc19cfa4a6adf10bcbe0bdf652d16755c40e574ce14c6f8bd7a"
   }
  }
 },
 "nbformat": 4,
 "nbformat_minor": 5
}
