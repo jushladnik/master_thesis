{
 "cells": [
  {
   "cell_type": "code",
   "execution_count": 2,
   "id": "759d9da7-5efa-4c47-8073-741c4bfe31e0",
   "metadata": {
    "pycharm": {
     "name": "#%%\n"
    }
   },
   "outputs": [],
   "source": [
    "import json\n",
    "import pandas as pd\n",
    "import numpy as np\n",
    "import os\n",
    "import gzip\n",
    "\n",
    "\n",
    "from read_data import read_year_news_raw_into_df, read_tweets_raw_into_df\n"
   ]
  },
  {
   "cell_type": "markdown",
   "id": "2c82ebee-27c2-479d-85fe-fb6b7601b9d3",
   "metadata": {
    "pycharm": {
     "name": "#%% md\n"
    }
   },
   "source": [
    "# read news data and select relevant info into dataframe"
   ]
  },
  {
   "cell_type": "code",
   "execution_count": 6,
   "id": "d7306edc-656d-4d12-9717-fc49821ec6e5",
   "metadata": {
    "pycharm": {
     "name": "#%%\n"
    }
   },
   "outputs": [
    {
     "ename": "FileNotFoundError",
     "evalue": "[Errno 2] No such file or directory: '/home/jhladnik/data/eventregistry/2020'",
     "output_type": "error",
     "traceback": [
      "\u001b[0;31m---------------------------------------------------------------------------\u001b[0m",
      "\u001b[0;31mFileNotFoundError\u001b[0m                         Traceback (most recent call last)",
      "File \u001b[0;32m<timed exec>:3\u001b[0m, in \u001b[0;36m<module>\u001b[0;34m\u001b[0m\n",
      "File \u001b[0;32m~/masters-thesis/notebooks/read_data.py:61\u001b[0m, in \u001b[0;36mread_year_news_raw_into_df\u001b[0;34m(path, year)\u001b[0m\n\u001b[1;32m     59\u001b[0m year_path \u001b[39m=\u001b[39m os\u001b[39m.\u001b[39mpath\u001b[39m.\u001b[39mjoin(path, year)\n\u001b[1;32m     60\u001b[0m df_year \u001b[39m=\u001b[39m pd\u001b[39m.\u001b[39mDataFrame()\n\u001b[0;32m---> 61\u001b[0m \u001b[39mfor\u001b[39;00m filename \u001b[39min\u001b[39;00m tqdm(os\u001b[39m.\u001b[39;49mlistdir(year_path)):\n\u001b[1;32m     62\u001b[0m     \u001b[39m# print(filename)\u001b[39;00m\n\u001b[1;32m     64\u001b[0m     f \u001b[39m=\u001b[39m os\u001b[39m.\u001b[39mpath\u001b[39m.\u001b[39mjoin(year_path, filename)\n\u001b[1;32m     65\u001b[0m     \u001b[39m# checking if it is a file\u001b[39;00m\n",
      "\u001b[0;31mFileNotFoundError\u001b[0m: [Errno 2] No such file or directory: '/home/jhladnik/data/eventregistry/2020'"
     ]
    }
   ],
   "source": [
    "%%time\n",
    "EVENTREGISTRY_PATH = \"C:/Users/hladn/FAKS/Magistrsko delo/data/eventregistry\"\n",
    "EVENTREGISTRY_PATH = \"/home/jhladnik/data/eventregistry\"\n",
    "df_year_news = read_year_news_raw_into_df(EVENTREGISTRY_PATH, '2020')\n",
    "df_year_news\n"
   ]
  },
  {
   "cell_type": "code",
   "execution_count": 4,
   "id": "b1f5ebd9-c2c8-48db-b7ea-3860fe7ebfe7",
   "metadata": {
    "pycharm": {
     "name": "#%%\n"
    }
   },
   "outputs": [
    {
     "name": "stdout",
     "output_type": "stream",
     "text": [
      "CPU times: total: 1min 3s\n",
      "Wall time: 1min 3s\n"
     ]
    }
   ],
   "source": [
    "% % time\n",
    "df_year_news.to_parquet(\n",
    "    'C:/Users/hladn/FAKS/Magistrsko delo/data/eventregistry/df_news_2020.parquet.gzip', compression='gzip')\n"
   ]
  },
  {
   "cell_type": "code",
   "execution_count": 5,
   "id": "89252be1-7be7-4aff-973b-719f65d0d04b",
   "metadata": {
    "pycharm": {
     "name": "#%%\n"
    }
   },
   "outputs": [
    {
     "name": "stdout",
     "output_type": "stream",
     "text": [
      "CPU times: total: 6.83 s\n",
      "Wall time: 6.81 s\n"
     ]
    },
    {
     "data": {
      "text/html": [
       "<div>\n",
       "<style scoped>\n",
       "    .dataframe tbody tr th:only-of-type {\n",
       "        vertical-align: middle;\n",
       "    }\n",
       "\n",
       "    .dataframe tbody tr th {\n",
       "        vertical-align: top;\n",
       "    }\n",
       "\n",
       "    .dataframe thead th {\n",
       "        text-align: right;\n",
       "    }\n",
       "</style>\n",
       "<table border=\"1\" class=\"dataframe\">\n",
       "  <thead>\n",
       "    <tr style=\"text-align: right;\">\n",
       "      <th></th>\n",
       "      <th>body</th>\n",
       "      <th>media</th>\n",
       "      <th>title</th>\n",
       "      <th>date</th>\n",
       "    </tr>\n",
       "  </thead>\n",
       "  <tbody>\n",
       "    <tr>\n",
       "      <th>0</th>\n",
       "      <td>Ljubljana, 01. januarja (STA) - Vstopili smo v...</td>\n",
       "      <td>Slovenska tiskovna agencija STA</td>\n",
       "      <td>Več desettisoč ljudi novo leto pričakalo na pr...</td>\n",
       "      <td>2020-01-01</td>\n",
       "    </tr>\n",
       "    <tr>\n",
       "      <th>1</th>\n",
       "      <td>Številna slovenska večja in manjša mesta že tr...</td>\n",
       "      <td>MMC RTV Slovenija</td>\n",
       "      <td>V Sloveniji številni na prostem pričakali novo...</td>\n",
       "      <td>2020-01-01</td>\n",
       "    </tr>\n",
       "    <tr>\n",
       "      <th>2</th>\n",
       "      <td>Zmago Jelinčič Plemeniti je resnično plemenit ...</td>\n",
       "      <td>Časnik.si - Spletni magazin z mero</td>\n",
       "      <td>Šarec in Jelinčič ljubita Srbe, vohunstvo in k...</td>\n",
       "      <td>2020-01-01</td>\n",
       "    </tr>\n",
       "    <tr>\n",
       "      <th>3</th>\n",
       "      <td>Ob vstopu v novo leto je nebo nad Ljutomerom r...</td>\n",
       "      <td>Prlekija-on.net</td>\n",
       "      <td>Vstopili smo v leto 2020. Srečno!</td>\n",
       "      <td>2020-01-01</td>\n",
       "    </tr>\n",
       "    <tr>\n",
       "      <th>4</th>\n",
       "      <td>Vstopili smo v leto 2020. Številni so novo let...</td>\n",
       "      <td>Tednik Demokracija</td>\n",
       "      <td>Več desettisoč ljudi novo leto pričakalo na pr...</td>\n",
       "      <td>2020-01-01</td>\n",
       "    </tr>\n",
       "    <tr>\n",
       "      <th>...</th>\n",
       "      <td>...</td>\n",
       "      <td>...</td>\n",
       "      <td>...</td>\n",
       "      <td>...</td>\n",
       "    </tr>\n",
       "    <tr>\n",
       "      <th>450420</th>\n",
       "      <td>V ZDA se je do ponedeljka večer z novim korona...</td>\n",
       "      <td>PortalPolitikis</td>\n",
       "      <td>V ZDA s koronavirusom okuženih več kot 164.000...</td>\n",
       "      <td>2020-03-31</td>\n",
       "    </tr>\n",
       "    <tr>\n",
       "      <th>450421</th>\n",
       "      <td>\"Na začetku mislim, da smo vsi vse skupaj malc...</td>\n",
       "      <td>MMC RTV Slovenija</td>\n",
       "      <td>Samir Handanović doma karta, igra šah, bere kn...</td>\n",
       "      <td>2020-03-31</td>\n",
       "    </tr>\n",
       "    <tr>\n",
       "      <th>450422</th>\n",
       "      <td>Idrija - Območje krajinskega parka Zgornja Idr...</td>\n",
       "      <td>Delo</td>\n",
       "      <td>Krajinski park vendarle dobil upravljavca</td>\n",
       "      <td>2020-03-31</td>\n",
       "    </tr>\n",
       "    <tr>\n",
       "      <th>450423</th>\n",
       "      <td>Singapur, 31. marca (STA) - Cene nafte so se v...</td>\n",
       "      <td>Slovenska tiskovna agencija STA</td>\n",
       "      <td>Cene nafte nekoliko okrevale</td>\n",
       "      <td>2020-03-31</td>\n",
       "    </tr>\n",
       "    <tr>\n",
       "      <th>450424</th>\n",
       "      <td>Čeprav je zagrebški Dinamo trdno na prvem mest...</td>\n",
       "      <td>Športni Dnevnik Ekipa</td>\n",
       "      <td>VOJNA! Mamić je JAVNO 'raztrgal' trenerja DINA...</td>\n",
       "      <td>2020-03-31</td>\n",
       "    </tr>\n",
       "  </tbody>\n",
       "</table>\n",
       "<p>450425 rows × 4 columns</p>\n",
       "</div>"
      ],
      "text/plain": [
       "                                                     body  \\\n",
       "0       Ljubljana, 01. januarja (STA) - Vstopili smo v...   \n",
       "1       Številna slovenska večja in manjša mesta že tr...   \n",
       "2       Zmago Jelinčič Plemeniti je resnično plemenit ...   \n",
       "3       Ob vstopu v novo leto je nebo nad Ljutomerom r...   \n",
       "4       Vstopili smo v leto 2020. Številni so novo let...   \n",
       "...                                                   ...   \n",
       "450420  V ZDA se je do ponedeljka večer z novim korona...   \n",
       "450421  \"Na začetku mislim, da smo vsi vse skupaj malc...   \n",
       "450422  Idrija - Območje krajinskega parka Zgornja Idr...   \n",
       "450423  Singapur, 31. marca (STA) - Cene nafte so se v...   \n",
       "450424  Čeprav je zagrebški Dinamo trdno na prvem mest...   \n",
       "\n",
       "                                     media  \\\n",
       "0          Slovenska tiskovna agencija STA   \n",
       "1                        MMC RTV Slovenija   \n",
       "2       Časnik.si - Spletni magazin z mero   \n",
       "3                          Prlekija-on.net   \n",
       "4                       Tednik Demokracija   \n",
       "...                                    ...   \n",
       "450420                     PortalPolitikis   \n",
       "450421                   MMC RTV Slovenija   \n",
       "450422                                Delo   \n",
       "450423     Slovenska tiskovna agencija STA   \n",
       "450424               Športni Dnevnik Ekipa   \n",
       "\n",
       "                                                    title        date  \n",
       "0       Več desettisoč ljudi novo leto pričakalo na pr...  2020-01-01  \n",
       "1       V Sloveniji številni na prostem pričakali novo...  2020-01-01  \n",
       "2       Šarec in Jelinčič ljubita Srbe, vohunstvo in k...  2020-01-01  \n",
       "3                       Vstopili smo v leto 2020. Srečno!  2020-01-01  \n",
       "4       Več desettisoč ljudi novo leto pričakalo na pr...  2020-01-01  \n",
       "...                                                   ...         ...  \n",
       "450420  V ZDA s koronavirusom okuženih več kot 164.000...  2020-03-31  \n",
       "450421  Samir Handanović doma karta, igra šah, bere kn...  2020-03-31  \n",
       "450422         Krajinski park vendarle dobil upravljavca   2020-03-31  \n",
       "450423                       Cene nafte nekoliko okrevale  2020-03-31  \n",
       "450424  VOJNA! Mamić je JAVNO 'raztrgal' trenerja DINA...  2020-03-31  \n",
       "\n",
       "[450425 rows x 4 columns]"
      ]
     },
     "execution_count": 5,
     "metadata": {},
     "output_type": "execute_result"
    }
   ],
   "source": [
    "% % time\n",
    "df_year_news = pd.read_parquet(\n",
    "    'C:/Users/hladn/FAKS/Magistrsko delo/data/eventregistry/df_news_2020.parquet.gzip')\n",
    "df_year_news\n"
   ]
  },
  {
   "cell_type": "markdown",
   "id": "18f210e4",
   "metadata": {
    "collapsed": false,
    "pycharm": {
     "name": "#%%\n"
    }
   },
   "source": [
    "# reading tweet data and selecting relevant attributes into a dataframe"
   ]
  },
  {
   "cell_type": "code",
   "execution_count": 2,
   "id": "b32ccfc0-23db-442f-9a39-1f041a1d7d8e",
   "metadata": {
    "pycharm": {
     "name": "#%%\n"
    }
   },
   "outputs": [
    {
     "name": "stderr",
     "output_type": "stream",
     "text": [
      "100%|██████████| 121/121 [27:49<00:00, 13.79s/it]\n"
     ]
    },
    {
     "name": "stdout",
     "output_type": "stream",
     "text": [
      "CPU times: total: 30min 27s\n",
      "Wall time: 30min 42s\n"
     ]
    }
   ],
   "source": [
    "% % time\n",
    "\n",
    "TWEETS_PATH = \"C:/Users/hladn/FAKS/Magistrsko delo/data/sl-tweets/sl-tweets-2021\"\n",
    "all_tweets = read_tweets_raw_into_df(TWEETS_PATH)\n",
    "all_tweets.to_parquet(\n",
    "    'C:/Users/hladn/FAKS/Magistrsko delo/data/sl-tweets/df_sl_tweets_21.parquet.gzip', compression='gzip')\n"
   ]
  },
  {
   "cell_type": "code",
   "execution_count": 3,
   "id": "30e3576e-39ac-4271-8da1-cb2fee6d1832",
   "metadata": {
    "pycharm": {
     "name": "#%%\n"
    }
   },
   "outputs": [
    {
     "name": "stdout",
     "output_type": "stream",
     "text": [
      "CPU times: total: 35.2 s\n",
      "Wall time: 43.9 s\n"
     ]
    },
    {
     "data": {
      "text/html": [
       "<div>\n",
       "<style scoped>\n",
       "    .dataframe tbody tr th:only-of-type {\n",
       "        vertical-align: middle;\n",
       "    }\n",
       "\n",
       "    .dataframe tbody tr th {\n",
       "        vertical-align: top;\n",
       "    }\n",
       "\n",
       "    .dataframe thead th {\n",
       "        text-align: right;\n",
       "    }\n",
       "</style>\n",
       "<table border=\"1\" class=\"dataframe\">\n",
       "  <thead>\n",
       "    <tr style=\"text-align: right;\">\n",
       "      <th></th>\n",
       "      <th>full_text</th>\n",
       "      <th>created_at</th>\n",
       "      <th>user_screen_name</th>\n",
       "      <th>in_reply_to_user_id</th>\n",
       "      <th>is_quote_status</th>\n",
       "      <th>user_id</th>\n",
       "      <th>id</th>\n",
       "    </tr>\n",
       "  </thead>\n",
       "  <tbody>\n",
       "    <tr>\n",
       "      <th>0</th>\n",
       "      <td>Skrivnost ženske https://t.co/BcYeRacFol</td>\n",
       "      <td>Sun Jan 17 18:35:26 +0000 2021</td>\n",
       "      <td>Karmen5</td>\n",
       "      <td>NaN</td>\n",
       "      <td>False</td>\n",
       "      <td>36331012</td>\n",
       "      <td>1350874387394797578</td>\n",
       "    </tr>\n",
       "    <tr>\n",
       "      <th>1</th>\n",
       "      <td>Duhovni odmik za ženske MARIJA MAGDALENA – Žen...</td>\n",
       "      <td>Tue Apr 06 10:44:07 +0000 2021</td>\n",
       "      <td>Karmen5</td>\n",
       "      <td>NaN</td>\n",
       "      <td>False</td>\n",
       "      <td>36331012</td>\n",
       "      <td>1379384416384999425</td>\n",
       "    </tr>\n",
       "    <tr>\n",
       "      <th>2</th>\n",
       "      <td>@Janez_Mezan Kljub temu jabka ne pade daleč od...</td>\n",
       "      <td>Fri Jan 01 14:14:01 +0000 2021</td>\n",
       "      <td>marjandv</td>\n",
       "      <td>2.354632e+09</td>\n",
       "      <td>False</td>\n",
       "      <td>131540541</td>\n",
       "      <td>1345010394352541696</td>\n",
       "    </tr>\n",
       "    <tr>\n",
       "      <th>3</th>\n",
       "      <td>@Japreva Si pa res čuden.</td>\n",
       "      <td>Fri Jan 01 21:54:05 +0000 2021</td>\n",
       "      <td>marjandv</td>\n",
       "      <td>4.343839e+08</td>\n",
       "      <td>False</td>\n",
       "      <td>131540541</td>\n",
       "      <td>1345126173571952645</td>\n",
       "    </tr>\n",
       "    <tr>\n",
       "      <th>4</th>\n",
       "      <td>@Janez_Mezan @Dnevnik_si Levak odpre usta in s...</td>\n",
       "      <td>Mon Jan 04 18:51:20 +0000 2021</td>\n",
       "      <td>marjandv</td>\n",
       "      <td>2.354632e+09</td>\n",
       "      <td>False</td>\n",
       "      <td>131540541</td>\n",
       "      <td>1346167347560783874</td>\n",
       "    </tr>\n",
       "    <tr>\n",
       "      <th>...</th>\n",
       "      <td>...</td>\n",
       "      <td>...</td>\n",
       "      <td>...</td>\n",
       "      <td>...</td>\n",
       "      <td>...</td>\n",
       "      <td>...</td>\n",
       "      <td>...</td>\n",
       "    </tr>\n",
       "    <tr>\n",
       "      <th>11920896</th>\n",
       "      <td>RT @VRUNDRAGICA: @strankaSD Vi ste pustili pra...</td>\n",
       "      <td>Thu Mar 18 15:06:37 +0000 2021</td>\n",
       "      <td>MartinTincek</td>\n",
       "      <td>NaN</td>\n",
       "      <td>False</td>\n",
       "      <td>1055402646</td>\n",
       "      <td>1372565109550243851</td>\n",
       "    </tr>\n",
       "    <tr>\n",
       "      <th>11920897</th>\n",
       "      <td>RT @MarkoPoznic: Opozicija ima tisoč, deset ti...</td>\n",
       "      <td>Thu Mar 18 15:07:12 +0000 2021</td>\n",
       "      <td>MartinTincek</td>\n",
       "      <td>NaN</td>\n",
       "      <td>False</td>\n",
       "      <td>1055402646</td>\n",
       "      <td>1372565256212451328</td>\n",
       "    </tr>\n",
       "    <tr>\n",
       "      <th>11920898</th>\n",
       "      <td>RT @JJansaSDS: “Vojska slonov, ki jo vodi lev,...</td>\n",
       "      <td>Thu Mar 18 15:08:32 +0000 2021</td>\n",
       "      <td>MartinTincek</td>\n",
       "      <td>NaN</td>\n",
       "      <td>True</td>\n",
       "      <td>1055402646</td>\n",
       "      <td>1372565592004304902</td>\n",
       "    </tr>\n",
       "    <tr>\n",
       "      <th>11920899</th>\n",
       "      <td>RT @PodobnikMar: @JJansaSDS Koliko trpljenja j...</td>\n",
       "      <td>Thu Mar 18 15:09:06 +0000 2021</td>\n",
       "      <td>MartinTincek</td>\n",
       "      <td>NaN</td>\n",
       "      <td>False</td>\n",
       "      <td>1055402646</td>\n",
       "      <td>1372565732668624898</td>\n",
       "    </tr>\n",
       "    <tr>\n",
       "      <th>11920900</th>\n",
       "      <td>RT @matjaz09787425: @PodobnikMar @JJansaSDS En...</td>\n",
       "      <td>Thu Mar 18 15:09:14 +0000 2021</td>\n",
       "      <td>MartinTincek</td>\n",
       "      <td>NaN</td>\n",
       "      <td>False</td>\n",
       "      <td>1055402646</td>\n",
       "      <td>1372565768089575427</td>\n",
       "    </tr>\n",
       "  </tbody>\n",
       "</table>\n",
       "<p>11920901 rows × 7 columns</p>\n",
       "</div>"
      ],
      "text/plain": [
       "                                                  full_text  \\\n",
       "0                  Skrivnost ženske https://t.co/BcYeRacFol   \n",
       "1         Duhovni odmik za ženske MARIJA MAGDALENA – Žen...   \n",
       "2         @Janez_Mezan Kljub temu jabka ne pade daleč od...   \n",
       "3                                 @Japreva Si pa res čuden.   \n",
       "4         @Janez_Mezan @Dnevnik_si Levak odpre usta in s...   \n",
       "...                                                     ...   \n",
       "11920896  RT @VRUNDRAGICA: @strankaSD Vi ste pustili pra...   \n",
       "11920897  RT @MarkoPoznic: Opozicija ima tisoč, deset ti...   \n",
       "11920898  RT @JJansaSDS: “Vojska slonov, ki jo vodi lev,...   \n",
       "11920899  RT @PodobnikMar: @JJansaSDS Koliko trpljenja j...   \n",
       "11920900  RT @matjaz09787425: @PodobnikMar @JJansaSDS En...   \n",
       "\n",
       "                              created_at user_screen_name  \\\n",
       "0         Sun Jan 17 18:35:26 +0000 2021          Karmen5   \n",
       "1         Tue Apr 06 10:44:07 +0000 2021          Karmen5   \n",
       "2         Fri Jan 01 14:14:01 +0000 2021         marjandv   \n",
       "3         Fri Jan 01 21:54:05 +0000 2021         marjandv   \n",
       "4         Mon Jan 04 18:51:20 +0000 2021         marjandv   \n",
       "...                                  ...              ...   \n",
       "11920896  Thu Mar 18 15:06:37 +0000 2021     MartinTincek   \n",
       "11920897  Thu Mar 18 15:07:12 +0000 2021     MartinTincek   \n",
       "11920898  Thu Mar 18 15:08:32 +0000 2021     MartinTincek   \n",
       "11920899  Thu Mar 18 15:09:06 +0000 2021     MartinTincek   \n",
       "11920900  Thu Mar 18 15:09:14 +0000 2021     MartinTincek   \n",
       "\n",
       "          in_reply_to_user_id  is_quote_status     user_id  \\\n",
       "0                         NaN            False    36331012   \n",
       "1                         NaN            False    36331012   \n",
       "2                2.354632e+09            False   131540541   \n",
       "3                4.343839e+08            False   131540541   \n",
       "4                2.354632e+09            False   131540541   \n",
       "...                       ...              ...         ...   \n",
       "11920896                  NaN            False  1055402646   \n",
       "11920897                  NaN            False  1055402646   \n",
       "11920898                  NaN             True  1055402646   \n",
       "11920899                  NaN            False  1055402646   \n",
       "11920900                  NaN            False  1055402646   \n",
       "\n",
       "                           id  \n",
       "0         1350874387394797578  \n",
       "1         1379384416384999425  \n",
       "2         1345010394352541696  \n",
       "3         1345126173571952645  \n",
       "4         1346167347560783874  \n",
       "...                       ...  \n",
       "11920896  1372565109550243851  \n",
       "11920897  1372565256212451328  \n",
       "11920898  1372565592004304902  \n",
       "11920899  1372565732668624898  \n",
       "11920900  1372565768089575427  \n",
       "\n",
       "[11920901 rows x 7 columns]"
      ]
     },
     "execution_count": 3,
     "metadata": {},
     "output_type": "execute_result"
    }
   ],
   "source": [
    "% % time\n",
    "df_tweets = pd.read_parquet(\n",
    "    'C:/Users/hladn/FAKS/Magistrsko delo/data/sl-tweets/df_sl_tweets_21.parquet.gzip')\n",
    "df_tweets\n"
   ]
  },
  {
   "cell_type": "code",
   "execution_count": null,
   "id": "2fd7c5e4-ab79-4eee-9099-31db35dc18d6",
   "metadata": {
    "pycharm": {
     "name": "#%%\n"
    }
   },
   "outputs": [],
   "source": []
  },
  {
   "cell_type": "code",
   "execution_count": null,
   "id": "25a8c247-2aa8-4109-b59b-f9a47736b9bd",
   "metadata": {
    "pycharm": {
     "name": "#%%\n"
    }
   },
   "outputs": [],
   "source": []
  },
  {
   "cell_type": "code",
   "execution_count": null,
   "id": "de02228f-637c-443e-9d95-0c0d0700cd2b",
   "metadata": {
    "pycharm": {
     "name": "#%%\n"
    }
   },
   "outputs": [],
   "source": []
  }
 ],
 "metadata": {
  "kernelspec": {
   "display_name": "testenv",
   "language": "python",
   "name": "testenv"
  },
  "language_info": {
   "codemirror_mode": {
    "name": "ipython",
    "version": 3
   },
   "file_extension": ".py",
   "mimetype": "text/x-python",
   "name": "python",
   "nbconvert_exporter": "python",
   "pygments_lexer": "ipython3",
   "version": "3.9.13"
  },
  "vscode": {
   "interpreter": {
    "hash": "b205b86b5cca952d03a16e638da7174a06c83fcc310bd34d2a8c2608236d81e7"
   }
  }
 },
 "nbformat": 4,
 "nbformat_minor": 5
}
