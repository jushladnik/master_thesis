{
 "cells": [
  {
   "cell_type": "code",
   "execution_count": 1,
   "id": "759d9da7-5efa-4c47-8073-741c4bfe31e0",
   "metadata": {
    "pycharm": {
     "name": "#%%\n"
    }
   },
   "outputs": [],
   "source": [
    "import json\n",
    "import pandas as pd\n",
    "import numpy as np\n",
    "import os\n",
    "import gzip\n",
    "\n",
    "\n",
    "from read_data import read_year_news_raw_into_df, read_tweets_raw_into_df\n"
   ]
  },
  {
   "cell_type": "code",
   "execution_count": null,
   "id": "fc015135",
   "metadata": {},
   "outputs": [],
   "source": []
  },
  {
   "attachments": {},
   "cell_type": "markdown",
   "id": "7f80f392",
   "metadata": {},
   "source": [
    "## extract to a directory"
   ]
  },
  {
   "cell_type": "code",
   "execution_count": 2,
   "id": "c1b6c132",
   "metadata": {},
   "outputs": [],
   "source": [
    "import tarfile\n",
    "import tqdm\n",
    "import json\n"
   ]
  },
  {
   "cell_type": "code",
   "execution_count": 3,
   "id": "9982bc83",
   "metadata": {},
   "outputs": [
    {
     "name": "stdout",
     "output_type": "stream",
     "text": [
      "CPU times: user 4.84 s, sys: 6.83 s, total: 11.7 s\n",
      "Wall time: 54.1 s\n"
     ]
    }
   ],
   "source": [
    "%%time\n",
    "import zipfile\n",
    "with zipfile.ZipFile(\"/home/jhladnik/data/eventregistry/articles_slo_2021-2022.zip\", 'r') as zip_ref:\n",
    "    zip_ref.extractall('/home/jhladnik/data/eventregistry/2021-22')"
   ]
  },
  {
   "cell_type": "code",
   "execution_count": 7,
   "id": "8c9f3575",
   "metadata": {},
   "outputs": [
    {
     "name": "stdout",
     "output_type": "stream",
     "text": [
      "CPU times: user 16.8 s, sys: 1.89 s, total: 18.7 s\n",
      "Wall time: 40.7 s\n"
     ]
    }
   ],
   "source": [
    "%%time\n",
    "tar = tarfile.open(\"/home/jhladnik/data/eventregistry/2020.tar.gz\", \"r:gz\")\n",
    "tar.extractall('/home/jhladnik/data/eventregistry/')"
   ]
  },
  {
   "cell_type": "code",
   "execution_count": 4,
   "id": "ea3fb697",
   "metadata": {},
   "outputs": [
    {
     "name": "stdout",
     "output_type": "stream",
     "text": [
      "CPU times: user 1.15 s, sys: 6.59 s, total: 7.74 s\n",
      "Wall time: 32.3 s\n"
     ]
    }
   ],
   "source": [
    "%%time\n",
    "tar = tarfile.open(\"/home/jhladnik/data/sl-tweets/sl-tweets-2021.tar\", \"r\")\n",
    "tar.extractall('/home/jhladnik/data/sl-tweets/sl-tweets-2021/')"
   ]
  },
  {
   "cell_type": "code",
   "execution_count": null,
   "id": "0ca75e0f",
   "metadata": {},
   "outputs": [],
   "source": []
  },
  {
   "cell_type": "markdown",
   "id": "2c82ebee-27c2-479d-85fe-fb6b7601b9d3",
   "metadata": {
    "pycharm": {
     "name": "#%% md\n"
    }
   },
   "source": [
    "# read news data and select relevant info into dataframe"
   ]
  },
  {
   "cell_type": "code",
   "execution_count": 2,
   "id": "d7306edc-656d-4d12-9717-fc49821ec6e5",
   "metadata": {
    "pycharm": {
     "name": "#%%\n"
    }
   },
   "outputs": [
    {
     "name": "stderr",
     "output_type": "stream",
     "text": [
      "100%|██████████| 4505/4505 [04:15<00:00, 17.66it/s]\n"
     ]
    },
    {
     "name": "stdout",
     "output_type": "stream",
     "text": [
      "CPU times: user 2min 21s, sys: 25.1 s, total: 2min 47s\n",
      "Wall time: 4min 15s\n"
     ]
    },
    {
     "data": {
      "text/html": [
       "<div>\n",
       "<style scoped>\n",
       "    .dataframe tbody tr th:only-of-type {\n",
       "        vertical-align: middle;\n",
       "    }\n",
       "\n",
       "    .dataframe tbody tr th {\n",
       "        vertical-align: top;\n",
       "    }\n",
       "\n",
       "    .dataframe thead th {\n",
       "        text-align: right;\n",
       "    }\n",
       "</style>\n",
       "<table border=\"1\" class=\"dataframe\">\n",
       "  <thead>\n",
       "    <tr style=\"text-align: right;\">\n",
       "      <th></th>\n",
       "      <th>body</th>\n",
       "      <th>media</th>\n",
       "      <th>title</th>\n",
       "      <th>date</th>\n",
       "    </tr>\n",
       "  </thead>\n",
       "  <tbody>\n",
       "    <tr>\n",
       "      <th>0</th>\n",
       "      <td>Namesto debele palice uporabili šibo. Vseeno j...</td>\n",
       "      <td>Žurnal24</td>\n",
       "      <td>Pozitivna zgodba o merilniku hitrosti z Dolenjske</td>\n",
       "      <td>2020-09-23</td>\n",
       "    </tr>\n",
       "    <tr>\n",
       "      <th>1</th>\n",
       "      <td>\"Ženske imamo pogosto težave s sprejemanjem sv...</td>\n",
       "      <td>Zadovoljna.si</td>\n",
       "      <td>Ineza Sotler: Zrelost ženske je privilegij. Za...</td>\n",
       "      <td>2020-09-23</td>\n",
       "    </tr>\n",
       "    <tr>\n",
       "      <th>2</th>\n",
       "      <td>Boniteta za avto se obračuna takrat, kadar se ...</td>\n",
       "      <td>DATA podjetništvo</td>\n",
       "      <td>Boniteta za uporabo službenega avta v zasebne ...</td>\n",
       "      <td>2020-09-23</td>\n",
       "    </tr>\n",
       "    <tr>\n",
       "      <th>3</th>\n",
       "      <td>To je bil človek, ki je tri tedne dokazoval, d...</td>\n",
       "      <td>MMC RTV Slovenija</td>\n",
       "      <td>Matt Warwick</td>\n",
       "      <td>2020-09-23</td>\n",
       "    </tr>\n",
       "    <tr>\n",
       "      <th>4</th>\n",
       "      <td>Maskara je eden izmed tistih kozmetičnih izdel...</td>\n",
       "      <td>Zadovoljna.si</td>\n",
       "      <td>Česa nikoli ne bi smele narediti, če se vam je...</td>\n",
       "      <td>2020-09-23</td>\n",
       "    </tr>\n",
       "    <tr>\n",
       "      <th>...</th>\n",
       "      <td>...</td>\n",
       "      <td>...</td>\n",
       "      <td>...</td>\n",
       "      <td>...</td>\n",
       "    </tr>\n",
       "    <tr>\n",
       "      <th>450420</th>\n",
       "      <td>Velika dvorana Grand hotela Union bo tako v so...</td>\n",
       "      <td>PortalPolitikis</td>\n",
       "      <td>Rotary klub Ljubljana in Ameriško - slovenska ...</td>\n",
       "      <td>2020-01-12</td>\n",
       "    </tr>\n",
       "    <tr>\n",
       "      <th>450421</th>\n",
       "      <td>Ljubljana, 12. januarja (STA) Z novim davčnim ...</td>\n",
       "      <td>Slovenska tiskovna agencija STA</td>\n",
       "      <td>Na Fursu čakajo prve napovedi za odmero davkov...</td>\n",
       "      <td>2020-01-12</td>\n",
       "    </tr>\n",
       "    <tr>\n",
       "      <th>450422</th>\n",
       "      <td>Ljubljana, 12. januarja (STA) - Z novim davčni...</td>\n",
       "      <td>Slovenska tiskovna agencija STA</td>\n",
       "      <td>Na Fursu čakajo prve napovedi za odmero davkov...</td>\n",
       "      <td>2020-01-12</td>\n",
       "    </tr>\n",
       "    <tr>\n",
       "      <th>450423</th>\n",
       "      <td>Na Frnedu so včeraj v okviru okoljevarstvene p...</td>\n",
       "      <td>Primorski dnevnik</td>\n",
       "      <td>Odslužene smrečice se lahko reciklirajo</td>\n",
       "      <td>2020-01-12</td>\n",
       "    </tr>\n",
       "    <tr>\n",
       "      <th>450424</th>\n",
       "      <td>Oba novinarska prispevka sta po mojem prepriča...</td>\n",
       "      <td>Tednik Demokracija</td>\n",
       "      <td>\"Vsi novinarji Sveta24 podpišejo bianko odstop...</td>\n",
       "      <td>2020-01-12</td>\n",
       "    </tr>\n",
       "  </tbody>\n",
       "</table>\n",
       "<p>450425 rows × 4 columns</p>\n",
       "</div>"
      ],
      "text/plain": [
       "                                                     body  \\\n",
       "0       Namesto debele palice uporabili šibo. Vseeno j...   \n",
       "1       \"Ženske imamo pogosto težave s sprejemanjem sv...   \n",
       "2       Boniteta za avto se obračuna takrat, kadar se ...   \n",
       "3       To je bil človek, ki je tri tedne dokazoval, d...   \n",
       "4       Maskara je eden izmed tistih kozmetičnih izdel...   \n",
       "...                                                   ...   \n",
       "450420  Velika dvorana Grand hotela Union bo tako v so...   \n",
       "450421  Ljubljana, 12. januarja (STA) Z novim davčnim ...   \n",
       "450422  Ljubljana, 12. januarja (STA) - Z novim davčni...   \n",
       "450423  Na Frnedu so včeraj v okviru okoljevarstvene p...   \n",
       "450424  Oba novinarska prispevka sta po mojem prepriča...   \n",
       "\n",
       "                                  media  \\\n",
       "0                              Žurnal24   \n",
       "1                         Zadovoljna.si   \n",
       "2                     DATA podjetništvo   \n",
       "3                     MMC RTV Slovenija   \n",
       "4                         Zadovoljna.si   \n",
       "...                                 ...   \n",
       "450420                  PortalPolitikis   \n",
       "450421  Slovenska tiskovna agencija STA   \n",
       "450422  Slovenska tiskovna agencija STA   \n",
       "450423                Primorski dnevnik   \n",
       "450424               Tednik Demokracija   \n",
       "\n",
       "                                                    title        date  \n",
       "0       Pozitivna zgodba o merilniku hitrosti z Dolenjske  2020-09-23  \n",
       "1       Ineza Sotler: Zrelost ženske je privilegij. Za...  2020-09-23  \n",
       "2       Boniteta za uporabo službenega avta v zasebne ...  2020-09-23  \n",
       "3                                            Matt Warwick  2020-09-23  \n",
       "4       Česa nikoli ne bi smele narediti, če se vam je...  2020-09-23  \n",
       "...                                                   ...         ...  \n",
       "450420  Rotary klub Ljubljana in Ameriško - slovenska ...  2020-01-12  \n",
       "450421  Na Fursu čakajo prve napovedi za odmero davkov...  2020-01-12  \n",
       "450422  Na Fursu čakajo prve napovedi za odmero davkov...  2020-01-12  \n",
       "450423            Odslužene smrečice se lahko reciklirajo  2020-01-12  \n",
       "450424  \"Vsi novinarji Sveta24 podpišejo bianko odstop...  2020-01-12  \n",
       "\n",
       "[450425 rows x 4 columns]"
      ]
     },
     "execution_count": 2,
     "metadata": {},
     "output_type": "execute_result"
    }
   ],
   "source": [
    "%%time\n",
    "EVENTREGISTRY_PATH = \"C:/Users/hladn/FAKS/Magistrsko delo/data/eventregistry\"\n",
    "EVENTREGISTRY_PATH = \"/home/jhladnik/data/eventregistry\"\n",
    "df_year_news = read_year_news_raw_into_df(EVENTREGISTRY_PATH, '2020')\n",
    "df_year_news\n"
   ]
  },
  {
   "cell_type": "code",
   "execution_count": 6,
   "id": "b1f5ebd9-c2c8-48db-b7ea-3860fe7ebfe7",
   "metadata": {
    "pycharm": {
     "name": "#%%\n"
    }
   },
   "outputs": [
    {
     "name": "stdout",
     "output_type": "stream",
     "text": [
      "CPU times: user 1min 19s, sys: 1.63 s, total: 1min 20s\n",
      "Wall time: 1min 21s\n"
     ]
    }
   ],
   "source": [
    "%%time\n",
    "df_year_news.to_parquet(\n",
    "    '/home/jhladnik/data/eventregistry/df_news_2020.parquet.gzip', compression='gzip')\n"
   ]
  },
  {
   "cell_type": "code",
   "execution_count": 8,
   "id": "89252be1-7be7-4aff-973b-719f65d0d04b",
   "metadata": {
    "pycharm": {
     "name": "#%%\n"
    }
   },
   "outputs": [
    {
     "name": "stdout",
     "output_type": "stream",
     "text": [
      "CPU times: user 6.94 s, sys: 2.37 s, total: 9.31 s\n",
      "Wall time: 8.88 s\n"
     ]
    },
    {
     "data": {
      "text/html": [
       "<div>\n",
       "<style scoped>\n",
       "    .dataframe tbody tr th:only-of-type {\n",
       "        vertical-align: middle;\n",
       "    }\n",
       "\n",
       "    .dataframe tbody tr th {\n",
       "        vertical-align: top;\n",
       "    }\n",
       "\n",
       "    .dataframe thead th {\n",
       "        text-align: right;\n",
       "    }\n",
       "</style>\n",
       "<table border=\"1\" class=\"dataframe\">\n",
       "  <thead>\n",
       "    <tr style=\"text-align: right;\">\n",
       "      <th></th>\n",
       "      <th>body</th>\n",
       "      <th>media</th>\n",
       "      <th>title</th>\n",
       "      <th>date</th>\n",
       "    </tr>\n",
       "  </thead>\n",
       "  <tbody>\n",
       "    <tr>\n",
       "      <th>0</th>\n",
       "      <td>Namesto debele palice uporabili šibo. Vseeno j...</td>\n",
       "      <td>Žurnal24</td>\n",
       "      <td>Pozitivna zgodba o merilniku hitrosti z Dolenjske</td>\n",
       "      <td>2020-09-23</td>\n",
       "    </tr>\n",
       "    <tr>\n",
       "      <th>1</th>\n",
       "      <td>\"Ženske imamo pogosto težave s sprejemanjem sv...</td>\n",
       "      <td>Zadovoljna.si</td>\n",
       "      <td>Ineza Sotler: Zrelost ženske je privilegij. Za...</td>\n",
       "      <td>2020-09-23</td>\n",
       "    </tr>\n",
       "    <tr>\n",
       "      <th>2</th>\n",
       "      <td>Boniteta za avto se obračuna takrat, kadar se ...</td>\n",
       "      <td>DATA podjetništvo</td>\n",
       "      <td>Boniteta za uporabo službenega avta v zasebne ...</td>\n",
       "      <td>2020-09-23</td>\n",
       "    </tr>\n",
       "    <tr>\n",
       "      <th>3</th>\n",
       "      <td>To je bil človek, ki je tri tedne dokazoval, d...</td>\n",
       "      <td>MMC RTV Slovenija</td>\n",
       "      <td>Matt Warwick</td>\n",
       "      <td>2020-09-23</td>\n",
       "    </tr>\n",
       "    <tr>\n",
       "      <th>4</th>\n",
       "      <td>Maskara je eden izmed tistih kozmetičnih izdel...</td>\n",
       "      <td>Zadovoljna.si</td>\n",
       "      <td>Česa nikoli ne bi smele narediti, če se vam je...</td>\n",
       "      <td>2020-09-23</td>\n",
       "    </tr>\n",
       "    <tr>\n",
       "      <th>...</th>\n",
       "      <td>...</td>\n",
       "      <td>...</td>\n",
       "      <td>...</td>\n",
       "      <td>...</td>\n",
       "    </tr>\n",
       "    <tr>\n",
       "      <th>450420</th>\n",
       "      <td>Velika dvorana Grand hotela Union bo tako v so...</td>\n",
       "      <td>PortalPolitikis</td>\n",
       "      <td>Rotary klub Ljubljana in Ameriško - slovenska ...</td>\n",
       "      <td>2020-01-12</td>\n",
       "    </tr>\n",
       "    <tr>\n",
       "      <th>450421</th>\n",
       "      <td>Ljubljana, 12. januarja (STA) Z novim davčnim ...</td>\n",
       "      <td>Slovenska tiskovna agencija STA</td>\n",
       "      <td>Na Fursu čakajo prve napovedi za odmero davkov...</td>\n",
       "      <td>2020-01-12</td>\n",
       "    </tr>\n",
       "    <tr>\n",
       "      <th>450422</th>\n",
       "      <td>Ljubljana, 12. januarja (STA) - Z novim davčni...</td>\n",
       "      <td>Slovenska tiskovna agencija STA</td>\n",
       "      <td>Na Fursu čakajo prve napovedi za odmero davkov...</td>\n",
       "      <td>2020-01-12</td>\n",
       "    </tr>\n",
       "    <tr>\n",
       "      <th>450423</th>\n",
       "      <td>Na Frnedu so včeraj v okviru okoljevarstvene p...</td>\n",
       "      <td>Primorski dnevnik</td>\n",
       "      <td>Odslužene smrečice se lahko reciklirajo</td>\n",
       "      <td>2020-01-12</td>\n",
       "    </tr>\n",
       "    <tr>\n",
       "      <th>450424</th>\n",
       "      <td>Oba novinarska prispevka sta po mojem prepriča...</td>\n",
       "      <td>Tednik Demokracija</td>\n",
       "      <td>\"Vsi novinarji Sveta24 podpišejo bianko odstop...</td>\n",
       "      <td>2020-01-12</td>\n",
       "    </tr>\n",
       "  </tbody>\n",
       "</table>\n",
       "<p>450425 rows × 4 columns</p>\n",
       "</div>"
      ],
      "text/plain": [
       "                                                     body  \\\n",
       "0       Namesto debele palice uporabili šibo. Vseeno j...   \n",
       "1       \"Ženske imamo pogosto težave s sprejemanjem sv...   \n",
       "2       Boniteta za avto se obračuna takrat, kadar se ...   \n",
       "3       To je bil človek, ki je tri tedne dokazoval, d...   \n",
       "4       Maskara je eden izmed tistih kozmetičnih izdel...   \n",
       "...                                                   ...   \n",
       "450420  Velika dvorana Grand hotela Union bo tako v so...   \n",
       "450421  Ljubljana, 12. januarja (STA) Z novim davčnim ...   \n",
       "450422  Ljubljana, 12. januarja (STA) - Z novim davčni...   \n",
       "450423  Na Frnedu so včeraj v okviru okoljevarstvene p...   \n",
       "450424  Oba novinarska prispevka sta po mojem prepriča...   \n",
       "\n",
       "                                  media  \\\n",
       "0                              Žurnal24   \n",
       "1                         Zadovoljna.si   \n",
       "2                     DATA podjetništvo   \n",
       "3                     MMC RTV Slovenija   \n",
       "4                         Zadovoljna.si   \n",
       "...                                 ...   \n",
       "450420                  PortalPolitikis   \n",
       "450421  Slovenska tiskovna agencija STA   \n",
       "450422  Slovenska tiskovna agencija STA   \n",
       "450423                Primorski dnevnik   \n",
       "450424               Tednik Demokracija   \n",
       "\n",
       "                                                    title        date  \n",
       "0       Pozitivna zgodba o merilniku hitrosti z Dolenjske  2020-09-23  \n",
       "1       Ineza Sotler: Zrelost ženske je privilegij. Za...  2020-09-23  \n",
       "2       Boniteta za uporabo službenega avta v zasebne ...  2020-09-23  \n",
       "3                                            Matt Warwick  2020-09-23  \n",
       "4       Česa nikoli ne bi smele narediti, če se vam je...  2020-09-23  \n",
       "...                                                   ...         ...  \n",
       "450420  Rotary klub Ljubljana in Ameriško - slovenska ...  2020-01-12  \n",
       "450421  Na Fursu čakajo prve napovedi za odmero davkov...  2020-01-12  \n",
       "450422  Na Fursu čakajo prve napovedi za odmero davkov...  2020-01-12  \n",
       "450423            Odslužene smrečice se lahko reciklirajo  2020-01-12  \n",
       "450424  \"Vsi novinarji Sveta24 podpišejo bianko odstop...  2020-01-12  \n",
       "\n",
       "[450425 rows x 4 columns]"
      ]
     },
     "execution_count": 8,
     "metadata": {},
     "output_type": "execute_result"
    }
   ],
   "source": [
    "%%time\n",
    "df_year_news = pd.read_parquet(\n",
    "    '/home/jhladnik/data/eventregistry/df_news_2020.parquet.gzip')\n",
    "df_year_news\n"
   ]
  },
  {
   "attachments": {},
   "cell_type": "markdown",
   "id": "5b93bd10",
   "metadata": {},
   "source": [
    "## read news data (2021-2022) and select relevant info into dataframe"
   ]
  },
  {
   "cell_type": "code",
   "execution_count": 11,
   "id": "5ec060c2",
   "metadata": {},
   "outputs": [],
   "source": [
    "\n"
   ]
  },
  {
   "cell_type": "code",
   "execution_count": 15,
   "id": "10a49c9e",
   "metadata": {},
   "outputs": [
    {
     "name": "stderr",
     "output_type": "stream",
     "text": [
      "100%|██████████| 550/550 [03:04<00:00,  2.99it/s]\n"
     ]
    }
   ],
   "source": [
    "from read_data import read_2021_22_year_news_raw_into_df\n",
    "df_all = read_2021_22_year_news_raw_into_df(EVENTREGISTRY_PATH, year)"
   ]
  },
  {
   "cell_type": "code",
   "execution_count": 16,
   "id": "d18bccf8",
   "metadata": {},
   "outputs": [],
   "source": [
    "df_news_2021 = df_all[df_all.date < '2022-01-01']\n",
    "df_news_2022 = df_all[df_all.date >= '2022-01-01']"
   ]
  },
  {
   "cell_type": "code",
   "execution_count": 17,
   "id": "79aaa197",
   "metadata": {},
   "outputs": [
    {
     "data": {
      "text/html": [
       "<div>\n",
       "<style scoped>\n",
       "    .dataframe tbody tr th:only-of-type {\n",
       "        vertical-align: middle;\n",
       "    }\n",
       "\n",
       "    .dataframe tbody tr th {\n",
       "        vertical-align: top;\n",
       "    }\n",
       "\n",
       "    .dataframe thead th {\n",
       "        text-align: right;\n",
       "    }\n",
       "</style>\n",
       "<table border=\"1\" class=\"dataframe\">\n",
       "  <thead>\n",
       "    <tr style=\"text-align: right;\">\n",
       "      <th></th>\n",
       "      <th>body</th>\n",
       "      <th>media</th>\n",
       "      <th>title</th>\n",
       "      <th>date</th>\n",
       "    </tr>\n",
       "  </thead>\n",
       "  <tbody>\n",
       "    <tr>\n",
       "      <th>0</th>\n",
       "      <td>Portorož (MOREL)- Občina Piran je v sodelovanj...</td>\n",
       "      <td>Morel</td>\n",
       "      <td>\\n                            1\\n             ...</td>\n",
       "      <td>2021-12-16</td>\n",
       "    </tr>\n",
       "    <tr>\n",
       "      <th>1</th>\n",
       "      <td>Letošnja velika rast cen električne energije i...</td>\n",
       "      <td>preberi.si</td>\n",
       "      <td>Energetika.NET: Skok cen energije tudi v Slove...</td>\n",
       "      <td>2021-12-16</td>\n",
       "    </tr>\n",
       "    <tr>\n",
       "      <th>2</th>\n",
       "      <td>Dave Mustaine, šef skupine Megadeth in podjetj...</td>\n",
       "      <td>Rockline.si</td>\n",
       "      <td>Dave Mustaine (Megadeth) in podjetje Gibson pr...</td>\n",
       "      <td>2021-12-16</td>\n",
       "    </tr>\n",
       "    <tr>\n",
       "      <th>3</th>\n",
       "      <td>Zadnja polfinalna vozovnica na svetovnem prven...</td>\n",
       "      <td>ROKOMET.net</td>\n",
       "      <td>Zadnja polfinalna vozovnica pripadla Francozin...</td>\n",
       "      <td>2021-12-16</td>\n",
       "    </tr>\n",
       "    <tr>\n",
       "      <th>4</th>\n",
       "      <td>Opozorila\\n\\nRegionalna cesta Slovenski Javorn...</td>\n",
       "      <td>Gnes Dnevne Novice</td>\n",
       "      <td>Prometno poročilo, četrtek 16.december 2021 ob...</td>\n",
       "      <td>2021-12-16</td>\n",
       "    </tr>\n",
       "    <tr>\n",
       "      <th>...</th>\n",
       "      <td>...</td>\n",
       "      <td>...</td>\n",
       "      <td>...</td>\n",
       "      <td>...</td>\n",
       "    </tr>\n",
       "    <tr>\n",
       "      <th>1103797</th>\n",
       "      <td>Digitalna medijska agencija Httpool je na leto...</td>\n",
       "      <td>Marketing magazin</td>\n",
       "      <td>Agencija Httpool je osvojila priznanje LinkedI...</td>\n",
       "      <td>2021-03-28</td>\n",
       "    </tr>\n",
       "    <tr>\n",
       "      <th>1103798</th>\n",
       "      <td>Združenje evropskih mestnih turističnih in kon...</td>\n",
       "      <td>Marketing magazin</td>\n",
       "      <td>Petra Stušek na čelu združenja European Cities...</td>\n",
       "      <td>2021-03-28</td>\n",
       "    </tr>\n",
       "    <tr>\n",
       "      <th>1103799</th>\n",
       "      <td>Smo v tretjem valu epidemije. Najbolj obremenj...</td>\n",
       "      <td>vestnik.si</td>\n",
       "      <td>Polni žepi koronskih dodatkov: razkrivamo najv...</td>\n",
       "      <td>2021-03-28</td>\n",
       "    </tr>\n",
       "    <tr>\n",
       "      <th>1103800</th>\n",
       "      <td>Čakalna doba je na mejnih prehodih Obrežje in ...</td>\n",
       "      <td>Gnes Dnevne Novice</td>\n",
       "      <td>Prometno poročilo, ponedeljek 29.marec 2021 ob...</td>\n",
       "      <td>2021-03-28</td>\n",
       "    </tr>\n",
       "    <tr>\n",
       "      <th>1103801</th>\n",
       "      <td>Pogovor s Tesso Afshar, ameriško pisateljico s...</td>\n",
       "      <td>Aleteia.si</td>\n",
       "      <td>Tessa Afshar: Ko se boste nekoč zazrli v Jezus...</td>\n",
       "      <td>2021-03-28</td>\n",
       "    </tr>\n",
       "  </tbody>\n",
       "</table>\n",
       "<p>728427 rows × 4 columns</p>\n",
       "</div>"
      ],
      "text/plain": [
       "                                                      body  \\\n",
       "0        Portorož (MOREL)- Občina Piran je v sodelovanj...   \n",
       "1        Letošnja velika rast cen električne energije i...   \n",
       "2        Dave Mustaine, šef skupine Megadeth in podjetj...   \n",
       "3        Zadnja polfinalna vozovnica na svetovnem prven...   \n",
       "4        Opozorila\\n\\nRegionalna cesta Slovenski Javorn...   \n",
       "...                                                    ...   \n",
       "1103797  Digitalna medijska agencija Httpool je na leto...   \n",
       "1103798  Združenje evropskih mestnih turističnih in kon...   \n",
       "1103799  Smo v tretjem valu epidemije. Najbolj obremenj...   \n",
       "1103800  Čakalna doba je na mejnih prehodih Obrežje in ...   \n",
       "1103801  Pogovor s Tesso Afshar, ameriško pisateljico s...   \n",
       "\n",
       "                      media  \\\n",
       "0                     Morel   \n",
       "1                preberi.si   \n",
       "2               Rockline.si   \n",
       "3               ROKOMET.net   \n",
       "4        Gnes Dnevne Novice   \n",
       "...                     ...   \n",
       "1103797   Marketing magazin   \n",
       "1103798   Marketing magazin   \n",
       "1103799          vestnik.si   \n",
       "1103800  Gnes Dnevne Novice   \n",
       "1103801          Aleteia.si   \n",
       "\n",
       "                                                     title        date  \n",
       "0        \\n                            1\\n             ...  2021-12-16  \n",
       "1        Energetika.NET: Skok cen energije tudi v Slove...  2021-12-16  \n",
       "2        Dave Mustaine (Megadeth) in podjetje Gibson pr...  2021-12-16  \n",
       "3        Zadnja polfinalna vozovnica pripadla Francozin...  2021-12-16  \n",
       "4        Prometno poročilo, četrtek 16.december 2021 ob...  2021-12-16  \n",
       "...                                                    ...         ...  \n",
       "1103797  Agencija Httpool je osvojila priznanje LinkedI...  2021-03-28  \n",
       "1103798  Petra Stušek na čelu združenja European Cities...  2021-03-28  \n",
       "1103799  Polni žepi koronskih dodatkov: razkrivamo najv...  2021-03-28  \n",
       "1103800  Prometno poročilo, ponedeljek 29.marec 2021 ob...  2021-03-28  \n",
       "1103801  Tessa Afshar: Ko se boste nekoč zazrli v Jezus...  2021-03-28  \n",
       "\n",
       "[728427 rows x 4 columns]"
      ]
     },
     "execution_count": 17,
     "metadata": {},
     "output_type": "execute_result"
    }
   ],
   "source": [
    "df_news_2021"
   ]
  },
  {
   "cell_type": "code",
   "execution_count": 18,
   "id": "04f07458",
   "metadata": {},
   "outputs": [
    {
     "name": "stdout",
     "output_type": "stream",
     "text": [
      "CPU times: user 1min 53s, sys: 3.18 s, total: 1min 57s\n",
      "Wall time: 1min 58s\n"
     ]
    }
   ],
   "source": [
    "%%time\n",
    "df_news_2021.to_parquet(\n",
    "    '/home/jhladnik/data/eventregistry/df_news_2021.parquet.gzip', compression='gzip')\n"
   ]
  },
  {
   "cell_type": "code",
   "execution_count": 20,
   "id": "b8b1bb15",
   "metadata": {},
   "outputs": [
    {
     "data": {
      "text/html": [
       "<div>\n",
       "<style scoped>\n",
       "    .dataframe tbody tr th:only-of-type {\n",
       "        vertical-align: middle;\n",
       "    }\n",
       "\n",
       "    .dataframe tbody tr th {\n",
       "        vertical-align: top;\n",
       "    }\n",
       "\n",
       "    .dataframe thead th {\n",
       "        text-align: right;\n",
       "    }\n",
       "</style>\n",
       "<table border=\"1\" class=\"dataframe\">\n",
       "  <thead>\n",
       "    <tr style=\"text-align: right;\">\n",
       "      <th></th>\n",
       "      <th>body</th>\n",
       "      <th>media</th>\n",
       "      <th>title</th>\n",
       "      <th>date</th>\n",
       "    </tr>\n",
       "  </thead>\n",
       "  <tbody>\n",
       "    <tr>\n",
       "      <th>0</th>\n",
       "      <td>Portorož (MOREL)- Občina Piran je v sodelovanj...</td>\n",
       "      <td>Morel</td>\n",
       "      <td>\\n                            1\\n             ...</td>\n",
       "      <td>2021-12-16</td>\n",
       "    </tr>\n",
       "    <tr>\n",
       "      <th>1</th>\n",
       "      <td>Letošnja velika rast cen električne energije i...</td>\n",
       "      <td>preberi.si</td>\n",
       "      <td>Energetika.NET: Skok cen energije tudi v Slove...</td>\n",
       "      <td>2021-12-16</td>\n",
       "    </tr>\n",
       "    <tr>\n",
       "      <th>2</th>\n",
       "      <td>Dave Mustaine, šef skupine Megadeth in podjetj...</td>\n",
       "      <td>Rockline.si</td>\n",
       "      <td>Dave Mustaine (Megadeth) in podjetje Gibson pr...</td>\n",
       "      <td>2021-12-16</td>\n",
       "    </tr>\n",
       "    <tr>\n",
       "      <th>3</th>\n",
       "      <td>Zadnja polfinalna vozovnica na svetovnem prven...</td>\n",
       "      <td>ROKOMET.net</td>\n",
       "      <td>Zadnja polfinalna vozovnica pripadla Francozin...</td>\n",
       "      <td>2021-12-16</td>\n",
       "    </tr>\n",
       "    <tr>\n",
       "      <th>4</th>\n",
       "      <td>Opozorila\\n\\nRegionalna cesta Slovenski Javorn...</td>\n",
       "      <td>Gnes Dnevne Novice</td>\n",
       "      <td>Prometno poročilo, četrtek 16.december 2021 ob...</td>\n",
       "      <td>2021-12-16</td>\n",
       "    </tr>\n",
       "    <tr>\n",
       "      <th>...</th>\n",
       "      <td>...</td>\n",
       "      <td>...</td>\n",
       "      <td>...</td>\n",
       "      <td>...</td>\n",
       "    </tr>\n",
       "    <tr>\n",
       "      <th>1103797</th>\n",
       "      <td>Digitalna medijska agencija Httpool je na leto...</td>\n",
       "      <td>Marketing magazin</td>\n",
       "      <td>Agencija Httpool je osvojila priznanje LinkedI...</td>\n",
       "      <td>2021-03-28</td>\n",
       "    </tr>\n",
       "    <tr>\n",
       "      <th>1103798</th>\n",
       "      <td>Združenje evropskih mestnih turističnih in kon...</td>\n",
       "      <td>Marketing magazin</td>\n",
       "      <td>Petra Stušek na čelu združenja European Cities...</td>\n",
       "      <td>2021-03-28</td>\n",
       "    </tr>\n",
       "    <tr>\n",
       "      <th>1103799</th>\n",
       "      <td>Smo v tretjem valu epidemije. Najbolj obremenj...</td>\n",
       "      <td>vestnik.si</td>\n",
       "      <td>Polni žepi koronskih dodatkov: razkrivamo najv...</td>\n",
       "      <td>2021-03-28</td>\n",
       "    </tr>\n",
       "    <tr>\n",
       "      <th>1103800</th>\n",
       "      <td>Čakalna doba je na mejnih prehodih Obrežje in ...</td>\n",
       "      <td>Gnes Dnevne Novice</td>\n",
       "      <td>Prometno poročilo, ponedeljek 29.marec 2021 ob...</td>\n",
       "      <td>2021-03-28</td>\n",
       "    </tr>\n",
       "    <tr>\n",
       "      <th>1103801</th>\n",
       "      <td>Pogovor s Tesso Afshar, ameriško pisateljico s...</td>\n",
       "      <td>Aleteia.si</td>\n",
       "      <td>Tessa Afshar: Ko se boste nekoč zazrli v Jezus...</td>\n",
       "      <td>2021-03-28</td>\n",
       "    </tr>\n",
       "  </tbody>\n",
       "</table>\n",
       "<p>728427 rows × 4 columns</p>\n",
       "</div>"
      ],
      "text/plain": [
       "                                                      body  \\\n",
       "0        Portorož (MOREL)- Občina Piran je v sodelovanj...   \n",
       "1        Letošnja velika rast cen električne energije i...   \n",
       "2        Dave Mustaine, šef skupine Megadeth in podjetj...   \n",
       "3        Zadnja polfinalna vozovnica na svetovnem prven...   \n",
       "4        Opozorila\\n\\nRegionalna cesta Slovenski Javorn...   \n",
       "...                                                    ...   \n",
       "1103797  Digitalna medijska agencija Httpool je na leto...   \n",
       "1103798  Združenje evropskih mestnih turističnih in kon...   \n",
       "1103799  Smo v tretjem valu epidemije. Najbolj obremenj...   \n",
       "1103800  Čakalna doba je na mejnih prehodih Obrežje in ...   \n",
       "1103801  Pogovor s Tesso Afshar, ameriško pisateljico s...   \n",
       "\n",
       "                      media  \\\n",
       "0                     Morel   \n",
       "1                preberi.si   \n",
       "2               Rockline.si   \n",
       "3               ROKOMET.net   \n",
       "4        Gnes Dnevne Novice   \n",
       "...                     ...   \n",
       "1103797   Marketing magazin   \n",
       "1103798   Marketing magazin   \n",
       "1103799          vestnik.si   \n",
       "1103800  Gnes Dnevne Novice   \n",
       "1103801          Aleteia.si   \n",
       "\n",
       "                                                     title        date  \n",
       "0        \\n                            1\\n             ...  2021-12-16  \n",
       "1        Energetika.NET: Skok cen energije tudi v Slove...  2021-12-16  \n",
       "2        Dave Mustaine (Megadeth) in podjetje Gibson pr...  2021-12-16  \n",
       "3        Zadnja polfinalna vozovnica pripadla Francozin...  2021-12-16  \n",
       "4        Prometno poročilo, četrtek 16.december 2021 ob...  2021-12-16  \n",
       "...                                                    ...         ...  \n",
       "1103797  Agencija Httpool je osvojila priznanje LinkedI...  2021-03-28  \n",
       "1103798  Petra Stušek na čelu združenja European Cities...  2021-03-28  \n",
       "1103799  Polni žepi koronskih dodatkov: razkrivamo najv...  2021-03-28  \n",
       "1103800  Prometno poročilo, ponedeljek 29.marec 2021 ob...  2021-03-28  \n",
       "1103801  Tessa Afshar: Ko se boste nekoč zazrli v Jezus...  2021-03-28  \n",
       "\n",
       "[728427 rows x 4 columns]"
      ]
     },
     "execution_count": 20,
     "metadata": {},
     "output_type": "execute_result"
    }
   ],
   "source": [
    "df_year_news = pd.read_parquet(\n",
    "    '/home/jhladnik/data/eventregistry/df_news_2021.parquet.gzip')\n",
    "df_year_news"
   ]
  },
  {
   "cell_type": "code",
   "execution_count": 19,
   "id": "62191095",
   "metadata": {},
   "outputs": [
    {
     "name": "stdout",
     "output_type": "stream",
     "text": [
      "CPU times: user 58 s, sys: 1.49 s, total: 59.5 s\n",
      "Wall time: 59.8 s\n"
     ]
    }
   ],
   "source": [
    "%%time\n",
    "df_news_2022.to_parquet(\n",
    "    '/home/jhladnik/data/eventregistry/df_news_2022.parquet.gzip', compression='gzip')\n"
   ]
  },
  {
   "cell_type": "markdown",
   "id": "18f210e4",
   "metadata": {
    "collapsed": false,
    "pycharm": {
     "name": "#%%\n"
    }
   },
   "source": [
    "# reading tweet data and selecting relevant attributes into a dataframe"
   ]
  },
  {
   "cell_type": "code",
   "execution_count": 9,
   "id": "b32ccfc0-23db-442f-9a39-1f041a1d7d8e",
   "metadata": {
    "pycharm": {
     "name": "#%%\n"
    }
   },
   "outputs": [
    {
     "name": "stderr",
     "output_type": "stream",
     "text": [
      "100%|██████████| 120/120 [28:57<00:00, 14.48s/it]\n"
     ]
    },
    {
     "name": "stdout",
     "output_type": "stream",
     "text": [
      "CPU times: user 29min 34s, sys: 1min 50s, total: 31min 24s\n",
      "Wall time: 31min 44s\n"
     ]
    }
   ],
   "source": [
    "%%time\n",
    "\n",
    "TWEETS_PATH = \"C:/Users/hladn/FAKS/Magistrsko delo/data/sl-tweets/sl-tweets-2021\"\n",
    "TWEETS_PATH = \"/home/jhladnik/data/sl-tweets\"\n",
    "\n",
    "all_tweets = read_tweets_raw_into_df(f'{TWEETS_PATH}/sl-tweets-2021')\n",
    "all_tweets.to_parquet(\n",
    "    f'{TWEETS_PATH}/df_sl_tweets_21.parquet.gzip', compression='gzip')\n"
   ]
  },
  {
   "cell_type": "code",
   "execution_count": 11,
   "id": "30e3576e-39ac-4271-8da1-cb2fee6d1832",
   "metadata": {
    "pycharm": {
     "name": "#%%\n"
    }
   },
   "outputs": [
    {
     "name": "stdout",
     "output_type": "stream",
     "text": [
      "CPU times: user 20.2 s, sys: 7.82 s, total: 28 s\n",
      "Wall time: 26.1 s\n"
     ]
    },
    {
     "data": {
      "text/html": [
       "<div>\n",
       "<style scoped>\n",
       "    .dataframe tbody tr th:only-of-type {\n",
       "        vertical-align: middle;\n",
       "    }\n",
       "\n",
       "    .dataframe tbody tr th {\n",
       "        vertical-align: top;\n",
       "    }\n",
       "\n",
       "    .dataframe thead th {\n",
       "        text-align: right;\n",
       "    }\n",
       "</style>\n",
       "<table border=\"1\" class=\"dataframe\">\n",
       "  <thead>\n",
       "    <tr style=\"text-align: right;\">\n",
       "      <th></th>\n",
       "      <th>full_text</th>\n",
       "      <th>created_at</th>\n",
       "      <th>user_screen_name</th>\n",
       "      <th>in_reply_to_user_id</th>\n",
       "      <th>is_quote_status</th>\n",
       "      <th>user_id</th>\n",
       "      <th>id</th>\n",
       "    </tr>\n",
       "  </thead>\n",
       "  <tbody>\n",
       "    <tr>\n",
       "      <th>0</th>\n",
       "      <td>Če si grda in glupa, ne pomeni, da je vredno, ...</td>\n",
       "      <td>Wed May 12 20:02:57 +0000 2021</td>\n",
       "      <td>Resnica1991</td>\n",
       "      <td>NaN</td>\n",
       "      <td>True</td>\n",
       "      <td>2159135366</td>\n",
       "      <td>1392571016539512838</td>\n",
       "    </tr>\n",
       "    <tr>\n",
       "      <th>1</th>\n",
       "      <td>Slovenska levica podpira Hamas in njegove tero...</td>\n",
       "      <td>Wed May 12 20:10:47 +0000 2021</td>\n",
       "      <td>Resnica1991</td>\n",
       "      <td>NaN</td>\n",
       "      <td>False</td>\n",
       "      <td>2159135366</td>\n",
       "      <td>1392572987203805190</td>\n",
       "    </tr>\n",
       "    <tr>\n",
       "      <th>2</th>\n",
       "      <td>Partija je ustanovila mnogo agencij in državni...</td>\n",
       "      <td>Wed May 12 20:12:40 +0000 2021</td>\n",
       "      <td>Resnica1991</td>\n",
       "      <td>NaN</td>\n",
       "      <td>True</td>\n",
       "      <td>2159135366</td>\n",
       "      <td>1392573460338073600</td>\n",
       "    </tr>\n",
       "    <tr>\n",
       "      <th>3</th>\n",
       "      <td>Hamas (Palestina) tolče vojaško po Izraelu. Le...</td>\n",
       "      <td>Wed May 12 20:17:46 +0000 2021</td>\n",
       "      <td>Resnica1991</td>\n",
       "      <td>NaN</td>\n",
       "      <td>False</td>\n",
       "      <td>2159135366</td>\n",
       "      <td>1392574745552556032</td>\n",
       "    </tr>\n",
       "    <tr>\n",
       "      <th>4</th>\n",
       "      <td>V nobenem od levičarskih medijev (vključno z u...</td>\n",
       "      <td>Wed May 12 20:21:28 +0000 2021</td>\n",
       "      <td>Resnica1991</td>\n",
       "      <td>NaN</td>\n",
       "      <td>False</td>\n",
       "      <td>2159135366</td>\n",
       "      <td>1392575676360785921</td>\n",
       "    </tr>\n",
       "    <tr>\n",
       "      <th>...</th>\n",
       "      <td>...</td>\n",
       "      <td>...</td>\n",
       "      <td>...</td>\n",
       "      <td>...</td>\n",
       "      <td>...</td>\n",
       "      <td>...</td>\n",
       "      <td>...</td>\n",
       "    </tr>\n",
       "    <tr>\n",
       "      <th>11920896</th>\n",
       "      <td>CR7 v slačilnici uvedel 'nutricistični fašizem...</td>\n",
       "      <td>Tue Sep 28 05:10:00 +0000 2021</td>\n",
       "      <td>Sport_Klub_Slo</td>\n",
       "      <td>NaN</td>\n",
       "      <td>False</td>\n",
       "      <td>821573376</td>\n",
       "      <td>1442718209568690176</td>\n",
       "    </tr>\n",
       "    <tr>\n",
       "      <th>11920897</th>\n",
       "      <td>O 16-letnem popotovanju po tujini, zvezdniških...</td>\n",
       "      <td>Tue Sep 28 05:40:00 +0000 2021</td>\n",
       "      <td>Sport_Klub_Slo</td>\n",
       "      <td>NaN</td>\n",
       "      <td>False</td>\n",
       "      <td>821573376</td>\n",
       "      <td>1442725759181860871</td>\n",
       "    </tr>\n",
       "    <tr>\n",
       "      <th>11920898</th>\n",
       "      <td>Nekdanji reprezentant @nzs_si @valterbirsa10 i...</td>\n",
       "      <td>Tue Sep 28 06:10:00 +0000 2021</td>\n",
       "      <td>Sport_Klub_Slo</td>\n",
       "      <td>NaN</td>\n",
       "      <td>False</td>\n",
       "      <td>821573376</td>\n",
       "      <td>1442733309017014275</td>\n",
       "    </tr>\n",
       "    <tr>\n",
       "      <th>11920899</th>\n",
       "      <td>Ni šlo, rezultati so bili preslabi.⬇️⬇️ #staam...</td>\n",
       "      <td>Tue Sep 28 06:40:00 +0000 2021</td>\n",
       "      <td>Sport_Klub_Slo</td>\n",
       "      <td>NaN</td>\n",
       "      <td>False</td>\n",
       "      <td>821573376</td>\n",
       "      <td>1442740858642591746</td>\n",
       "    </tr>\n",
       "    <tr>\n",
       "      <th>11920900</th>\n",
       "      <td>V peti minuti podaljška je za galebe izenačil ...</td>\n",
       "      <td>Tue Sep 28 07:10:00 +0000 2021</td>\n",
       "      <td>Sport_Klub_Slo</td>\n",
       "      <td>NaN</td>\n",
       "      <td>False</td>\n",
       "      <td>821573376</td>\n",
       "      <td>1442748408544980994</td>\n",
       "    </tr>\n",
       "  </tbody>\n",
       "</table>\n",
       "<p>11920901 rows × 7 columns</p>\n",
       "</div>"
      ],
      "text/plain": [
       "                                                  full_text  \\\n",
       "0         Če si grda in glupa, ne pomeni, da je vredno, ...   \n",
       "1         Slovenska levica podpira Hamas in njegove tero...   \n",
       "2         Partija je ustanovila mnogo agencij in državni...   \n",
       "3         Hamas (Palestina) tolče vojaško po Izraelu. Le...   \n",
       "4         V nobenem od levičarskih medijev (vključno z u...   \n",
       "...                                                     ...   \n",
       "11920896  CR7 v slačilnici uvedel 'nutricistični fašizem...   \n",
       "11920897  O 16-letnem popotovanju po tujini, zvezdniških...   \n",
       "11920898  Nekdanji reprezentant @nzs_si @valterbirsa10 i...   \n",
       "11920899  Ni šlo, rezultati so bili preslabi.⬇️⬇️ #staam...   \n",
       "11920900  V peti minuti podaljška je za galebe izenačil ...   \n",
       "\n",
       "                              created_at user_screen_name  \\\n",
       "0         Wed May 12 20:02:57 +0000 2021      Resnica1991   \n",
       "1         Wed May 12 20:10:47 +0000 2021      Resnica1991   \n",
       "2         Wed May 12 20:12:40 +0000 2021      Resnica1991   \n",
       "3         Wed May 12 20:17:46 +0000 2021      Resnica1991   \n",
       "4         Wed May 12 20:21:28 +0000 2021      Resnica1991   \n",
       "...                                  ...              ...   \n",
       "11920896  Tue Sep 28 05:10:00 +0000 2021   Sport_Klub_Slo   \n",
       "11920897  Tue Sep 28 05:40:00 +0000 2021   Sport_Klub_Slo   \n",
       "11920898  Tue Sep 28 06:10:00 +0000 2021   Sport_Klub_Slo   \n",
       "11920899  Tue Sep 28 06:40:00 +0000 2021   Sport_Klub_Slo   \n",
       "11920900  Tue Sep 28 07:10:00 +0000 2021   Sport_Klub_Slo   \n",
       "\n",
       "          in_reply_to_user_id  is_quote_status     user_id  \\\n",
       "0                         NaN             True  2159135366   \n",
       "1                         NaN            False  2159135366   \n",
       "2                         NaN             True  2159135366   \n",
       "3                         NaN            False  2159135366   \n",
       "4                         NaN            False  2159135366   \n",
       "...                       ...              ...         ...   \n",
       "11920896                  NaN            False   821573376   \n",
       "11920897                  NaN            False   821573376   \n",
       "11920898                  NaN            False   821573376   \n",
       "11920899                  NaN            False   821573376   \n",
       "11920900                  NaN            False   821573376   \n",
       "\n",
       "                           id  \n",
       "0         1392571016539512838  \n",
       "1         1392572987203805190  \n",
       "2         1392573460338073600  \n",
       "3         1392574745552556032  \n",
       "4         1392575676360785921  \n",
       "...                       ...  \n",
       "11920896  1442718209568690176  \n",
       "11920897  1442725759181860871  \n",
       "11920898  1442733309017014275  \n",
       "11920899  1442740858642591746  \n",
       "11920900  1442748408544980994  \n",
       "\n",
       "[11920901 rows x 7 columns]"
      ]
     },
     "execution_count": 11,
     "metadata": {},
     "output_type": "execute_result"
    }
   ],
   "source": [
    "%%time\n",
    "df_tweets = pd.read_parquet(\n",
    "     f'{TWEETS_PATH}/df_sl_tweets_21.parquet.gzip')\n",
    "df_tweets\n"
   ]
  },
  {
   "cell_type": "markdown",
   "id": "2fd7c5e4-ab79-4eee-9099-31db35dc18d6",
   "metadata": {
    "pycharm": {
     "name": "#%%\n"
    }
   },
   "source": [
    "## 2020 year data tweets"
   ]
  },
  {
   "cell_type": "code",
   "execution_count": null,
   "id": "25a8c247-2aa8-4109-b59b-f9a47736b9bd",
   "metadata": {
    "pycharm": {
     "name": "#%%\n"
    }
   },
   "outputs": [],
   "source": [
    "\n",
    "def read_tweets_raw_data(filepath):\n",
    "    \"\"\"\n",
    "    This function takes a single filepath of json.gz file containing tweets.\n",
    "    Returns list of dictionaries that contain info (that we are interested in) about single tweets. \n",
    "    Each dictionary is a single article.\n",
    "\n",
    "    :param filepath: dictionary (JSON)\n",
    "    :return article_dicts:  (new articles added)\n",
    "    \"\"\"\n",
    "\n",
    "    with gzip.open(filepath, 'r') as fin:\n",
    "        data = json.loads(fin.read().decode('utf-8'))\n",
    "\n",
    "    tweets_full = data       # a dictionary (JSON) of all articles' metadata\n",
    "\n",
    "    # can later add more fields if necessary (such as url,...)\n",
    "    tweet_dicts = []\n",
    "    for tweet in tweets_full:\n",
    "        tweet_dict = {}\n",
    "        tweet_dict['full_text'] = tweet['full_text']\n",
    "        tweet_dict['created_at'] = tweet['created_at']\n",
    "        tweet_dict['user_screen_name'] = tweet['user']['screen_name']\n",
    "        tweet_dict['in_reply_to_user_id'] = tweet['in_reply_to_user_id']\n",
    "        tweet_dict['is_quote_status'] = tweet['is_quote_status']\n",
    "        tweet_dict['user_id'] = tweet['user']['id']\n",
    "        tweet_dict['id'] = tweet['id']\n",
    "\n",
    "        tweet_dicts.append(tweet_dict)\n",
    "\n",
    "    return tweet_dicts\n",
    "\n",
    "\n",
    "def read_tweets_raw_into_df(path):\n",
    "    \"\"\"\n",
    "    Creates a dataframe of tweets .\n",
    "    :param path: path to the tweet data directory\n",
    "    :return: dataframe with data about tweets\n",
    "    \"\"\"\n",
    "    df_full = pd.DataFrame()\n",
    "    files = os.listdir(path)\n",
    "    for filename in tqdm.tqdm(files):\n",
    "        # print(filename)\n",
    "        if not filename.endswith('.gz'):\n",
    "            continue\n",
    "\n",
    "        f = os.path.join(path, filename)\n",
    "        # checking if it is a file\n",
    "        try:\n",
    "            tweets = read_tweets_raw_data(f)\n",
    "        except ValueError as e:\n",
    "            print('invalid json: %s' % e)\n",
    "            return None  # or: raise\n",
    "\n",
    "        df = pd.DataFrame(tweets)\n",
    "        df_full = pd.concat([df_full, df], ignore_index=True)\n",
    "    return df_full"
   ]
  },
  {
   "cell_type": "code",
   "execution_count": 21,
   "id": "de02228f-637c-443e-9d95-0c0d0700cd2b",
   "metadata": {
    "pycharm": {
     "name": "#%%\n"
    }
   },
   "outputs": [],
   "source": [
    "import gzip\n",
    "import json\n",
    "path = \"/home/jhladnik/data/sl-tweets/sl_tweets_index_dump.jsonl.gz\"\n",
    "with gzip.open(path, \"r\") as f:\n",
    "    data = f.read()\n",
    "    json_list = list(data)\n",
    "\n",
    "    articles_json = []\n",
    "    for json_str in json_list:\n",
    "        result = json.loads(json_str)\n",
    "        articles_json.append(result)\n",
    "        print(result)\n",
    "        break\n",
    "    #j = json.loads (data.decode('utf-8'))\n",
    "    #print (type(j))"
   ]
  },
  {
   "cell_type": "code",
   "execution_count": 38,
   "id": "b8f00a6e",
   "metadata": {},
   "outputs": [
    {
     "name": "stderr",
     "output_type": "stream",
     "text": [
      "100it [00:00, 23088.76it/s]\n"
     ]
    }
   ],
   "source": [
    "import gzip\n",
    "import json\n",
    "from datetime import datetime\n",
    "import tqdm\n",
    "import time\n",
    "import pandas as pd\n",
    "\n",
    "path = \"/home/jhladnik/data/sl-tweets/sl_tweets_index_dump.jsonl.gz\"\n",
    "tweet_dicts = []\n",
    "start = time.time()\n",
    "count = 0\n",
    "with gzip.open(path,'rt') as f:\n",
    "    for line in tqdm.tqdm(f):\n",
    "        data = json.loads(line)\n",
    "        #print(data['text'].encode().decode())\n",
    "        #print()\n",
    "        count+=1\n",
    "        if data['language_inferred'] != \"sl\":\n",
    "            continue\n",
    "        \n",
    "        tweet_dict = {}\n",
    "        tweet_dict['full_text'] = data['text']\n",
    "        tweet_dict['created_at'] = data['pub_date']\n",
    "        tweet_dict[\"year\"] = datetime.strptime(data[\"pub_date\"][:10], \"%Y-%m-%d\").year\n",
    "        tweet_dict['user_screen_name'] = data['username']\n",
    "        tweet_dict['in_reply_to_screen_name'] = data['in_reply_to_screen_name']\n",
    "        tweet_dict['quoted_status_id_str'] = data['quoted_status_id_str']\n",
    "\n",
    "        tweet_dicts.append(tweet_dict)\n",
    "        \n",
    "        #print( datetime.strptime(data[\"pub_date\"][:10], \"%Y-%m-%d\").year)\n",
    "        if count > 100:\n",
    "            break\n",
    "        #print('got line', line)\n",
    "        if count % 1000000 == 0:\n",
    "            print(f\"read {count%1000000} mio tweets in {time.time()-start} seconds\")\n",
    "        \n",
    "\n",
    "df_all_tweets = pd.DataFrame(tweet_dicts)\n",
    "\n",
    "for year in [2017, 2018, 2019, 2020, 2021]:\n",
    "    df_year_tweets = df_all_tweets[df_all_tweets[\"year\"] == year]\n",
    "    df_year_tweets.to_parquet(f\"/home/jhladnik/data/sl-tweets/df_tweets_{year}.parquet.gzip\", compression='gzip')\n"
   ]
  },
  {
   "cell_type": "code",
   "execution_count": 37,
   "id": "465908ec",
   "metadata": {},
   "outputs": [],
   "source": [
    "df_2020 = df_all_tweets[df_all_tweets.year == 2020]\n",
    "\n",
    "year = 2020\n",
    "df_all_tweets[df_all_tweets.year == year].to_parquet(\n",
    "        f'/home/jhladnik/data/sl-tweets/df_tweets_{year}.parquet.gzip', compression='gzip')\n",
    "    "
   ]
  }
 ],
 "metadata": {
  "kernelspec": {
   "display_name": "testenv",
   "language": "python",
   "name": "python3"
  },
  "language_info": {
   "codemirror_mode": {
    "name": "ipython",
    "version": 3
   },
   "file_extension": ".py",
   "mimetype": "text/x-python",
   "name": "python",
   "nbconvert_exporter": "python",
   "pygments_lexer": "ipython3",
   "version": "3.9.13 (main, Aug 25 2022, 23:26:10) \n[GCC 11.2.0]"
  },
  "vscode": {
   "interpreter": {
    "hash": "72b179da737fddc19cfa4a6adf10bcbe0bdf652d16755c40e574ce14c6f8bd7a"
   }
  }
 },
 "nbformat": 4,
 "nbformat_minor": 5
}
